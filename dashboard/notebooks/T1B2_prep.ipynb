{
 "cells": [
  {
   "cell_type": "code",
   "execution_count": 1,
   "id": "87aa566b",
   "metadata": {},
   "outputs": [],
   "source": [
    "import pandas as pd\n",
    "\n",
    "df = pd.read_excel(\"../data/BDD Surcouche pour dataviz_v03.xlsx\")#, dtype={'Groupe': str})\n",
    "df = df.drop([0])\n",
    "\n",
    "t1b2_data = df.rename(columns={'Group':'company_name'})#.astype(str)\n"
   ]
  },
  {
   "cell_type": "code",
   "execution_count": 2,
   "id": "836dd5d0",
   "metadata": {},
   "outputs": [
    {
     "data": {
      "text/plain": [
       "Index(['company_name', 'Sector', 'Logo', 'Unnamed: 3', 'Country flag',\n",
       "       'Turnover', 'Top brand 1', 'Top brand 2', 'Top brand 3', 'Top brand 4',\n",
       "       'Top brand 5', 'Logo brand 1', 'Logo brand 2', 'Logo brand 3',\n",
       "       'Logo brand 4', 'Logo brand 5', 'Competitor 1', 'Competitor 2',\n",
       "       'Competitor 3', 'Competitor 4', 'Competitor 5', 'Competitor 6',\n",
       "       'Competitor 7', 'Competitor 8', 'Competitor 9', 'Comment',\n",
       "       'Global score', 'C1 direct score', 'C1 direct level', 'C1 reduction',\n",
       "       'C1 initial value', 'C1 final value', 'C1 unit', 'C1 initial date',\n",
       "       'C1 final date', 'C1 2deg final', 'C1 1,8deg final', 'C1 1,5deg final',\n",
       "       'C2 complete score', 'C2 complete level', 'C2 reduction',\n",
       "       'C2 initial value', 'C2 final value', 'C2 unit', 'C2 initial date',\n",
       "       'C2 final date', 'C2 2deg final', 'C2 1,8deg final', 'C2 1,5deg final',\n",
       "       'Footnote', 'E1 score commitment direct', 'E1 commitment direct',\n",
       "       'E1 phrase ', 'E1 perimeter', 'E1 reduction', 'E1 unit',\n",
       "       'E1 final date', 'E1 final date.1', 'E2 score commitment',\n",
       "       'E2 commitment complete', 'E2 phrase ', 'E2 perimeter', 'E2 reduction',\n",
       "       'E2 unit', 'E2 final date', 'E2 final date.1', 'Tota emissions',\n",
       "       'Cat 1 amount', 'Cat 1 name', 'Cat 2 amount', 'Cat 2 name',\n",
       "       'Cat 3 amount', 'Cat 3 name', 'Cat 4 amount', 'Cat 4 name',\n",
       "       'Cat 5 amount', 'Cat 5 name', 'Cat 6 amount', 'Cat 6 name',\n",
       "       'Wording interactive 1', 'Wording interactive 2',\n",
       "       'Wording interactive 3', 'Wording interactive 4',\n",
       "       'Wording interactive 5', 'Wording interactive 6'],\n",
       "      dtype='object')"
      ]
     },
     "execution_count": 2,
     "metadata": {},
     "output_type": "execute_result"
    }
   ],
   "source": [
    "t1b2_data.columns"
   ]
  },
  {
   "cell_type": "code",
   "execution_count": 21,
   "id": "6f4c4bef",
   "metadata": {},
   "outputs": [],
   "source": [
    "# Generating company_id variable\n",
    "\n",
    "import base64\n",
    "def encode(text):\n",
    "  btext = text.encode('utf-8')[:6]\n",
    "  return base64.b64encode(btext).decode(\"utf-8\") \n",
    "\n",
    "\n",
    "t1b2_data['company_id'] = [encode(x) for x in t1b2_data['company_name']]\n",
    "\n",
    "cols_for_calculation = [\n",
    "    'company_name',\n",
    "    'C1 direct score',\n",
    "    'C1 initial value',\n",
    "    'C1 final value', \n",
    "    'C1 unit', \n",
    "    'C1 initial date',\n",
    "    'C1 final date', \n",
    "    'C1 2deg final', \n",
    "    'C1 1,8deg final',\n",
    "    'C1 1,5deg final',\n",
    "    'C2 complete score', \n",
    "    'C2 complete level',\n",
    "    'C2 reduction',\n",
    "    'C2 initial value', \n",
    "    'C2 final value',\n",
    "    'C2 unit',\n",
    "    'C2 initial date',\n",
    "    'C2 final date', \n",
    "    'C2 2deg final',\n",
    "    'C2 1,8deg final',\n",
    "    'C2 1,5deg final'\n",
    "]"
   ]
  },
  {
   "cell_type": "code",
   "execution_count": 22,
   "id": "955eb582",
   "metadata": {},
   "outputs": [],
   "source": [
    "# Company selection\n",
    "\n",
    "company = 'Danone'\n"
   ]
  },
  {
   "cell_type": "code",
   "execution_count": 23,
   "id": "411f0a71",
   "metadata": {},
   "outputs": [],
   "source": [
    "# Calculating score performance to choose color\n",
    "\n",
    "list_reference2 = ['Non publiée', 'Vers + 4°C', 'Entre +2°C et +3°C', '2°C', 'Bien moins de 2°C', '1,5°C', 'n.a. (trop récente)']\n",
    "list_hexcolors_direct = ['820000', 'C00000', 'FF8939', 'FEC800', '8CDF41', '0DB800', 'C00000']\n",
    "list_scores = ['1','2','3','4','5','6','99']\n",
    "    \n",
    "direct_score_reference_table = pd.DataFrame(data={'direct_score': list_scores, 'direct_score_label': list_reference2, 'hexcolor':list_hexcolors_direct})"
   ]
  },
  {
   "cell_type": "code",
   "execution_count": 24,
   "id": "1396baf9",
   "metadata": {},
   "outputs": [],
   "source": [
    "df_filtered = t1b2_data[cols_for_calculation].copy()"
   ]
  },
  {
   "cell_type": "code",
   "execution_count": 33,
   "id": "3b6b2cb0",
   "metadata": {},
   "outputs": [
    {
     "name": "stdout",
     "output_type": "stream",
     "text": [
      "Help on package flag:\n",
      "\n",
      "NAME\n",
      "    flag\n",
      "\n",
      "DESCRIPTION\n",
      "    flag\n",
      "    ~~~~\n",
      "\n",
      "PACKAGE CONTENTS\n",
      "    core\n",
      "    parser\n",
      "    registry\n",
      "    utils\n",
      "\n",
      "FUNCTIONS\n",
      "    int(name, default, help)\n",
      "    \n",
      "    parse()\n",
      "    \n",
      "    string(name, default, help)\n",
      "\n",
      "DATA\n",
      "    __all__ = ['parse', 'int', 'string']\n",
      "\n",
      "VERSION\n",
      "    0.1.1\n",
      "\n",
      "FILE\n",
      "    /home/ubuntu/.local/lib/python3.8/site-packages/flag/__init__.py\n",
      "\n",
      "\n"
     ]
    }
   ],
   "source": [
    "import flag"
   ]
  },
  {
   "cell_type": "code",
   "execution_count": 25,
   "id": "19bc8334",
   "metadata": {},
   "outputs": [
    {
     "data": {
      "text/html": [
       "<div>\n",
       "<style scoped>\n",
       "    .dataframe tbody tr th:only-of-type {\n",
       "        vertical-align: middle;\n",
       "    }\n",
       "\n",
       "    .dataframe tbody tr th {\n",
       "        vertical-align: top;\n",
       "    }\n",
       "\n",
       "    .dataframe thead th {\n",
       "        text-align: right;\n",
       "    }\n",
       "</style>\n",
       "<table border=\"1\" class=\"dataframe\">\n",
       "  <thead>\n",
       "    <tr style=\"text-align: right;\">\n",
       "      <th></th>\n",
       "      <th>company_name</th>\n",
       "      <th>C1 direct score</th>\n",
       "      <th>C1 initial value</th>\n",
       "      <th>C1 final value</th>\n",
       "      <th>C1 unit</th>\n",
       "      <th>C1 initial date</th>\n",
       "      <th>C1 final date</th>\n",
       "      <th>C1 2deg final</th>\n",
       "      <th>C1 1,8deg final</th>\n",
       "      <th>C1 1,5deg final</th>\n",
       "      <th>...</th>\n",
       "      <th>C2 complete level</th>\n",
       "      <th>C2 reduction</th>\n",
       "      <th>C2 initial value</th>\n",
       "      <th>C2 final value</th>\n",
       "      <th>C2 unit</th>\n",
       "      <th>C2 initial date</th>\n",
       "      <th>C2 final date</th>\n",
       "      <th>C2 2deg final</th>\n",
       "      <th>C2 1,8deg final</th>\n",
       "      <th>C2 1,5deg final</th>\n",
       "    </tr>\n",
       "  </thead>\n",
       "  <tbody>\n",
       "    <tr>\n",
       "      <th>1</th>\n",
       "      <td>Associated British Foods (alim.)</td>\n",
       "      <td>5.0</td>\n",
       "      <td>1.0</td>\n",
       "      <td>0.874391</td>\n",
       "      <td>absolu</td>\n",
       "      <td>2016</td>\n",
       "      <td>2020</td>\n",
       "      <td>0.95</td>\n",
       "      <td>0.9</td>\n",
       "      <td>0.832</td>\n",
       "      <td>...</td>\n",
       "      <td>1.5</td>\n",
       "      <td>n.a.</td>\n",
       "      <td>n.a.</td>\n",
       "      <td>n.a.</td>\n",
       "      <td>absolu</td>\n",
       "      <td>n.a.</td>\n",
       "      <td>n.a.</td>\n",
       "      <td>0.95</td>\n",
       "      <td>0.9</td>\n",
       "      <td>0.832</td>\n",
       "    </tr>\n",
       "    <tr>\n",
       "      <th>2</th>\n",
       "      <td>Bel</td>\n",
       "      <td>3.0</td>\n",
       "      <td>1.0</td>\n",
       "      <td>0.960596</td>\n",
       "      <td>absolu</td>\n",
       "      <td>2016</td>\n",
       "      <td>2020</td>\n",
       "      <td>0.95</td>\n",
       "      <td>0.9</td>\n",
       "      <td>0.832</td>\n",
       "      <td>...</td>\n",
       "      <td>5.3</td>\n",
       "      <td>-0.146</td>\n",
       "      <td>1.0</td>\n",
       "      <td>0.854</td>\n",
       "      <td>intensité</td>\n",
       "      <td>2017</td>\n",
       "      <td>2019</td>\n",
       "      <td>0.96</td>\n",
       "      <td>0.92</td>\n",
       "      <td>0.8656</td>\n",
       "    </tr>\n",
       "    <tr>\n",
       "      <th>3</th>\n",
       "      <td>Danone</td>\n",
       "      <td>6.0</td>\n",
       "      <td>1.0</td>\n",
       "      <td>0.620611</td>\n",
       "      <td>absolu</td>\n",
       "      <td>2015</td>\n",
       "      <td>2020</td>\n",
       "      <td>0.9375</td>\n",
       "      <td>0.875</td>\n",
       "      <td>0.79</td>\n",
       "      <td>...</td>\n",
       "      <td>5.1</td>\n",
       "      <td>-0.275</td>\n",
       "      <td>1.0</td>\n",
       "      <td>0.725</td>\n",
       "      <td>intensité</td>\n",
       "      <td>2015</td>\n",
       "      <td>2020</td>\n",
       "      <td>0.9</td>\n",
       "      <td>0.8</td>\n",
       "      <td>0.664</td>\n",
       "    </tr>\n",
       "    <tr>\n",
       "      <th>4</th>\n",
       "      <td>Ecotone</td>\n",
       "      <td>6.0</td>\n",
       "      <td>1.0</td>\n",
       "      <td>0.674677</td>\n",
       "      <td>absolu</td>\n",
       "      <td>2010</td>\n",
       "      <td>2018</td>\n",
       "      <td>0.9</td>\n",
       "      <td>0.8</td>\n",
       "      <td>0.664</td>\n",
       "      <td>...</td>\n",
       "      <td>1.5</td>\n",
       "      <td>n.a.</td>\n",
       "      <td>n.a.</td>\n",
       "      <td>n.a.</td>\n",
       "      <td>intensité</td>\n",
       "      <td>n.a.</td>\n",
       "      <td>n.a.</td>\n",
       "      <td>n.a.</td>\n",
       "      <td>n.a.</td>\n",
       "      <td>n.a.</td>\n",
       "    </tr>\n",
       "    <tr>\n",
       "      <th>5</th>\n",
       "      <td>Ferrero</td>\n",
       "      <td>2.0</td>\n",
       "      <td>1.0</td>\n",
       "      <td>1.27683</td>\n",
       "      <td>absolu</td>\n",
       "      <td>2015</td>\n",
       "      <td>2019</td>\n",
       "      <td>0.95</td>\n",
       "      <td>0.9</td>\n",
       "      <td>0.832</td>\n",
       "      <td>...</td>\n",
       "      <td>2.1</td>\n",
       "      <td>0.075</td>\n",
       "      <td>1.0</td>\n",
       "      <td>1.075</td>\n",
       "      <td>absolu</td>\n",
       "      <td>2016</td>\n",
       "      <td>2019</td>\n",
       "      <td>0.9625</td>\n",
       "      <td>0.925</td>\n",
       "      <td>0.874</td>\n",
       "    </tr>\n",
       "    <tr>\n",
       "      <th>6</th>\n",
       "      <td>General Mills</td>\n",
       "      <td>6.0</td>\n",
       "      <td>1.0</td>\n",
       "      <td>0.790209</td>\n",
       "      <td>absolu</td>\n",
       "      <td>2015</td>\n",
       "      <td>2020</td>\n",
       "      <td>0.9375</td>\n",
       "      <td>0.875</td>\n",
       "      <td>0.79</td>\n",
       "      <td>...</td>\n",
       "      <td>4.1</td>\n",
       "      <td>-0.17</td>\n",
       "      <td>1.0</td>\n",
       "      <td>0.83</td>\n",
       "      <td>absolu</td>\n",
       "      <td>2010</td>\n",
       "      <td>2020</td>\n",
       "      <td>0.875</td>\n",
       "      <td>0.75</td>\n",
       "      <td>0.58</td>\n",
       "    </tr>\n",
       "    <tr>\n",
       "      <th>7</th>\n",
       "      <td>Hero</td>\n",
       "      <td>3.0</td>\n",
       "      <td>1.0</td>\n",
       "      <td>0.679657</td>\n",
       "      <td>intensité</td>\n",
       "      <td>2010</td>\n",
       "      <td>2019</td>\n",
       "      <td>0.82</td>\n",
       "      <td>0.64</td>\n",
       "      <td>0.3952</td>\n",
       "      <td>...</td>\n",
       "      <td>1.5</td>\n",
       "      <td>n.a.</td>\n",
       "      <td>n.a.</td>\n",
       "      <td>n.a.</td>\n",
       "      <td>absolu</td>\n",
       "      <td>n.a.</td>\n",
       "      <td>n.a.</td>\n",
       "      <td>n.a.</td>\n",
       "      <td>n.a.</td>\n",
       "      <td>n.a.</td>\n",
       "    </tr>\n",
       "    <tr>\n",
       "      <th>8</th>\n",
       "      <td>Kellogg</td>\n",
       "      <td>6.0</td>\n",
       "      <td>1.0</td>\n",
       "      <td>0.713283</td>\n",
       "      <td>absolu</td>\n",
       "      <td>2015</td>\n",
       "      <td>2019</td>\n",
       "      <td>0.95</td>\n",
       "      <td>0.9</td>\n",
       "      <td>0.832</td>\n",
       "      <td>...</td>\n",
       "      <td>3.6</td>\n",
       "      <td>-0.048</td>\n",
       "      <td>1.0</td>\n",
       "      <td>0.952</td>\n",
       "      <td>absolu</td>\n",
       "      <td>2015</td>\n",
       "      <td>2019</td>\n",
       "      <td>0.95</td>\n",
       "      <td>0.9</td>\n",
       "      <td>0.832</td>\n",
       "    </tr>\n",
       "    <tr>\n",
       "      <th>9</th>\n",
       "      <td>Mars</td>\n",
       "      <td>6.0</td>\n",
       "      <td>1.0</td>\n",
       "      <td>0.780749</td>\n",
       "      <td>absolu</td>\n",
       "      <td>2015</td>\n",
       "      <td>2019</td>\n",
       "      <td>0.95</td>\n",
       "      <td>0.9</td>\n",
       "      <td>0.832</td>\n",
       "      <td>...</td>\n",
       "      <td>3.1</td>\n",
       "      <td>-0.02</td>\n",
       "      <td>1.0</td>\n",
       "      <td>0.98</td>\n",
       "      <td>absolu</td>\n",
       "      <td>2015</td>\n",
       "      <td>2019</td>\n",
       "      <td>0.95</td>\n",
       "      <td>0.9</td>\n",
       "      <td>0.832</td>\n",
       "    </tr>\n",
       "    <tr>\n",
       "      <th>10</th>\n",
       "      <td>Mondelez</td>\n",
       "      <td>5.0</td>\n",
       "      <td>1.0</td>\n",
       "      <td>0.762475</td>\n",
       "      <td>absolu</td>\n",
       "      <td>2013</td>\n",
       "      <td>2020</td>\n",
       "      <td>0.9125</td>\n",
       "      <td>0.825</td>\n",
       "      <td>0.706</td>\n",
       "      <td>...</td>\n",
       "      <td>2.5</td>\n",
       "      <td>-</td>\n",
       "      <td>n.a.</td>\n",
       "      <td>n.a.</td>\n",
       "      <td>absolu</td>\n",
       "      <td>n.a.</td>\n",
       "      <td>n.a.</td>\n",
       "      <td>n.a.</td>\n",
       "      <td>n.a.</td>\n",
       "      <td>n.a.</td>\n",
       "    </tr>\n",
       "    <tr>\n",
       "      <th>11</th>\n",
       "      <td>Nestlé</td>\n",
       "      <td>6.0</td>\n",
       "      <td>1.0</td>\n",
       "      <td>0.68111</td>\n",
       "      <td>absolu</td>\n",
       "      <td>2014</td>\n",
       "      <td>2020</td>\n",
       "      <td>0.925</td>\n",
       "      <td>0.85</td>\n",
       "      <td>0.748</td>\n",
       "      <td>...</td>\n",
       "      <td>3.6</td>\n",
       "      <td>-0.048</td>\n",
       "      <td>1.0</td>\n",
       "      <td>0.952</td>\n",
       "      <td>absolu</td>\n",
       "      <td>2014</td>\n",
       "      <td>2018</td>\n",
       "      <td>0.95</td>\n",
       "      <td>0.9</td>\n",
       "      <td>0.832</td>\n",
       "    </tr>\n",
       "    <tr>\n",
       "      <th>12</th>\n",
       "      <td>Pepsico</td>\n",
       "      <td>6.0</td>\n",
       "      <td>1.0</td>\n",
       "      <td>0.76567</td>\n",
       "      <td>absolu</td>\n",
       "      <td>2015</td>\n",
       "      <td>2020</td>\n",
       "      <td>0.9375</td>\n",
       "      <td>0.875</td>\n",
       "      <td>0.79</td>\n",
       "      <td>...</td>\n",
       "      <td>3.7</td>\n",
       "      <td>-0.05</td>\n",
       "      <td>1.0</td>\n",
       "      <td>0.95</td>\n",
       "      <td>absolu</td>\n",
       "      <td>2015</td>\n",
       "      <td>2020</td>\n",
       "      <td>0.9375</td>\n",
       "      <td>0.875</td>\n",
       "      <td>0.79</td>\n",
       "    </tr>\n",
       "    <tr>\n",
       "      <th>13</th>\n",
       "      <td>Henkel</td>\n",
       "      <td>3.0</td>\n",
       "      <td>1.0</td>\n",
       "      <td>0.994012</td>\n",
       "      <td>absolu</td>\n",
       "      <td>2016</td>\n",
       "      <td>2019</td>\n",
       "      <td>0.9625</td>\n",
       "      <td>0.925</td>\n",
       "      <td>0.874</td>\n",
       "      <td>...</td>\n",
       "      <td>3.1</td>\n",
       "      <td>-0.021</td>\n",
       "      <td>1.0</td>\n",
       "      <td>0.979</td>\n",
       "      <td>absolu</td>\n",
       "      <td>2016</td>\n",
       "      <td>2019</td>\n",
       "      <td>0.9625</td>\n",
       "      <td>0.925</td>\n",
       "      <td>0.874</td>\n",
       "    </tr>\n",
       "    <tr>\n",
       "      <th>14</th>\n",
       "      <td>P&amp;G</td>\n",
       "      <td>6.0</td>\n",
       "      <td>1.0</td>\n",
       "      <td>0.794123</td>\n",
       "      <td>absolu</td>\n",
       "      <td>2015</td>\n",
       "      <td>2019</td>\n",
       "      <td>0.95</td>\n",
       "      <td>0.9</td>\n",
       "      <td>0.832</td>\n",
       "      <td>...</td>\n",
       "      <td>2.5</td>\n",
       "      <td>-</td>\n",
       "      <td>n.a.</td>\n",
       "      <td>n.a.</td>\n",
       "      <td>absolu</td>\n",
       "      <td>n.a.</td>\n",
       "      <td>n.a.</td>\n",
       "      <td>n.a.</td>\n",
       "      <td>n.a.</td>\n",
       "      <td>n.a.</td>\n",
       "    </tr>\n",
       "    <tr>\n",
       "      <th>15</th>\n",
       "      <td>Unilever</td>\n",
       "      <td>6.0</td>\n",
       "      <td>1.0</td>\n",
       "      <td>0.570268</td>\n",
       "      <td>absolu</td>\n",
       "      <td>2015</td>\n",
       "      <td>2019</td>\n",
       "      <td>0.95</td>\n",
       "      <td>0.9</td>\n",
       "      <td>0.832</td>\n",
       "      <td>...</td>\n",
       "      <td>3.4</td>\n",
       "      <td>-0.052</td>\n",
       "      <td>1.0</td>\n",
       "      <td>0.948</td>\n",
       "      <td>intensité</td>\n",
       "      <td>2015</td>\n",
       "      <td>2019</td>\n",
       "      <td>0.92</td>\n",
       "      <td>0.84</td>\n",
       "      <td>0.7312</td>\n",
       "    </tr>\n",
       "    <tr>\n",
       "      <th>16</th>\n",
       "      <td>Colgate-Palmolive</td>\n",
       "      <td>6.0</td>\n",
       "      <td>1.0</td>\n",
       "      <td>0.800875</td>\n",
       "      <td>absolu</td>\n",
       "      <td>2015</td>\n",
       "      <td>2019</td>\n",
       "      <td>0.95</td>\n",
       "      <td>0.9</td>\n",
       "      <td>0.832</td>\n",
       "      <td>...</td>\n",
       "      <td>4.1</td>\n",
       "      <td>-0.064</td>\n",
       "      <td>1.0</td>\n",
       "      <td>0.936</td>\n",
       "      <td>absolu</td>\n",
       "      <td>2015</td>\n",
       "      <td>2019</td>\n",
       "      <td>0.95</td>\n",
       "      <td>0.9</td>\n",
       "      <td>0.832</td>\n",
       "    </tr>\n",
       "    <tr>\n",
       "      <th>17</th>\n",
       "      <td>Coty</td>\n",
       "      <td>6.0</td>\n",
       "      <td>1.0</td>\n",
       "      <td>0.772641</td>\n",
       "      <td>absolu</td>\n",
       "      <td>2017</td>\n",
       "      <td>2019</td>\n",
       "      <td>0.975</td>\n",
       "      <td>0.95</td>\n",
       "      <td>0.916</td>\n",
       "      <td>...</td>\n",
       "      <td>3.4</td>\n",
       "      <td>0.002</td>\n",
       "      <td>1.0</td>\n",
       "      <td>1.002</td>\n",
       "      <td>absolu</td>\n",
       "      <td>2017</td>\n",
       "      <td>2019</td>\n",
       "      <td>0.975</td>\n",
       "      <td>0.95</td>\n",
       "      <td>0.916</td>\n",
       "    </tr>\n",
       "    <tr>\n",
       "      <th>18</th>\n",
       "      <td>L'Oréal</td>\n",
       "      <td>6.0</td>\n",
       "      <td>1.0</td>\n",
       "      <td>0.702595</td>\n",
       "      <td>absolu</td>\n",
       "      <td>2016</td>\n",
       "      <td>2019</td>\n",
       "      <td>0.9625</td>\n",
       "      <td>0.925</td>\n",
       "      <td>0.874</td>\n",
       "      <td>...</td>\n",
       "      <td>3.4</td>\n",
       "      <td>-0.039</td>\n",
       "      <td>1.0</td>\n",
       "      <td>0.961</td>\n",
       "      <td>intensité</td>\n",
       "      <td>2016</td>\n",
       "      <td>2019</td>\n",
       "      <td>0.9625</td>\n",
       "      <td>0.925</td>\n",
       "      <td>0.874</td>\n",
       "    </tr>\n",
       "    <tr>\n",
       "      <th>19</th>\n",
       "      <td>Shiseido</td>\n",
       "      <td>5.0</td>\n",
       "      <td>1.0</td>\n",
       "      <td>0.838779</td>\n",
       "      <td>absolu</td>\n",
       "      <td>2016</td>\n",
       "      <td>2020</td>\n",
       "      <td>0.95</td>\n",
       "      <td>0.9</td>\n",
       "      <td>0.832</td>\n",
       "      <td>...</td>\n",
       "      <td>2.5</td>\n",
       "      <td>-</td>\n",
       "      <td>n.a.</td>\n",
       "      <td>n.a.</td>\n",
       "      <td>absolu</td>\n",
       "      <td>n.a.</td>\n",
       "      <td>n.a.</td>\n",
       "      <td>n.a.</td>\n",
       "      <td>n.a.</td>\n",
       "      <td>n.a.</td>\n",
       "    </tr>\n",
       "    <tr>\n",
       "      <th>20</th>\n",
       "      <td>Beiersdorf</td>\n",
       "      <td>6.0</td>\n",
       "      <td>1.0</td>\n",
       "      <td>0.56356</td>\n",
       "      <td>absolu</td>\n",
       "      <td>2016</td>\n",
       "      <td>2019</td>\n",
       "      <td>0.9625</td>\n",
       "      <td>0.925</td>\n",
       "      <td>0.874</td>\n",
       "      <td>...</td>\n",
       "      <td>2.5</td>\n",
       "      <td>-</td>\n",
       "      <td>n.a.</td>\n",
       "      <td>n.a.</td>\n",
       "      <td>absolu</td>\n",
       "      <td>n.a.</td>\n",
       "      <td>n.a.</td>\n",
       "      <td>n.a.</td>\n",
       "      <td>n.a.</td>\n",
       "      <td>n.a.</td>\n",
       "    </tr>\n",
       "    <tr>\n",
       "      <th>21</th>\n",
       "      <td>S. C. Johnson</td>\n",
       "      <td>5.0</td>\n",
       "      <td>1.0</td>\n",
       "      <td>0.761005</td>\n",
       "      <td>intensité</td>\n",
       "      <td>2015</td>\n",
       "      <td>2019</td>\n",
       "      <td>0.95</td>\n",
       "      <td>0.9</td>\n",
       "      <td>0.832</td>\n",
       "      <td>...</td>\n",
       "      <td>1.5</td>\n",
       "      <td>n.a.</td>\n",
       "      <td>n.a.</td>\n",
       "      <td>n.a.</td>\n",
       "      <td>intensité</td>\n",
       "      <td>n.a.</td>\n",
       "      <td>n.a.</td>\n",
       "      <td>n.a.</td>\n",
       "      <td>n.a.</td>\n",
       "      <td>n.a.</td>\n",
       "    </tr>\n",
       "    <tr>\n",
       "      <th>22</th>\n",
       "      <td>Reckitt</td>\n",
       "      <td>6.0</td>\n",
       "      <td>1.0</td>\n",
       "      <td>0.804266</td>\n",
       "      <td>absolu</td>\n",
       "      <td>2015</td>\n",
       "      <td>2019</td>\n",
       "      <td>0.95</td>\n",
       "      <td>0.9</td>\n",
       "      <td>0.832</td>\n",
       "      <td>...</td>\n",
       "      <td>3.9</td>\n",
       "      <td>-0.072</td>\n",
       "      <td>1.0</td>\n",
       "      <td>0.928</td>\n",
       "      <td>intensité</td>\n",
       "      <td>2015</td>\n",
       "      <td>2019</td>\n",
       "      <td>0.92</td>\n",
       "      <td>0.84</td>\n",
       "      <td>0.7312</td>\n",
       "    </tr>\n",
       "    <tr>\n",
       "      <th>23</th>\n",
       "      <td>GSK</td>\n",
       "      <td>6.0</td>\n",
       "      <td>1.0</td>\n",
       "      <td>0.868251</td>\n",
       "      <td>absolu</td>\n",
       "      <td>2016</td>\n",
       "      <td>2019</td>\n",
       "      <td>0.9625</td>\n",
       "      <td>0.925</td>\n",
       "      <td>0.874</td>\n",
       "      <td>...</td>\n",
       "      <td>6.4</td>\n",
       "      <td>-0.141</td>\n",
       "      <td>1.0</td>\n",
       "      <td>0.859</td>\n",
       "      <td>absolu</td>\n",
       "      <td>2016</td>\n",
       "      <td>2019</td>\n",
       "      <td>0.9625</td>\n",
       "      <td>0.925</td>\n",
       "      <td>0.874</td>\n",
       "    </tr>\n",
       "    <tr>\n",
       "      <th>24</th>\n",
       "      <td>Johnson &amp; Johnson</td>\n",
       "      <td>6.0</td>\n",
       "      <td>1.0</td>\n",
       "      <td>0.825294</td>\n",
       "      <td>absolu</td>\n",
       "      <td>2016</td>\n",
       "      <td>2019</td>\n",
       "      <td>0.9625</td>\n",
       "      <td>0.925</td>\n",
       "      <td>0.874</td>\n",
       "      <td>...</td>\n",
       "      <td>3.3</td>\n",
       "      <td>-0.03</td>\n",
       "      <td>1.0</td>\n",
       "      <td>0.97</td>\n",
       "      <td>absolu</td>\n",
       "      <td>2016</td>\n",
       "      <td>2019</td>\n",
       "      <td>0.9625</td>\n",
       "      <td>0.925</td>\n",
       "      <td>0.874</td>\n",
       "    </tr>\n",
       "  </tbody>\n",
       "</table>\n",
       "<p>24 rows × 21 columns</p>\n",
       "</div>"
      ],
      "text/plain": [
       "                        company_name  C1 direct score C1 initial value  \\\n",
       "1   Associated British Foods (alim.)              5.0              1.0   \n",
       "2                                Bel              3.0              1.0   \n",
       "3                             Danone              6.0              1.0   \n",
       "4                            Ecotone              6.0              1.0   \n",
       "5                            Ferrero              2.0              1.0   \n",
       "6                      General Mills              6.0              1.0   \n",
       "7                               Hero              3.0              1.0   \n",
       "8                            Kellogg              6.0              1.0   \n",
       "9                               Mars              6.0              1.0   \n",
       "10                          Mondelez              5.0              1.0   \n",
       "11                            Nestlé              6.0              1.0   \n",
       "12                           Pepsico              6.0              1.0   \n",
       "13                            Henkel              3.0              1.0   \n",
       "14                               P&G              6.0              1.0   \n",
       "15                          Unilever              6.0              1.0   \n",
       "16                 Colgate-Palmolive              6.0              1.0   \n",
       "17                              Coty              6.0              1.0   \n",
       "18                           L'Oréal              6.0              1.0   \n",
       "19                          Shiseido              5.0              1.0   \n",
       "20                        Beiersdorf              6.0              1.0   \n",
       "21                     S. C. Johnson              5.0              1.0   \n",
       "22                           Reckitt              6.0              1.0   \n",
       "23                               GSK              6.0              1.0   \n",
       "24                 Johnson & Johnson              6.0              1.0   \n",
       "\n",
       "   C1 final value    C1 unit C1 initial date C1 final date C1 2deg final  \\\n",
       "1        0.874391     absolu            2016          2020          0.95   \n",
       "2        0.960596     absolu            2016          2020          0.95   \n",
       "3        0.620611     absolu            2015          2020        0.9375   \n",
       "4        0.674677     absolu            2010          2018           0.9   \n",
       "5         1.27683     absolu            2015          2019          0.95   \n",
       "6        0.790209     absolu            2015          2020        0.9375   \n",
       "7        0.679657  intensité            2010          2019          0.82   \n",
       "8        0.713283     absolu            2015          2019          0.95   \n",
       "9        0.780749     absolu            2015          2019          0.95   \n",
       "10       0.762475     absolu            2013          2020        0.9125   \n",
       "11        0.68111     absolu            2014          2020         0.925   \n",
       "12        0.76567     absolu            2015          2020        0.9375   \n",
       "13       0.994012     absolu            2016          2019        0.9625   \n",
       "14       0.794123     absolu            2015          2019          0.95   \n",
       "15       0.570268     absolu            2015          2019          0.95   \n",
       "16       0.800875     absolu            2015          2019          0.95   \n",
       "17       0.772641     absolu            2017          2019         0.975   \n",
       "18       0.702595     absolu            2016          2019        0.9625   \n",
       "19       0.838779     absolu            2016          2020          0.95   \n",
       "20        0.56356     absolu            2016          2019        0.9625   \n",
       "21       0.761005  intensité            2015          2019          0.95   \n",
       "22       0.804266     absolu            2015          2019          0.95   \n",
       "23       0.868251     absolu            2016          2019        0.9625   \n",
       "24       0.825294     absolu            2016          2019        0.9625   \n",
       "\n",
       "   C1 1,8deg final C1 1,5deg final  ...  C2 complete level  C2 reduction  \\\n",
       "1              0.9           0.832  ...                1.5          n.a.   \n",
       "2              0.9           0.832  ...                5.3        -0.146   \n",
       "3            0.875            0.79  ...                5.1        -0.275   \n",
       "4              0.8           0.664  ...                1.5          n.a.   \n",
       "5              0.9           0.832  ...                2.1         0.075   \n",
       "6            0.875            0.79  ...                4.1         -0.17   \n",
       "7             0.64          0.3952  ...                1.5          n.a.   \n",
       "8              0.9           0.832  ...                3.6        -0.048   \n",
       "9              0.9           0.832  ...                3.1         -0.02   \n",
       "10           0.825           0.706  ...                2.5             -   \n",
       "11            0.85           0.748  ...                3.6        -0.048   \n",
       "12           0.875            0.79  ...                3.7         -0.05   \n",
       "13           0.925           0.874  ...                3.1        -0.021   \n",
       "14             0.9           0.832  ...                2.5             -   \n",
       "15             0.9           0.832  ...                3.4        -0.052   \n",
       "16             0.9           0.832  ...                4.1        -0.064   \n",
       "17            0.95           0.916  ...                3.4         0.002   \n",
       "18           0.925           0.874  ...                3.4        -0.039   \n",
       "19             0.9           0.832  ...                2.5             -   \n",
       "20           0.925           0.874  ...                2.5             -   \n",
       "21             0.9           0.832  ...                1.5          n.a.   \n",
       "22             0.9           0.832  ...                3.9        -0.072   \n",
       "23           0.925           0.874  ...                6.4        -0.141   \n",
       "24           0.925           0.874  ...                3.3         -0.03   \n",
       "\n",
       "   C2 initial value C2 final value    C2 unit C2 initial date C2 final date  \\\n",
       "1              n.a.           n.a.     absolu            n.a.          n.a.   \n",
       "2               1.0          0.854  intensité            2017          2019   \n",
       "3               1.0          0.725  intensité            2015          2020   \n",
       "4              n.a.           n.a.  intensité            n.a.          n.a.   \n",
       "5               1.0          1.075     absolu            2016          2019   \n",
       "6               1.0           0.83     absolu            2010          2020   \n",
       "7              n.a.           n.a.     absolu            n.a.          n.a.   \n",
       "8               1.0          0.952     absolu            2015          2019   \n",
       "9               1.0           0.98     absolu            2015          2019   \n",
       "10             n.a.           n.a.     absolu            n.a.          n.a.   \n",
       "11              1.0          0.952     absolu            2014          2018   \n",
       "12              1.0           0.95     absolu            2015          2020   \n",
       "13              1.0          0.979     absolu            2016          2019   \n",
       "14             n.a.           n.a.     absolu            n.a.          n.a.   \n",
       "15              1.0          0.948  intensité            2015          2019   \n",
       "16              1.0          0.936     absolu            2015          2019   \n",
       "17              1.0          1.002     absolu            2017          2019   \n",
       "18              1.0          0.961  intensité            2016          2019   \n",
       "19             n.a.           n.a.     absolu            n.a.          n.a.   \n",
       "20             n.a.           n.a.     absolu            n.a.          n.a.   \n",
       "21             n.a.           n.a.  intensité            n.a.          n.a.   \n",
       "22              1.0          0.928  intensité            2015          2019   \n",
       "23              1.0          0.859     absolu            2016          2019   \n",
       "24              1.0           0.97     absolu            2016          2019   \n",
       "\n",
       "   C2 2deg final C2 1,8deg final C2 1,5deg final  \n",
       "1           0.95             0.9           0.832  \n",
       "2           0.96            0.92          0.8656  \n",
       "3            0.9             0.8           0.664  \n",
       "4           n.a.            n.a.            n.a.  \n",
       "5         0.9625           0.925           0.874  \n",
       "6          0.875            0.75            0.58  \n",
       "7           n.a.            n.a.            n.a.  \n",
       "8           0.95             0.9           0.832  \n",
       "9           0.95             0.9           0.832  \n",
       "10          n.a.            n.a.            n.a.  \n",
       "11          0.95             0.9           0.832  \n",
       "12        0.9375           0.875            0.79  \n",
       "13        0.9625           0.925           0.874  \n",
       "14          n.a.            n.a.            n.a.  \n",
       "15          0.92            0.84          0.7312  \n",
       "16          0.95             0.9           0.832  \n",
       "17         0.975            0.95           0.916  \n",
       "18        0.9625           0.925           0.874  \n",
       "19          n.a.            n.a.            n.a.  \n",
       "20          n.a.            n.a.            n.a.  \n",
       "21          n.a.            n.a.            n.a.  \n",
       "22          0.92            0.84          0.7312  \n",
       "23        0.9625           0.925           0.874  \n",
       "24        0.9625           0.925           0.874  \n",
       "\n",
       "[24 rows x 21 columns]"
      ]
     },
     "execution_count": 25,
     "metadata": {},
     "output_type": "execute_result"
    }
   ],
   "source": [
    "df_filtered"
   ]
  },
  {
   "cell_type": "code",
   "execution_count": 29,
   "id": "5473671e",
   "metadata": {},
   "outputs": [],
   "source": [
    "# Generating filtered df once company is selected\n",
    "\n",
    "df_filtered = t1b2_data[cols_for_calculation].copy()\n",
    "\n",
    "for col in ['C1 direct score', 'C2 complete score']:\n",
    "    df_filtered[col] = df_filtered[col].astype('int').astype('str')\n",
    "    \n",
    "# Filtering data & adding reference columns\n",
    "\n",
    "df_filtered = pd.merge(df_filtered, direct_score_reference_table, how='left', left_on='C1 direct score', right_on='direct_score').rename(columns={'direct_score_label':'c1_label', 'hexcolor': 'c1_color'}).drop(columns=['direct_score'])\n",
    "df_filtered = pd.merge(df_filtered, direct_score_reference_table, how='left', left_on='C2 complete score', right_on='direct_score').rename(columns={'direct_score_label':'c2_label', 'hexcolor': 'c2_color'}).drop(columns=['direct_score'])\n",
    "\n",
    "# Adding the c1 & c2 images\n",
    "\n",
    "'''df_filtered['global_score_pic'] = 'assets/frames/climate_score/Frame_'+df_filtered['global_score_label']+'.png' \n",
    "'''\n",
    "df_filtered.to_csv(path_or_buf='t1b2.csv', sep=',', header=True, index=False)"
   ]
  },
  {
   "cell_type": "code",
   "execution_count": 153,
   "id": "4ffc8886",
   "metadata": {},
   "outputs": [
    {
     "data": {
      "text/plain": [
       "0       0.9\n",
       "1       0.9\n",
       "2     0.875\n",
       "3       0.8\n",
       "4       0.9\n",
       "5     0.875\n",
       "6      0.64\n",
       "7       0.9\n",
       "8       0.9\n",
       "9     0.825\n",
       "10     0.85\n",
       "11    0.875\n",
       "12    0.925\n",
       "13      0.9\n",
       "14      0.9\n",
       "15      0.9\n",
       "16     0.95\n",
       "17    0.925\n",
       "18      0.9\n",
       "19    0.925\n",
       "20      0.9\n",
       "21      0.9\n",
       "22    0.925\n",
       "23    0.925\n",
       "Name: C1 1,8deg final, dtype: object"
      ]
     },
     "execution_count": 153,
     "metadata": {},
     "output_type": "execute_result"
    }
   ],
   "source": [
    "df_filtered['C1 1,8deg final']"
   ]
  },
  {
   "cell_type": "code",
   "execution_count": 145,
   "id": "fdd4e6f6",
   "metadata": {},
   "outputs": [
    {
     "name": "stdout",
     "output_type": "stream",
     "text": [
      "False\n",
      "False\n",
      "False\n",
      "False\n"
     ]
    }
   ],
   "source": [
    "import numpy as np\n",
    "values = []\n",
    "col_list = ['C1 final value', \n",
    "'C1 1,5deg final',\n",
    "'C1 1,8deg final',\n",
    "'C1 2deg final'\n",
    "]\n",
    "\n",
    "for col in col_list:\n",
    "    values.append(df_filtered.loc[0,col]-1)\n",
    "    print (df_filtered.loc[0,col] == np.nan)"
   ]
  },
  {
   "cell_type": "code",
   "execution_count": 136,
   "id": "ab4bf63b",
   "metadata": {},
   "outputs": [
    {
     "data": {
      "application/vnd.plotly.v1+json": {
       "config": {
        "plotlyServerURL": "https://plot.ly"
       },
       "data": [
        {
         "marker": {
          "color": [
           "black",
           "green",
           "blue",
           "purple"
          ]
         },
         "text": [
          "-0.12560856207900006",
          "-0.050000000000000044",
          "-0.09999999999999998",
          "-0.16800000000000004"
         ],
         "textposition": "inside",
         "texttemplate": "%{text:.1%}",
         "type": "bar",
         "x": [
          "selected_company",
          "1.5°C scenario",
          "1.8°C scenario",
          "2°C scenario"
         ],
         "y": [
          -0.12560856207900006,
          -0.050000000000000044,
          -0.09999999999999998,
          -0.16800000000000004
         ]
        }
       ],
       "layout": {
        "showlegend": false,
        "template": {
         "data": {
          "bar": [
           {
            "error_x": {
             "color": "#2a3f5f"
            },
            "error_y": {
             "color": "#2a3f5f"
            },
            "marker": {
             "line": {
              "color": "#E5ECF6",
              "width": 0.5
             },
             "pattern": {
              "fillmode": "overlay",
              "size": 10,
              "solidity": 0.2
             }
            },
            "type": "bar"
           }
          ],
          "barpolar": [
           {
            "marker": {
             "line": {
              "color": "#E5ECF6",
              "width": 0.5
             },
             "pattern": {
              "fillmode": "overlay",
              "size": 10,
              "solidity": 0.2
             }
            },
            "type": "barpolar"
           }
          ],
          "carpet": [
           {
            "aaxis": {
             "endlinecolor": "#2a3f5f",
             "gridcolor": "white",
             "linecolor": "white",
             "minorgridcolor": "white",
             "startlinecolor": "#2a3f5f"
            },
            "baxis": {
             "endlinecolor": "#2a3f5f",
             "gridcolor": "white",
             "linecolor": "white",
             "minorgridcolor": "white",
             "startlinecolor": "#2a3f5f"
            },
            "type": "carpet"
           }
          ],
          "choropleth": [
           {
            "colorbar": {
             "outlinewidth": 0,
             "ticks": ""
            },
            "type": "choropleth"
           }
          ],
          "contour": [
           {
            "colorbar": {
             "outlinewidth": 0,
             "ticks": ""
            },
            "colorscale": [
             [
              0,
              "#0d0887"
             ],
             [
              0.1111111111111111,
              "#46039f"
             ],
             [
              0.2222222222222222,
              "#7201a8"
             ],
             [
              0.3333333333333333,
              "#9c179e"
             ],
             [
              0.4444444444444444,
              "#bd3786"
             ],
             [
              0.5555555555555556,
              "#d8576b"
             ],
             [
              0.6666666666666666,
              "#ed7953"
             ],
             [
              0.7777777777777778,
              "#fb9f3a"
             ],
             [
              0.8888888888888888,
              "#fdca26"
             ],
             [
              1,
              "#f0f921"
             ]
            ],
            "type": "contour"
           }
          ],
          "contourcarpet": [
           {
            "colorbar": {
             "outlinewidth": 0,
             "ticks": ""
            },
            "type": "contourcarpet"
           }
          ],
          "heatmap": [
           {
            "colorbar": {
             "outlinewidth": 0,
             "ticks": ""
            },
            "colorscale": [
             [
              0,
              "#0d0887"
             ],
             [
              0.1111111111111111,
              "#46039f"
             ],
             [
              0.2222222222222222,
              "#7201a8"
             ],
             [
              0.3333333333333333,
              "#9c179e"
             ],
             [
              0.4444444444444444,
              "#bd3786"
             ],
             [
              0.5555555555555556,
              "#d8576b"
             ],
             [
              0.6666666666666666,
              "#ed7953"
             ],
             [
              0.7777777777777778,
              "#fb9f3a"
             ],
             [
              0.8888888888888888,
              "#fdca26"
             ],
             [
              1,
              "#f0f921"
             ]
            ],
            "type": "heatmap"
           }
          ],
          "heatmapgl": [
           {
            "colorbar": {
             "outlinewidth": 0,
             "ticks": ""
            },
            "colorscale": [
             [
              0,
              "#0d0887"
             ],
             [
              0.1111111111111111,
              "#46039f"
             ],
             [
              0.2222222222222222,
              "#7201a8"
             ],
             [
              0.3333333333333333,
              "#9c179e"
             ],
             [
              0.4444444444444444,
              "#bd3786"
             ],
             [
              0.5555555555555556,
              "#d8576b"
             ],
             [
              0.6666666666666666,
              "#ed7953"
             ],
             [
              0.7777777777777778,
              "#fb9f3a"
             ],
             [
              0.8888888888888888,
              "#fdca26"
             ],
             [
              1,
              "#f0f921"
             ]
            ],
            "type": "heatmapgl"
           }
          ],
          "histogram": [
           {
            "marker": {
             "pattern": {
              "fillmode": "overlay",
              "size": 10,
              "solidity": 0.2
             }
            },
            "type": "histogram"
           }
          ],
          "histogram2d": [
           {
            "colorbar": {
             "outlinewidth": 0,
             "ticks": ""
            },
            "colorscale": [
             [
              0,
              "#0d0887"
             ],
             [
              0.1111111111111111,
              "#46039f"
             ],
             [
              0.2222222222222222,
              "#7201a8"
             ],
             [
              0.3333333333333333,
              "#9c179e"
             ],
             [
              0.4444444444444444,
              "#bd3786"
             ],
             [
              0.5555555555555556,
              "#d8576b"
             ],
             [
              0.6666666666666666,
              "#ed7953"
             ],
             [
              0.7777777777777778,
              "#fb9f3a"
             ],
             [
              0.8888888888888888,
              "#fdca26"
             ],
             [
              1,
              "#f0f921"
             ]
            ],
            "type": "histogram2d"
           }
          ],
          "histogram2dcontour": [
           {
            "colorbar": {
             "outlinewidth": 0,
             "ticks": ""
            },
            "colorscale": [
             [
              0,
              "#0d0887"
             ],
             [
              0.1111111111111111,
              "#46039f"
             ],
             [
              0.2222222222222222,
              "#7201a8"
             ],
             [
              0.3333333333333333,
              "#9c179e"
             ],
             [
              0.4444444444444444,
              "#bd3786"
             ],
             [
              0.5555555555555556,
              "#d8576b"
             ],
             [
              0.6666666666666666,
              "#ed7953"
             ],
             [
              0.7777777777777778,
              "#fb9f3a"
             ],
             [
              0.8888888888888888,
              "#fdca26"
             ],
             [
              1,
              "#f0f921"
             ]
            ],
            "type": "histogram2dcontour"
           }
          ],
          "mesh3d": [
           {
            "colorbar": {
             "outlinewidth": 0,
             "ticks": ""
            },
            "type": "mesh3d"
           }
          ],
          "parcoords": [
           {
            "line": {
             "colorbar": {
              "outlinewidth": 0,
              "ticks": ""
             }
            },
            "type": "parcoords"
           }
          ],
          "pie": [
           {
            "automargin": true,
            "type": "pie"
           }
          ],
          "scatter": [
           {
            "marker": {
             "colorbar": {
              "outlinewidth": 0,
              "ticks": ""
             }
            },
            "type": "scatter"
           }
          ],
          "scatter3d": [
           {
            "line": {
             "colorbar": {
              "outlinewidth": 0,
              "ticks": ""
             }
            },
            "marker": {
             "colorbar": {
              "outlinewidth": 0,
              "ticks": ""
             }
            },
            "type": "scatter3d"
           }
          ],
          "scattercarpet": [
           {
            "marker": {
             "colorbar": {
              "outlinewidth": 0,
              "ticks": ""
             }
            },
            "type": "scattercarpet"
           }
          ],
          "scattergeo": [
           {
            "marker": {
             "colorbar": {
              "outlinewidth": 0,
              "ticks": ""
             }
            },
            "type": "scattergeo"
           }
          ],
          "scattergl": [
           {
            "marker": {
             "colorbar": {
              "outlinewidth": 0,
              "ticks": ""
             }
            },
            "type": "scattergl"
           }
          ],
          "scattermapbox": [
           {
            "marker": {
             "colorbar": {
              "outlinewidth": 0,
              "ticks": ""
             }
            },
            "type": "scattermapbox"
           }
          ],
          "scatterpolar": [
           {
            "marker": {
             "colorbar": {
              "outlinewidth": 0,
              "ticks": ""
             }
            },
            "type": "scatterpolar"
           }
          ],
          "scatterpolargl": [
           {
            "marker": {
             "colorbar": {
              "outlinewidth": 0,
              "ticks": ""
             }
            },
            "type": "scatterpolargl"
           }
          ],
          "scatterternary": [
           {
            "marker": {
             "colorbar": {
              "outlinewidth": 0,
              "ticks": ""
             }
            },
            "type": "scatterternary"
           }
          ],
          "surface": [
           {
            "colorbar": {
             "outlinewidth": 0,
             "ticks": ""
            },
            "colorscale": [
             [
              0,
              "#0d0887"
             ],
             [
              0.1111111111111111,
              "#46039f"
             ],
             [
              0.2222222222222222,
              "#7201a8"
             ],
             [
              0.3333333333333333,
              "#9c179e"
             ],
             [
              0.4444444444444444,
              "#bd3786"
             ],
             [
              0.5555555555555556,
              "#d8576b"
             ],
             [
              0.6666666666666666,
              "#ed7953"
             ],
             [
              0.7777777777777778,
              "#fb9f3a"
             ],
             [
              0.8888888888888888,
              "#fdca26"
             ],
             [
              1,
              "#f0f921"
             ]
            ],
            "type": "surface"
           }
          ],
          "table": [
           {
            "cells": {
             "fill": {
              "color": "#EBF0F8"
             },
             "line": {
              "color": "white"
             }
            },
            "header": {
             "fill": {
              "color": "#C8D4E3"
             },
             "line": {
              "color": "white"
             }
            },
            "type": "table"
           }
          ]
         },
         "layout": {
          "annotationdefaults": {
           "arrowcolor": "#2a3f5f",
           "arrowhead": 0,
           "arrowwidth": 1
          },
          "autotypenumbers": "strict",
          "coloraxis": {
           "colorbar": {
            "outlinewidth": 0,
            "ticks": ""
           }
          },
          "colorscale": {
           "diverging": [
            [
             0,
             "#8e0152"
            ],
            [
             0.1,
             "#c51b7d"
            ],
            [
             0.2,
             "#de77ae"
            ],
            [
             0.3,
             "#f1b6da"
            ],
            [
             0.4,
             "#fde0ef"
            ],
            [
             0.5,
             "#f7f7f7"
            ],
            [
             0.6,
             "#e6f5d0"
            ],
            [
             0.7,
             "#b8e186"
            ],
            [
             0.8,
             "#7fbc41"
            ],
            [
             0.9,
             "#4d9221"
            ],
            [
             1,
             "#276419"
            ]
           ],
           "sequential": [
            [
             0,
             "#0d0887"
            ],
            [
             0.1111111111111111,
             "#46039f"
            ],
            [
             0.2222222222222222,
             "#7201a8"
            ],
            [
             0.3333333333333333,
             "#9c179e"
            ],
            [
             0.4444444444444444,
             "#bd3786"
            ],
            [
             0.5555555555555556,
             "#d8576b"
            ],
            [
             0.6666666666666666,
             "#ed7953"
            ],
            [
             0.7777777777777778,
             "#fb9f3a"
            ],
            [
             0.8888888888888888,
             "#fdca26"
            ],
            [
             1,
             "#f0f921"
            ]
           ],
           "sequentialminus": [
            [
             0,
             "#0d0887"
            ],
            [
             0.1111111111111111,
             "#46039f"
            ],
            [
             0.2222222222222222,
             "#7201a8"
            ],
            [
             0.3333333333333333,
             "#9c179e"
            ],
            [
             0.4444444444444444,
             "#bd3786"
            ],
            [
             0.5555555555555556,
             "#d8576b"
            ],
            [
             0.6666666666666666,
             "#ed7953"
            ],
            [
             0.7777777777777778,
             "#fb9f3a"
            ],
            [
             0.8888888888888888,
             "#fdca26"
            ],
            [
             1,
             "#f0f921"
            ]
           ]
          },
          "colorway": [
           "#636efa",
           "#EF553B",
           "#00cc96",
           "#ab63fa",
           "#FFA15A",
           "#19d3f3",
           "#FF6692",
           "#B6E880",
           "#FF97FF",
           "#FECB52"
          ],
          "font": {
           "color": "#2a3f5f"
          },
          "geo": {
           "bgcolor": "white",
           "lakecolor": "white",
           "landcolor": "#E5ECF6",
           "showlakes": true,
           "showland": true,
           "subunitcolor": "white"
          },
          "hoverlabel": {
           "align": "left"
          },
          "hovermode": "closest",
          "mapbox": {
           "style": "light"
          },
          "paper_bgcolor": "white",
          "plot_bgcolor": "#E5ECF6",
          "polar": {
           "angularaxis": {
            "gridcolor": "white",
            "linecolor": "white",
            "ticks": ""
           },
           "bgcolor": "#E5ECF6",
           "radialaxis": {
            "gridcolor": "white",
            "linecolor": "white",
            "ticks": ""
           }
          },
          "scene": {
           "xaxis": {
            "backgroundcolor": "#E5ECF6",
            "gridcolor": "white",
            "gridwidth": 2,
            "linecolor": "white",
            "showbackground": true,
            "ticks": "",
            "zerolinecolor": "white"
           },
           "yaxis": {
            "backgroundcolor": "#E5ECF6",
            "gridcolor": "white",
            "gridwidth": 2,
            "linecolor": "white",
            "showbackground": true,
            "ticks": "",
            "zerolinecolor": "white"
           },
           "zaxis": {
            "backgroundcolor": "#E5ECF6",
            "gridcolor": "white",
            "gridwidth": 2,
            "linecolor": "white",
            "showbackground": true,
            "ticks": "",
            "zerolinecolor": "white"
           }
          },
          "shapedefaults": {
           "line": {
            "color": "#2a3f5f"
           }
          },
          "ternary": {
           "aaxis": {
            "gridcolor": "white",
            "linecolor": "white",
            "ticks": ""
           },
           "baxis": {
            "gridcolor": "white",
            "linecolor": "white",
            "ticks": ""
           },
           "bgcolor": "#E5ECF6",
           "caxis": {
            "gridcolor": "white",
            "linecolor": "white",
            "ticks": ""
           }
          },
          "title": {
           "x": 0.05
          },
          "xaxis": {
           "automargin": true,
           "gridcolor": "white",
           "linecolor": "white",
           "ticks": "",
           "title": {
            "standoff": 15
           },
           "zerolinecolor": "white",
           "zerolinewidth": 2
          },
          "yaxis": {
           "automargin": true,
           "gridcolor": "white",
           "linecolor": "white",
           "ticks": "",
           "title": {
            "standoff": 15
           },
           "zerolinecolor": "white",
           "zerolinewidth": 2
          }
         }
        },
        "yaxis": {
         "tickformat": ".0%",
         "title": {
          "text": "GES"
         }
        }
       }
      },
      "text/html": [
       "<div>                            <div id=\"3fd5ecc4-823a-4369-8e97-ea61b388db4f\" class=\"plotly-graph-div\" style=\"height:525px; width:100%;\"></div>            <script type=\"text/javascript\">                require([\"plotly\"], function(Plotly) {                    window.PLOTLYENV=window.PLOTLYENV || {};                                    if (document.getElementById(\"3fd5ecc4-823a-4369-8e97-ea61b388db4f\")) {                    Plotly.newPlot(                        \"3fd5ecc4-823a-4369-8e97-ea61b388db4f\",                        [{\"marker\":{\"color\":[\"black\",\"green\",\"blue\",\"purple\"]},\"text\":[\"-0.12560856207900006\",\"-0.050000000000000044\",\"-0.09999999999999998\",\"-0.16800000000000004\"],\"textposition\":\"inside\",\"texttemplate\":\"%{text:.1%}\",\"type\":\"bar\",\"x\":[\"selected_company\",\"1.5\\u00b0C scenario\",\"1.8\\u00b0C scenario\",\"2\\u00b0C scenario\"],\"y\":[-0.12560856207900006,-0.050000000000000044,-0.09999999999999998,-0.16800000000000004]}],                        {\"showlegend\":false,\"template\":{\"data\":{\"bar\":[{\"error_x\":{\"color\":\"#2a3f5f\"},\"error_y\":{\"color\":\"#2a3f5f\"},\"marker\":{\"line\":{\"color\":\"#E5ECF6\",\"width\":0.5},\"pattern\":{\"fillmode\":\"overlay\",\"size\":10,\"solidity\":0.2}},\"type\":\"bar\"}],\"barpolar\":[{\"marker\":{\"line\":{\"color\":\"#E5ECF6\",\"width\":0.5},\"pattern\":{\"fillmode\":\"overlay\",\"size\":10,\"solidity\":0.2}},\"type\":\"barpolar\"}],\"carpet\":[{\"aaxis\":{\"endlinecolor\":\"#2a3f5f\",\"gridcolor\":\"white\",\"linecolor\":\"white\",\"minorgridcolor\":\"white\",\"startlinecolor\":\"#2a3f5f\"},\"baxis\":{\"endlinecolor\":\"#2a3f5f\",\"gridcolor\":\"white\",\"linecolor\":\"white\",\"minorgridcolor\":\"white\",\"startlinecolor\":\"#2a3f5f\"},\"type\":\"carpet\"}],\"choropleth\":[{\"colorbar\":{\"outlinewidth\":0,\"ticks\":\"\"},\"type\":\"choropleth\"}],\"contour\":[{\"colorbar\":{\"outlinewidth\":0,\"ticks\":\"\"},\"colorscale\":[[0.0,\"#0d0887\"],[0.1111111111111111,\"#46039f\"],[0.2222222222222222,\"#7201a8\"],[0.3333333333333333,\"#9c179e\"],[0.4444444444444444,\"#bd3786\"],[0.5555555555555556,\"#d8576b\"],[0.6666666666666666,\"#ed7953\"],[0.7777777777777778,\"#fb9f3a\"],[0.8888888888888888,\"#fdca26\"],[1.0,\"#f0f921\"]],\"type\":\"contour\"}],\"contourcarpet\":[{\"colorbar\":{\"outlinewidth\":0,\"ticks\":\"\"},\"type\":\"contourcarpet\"}],\"heatmap\":[{\"colorbar\":{\"outlinewidth\":0,\"ticks\":\"\"},\"colorscale\":[[0.0,\"#0d0887\"],[0.1111111111111111,\"#46039f\"],[0.2222222222222222,\"#7201a8\"],[0.3333333333333333,\"#9c179e\"],[0.4444444444444444,\"#bd3786\"],[0.5555555555555556,\"#d8576b\"],[0.6666666666666666,\"#ed7953\"],[0.7777777777777778,\"#fb9f3a\"],[0.8888888888888888,\"#fdca26\"],[1.0,\"#f0f921\"]],\"type\":\"heatmap\"}],\"heatmapgl\":[{\"colorbar\":{\"outlinewidth\":0,\"ticks\":\"\"},\"colorscale\":[[0.0,\"#0d0887\"],[0.1111111111111111,\"#46039f\"],[0.2222222222222222,\"#7201a8\"],[0.3333333333333333,\"#9c179e\"],[0.4444444444444444,\"#bd3786\"],[0.5555555555555556,\"#d8576b\"],[0.6666666666666666,\"#ed7953\"],[0.7777777777777778,\"#fb9f3a\"],[0.8888888888888888,\"#fdca26\"],[1.0,\"#f0f921\"]],\"type\":\"heatmapgl\"}],\"histogram\":[{\"marker\":{\"pattern\":{\"fillmode\":\"overlay\",\"size\":10,\"solidity\":0.2}},\"type\":\"histogram\"}],\"histogram2d\":[{\"colorbar\":{\"outlinewidth\":0,\"ticks\":\"\"},\"colorscale\":[[0.0,\"#0d0887\"],[0.1111111111111111,\"#46039f\"],[0.2222222222222222,\"#7201a8\"],[0.3333333333333333,\"#9c179e\"],[0.4444444444444444,\"#bd3786\"],[0.5555555555555556,\"#d8576b\"],[0.6666666666666666,\"#ed7953\"],[0.7777777777777778,\"#fb9f3a\"],[0.8888888888888888,\"#fdca26\"],[1.0,\"#f0f921\"]],\"type\":\"histogram2d\"}],\"histogram2dcontour\":[{\"colorbar\":{\"outlinewidth\":0,\"ticks\":\"\"},\"colorscale\":[[0.0,\"#0d0887\"],[0.1111111111111111,\"#46039f\"],[0.2222222222222222,\"#7201a8\"],[0.3333333333333333,\"#9c179e\"],[0.4444444444444444,\"#bd3786\"],[0.5555555555555556,\"#d8576b\"],[0.6666666666666666,\"#ed7953\"],[0.7777777777777778,\"#fb9f3a\"],[0.8888888888888888,\"#fdca26\"],[1.0,\"#f0f921\"]],\"type\":\"histogram2dcontour\"}],\"mesh3d\":[{\"colorbar\":{\"outlinewidth\":0,\"ticks\":\"\"},\"type\":\"mesh3d\"}],\"parcoords\":[{\"line\":{\"colorbar\":{\"outlinewidth\":0,\"ticks\":\"\"}},\"type\":\"parcoords\"}],\"pie\":[{\"automargin\":true,\"type\":\"pie\"}],\"scatter\":[{\"marker\":{\"colorbar\":{\"outlinewidth\":0,\"ticks\":\"\"}},\"type\":\"scatter\"}],\"scatter3d\":[{\"line\":{\"colorbar\":{\"outlinewidth\":0,\"ticks\":\"\"}},\"marker\":{\"colorbar\":{\"outlinewidth\":0,\"ticks\":\"\"}},\"type\":\"scatter3d\"}],\"scattercarpet\":[{\"marker\":{\"colorbar\":{\"outlinewidth\":0,\"ticks\":\"\"}},\"type\":\"scattercarpet\"}],\"scattergeo\":[{\"marker\":{\"colorbar\":{\"outlinewidth\":0,\"ticks\":\"\"}},\"type\":\"scattergeo\"}],\"scattergl\":[{\"marker\":{\"colorbar\":{\"outlinewidth\":0,\"ticks\":\"\"}},\"type\":\"scattergl\"}],\"scattermapbox\":[{\"marker\":{\"colorbar\":{\"outlinewidth\":0,\"ticks\":\"\"}},\"type\":\"scattermapbox\"}],\"scatterpolar\":[{\"marker\":{\"colorbar\":{\"outlinewidth\":0,\"ticks\":\"\"}},\"type\":\"scatterpolar\"}],\"scatterpolargl\":[{\"marker\":{\"colorbar\":{\"outlinewidth\":0,\"ticks\":\"\"}},\"type\":\"scatterpolargl\"}],\"scatterternary\":[{\"marker\":{\"colorbar\":{\"outlinewidth\":0,\"ticks\":\"\"}},\"type\":\"scatterternary\"}],\"surface\":[{\"colorbar\":{\"outlinewidth\":0,\"ticks\":\"\"},\"colorscale\":[[0.0,\"#0d0887\"],[0.1111111111111111,\"#46039f\"],[0.2222222222222222,\"#7201a8\"],[0.3333333333333333,\"#9c179e\"],[0.4444444444444444,\"#bd3786\"],[0.5555555555555556,\"#d8576b\"],[0.6666666666666666,\"#ed7953\"],[0.7777777777777778,\"#fb9f3a\"],[0.8888888888888888,\"#fdca26\"],[1.0,\"#f0f921\"]],\"type\":\"surface\"}],\"table\":[{\"cells\":{\"fill\":{\"color\":\"#EBF0F8\"},\"line\":{\"color\":\"white\"}},\"header\":{\"fill\":{\"color\":\"#C8D4E3\"},\"line\":{\"color\":\"white\"}},\"type\":\"table\"}]},\"layout\":{\"annotationdefaults\":{\"arrowcolor\":\"#2a3f5f\",\"arrowhead\":0,\"arrowwidth\":1},\"autotypenumbers\":\"strict\",\"coloraxis\":{\"colorbar\":{\"outlinewidth\":0,\"ticks\":\"\"}},\"colorscale\":{\"diverging\":[[0,\"#8e0152\"],[0.1,\"#c51b7d\"],[0.2,\"#de77ae\"],[0.3,\"#f1b6da\"],[0.4,\"#fde0ef\"],[0.5,\"#f7f7f7\"],[0.6,\"#e6f5d0\"],[0.7,\"#b8e186\"],[0.8,\"#7fbc41\"],[0.9,\"#4d9221\"],[1,\"#276419\"]],\"sequential\":[[0.0,\"#0d0887\"],[0.1111111111111111,\"#46039f\"],[0.2222222222222222,\"#7201a8\"],[0.3333333333333333,\"#9c179e\"],[0.4444444444444444,\"#bd3786\"],[0.5555555555555556,\"#d8576b\"],[0.6666666666666666,\"#ed7953\"],[0.7777777777777778,\"#fb9f3a\"],[0.8888888888888888,\"#fdca26\"],[1.0,\"#f0f921\"]],\"sequentialminus\":[[0.0,\"#0d0887\"],[0.1111111111111111,\"#46039f\"],[0.2222222222222222,\"#7201a8\"],[0.3333333333333333,\"#9c179e\"],[0.4444444444444444,\"#bd3786\"],[0.5555555555555556,\"#d8576b\"],[0.6666666666666666,\"#ed7953\"],[0.7777777777777778,\"#fb9f3a\"],[0.8888888888888888,\"#fdca26\"],[1.0,\"#f0f921\"]]},\"colorway\":[\"#636efa\",\"#EF553B\",\"#00cc96\",\"#ab63fa\",\"#FFA15A\",\"#19d3f3\",\"#FF6692\",\"#B6E880\",\"#FF97FF\",\"#FECB52\"],\"font\":{\"color\":\"#2a3f5f\"},\"geo\":{\"bgcolor\":\"white\",\"lakecolor\":\"white\",\"landcolor\":\"#E5ECF6\",\"showlakes\":true,\"showland\":true,\"subunitcolor\":\"white\"},\"hoverlabel\":{\"align\":\"left\"},\"hovermode\":\"closest\",\"mapbox\":{\"style\":\"light\"},\"paper_bgcolor\":\"white\",\"plot_bgcolor\":\"#E5ECF6\",\"polar\":{\"angularaxis\":{\"gridcolor\":\"white\",\"linecolor\":\"white\",\"ticks\":\"\"},\"bgcolor\":\"#E5ECF6\",\"radialaxis\":{\"gridcolor\":\"white\",\"linecolor\":\"white\",\"ticks\":\"\"}},\"scene\":{\"xaxis\":{\"backgroundcolor\":\"#E5ECF6\",\"gridcolor\":\"white\",\"gridwidth\":2,\"linecolor\":\"white\",\"showbackground\":true,\"ticks\":\"\",\"zerolinecolor\":\"white\"},\"yaxis\":{\"backgroundcolor\":\"#E5ECF6\",\"gridcolor\":\"white\",\"gridwidth\":2,\"linecolor\":\"white\",\"showbackground\":true,\"ticks\":\"\",\"zerolinecolor\":\"white\"},\"zaxis\":{\"backgroundcolor\":\"#E5ECF6\",\"gridcolor\":\"white\",\"gridwidth\":2,\"linecolor\":\"white\",\"showbackground\":true,\"ticks\":\"\",\"zerolinecolor\":\"white\"}},\"shapedefaults\":{\"line\":{\"color\":\"#2a3f5f\"}},\"ternary\":{\"aaxis\":{\"gridcolor\":\"white\",\"linecolor\":\"white\",\"ticks\":\"\"},\"baxis\":{\"gridcolor\":\"white\",\"linecolor\":\"white\",\"ticks\":\"\"},\"bgcolor\":\"#E5ECF6\",\"caxis\":{\"gridcolor\":\"white\",\"linecolor\":\"white\",\"ticks\":\"\"}},\"title\":{\"x\":0.05},\"xaxis\":{\"automargin\":true,\"gridcolor\":\"white\",\"linecolor\":\"white\",\"ticks\":\"\",\"title\":{\"standoff\":15},\"zerolinecolor\":\"white\",\"zerolinewidth\":2},\"yaxis\":{\"automargin\":true,\"gridcolor\":\"white\",\"linecolor\":\"white\",\"ticks\":\"\",\"title\":{\"standoff\":15},\"zerolinecolor\":\"white\",\"zerolinewidth\":2}}},\"yaxis\":{\"tickformat\":\".0%\",\"title\":{\"text\":\"GES\"}}},                        {\"responsive\": true}                    ).then(function(){\n",
       "                            \n",
       "var gd = document.getElementById('3fd5ecc4-823a-4369-8e97-ea61b388db4f');\n",
       "var x = new MutationObserver(function (mutations, observer) {{\n",
       "        var display = window.getComputedStyle(gd).display;\n",
       "        if (!display || display === 'none') {{\n",
       "            console.log([gd, 'removed!']);\n",
       "            Plotly.purge(gd);\n",
       "            observer.disconnect();\n",
       "        }}\n",
       "}});\n",
       "\n",
       "// Listen for the removal of the full notebook cells\n",
       "var notebookContainer = gd.closest('#notebook-container');\n",
       "if (notebookContainer) {{\n",
       "    x.observe(notebookContainer, {childList: true});\n",
       "}}\n",
       "\n",
       "// Listen for the clearing of the current output cell\n",
       "var outputEl = gd.closest('.output');\n",
       "if (outputEl) {{\n",
       "    x.observe(outputEl, {childList: true});\n",
       "}}\n",
       "\n",
       "                        })                };                });            </script>        </div>"
      ]
     },
     "metadata": {},
     "output_type": "display_data"
    }
   ],
   "source": [
    "scenarios=['selected_company', '1.5°C scenario', '1.8°C scenario', '2°C scenario']\n",
    "\n",
    "fig = go.Figure([go.Bar(x=scenarios, y=values, text=values, marker_color=['black', 'green', 'blue', 'purple'])])\n",
    "fig.update_traces(texttemplate='%{text:.1%}', textposition='inside')\n",
    "fig.update_layout(showlegend=False)\n",
    "fig.update_yaxes(title=\"GES\", tickformat=\".0%\")\n",
    "fig.show()"
   ]
  },
  {
   "cell_type": "code",
   "execution_count": 1,
   "id": "31e68276",
   "metadata": {},
   "outputs": [],
   "source": [
    "import pandas as pd\n",
    "\n",
    "df= pd.read_csv(\"../data/t1b2.csv\")"
   ]
  },
  {
   "cell_type": "code",
   "execution_count": 28,
   "id": "30026a59",
   "metadata": {},
   "outputs": [],
   "source": [
    "from plotly import tools\n",
    "import chart_studio.plotly as py\n",
    "import plotly.graph_objs as go\n",
    "\n",
    "# Define Titles and Labels for Each Scale\n",
    "scales = '<b>Accomplisment</b>'\n",
    "scale_labels = ['Not <br> Published ',\n",
    "          'Towards <br>  + 4°C ',\n",
    "          'Between +2°C <br> and +3°C ',\n",
    "          '2°C ',\n",
    "          'Far less <br> than +2°C ',\n",
    "          '+1.5°C',\n",
    "          'n.a <br> (too recent)']\n"
   ]
  },
  {
   "cell_type": "code",
   "execution_count": 29,
   "id": "2bbacd5c",
   "metadata": {},
   "outputs": [],
   "source": [
    "# Add Scale Titles to the Plot\n",
    "traces = go.Scatter(\n",
    "        x=[0.6], # Pad the title - a longer scale title would need a higher value \n",
    "        y=[6.25],\n",
    "        text=scales,\n",
    "        mode='text',\n",
    "        hoverinfo='none',\n",
    "        showlegend=False,\n",
    "        xaxis='x1',\n",
    "        yaxis='y1'\n",
    "    )"
   ]
  },
  {
   "cell_type": "code",
   "execution_count": 30,
   "id": "a238ba22",
   "metadata": {},
   "outputs": [],
   "source": [
    "shapes = {'type': 'rect',\n",
    "        'x0': .02, 'x1': 1.02,\n",
    "        'y0': 0, 'y1': 6,\n",
    "        'xref':'x1', 'yref':'y1'}"
   ]
  },
  {
   "cell_type": "code",
   "execution_count": 33,
   "id": "9f228d5a",
   "metadata": {},
   "outputs": [],
   "source": [
    "x_domains = [[0, .15], [.15, .3], [.3, .45], [.45, .6], [.6, .75], [.75, 1] ] # Split for 6 scales\n",
    "chart_width = 800\n",
    "\n",
    "# Define X-Axes\n",
    "xaxes = {'domain': x_domains[0], 'range':[0, 6],\n",
    "                  'showgrid': False, 'showline': False,\n",
    "                  'zeroline': False, 'showticklabels': False}"
   ]
  },
  {
   "cell_type": "code",
   "execution_count": 34,
   "id": "16bd6175",
   "metadata": {},
   "outputs": [],
   "source": [
    "# Define Y-Axes (and set scale labels)\n",
    "## ticklen is used to create the segments of the scale,\n",
    "## for more information see: https://plotly.com/python/reference/#layout-yaxis-ticklen\n",
    "yaxes ={'anchor':'x1', 'range':[-.5,6.5],\n",
    "                  'showgrid': False, 'showline': False, 'zeroline': False,\n",
    "                  'ticks':'inside', 'ticklen': chart_width/20,\n",
    "                  'ticktext':scale_labels[i], 'tickvals':[0., 1., 2., 3., 4., 5., 6.]\n",
    "                 }"
   ]
  },
  {
   "cell_type": "code",
   "execution_count": 35,
   "id": "1bfed301",
   "metadata": {},
   "outputs": [
    {
     "ename": "ValueError",
     "evalue": "\n    Invalid value of type 'builtins.dict' received for the 'shapes' property of layout\n        Received value: {'type': 'rect', 'x0': 0.02, 'x1': 1.02, 'y0': 0, 'y1': 6, 'xref': 'x1', 'yref': 'y1'}\n\n    The 'shapes' property is a tuple of instances of\n    Shape that may be specified as:\n      - A list or tuple of instances of plotly.graph_objs.layout.Shape\n      - A list or tuple of dicts of string/value properties that\n        will be passed to the Shape constructor\n\n        Supported dict properties:\n            \n            editable\n                Determines whether the shape could be activated\n                for edit or not. Has no effect when the older\n                editable shapes mode is enabled via\n                `config.editable` or\n                `config.edits.shapePosition`.\n            fillcolor\n                Sets the color filling the shape's interior.\n                Only applies to closed shapes.\n            fillrule\n                Determines which regions of complex paths\n                constitute the interior. For more info please\n                visit https://developer.mozilla.org/en-\n                US/docs/Web/SVG/Attribute/fill-rule\n            layer\n                Specifies whether shapes are drawn below or\n                above traces.\n            line\n                :class:`plotly.graph_objects.layout.shape.Line`\n                instance or dict with compatible properties\n            name\n                When used in a template, named items are\n                created in the output figure in addition to any\n                items the figure already has in this array. You\n                can modify these items in the output figure by\n                making your own item with `templateitemname`\n                matching this `name` alongside your\n                modifications (including `visible: false` or\n                `enabled: false` to hide it). Has no effect\n                outside of a template.\n            opacity\n                Sets the opacity of the shape.\n            path\n                For `type` \"path\" - a valid SVG path with the\n                pixel values replaced by data values in\n                `xsizemode`/`ysizemode` being \"scaled\" and\n                taken unmodified as pixels relative to\n                `xanchor` and `yanchor` in case of \"pixel\" size\n                mode. There are a few restrictions / quirks\n                only absolute instructions, not relative. So\n                the allowed segments are: M, L, H, V, Q, C, T,\n                S, and Z arcs (A) are not allowed because\n                radius rx and ry are relative. In the future we\n                could consider supporting relative commands,\n                but we would have to decide on how to handle\n                date and log axes. Note that even as is, Q and\n                C Bezier paths that are smooth on linear axes\n                may not be smooth on log, and vice versa. no\n                chained \"polybezier\" commands - specify the\n                segment type for each one. On category axes,\n                values are numbers scaled to the serial numbers\n                of categories because using the categories\n                themselves there would be no way to describe\n                fractional positions On data axes: because\n                space and T are both normal components of path\n                strings, we can't use either to separate date\n                from time parts. Therefore we'll use underscore\n                for this purpose: 2015-02-21_13:45:56.789\n            templateitemname\n                Used to refer to a named item in this array in\n                the template. Named items from the template\n                will be created even without a matching item in\n                the input figure, but you can modify one by\n                making an item with `templateitemname` matching\n                its `name`, alongside your modifications\n                (including `visible: false` or `enabled: false`\n                to hide it). If there is no template or no\n                matching item, this item will be hidden unless\n                you explicitly show it with `visible: true`.\n            type\n                Specifies the shape type to be drawn. If\n                \"line\", a line is drawn from (`x0`,`y0`) to\n                (`x1`,`y1`) with respect to the axes' sizing\n                mode. If \"circle\", a circle is drawn from\n                ((`x0`+`x1`)/2, (`y0`+`y1`)/2)) with radius\n                (|(`x0`+`x1`)/2 - `x0`|, |(`y0`+`y1`)/2\n                -`y0`)|) with respect to the axes' sizing mode.\n                If \"rect\", a rectangle is drawn linking\n                (`x0`,`y0`), (`x1`,`y0`), (`x1`,`y1`),\n                (`x0`,`y1`), (`x0`,`y0`) with respect to the\n                axes' sizing mode. If \"path\", draw a custom SVG\n                path using `path`. with respect to the axes'\n                sizing mode.\n            visible\n                Determines whether or not this shape is\n                visible.\n            x0\n                Sets the shape's starting x position. See\n                `type` and `xsizemode` for more info.\n            x1\n                Sets the shape's end x position. See `type` and\n                `xsizemode` for more info.\n            xanchor\n                Only relevant in conjunction with `xsizemode`\n                set to \"pixel\". Specifies the anchor point on\n                the x axis to which `x0`, `x1` and x\n                coordinates within `path` are relative to. E.g.\n                useful to attach a pixel sized shape to a\n                certain data value. No effect when `xsizemode`\n                not set to \"pixel\".\n            xref\n                Sets the shape's x coordinate axis. If set to a\n                x axis id (e.g. \"x\" or \"x2\"), the `x` position\n                refers to a x coordinate. If set to \"paper\",\n                the `x` position refers to the distance from\n                the left of the plotting area in normalized\n                coordinates where 0 (1) corresponds to the left\n                (right). If set to a x axis ID followed by\n                \"domain\" (separated by a space), the position\n                behaves like for \"paper\", but refers to the\n                distance in fractions of the domain length from\n                the left of the domain of that axis: e.g., *x2\n                domain* refers to the domain of the second x\n                axis and a x position of 0.5 refers to the\n                point between the left and the right of the\n                domain of the second x axis. If the axis `type`\n                is \"log\", then you must take the log of your\n                desired range. If the axis `type` is \"date\",\n                then you must convert the date to unix time in\n                milliseconds.\n            xsizemode\n                Sets the shapes's sizing mode along the x axis.\n                If set to \"scaled\", `x0`, `x1` and x\n                coordinates within `path` refer to data values\n                on the x axis or a fraction of the plot area's\n                width (`xref` set to \"paper\"). If set to\n                \"pixel\", `xanchor` specifies the x position in\n                terms of data or plot fraction but `x0`, `x1`\n                and x coordinates within `path` are pixels\n                relative to `xanchor`. This way, the shape can\n                have a fixed width while maintaining a position\n                relative to data or plot fraction.\n            y0\n                Sets the shape's starting y position. See\n                `type` and `ysizemode` for more info.\n            y1\n                Sets the shape's end y position. See `type` and\n                `ysizemode` for more info.\n            yanchor\n                Only relevant in conjunction with `ysizemode`\n                set to \"pixel\". Specifies the anchor point on\n                the y axis to which `y0`, `y1` and y\n                coordinates within `path` are relative to. E.g.\n                useful to attach a pixel sized shape to a\n                certain data value. No effect when `ysizemode`\n                not set to \"pixel\".\n            yref\n                Sets the annotation's y coordinate axis. If set\n                to a y axis id (e.g. \"y\" or \"y2\"), the `y`\n                position refers to a y coordinate. If set to\n                \"paper\", the `y` position refers to the\n                distance from the bottom of the plotting area\n                in normalized coordinates where 0 (1)\n                corresponds to the bottom (top). If set to a y\n                axis ID followed by \"domain\" (separated by a\n                space), the position behaves like for \"paper\",\n                but refers to the distance in fractions of the\n                domain length from the bottom of the domain of\n                that axis: e.g., *y2 domain* refers to the\n                domain of the second y  axis and a y position\n                of 0.5 refers to the point between the bottom\n                and the top of the domain of the second y axis.\n            ysizemode\n                Sets the shapes's sizing mode along the y axis.\n                If set to \"scaled\", `y0`, `y1` and y\n                coordinates within `path` refer to data values\n                on the y axis or a fraction of the plot area's\n                height (`yref` set to \"paper\"). If set to\n                \"pixel\", `yanchor` specifies the y position in\n                terms of data or plot fraction but `y0`, `y1`\n                and y coordinates within `path` are pixels\n                relative to `yanchor`. This way, the shape can\n                have a fixed height while maintaining a\n                position relative to data or plot fraction.\n",
     "output_type": "error",
     "traceback": [
      "\u001b[0;31m---------------------------------------------------------------------------\u001b[0m",
      "\u001b[0;31mValueError\u001b[0m                                Traceback (most recent call last)",
      "\u001b[0;32m/tmp/ipykernel_7909/3338745219.py\u001b[0m in \u001b[0;36m<module>\u001b[0;34m\u001b[0m\n\u001b[1;32m     11\u001b[0m \u001b[0;34m\u001b[0m\u001b[0m\n\u001b[1;32m     12\u001b[0m \u001b[0mfig\u001b[0m \u001b[0;34m=\u001b[0m \u001b[0mdict\u001b[0m\u001b[0;34m(\u001b[0m\u001b[0mdata\u001b[0m\u001b[0;34m=\u001b[0m\u001b[0mtraces\u001b[0m\u001b[0;34m,\u001b[0m \u001b[0mlayout\u001b[0m\u001b[0;34m=\u001b[0m\u001b[0mlayout\u001b[0m\u001b[0;34m)\u001b[0m\u001b[0;34m\u001b[0m\u001b[0;34m\u001b[0m\u001b[0m\n\u001b[0;32m---> 13\u001b[0;31m \u001b[0mpy\u001b[0m\u001b[0;34m.\u001b[0m\u001b[0miplot\u001b[0m\u001b[0;34m(\u001b[0m\u001b[0mfig\u001b[0m\u001b[0;34m,\u001b[0m \u001b[0mfilename\u001b[0m\u001b[0;34m=\u001b[0m\u001b[0;34m'linear-gauge-layout'\u001b[0m\u001b[0;34m)\u001b[0m\u001b[0;34m\u001b[0m\u001b[0;34m\u001b[0m\u001b[0m\n\u001b[0m",
      "\u001b[0;32m~/.local/lib/python3.8/site-packages/chart_studio/plotly/plotly.py\u001b[0m in \u001b[0;36miplot\u001b[0;34m(figure_or_data, **plot_options)\u001b[0m\n\u001b[1;32m    133\u001b[0m     \u001b[0;32mif\u001b[0m \u001b[0;34m\"auto_open\"\u001b[0m \u001b[0;32mnot\u001b[0m \u001b[0;32min\u001b[0m \u001b[0mplot_options\u001b[0m\u001b[0;34m:\u001b[0m\u001b[0;34m\u001b[0m\u001b[0;34m\u001b[0m\u001b[0m\n\u001b[1;32m    134\u001b[0m         \u001b[0mplot_options\u001b[0m\u001b[0;34m[\u001b[0m\u001b[0;34m\"auto_open\"\u001b[0m\u001b[0;34m]\u001b[0m \u001b[0;34m=\u001b[0m \u001b[0;32mFalse\u001b[0m\u001b[0;34m\u001b[0m\u001b[0;34m\u001b[0m\u001b[0m\n\u001b[0;32m--> 135\u001b[0;31m     \u001b[0murl\u001b[0m \u001b[0;34m=\u001b[0m \u001b[0mplot\u001b[0m\u001b[0;34m(\u001b[0m\u001b[0mfigure_or_data\u001b[0m\u001b[0;34m,\u001b[0m \u001b[0;34m**\u001b[0m\u001b[0mplot_options\u001b[0m\u001b[0;34m)\u001b[0m\u001b[0;34m\u001b[0m\u001b[0;34m\u001b[0m\u001b[0m\n\u001b[0m\u001b[1;32m    136\u001b[0m \u001b[0;34m\u001b[0m\u001b[0m\n\u001b[1;32m    137\u001b[0m     \u001b[0;32mif\u001b[0m \u001b[0misinstance\u001b[0m\u001b[0;34m(\u001b[0m\u001b[0mfigure_or_data\u001b[0m\u001b[0;34m,\u001b[0m \u001b[0mdict\u001b[0m\u001b[0;34m)\u001b[0m\u001b[0;34m:\u001b[0m\u001b[0;34m\u001b[0m\u001b[0;34m\u001b[0m\u001b[0m\n",
      "\u001b[0;32m~/.local/lib/python3.8/site-packages/chart_studio/plotly/plotly.py\u001b[0m in \u001b[0;36mplot\u001b[0;34m(figure_or_data, validate, **plot_options)\u001b[0m\n\u001b[1;32m    195\u001b[0m     \u001b[0;32mimport\u001b[0m \u001b[0mplotly\u001b[0m\u001b[0;34m.\u001b[0m\u001b[0mtools\u001b[0m\u001b[0;34m\u001b[0m\u001b[0;34m\u001b[0m\u001b[0m\n\u001b[1;32m    196\u001b[0m \u001b[0;34m\u001b[0m\u001b[0m\n\u001b[0;32m--> 197\u001b[0;31m     \u001b[0mfigure\u001b[0m \u001b[0;34m=\u001b[0m \u001b[0mplotly\u001b[0m\u001b[0;34m.\u001b[0m\u001b[0mtools\u001b[0m\u001b[0;34m.\u001b[0m\u001b[0mreturn_figure_from_figure_or_data\u001b[0m\u001b[0;34m(\u001b[0m\u001b[0mfigure_or_data\u001b[0m\u001b[0;34m,\u001b[0m \u001b[0mvalidate\u001b[0m\u001b[0;34m)\u001b[0m\u001b[0;34m\u001b[0m\u001b[0;34m\u001b[0m\u001b[0m\n\u001b[0m\u001b[1;32m    198\u001b[0m     \u001b[0;32mfor\u001b[0m \u001b[0mentry\u001b[0m \u001b[0;32min\u001b[0m \u001b[0mfigure\u001b[0m\u001b[0;34m[\u001b[0m\u001b[0;34m\"data\"\u001b[0m\u001b[0;34m]\u001b[0m\u001b[0;34m:\u001b[0m\u001b[0;34m\u001b[0m\u001b[0;34m\u001b[0m\u001b[0m\n\u001b[1;32m    199\u001b[0m         \u001b[0;32mif\u001b[0m \u001b[0;34m(\u001b[0m\u001b[0;34m\"type\"\u001b[0m \u001b[0;32min\u001b[0m \u001b[0mentry\u001b[0m\u001b[0;34m)\u001b[0m \u001b[0;32mand\u001b[0m \u001b[0;34m(\u001b[0m\u001b[0mentry\u001b[0m\u001b[0;34m[\u001b[0m\u001b[0;34m\"type\"\u001b[0m\u001b[0;34m]\u001b[0m \u001b[0;34m==\u001b[0m \u001b[0;34m\"scattergl\"\u001b[0m\u001b[0;34m)\u001b[0m\u001b[0;34m:\u001b[0m\u001b[0;34m\u001b[0m\u001b[0;34m\u001b[0m\u001b[0m\n",
      "\u001b[0;32m~/.local/lib/python3.8/site-packages/plotly/tools.py\u001b[0m in \u001b[0;36mreturn_figure_from_figure_or_data\u001b[0;34m(figure_or_data, validate_figure)\u001b[0m\n\u001b[1;32m    551\u001b[0m \u001b[0;34m\u001b[0m\u001b[0m\n\u001b[1;32m    552\u001b[0m         \u001b[0;32mtry\u001b[0m\u001b[0;34m:\u001b[0m\u001b[0;34m\u001b[0m\u001b[0;34m\u001b[0m\u001b[0m\n\u001b[0;32m--> 553\u001b[0;31m             \u001b[0mfigure\u001b[0m \u001b[0;34m=\u001b[0m \u001b[0mFigure\u001b[0m\u001b[0;34m(\u001b[0m\u001b[0;34m**\u001b[0m\u001b[0mfigure\u001b[0m\u001b[0;34m)\u001b[0m\u001b[0;34m.\u001b[0m\u001b[0mto_dict\u001b[0m\u001b[0;34m(\u001b[0m\u001b[0;34m)\u001b[0m\u001b[0;34m\u001b[0m\u001b[0;34m\u001b[0m\u001b[0m\n\u001b[0m\u001b[1;32m    554\u001b[0m         \u001b[0;32mexcept\u001b[0m \u001b[0mexceptions\u001b[0m\u001b[0;34m.\u001b[0m\u001b[0mPlotlyError\u001b[0m \u001b[0;32mas\u001b[0m \u001b[0merr\u001b[0m\u001b[0;34m:\u001b[0m\u001b[0;34m\u001b[0m\u001b[0;34m\u001b[0m\u001b[0m\n\u001b[1;32m    555\u001b[0m             raise exceptions.PlotlyError(\n",
      "\u001b[0;32m~/.local/lib/python3.8/site-packages/plotly/graph_objs/_figure.py\u001b[0m in \u001b[0;36m__init__\u001b[0;34m(self, data, layout, frames, skip_invalid, **kwargs)\u001b[0m\n\u001b[1;32m    588\u001b[0m             \u001b[0;32mis\u001b[0m \u001b[0minvalid\u001b[0m \u001b[0mAND\u001b[0m \u001b[0mskip_invalid\u001b[0m \u001b[0;32mis\u001b[0m \u001b[0;32mFalse\u001b[0m\u001b[0;34m\u001b[0m\u001b[0;34m\u001b[0m\u001b[0m\n\u001b[1;32m    589\u001b[0m         \"\"\"\n\u001b[0;32m--> 590\u001b[0;31m         \u001b[0msuper\u001b[0m\u001b[0;34m(\u001b[0m\u001b[0mFigure\u001b[0m\u001b[0;34m,\u001b[0m \u001b[0mself\u001b[0m\u001b[0;34m)\u001b[0m\u001b[0;34m.\u001b[0m\u001b[0m__init__\u001b[0m\u001b[0;34m(\u001b[0m\u001b[0mdata\u001b[0m\u001b[0;34m,\u001b[0m \u001b[0mlayout\u001b[0m\u001b[0;34m,\u001b[0m \u001b[0mframes\u001b[0m\u001b[0;34m,\u001b[0m \u001b[0mskip_invalid\u001b[0m\u001b[0;34m,\u001b[0m \u001b[0;34m**\u001b[0m\u001b[0mkwargs\u001b[0m\u001b[0;34m)\u001b[0m\u001b[0;34m\u001b[0m\u001b[0;34m\u001b[0m\u001b[0m\n\u001b[0m\u001b[1;32m    591\u001b[0m \u001b[0;34m\u001b[0m\u001b[0m\n\u001b[1;32m    592\u001b[0m     def add_bar(\n",
      "\u001b[0;32m~/.local/lib/python3.8/site-packages/plotly/basedatatypes.py\u001b[0m in \u001b[0;36m__init__\u001b[0;34m(self, data, layout_plotly, frames, skip_invalid, **kwargs)\u001b[0m\n\u001b[1;32m    557\u001b[0m \u001b[0;34m\u001b[0m\u001b[0m\n\u001b[1;32m    558\u001b[0m         \u001b[0;31m# ### Import Layout ###\u001b[0m\u001b[0;34m\u001b[0m\u001b[0;34m\u001b[0m\u001b[0;34m\u001b[0m\u001b[0m\n\u001b[0;32m--> 559\u001b[0;31m         self._layout_obj = self._layout_validator.validate_coerce(\n\u001b[0m\u001b[1;32m    560\u001b[0m             \u001b[0mlayout\u001b[0m\u001b[0;34m,\u001b[0m \u001b[0mskip_invalid\u001b[0m\u001b[0;34m=\u001b[0m\u001b[0mskip_invalid\u001b[0m\u001b[0;34m,\u001b[0m \u001b[0m_validate\u001b[0m\u001b[0;34m=\u001b[0m\u001b[0mself\u001b[0m\u001b[0;34m.\u001b[0m\u001b[0m_validate\u001b[0m\u001b[0;34m\u001b[0m\u001b[0;34m\u001b[0m\u001b[0m\n\u001b[1;32m    561\u001b[0m         )\n",
      "\u001b[0;32m~/.local/lib/python3.8/site-packages/_plotly_utils/basevalidators.py\u001b[0m in \u001b[0;36mvalidate_coerce\u001b[0;34m(self, v, skip_invalid, _validate)\u001b[0m\n\u001b[1;32m   2465\u001b[0m \u001b[0;34m\u001b[0m\u001b[0m\n\u001b[1;32m   2466\u001b[0m         \u001b[0;32melif\u001b[0m \u001b[0misinstance\u001b[0m\u001b[0;34m(\u001b[0m\u001b[0mv\u001b[0m\u001b[0;34m,\u001b[0m \u001b[0mdict\u001b[0m\u001b[0;34m)\u001b[0m\u001b[0;34m:\u001b[0m\u001b[0;34m\u001b[0m\u001b[0;34m\u001b[0m\u001b[0m\n\u001b[0;32m-> 2467\u001b[0;31m             \u001b[0mv\u001b[0m \u001b[0;34m=\u001b[0m \u001b[0mself\u001b[0m\u001b[0;34m.\u001b[0m\u001b[0mdata_class\u001b[0m\u001b[0;34m(\u001b[0m\u001b[0mv\u001b[0m\u001b[0;34m,\u001b[0m \u001b[0mskip_invalid\u001b[0m\u001b[0;34m=\u001b[0m\u001b[0mskip_invalid\u001b[0m\u001b[0;34m,\u001b[0m \u001b[0m_validate\u001b[0m\u001b[0;34m=\u001b[0m\u001b[0m_validate\u001b[0m\u001b[0;34m)\u001b[0m\u001b[0;34m\u001b[0m\u001b[0;34m\u001b[0m\u001b[0m\n\u001b[0m\u001b[1;32m   2468\u001b[0m \u001b[0;34m\u001b[0m\u001b[0m\n\u001b[1;32m   2469\u001b[0m         \u001b[0;32melif\u001b[0m \u001b[0misinstance\u001b[0m\u001b[0;34m(\u001b[0m\u001b[0mv\u001b[0m\u001b[0;34m,\u001b[0m \u001b[0mself\u001b[0m\u001b[0;34m.\u001b[0m\u001b[0mdata_class\u001b[0m\u001b[0;34m)\u001b[0m\u001b[0;34m:\u001b[0m\u001b[0;34m\u001b[0m\u001b[0;34m\u001b[0m\u001b[0m\n",
      "\u001b[0;32m~/.local/lib/python3.8/site-packages/plotly/graph_objs/_layout.py\u001b[0m in \u001b[0;36m__init__\u001b[0;34m(self, arg, activeshape, annotations, annotationdefaults, autosize, autotypenumbers, bargap, bargroupgap, barmode, barnorm, boxgap, boxgroupgap, boxmode, calendar, clickmode, coloraxis, colorscale, colorway, computed, datarevision, dragmode, editrevision, extendfunnelareacolors, extendiciclecolors, extendpiecolors, extendsunburstcolors, extendtreemapcolors, font, funnelareacolorway, funnelgap, funnelgroupgap, funnelmode, geo, grid, height, hiddenlabels, hiddenlabelssrc, hidesources, hoverdistance, hoverlabel, hovermode, iciclecolorway, images, imagedefaults, legend, mapbox, margin, meta, metasrc, modebar, newshape, paper_bgcolor, piecolorway, plot_bgcolor, polar, scene, selectdirection, selectionrevision, separators, shapes, shapedefaults, showlegend, sliders, sliderdefaults, spikedistance, sunburstcolorway, template, ternary, title, titlefont, transition, treemapcolorway, uirevision, uniformtext, updatemenus, updatemenudefaults, violingap, violingroupgap, violinmode, waterfallgap, waterfallgroupgap, waterfallmode, width, xaxis, yaxis, **kwargs)\u001b[0m\n\u001b[1;32m   6113\u001b[0m         \u001b[0m_v\u001b[0m \u001b[0;34m=\u001b[0m \u001b[0mshapes\u001b[0m \u001b[0;32mif\u001b[0m \u001b[0mshapes\u001b[0m \u001b[0;32mis\u001b[0m \u001b[0;32mnot\u001b[0m \u001b[0;32mNone\u001b[0m \u001b[0;32melse\u001b[0m \u001b[0m_v\u001b[0m\u001b[0;34m\u001b[0m\u001b[0;34m\u001b[0m\u001b[0m\n\u001b[1;32m   6114\u001b[0m         \u001b[0;32mif\u001b[0m \u001b[0m_v\u001b[0m \u001b[0;32mis\u001b[0m \u001b[0;32mnot\u001b[0m \u001b[0;32mNone\u001b[0m\u001b[0;34m:\u001b[0m\u001b[0;34m\u001b[0m\u001b[0;34m\u001b[0m\u001b[0m\n\u001b[0;32m-> 6115\u001b[0;31m             \u001b[0mself\u001b[0m\u001b[0;34m[\u001b[0m\u001b[0;34m\"shapes\"\u001b[0m\u001b[0;34m]\u001b[0m \u001b[0;34m=\u001b[0m \u001b[0m_v\u001b[0m\u001b[0;34m\u001b[0m\u001b[0;34m\u001b[0m\u001b[0m\n\u001b[0m\u001b[1;32m   6116\u001b[0m         \u001b[0m_v\u001b[0m \u001b[0;34m=\u001b[0m \u001b[0marg\u001b[0m\u001b[0;34m.\u001b[0m\u001b[0mpop\u001b[0m\u001b[0;34m(\u001b[0m\u001b[0;34m\"shapedefaults\"\u001b[0m\u001b[0;34m,\u001b[0m \u001b[0;32mNone\u001b[0m\u001b[0;34m)\u001b[0m\u001b[0;34m\u001b[0m\u001b[0;34m\u001b[0m\u001b[0m\n\u001b[1;32m   6117\u001b[0m         \u001b[0m_v\u001b[0m \u001b[0;34m=\u001b[0m \u001b[0mshapedefaults\u001b[0m \u001b[0;32mif\u001b[0m \u001b[0mshapedefaults\u001b[0m \u001b[0;32mis\u001b[0m \u001b[0;32mnot\u001b[0m \u001b[0;32mNone\u001b[0m \u001b[0;32melse\u001b[0m \u001b[0m_v\u001b[0m\u001b[0;34m\u001b[0m\u001b[0;34m\u001b[0m\u001b[0m\n",
      "\u001b[0;32m~/.local/lib/python3.8/site-packages/plotly/basedatatypes.py\u001b[0m in \u001b[0;36m__setitem__\u001b[0;34m(self, prop, value)\u001b[0m\n\u001b[1;32m   5819\u001b[0m         \u001b[0;32mif\u001b[0m \u001b[0mmatch\u001b[0m \u001b[0;32mis\u001b[0m \u001b[0;32mNone\u001b[0m\u001b[0;34m:\u001b[0m\u001b[0;34m\u001b[0m\u001b[0;34m\u001b[0m\u001b[0m\n\u001b[1;32m   5820\u001b[0m             \u001b[0;31m# Set as ordinary property\u001b[0m\u001b[0;34m\u001b[0m\u001b[0;34m\u001b[0m\u001b[0;34m\u001b[0m\u001b[0m\n\u001b[0;32m-> 5821\u001b[0;31m             \u001b[0msuper\u001b[0m\u001b[0;34m(\u001b[0m\u001b[0mBaseLayoutHierarchyType\u001b[0m\u001b[0;34m,\u001b[0m \u001b[0mself\u001b[0m\u001b[0;34m)\u001b[0m\u001b[0;34m.\u001b[0m\u001b[0m__setitem__\u001b[0m\u001b[0;34m(\u001b[0m\u001b[0mprop\u001b[0m\u001b[0;34m,\u001b[0m \u001b[0mvalue\u001b[0m\u001b[0;34m)\u001b[0m\u001b[0;34m\u001b[0m\u001b[0;34m\u001b[0m\u001b[0m\n\u001b[0m\u001b[1;32m   5822\u001b[0m         \u001b[0;32melse\u001b[0m\u001b[0;34m:\u001b[0m\u001b[0;34m\u001b[0m\u001b[0;34m\u001b[0m\u001b[0m\n\u001b[1;32m   5823\u001b[0m             \u001b[0;31m# Set as subplotid property\u001b[0m\u001b[0;34m\u001b[0m\u001b[0;34m\u001b[0m\u001b[0;34m\u001b[0m\u001b[0m\n",
      "\u001b[0;32m~/.local/lib/python3.8/site-packages/plotly/basedatatypes.py\u001b[0m in \u001b[0;36m__setitem__\u001b[0;34m(self, prop, value)\u001b[0m\n\u001b[1;32m   4813\u001b[0m                 \u001b[0;31m# ### Handle compound array property ###\u001b[0m\u001b[0;34m\u001b[0m\u001b[0;34m\u001b[0m\u001b[0;34m\u001b[0m\u001b[0m\n\u001b[1;32m   4814\u001b[0m                 \u001b[0;32melif\u001b[0m \u001b[0misinstance\u001b[0m\u001b[0;34m(\u001b[0m\u001b[0mvalidator\u001b[0m\u001b[0;34m,\u001b[0m \u001b[0;34m(\u001b[0m\u001b[0mCompoundArrayValidator\u001b[0m\u001b[0;34m,\u001b[0m \u001b[0mBaseDataValidator\u001b[0m\u001b[0;34m)\u001b[0m\u001b[0;34m)\u001b[0m\u001b[0;34m:\u001b[0m\u001b[0;34m\u001b[0m\u001b[0;34m\u001b[0m\u001b[0m\n\u001b[0;32m-> 4815\u001b[0;31m                     \u001b[0mself\u001b[0m\u001b[0;34m.\u001b[0m\u001b[0m_set_array_prop\u001b[0m\u001b[0;34m(\u001b[0m\u001b[0mprop\u001b[0m\u001b[0;34m,\u001b[0m \u001b[0mvalue\u001b[0m\u001b[0;34m)\u001b[0m\u001b[0;34m\u001b[0m\u001b[0;34m\u001b[0m\u001b[0m\n\u001b[0m\u001b[1;32m   4816\u001b[0m \u001b[0;34m\u001b[0m\u001b[0m\n\u001b[1;32m   4817\u001b[0m                 \u001b[0;31m# ### Handle simple property ###\u001b[0m\u001b[0;34m\u001b[0m\u001b[0;34m\u001b[0m\u001b[0;34m\u001b[0m\u001b[0m\n",
      "\u001b[0;32m~/.local/lib/python3.8/site-packages/plotly/basedatatypes.py\u001b[0m in \u001b[0;36m_set_array_prop\u001b[0;34m(self, prop, val)\u001b[0m\n\u001b[1;32m   5294\u001b[0m         \u001b[0;31m# ------------\u001b[0m\u001b[0;34m\u001b[0m\u001b[0;34m\u001b[0m\u001b[0;34m\u001b[0m\u001b[0m\n\u001b[1;32m   5295\u001b[0m         \u001b[0mvalidator\u001b[0m \u001b[0;34m=\u001b[0m \u001b[0mself\u001b[0m\u001b[0;34m.\u001b[0m\u001b[0m_get_validator\u001b[0m\u001b[0;34m(\u001b[0m\u001b[0mprop\u001b[0m\u001b[0;34m)\u001b[0m\u001b[0;34m\u001b[0m\u001b[0;34m\u001b[0m\u001b[0m\n\u001b[0;32m-> 5296\u001b[0;31m         \u001b[0mval\u001b[0m \u001b[0;34m=\u001b[0m \u001b[0mvalidator\u001b[0m\u001b[0;34m.\u001b[0m\u001b[0mvalidate_coerce\u001b[0m\u001b[0;34m(\u001b[0m\u001b[0mval\u001b[0m\u001b[0;34m,\u001b[0m \u001b[0mskip_invalid\u001b[0m\u001b[0;34m=\u001b[0m\u001b[0mself\u001b[0m\u001b[0;34m.\u001b[0m\u001b[0m_skip_invalid\u001b[0m\u001b[0;34m)\u001b[0m\u001b[0;34m\u001b[0m\u001b[0;34m\u001b[0m\u001b[0m\n\u001b[0m\u001b[1;32m   5297\u001b[0m \u001b[0;34m\u001b[0m\u001b[0m\n\u001b[1;32m   5298\u001b[0m         \u001b[0;31m# Save deep copies of current and new states\u001b[0m\u001b[0;34m\u001b[0m\u001b[0;34m\u001b[0m\u001b[0;34m\u001b[0m\u001b[0m\n",
      "\u001b[0;32m~/.local/lib/python3.8/site-packages/_plotly_utils/basevalidators.py\u001b[0m in \u001b[0;36mvalidate_coerce\u001b[0;34m(self, v, skip_invalid)\u001b[0m\n\u001b[1;32m   2573\u001b[0m                 \u001b[0mv\u001b[0m \u001b[0;34m=\u001b[0m \u001b[0;34m[\u001b[0m\u001b[0;34m]\u001b[0m\u001b[0;34m\u001b[0m\u001b[0;34m\u001b[0m\u001b[0m\n\u001b[1;32m   2574\u001b[0m             \u001b[0;32melse\u001b[0m\u001b[0;34m:\u001b[0m\u001b[0;34m\u001b[0m\u001b[0;34m\u001b[0m\u001b[0m\n\u001b[0;32m-> 2575\u001b[0;31m                 \u001b[0mself\u001b[0m\u001b[0;34m.\u001b[0m\u001b[0mraise_invalid_val\u001b[0m\u001b[0;34m(\u001b[0m\u001b[0mv\u001b[0m\u001b[0;34m)\u001b[0m\u001b[0;34m\u001b[0m\u001b[0;34m\u001b[0m\u001b[0m\n\u001b[0m\u001b[1;32m   2576\u001b[0m \u001b[0;34m\u001b[0m\u001b[0m\n\u001b[1;32m   2577\u001b[0m         \u001b[0;32mreturn\u001b[0m \u001b[0mv\u001b[0m\u001b[0;34m\u001b[0m\u001b[0;34m\u001b[0m\u001b[0m\n",
      "\u001b[0;32m~/.local/lib/python3.8/site-packages/_plotly_utils/basevalidators.py\u001b[0m in \u001b[0;36mraise_invalid_val\u001b[0;34m(self, v, inds)\u001b[0m\n\u001b[1;32m    287\u001b[0m                 \u001b[0mname\u001b[0m \u001b[0;34m+=\u001b[0m \u001b[0;34m\"[\"\u001b[0m \u001b[0;34m+\u001b[0m \u001b[0mstr\u001b[0m\u001b[0;34m(\u001b[0m\u001b[0mi\u001b[0m\u001b[0;34m)\u001b[0m \u001b[0;34m+\u001b[0m \u001b[0;34m\"]\"\u001b[0m\u001b[0;34m\u001b[0m\u001b[0;34m\u001b[0m\u001b[0m\n\u001b[1;32m    288\u001b[0m \u001b[0;34m\u001b[0m\u001b[0m\n\u001b[0;32m--> 289\u001b[0;31m         raise ValueError(\n\u001b[0m\u001b[1;32m    290\u001b[0m             \"\"\"\n\u001b[1;32m    291\u001b[0m     \u001b[0mInvalid\u001b[0m \u001b[0mvalue\u001b[0m \u001b[0mof\u001b[0m \u001b[0mtype\u001b[0m \u001b[0;34m{\u001b[0m\u001b[0mtyp\u001b[0m\u001b[0;34m}\u001b[0m \u001b[0mreceived\u001b[0m \u001b[0;32mfor\u001b[0m \u001b[0mthe\u001b[0m \u001b[0;34m'{name}'\u001b[0m \u001b[0mproperty\u001b[0m \u001b[0mof\u001b[0m \u001b[0;34m{\u001b[0m\u001b[0mpname\u001b[0m\u001b[0;34m}\u001b[0m\u001b[0;34m\u001b[0m\u001b[0;34m\u001b[0m\u001b[0m\n",
      "\u001b[0;31mValueError\u001b[0m: \n    Invalid value of type 'builtins.dict' received for the 'shapes' property of layout\n        Received value: {'type': 'rect', 'x0': 0.02, 'x1': 1.02, 'y0': 0, 'y1': 6, 'xref': 'x1', 'yref': 'y1'}\n\n    The 'shapes' property is a tuple of instances of\n    Shape that may be specified as:\n      - A list or tuple of instances of plotly.graph_objs.layout.Shape\n      - A list or tuple of dicts of string/value properties that\n        will be passed to the Shape constructor\n\n        Supported dict properties:\n            \n            editable\n                Determines whether the shape could be activated\n                for edit or not. Has no effect when the older\n                editable shapes mode is enabled via\n                `config.editable` or\n                `config.edits.shapePosition`.\n            fillcolor\n                Sets the color filling the shape's interior.\n                Only applies to closed shapes.\n            fillrule\n                Determines which regions of complex paths\n                constitute the interior. For more info please\n                visit https://developer.mozilla.org/en-\n                US/docs/Web/SVG/Attribute/fill-rule\n            layer\n                Specifies whether shapes are drawn below or\n                above traces.\n            line\n                :class:`plotly.graph_objects.layout.shape.Line`\n                instance or dict with compatible properties\n            name\n                When used in a template, named items are\n                created in the output figure in addition to any\n                items the figure already has in this array. You\n                can modify these items in the output figure by\n                making your own item with `templateitemname`\n                matching this `name` alongside your\n                modifications (including `visible: false` or\n                `enabled: false` to hide it). Has no effect\n                outside of a template.\n            opacity\n                Sets the opacity of the shape.\n            path\n                For `type` \"path\" - a valid SVG path with the\n                pixel values replaced by data values in\n                `xsizemode`/`ysizemode` being \"scaled\" and\n                taken unmodified as pixels relative to\n                `xanchor` and `yanchor` in case of \"pixel\" size\n                mode. There are a few restrictions / quirks\n                only absolute instructions, not relative. So\n                the allowed segments are: M, L, H, V, Q, C, T,\n                S, and Z arcs (A) are not allowed because\n                radius rx and ry are relative. In the future we\n                could consider supporting relative commands,\n                but we would have to decide on how to handle\n                date and log axes. Note that even as is, Q and\n                C Bezier paths that are smooth on linear axes\n                may not be smooth on log, and vice versa. no\n                chained \"polybezier\" commands - specify the\n                segment type for each one. On category axes,\n                values are numbers scaled to the serial numbers\n                of categories because using the categories\n                themselves there would be no way to describe\n                fractional positions On data axes: because\n                space and T are both normal components of path\n                strings, we can't use either to separate date\n                from time parts. Therefore we'll use underscore\n                for this purpose: 2015-02-21_13:45:56.789\n            templateitemname\n                Used to refer to a named item in this array in\n                the template. Named items from the template\n                will be created even without a matching item in\n                the input figure, but you can modify one by\n                making an item with `templateitemname` matching\n                its `name`, alongside your modifications\n                (including `visible: false` or `enabled: false`\n                to hide it). If there is no template or no\n                matching item, this item will be hidden unless\n                you explicitly show it with `visible: true`.\n            type\n                Specifies the shape type to be drawn. If\n                \"line\", a line is drawn from (`x0`,`y0`) to\n                (`x1`,`y1`) with respect to the axes' sizing\n                mode. If \"circle\", a circle is drawn from\n                ((`x0`+`x1`)/2, (`y0`+`y1`)/2)) with radius\n                (|(`x0`+`x1`)/2 - `x0`|, |(`y0`+`y1`)/2\n                -`y0`)|) with respect to the axes' sizing mode.\n                If \"rect\", a rectangle is drawn linking\n                (`x0`,`y0`), (`x1`,`y0`), (`x1`,`y1`),\n                (`x0`,`y1`), (`x0`,`y0`) with respect to the\n                axes' sizing mode. If \"path\", draw a custom SVG\n                path using `path`. with respect to the axes'\n                sizing mode.\n            visible\n                Determines whether or not this shape is\n                visible.\n            x0\n                Sets the shape's starting x position. See\n                `type` and `xsizemode` for more info.\n            x1\n                Sets the shape's end x position. See `type` and\n                `xsizemode` for more info.\n            xanchor\n                Only relevant in conjunction with `xsizemode`\n                set to \"pixel\". Specifies the anchor point on\n                the x axis to which `x0`, `x1` and x\n                coordinates within `path` are relative to. E.g.\n                useful to attach a pixel sized shape to a\n                certain data value. No effect when `xsizemode`\n                not set to \"pixel\".\n            xref\n                Sets the shape's x coordinate axis. If set to a\n                x axis id (e.g. \"x\" or \"x2\"), the `x` position\n                refers to a x coordinate. If set to \"paper\",\n                the `x` position refers to the distance from\n                the left of the plotting area in normalized\n                coordinates where 0 (1) corresponds to the left\n                (right). If set to a x axis ID followed by\n                \"domain\" (separated by a space), the position\n                behaves like for \"paper\", but refers to the\n                distance in fractions of the domain length from\n                the left of the domain of that axis: e.g., *x2\n                domain* refers to the domain of the second x\n                axis and a x position of 0.5 refers to the\n                point between the left and the right of the\n                domain of the second x axis. If the axis `type`\n                is \"log\", then you must take the log of your\n                desired range. If the axis `type` is \"date\",\n                then you must convert the date to unix time in\n                milliseconds.\n            xsizemode\n                Sets the shapes's sizing mode along the x axis.\n                If set to \"scaled\", `x0`, `x1` and x\n                coordinates within `path` refer to data values\n                on the x axis or a fraction of the plot area's\n                width (`xref` set to \"paper\"). If set to\n                \"pixel\", `xanchor` specifies the x position in\n                terms of data or plot fraction but `x0`, `x1`\n                and x coordinates within `path` are pixels\n                relative to `xanchor`. This way, the shape can\n                have a fixed width while maintaining a position\n                relative to data or plot fraction.\n            y0\n                Sets the shape's starting y position. See\n                `type` and `ysizemode` for more info.\n            y1\n                Sets the shape's end y position. See `type` and\n                `ysizemode` for more info.\n            yanchor\n                Only relevant in conjunction with `ysizemode`\n                set to \"pixel\". Specifies the anchor point on\n                the y axis to which `y0`, `y1` and y\n                coordinates within `path` are relative to. E.g.\n                useful to attach a pixel sized shape to a\n                certain data value. No effect when `ysizemode`\n                not set to \"pixel\".\n            yref\n                Sets the annotation's y coordinate axis. If set\n                to a y axis id (e.g. \"y\" or \"y2\"), the `y`\n                position refers to a y coordinate. If set to\n                \"paper\", the `y` position refers to the\n                distance from the bottom of the plotting area\n                in normalized coordinates where 0 (1)\n                corresponds to the bottom (top). If set to a y\n                axis ID followed by \"domain\" (separated by a\n                space), the position behaves like for \"paper\",\n                but refers to the distance in fractions of the\n                domain length from the bottom of the domain of\n                that axis: e.g., *y2 domain* refers to the\n                domain of the second y  axis and a y position\n                of 0.5 refers to the point between the bottom\n                and the top of the domain of the second y axis.\n            ysizemode\n                Sets the shapes's sizing mode along the y axis.\n                If set to \"scaled\", `y0`, `y1` and y\n                coordinates within `path` refer to data values\n                on the y axis or a fraction of the plot area's\n                height (`yref` set to \"paper\"). If set to\n                \"pixel\", `yanchor` specifies the y position in\n                terms of data or plot fraction but `y0`, `y1`\n                and y coordinates within `path` are pixels\n                relative to `yanchor`. This way, the shape can\n                have a fixed height while maintaining a\n                position relative to data or plot fraction.\n"
     ]
    }
   ],
   "source": [
    "\n",
    "# Put all elements of the layout together\n",
    "\n",
    "\n",
    "### ADD RATING DATA HERE ###\n",
    "\n",
    "fig = dict(data=traces, layout=layout)\n",
    "py.iplot(fig, filename='linear-gauge-layout')"
   ]
  },
  {
   "cell_type": "code",
   "execution_count": 237,
   "id": "e6b64626",
   "metadata": {},
   "outputs": [
    {
     "data": {
      "application/vnd.plotly.v1+json": {
       "config": {
        "plotlyServerURL": "https://plot.ly"
       },
       "data": [
        {
         "base": 0,
         "hoverinfo": "y",
         "marker": {
          "color": "#820000"
         },
         "name": "measures",
         "orientation": "v",
         "type": "bar",
         "width": 0.4,
         "x": [
          0.5
         ],
         "xaxis": "x",
         "y": [
          6
         ],
         "yaxis": "y"
        },
        {
         "base": 0,
         "hoverinfo": "y",
         "marker": {
          "color": "#C00000"
         },
         "name": "measures",
         "orientation": "v",
         "type": "bar",
         "width": 0.4,
         "x": [
          0.5
         ],
         "xaxis": "x",
         "y": [
          5
         ],
         "yaxis": "y"
        },
        {
         "base": 0,
         "hoverinfo": "y",
         "marker": {
          "color": "#FF8939"
         },
         "name": "measures",
         "orientation": "v",
         "type": "bar",
         "width": 0.4,
         "x": [
          0.5
         ],
         "xaxis": "x",
         "y": [
          4
         ],
         "yaxis": "y"
        },
        {
         "base": 0,
         "hoverinfo": "y",
         "marker": {
          "color": "#FEC800"
         },
         "name": "measures",
         "orientation": "v",
         "type": "bar",
         "width": 0.4,
         "x": [
          0.5
         ],
         "xaxis": "x",
         "y": [
          3
         ],
         "yaxis": "y"
        },
        {
         "base": 0,
         "hoverinfo": "y",
         "marker": {
          "color": "#8CDF41"
         },
         "name": "measures",
         "orientation": "v",
         "type": "bar",
         "width": 0.4,
         "x": [
          0.5
         ],
         "xaxis": "x",
         "y": [
          2
         ],
         "yaxis": "y"
        },
        {
         "base": 0,
         "hoverinfo": "y",
         "marker": {
          "color": "#0DB800"
         },
         "name": "measures",
         "orientation": "v",
         "type": "bar",
         "width": 0.4,
         "x": [
          0.5
         ],
         "xaxis": "x",
         "y": [
          1
         ],
         "yaxis": "y"
        },
        {
         "hoverinfo": "y",
         "marker": {
          "color": "rgb(0, 0, 0)",
          "size": 12,
          "symbol": "diamond-tall"
         },
         "name": "markers",
         "type": "scatter",
         "x": [
          0.5
         ],
         "xaxis": "x",
         "y": [],
         "yaxis": "y"
        },
        {
         "hovertemplate": "Accomplishment",
         "marker": {
          "color": "green",
          "size": 20,
          "symbol": "arrow-right"
         },
         "name": "Accomplishment",
         "showlegend": false,
         "type": "scatter",
         "x": [
          0.25
         ],
         "xaxis": "x",
         "y": [
          1
         ],
         "yaxis": "y"
        },
        {
         "hovertemplate": "Engagement",
         "marker": {
          "color": "white",
          "line": {
           "color": "black",
           "width": 1
          },
          "size": 20,
          "symbol": "arrow-left"
         },
         "name": "Engagement",
         "showlegend": false,
         "type": "scatter",
         "x": [
          0.75
         ],
         "xaxis": "x",
         "y": [
          1
         ],
         "yaxis": "y"
        }
       ],
       "layout": {
        "annotations": [
         {
          "font": {
           "color": "#0f0f0f",
           "size": 13
          },
          "showarrow": false,
          "text": "<b></b>",
          "textangle": 0,
          "x": 0.5,
          "xanchor": "center",
          "xref": "paper",
          "y": 1.03,
          "yanchor": "middle",
          "yref": "paper"
         }
        ],
        "barmode": "stack",
        "height": 600,
        "margin": {
         "l": 80
        },
        "paper_bgcolor": "rgba(0,0,0,0)",
        "plot_bgcolor": "rgba(0,0,0,0)",
        "showlegend": false,
        "template": {
         "data": {
          "bar": [
           {
            "error_x": {
             "color": "#2a3f5f"
            },
            "error_y": {
             "color": "#2a3f5f"
            },
            "marker": {
             "line": {
              "color": "#E5ECF6",
              "width": 0.5
             },
             "pattern": {
              "fillmode": "overlay",
              "size": 10,
              "solidity": 0.2
             }
            },
            "type": "bar"
           }
          ],
          "barpolar": [
           {
            "marker": {
             "line": {
              "color": "#E5ECF6",
              "width": 0.5
             },
             "pattern": {
              "fillmode": "overlay",
              "size": 10,
              "solidity": 0.2
             }
            },
            "type": "barpolar"
           }
          ],
          "carpet": [
           {
            "aaxis": {
             "endlinecolor": "#2a3f5f",
             "gridcolor": "white",
             "linecolor": "white",
             "minorgridcolor": "white",
             "startlinecolor": "#2a3f5f"
            },
            "baxis": {
             "endlinecolor": "#2a3f5f",
             "gridcolor": "white",
             "linecolor": "white",
             "minorgridcolor": "white",
             "startlinecolor": "#2a3f5f"
            },
            "type": "carpet"
           }
          ],
          "choropleth": [
           {
            "colorbar": {
             "outlinewidth": 0,
             "ticks": ""
            },
            "type": "choropleth"
           }
          ],
          "contour": [
           {
            "colorbar": {
             "outlinewidth": 0,
             "ticks": ""
            },
            "colorscale": [
             [
              0,
              "#0d0887"
             ],
             [
              0.1111111111111111,
              "#46039f"
             ],
             [
              0.2222222222222222,
              "#7201a8"
             ],
             [
              0.3333333333333333,
              "#9c179e"
             ],
             [
              0.4444444444444444,
              "#bd3786"
             ],
             [
              0.5555555555555556,
              "#d8576b"
             ],
             [
              0.6666666666666666,
              "#ed7953"
             ],
             [
              0.7777777777777778,
              "#fb9f3a"
             ],
             [
              0.8888888888888888,
              "#fdca26"
             ],
             [
              1,
              "#f0f921"
             ]
            ],
            "type": "contour"
           }
          ],
          "contourcarpet": [
           {
            "colorbar": {
             "outlinewidth": 0,
             "ticks": ""
            },
            "type": "contourcarpet"
           }
          ],
          "heatmap": [
           {
            "colorbar": {
             "outlinewidth": 0,
             "ticks": ""
            },
            "colorscale": [
             [
              0,
              "#0d0887"
             ],
             [
              0.1111111111111111,
              "#46039f"
             ],
             [
              0.2222222222222222,
              "#7201a8"
             ],
             [
              0.3333333333333333,
              "#9c179e"
             ],
             [
              0.4444444444444444,
              "#bd3786"
             ],
             [
              0.5555555555555556,
              "#d8576b"
             ],
             [
              0.6666666666666666,
              "#ed7953"
             ],
             [
              0.7777777777777778,
              "#fb9f3a"
             ],
             [
              0.8888888888888888,
              "#fdca26"
             ],
             [
              1,
              "#f0f921"
             ]
            ],
            "type": "heatmap"
           }
          ],
          "heatmapgl": [
           {
            "colorbar": {
             "outlinewidth": 0,
             "ticks": ""
            },
            "colorscale": [
             [
              0,
              "#0d0887"
             ],
             [
              0.1111111111111111,
              "#46039f"
             ],
             [
              0.2222222222222222,
              "#7201a8"
             ],
             [
              0.3333333333333333,
              "#9c179e"
             ],
             [
              0.4444444444444444,
              "#bd3786"
             ],
             [
              0.5555555555555556,
              "#d8576b"
             ],
             [
              0.6666666666666666,
              "#ed7953"
             ],
             [
              0.7777777777777778,
              "#fb9f3a"
             ],
             [
              0.8888888888888888,
              "#fdca26"
             ],
             [
              1,
              "#f0f921"
             ]
            ],
            "type": "heatmapgl"
           }
          ],
          "histogram": [
           {
            "marker": {
             "pattern": {
              "fillmode": "overlay",
              "size": 10,
              "solidity": 0.2
             }
            },
            "type": "histogram"
           }
          ],
          "histogram2d": [
           {
            "colorbar": {
             "outlinewidth": 0,
             "ticks": ""
            },
            "colorscale": [
             [
              0,
              "#0d0887"
             ],
             [
              0.1111111111111111,
              "#46039f"
             ],
             [
              0.2222222222222222,
              "#7201a8"
             ],
             [
              0.3333333333333333,
              "#9c179e"
             ],
             [
              0.4444444444444444,
              "#bd3786"
             ],
             [
              0.5555555555555556,
              "#d8576b"
             ],
             [
              0.6666666666666666,
              "#ed7953"
             ],
             [
              0.7777777777777778,
              "#fb9f3a"
             ],
             [
              0.8888888888888888,
              "#fdca26"
             ],
             [
              1,
              "#f0f921"
             ]
            ],
            "type": "histogram2d"
           }
          ],
          "histogram2dcontour": [
           {
            "colorbar": {
             "outlinewidth": 0,
             "ticks": ""
            },
            "colorscale": [
             [
              0,
              "#0d0887"
             ],
             [
              0.1111111111111111,
              "#46039f"
             ],
             [
              0.2222222222222222,
              "#7201a8"
             ],
             [
              0.3333333333333333,
              "#9c179e"
             ],
             [
              0.4444444444444444,
              "#bd3786"
             ],
             [
              0.5555555555555556,
              "#d8576b"
             ],
             [
              0.6666666666666666,
              "#ed7953"
             ],
             [
              0.7777777777777778,
              "#fb9f3a"
             ],
             [
              0.8888888888888888,
              "#fdca26"
             ],
             [
              1,
              "#f0f921"
             ]
            ],
            "type": "histogram2dcontour"
           }
          ],
          "mesh3d": [
           {
            "colorbar": {
             "outlinewidth": 0,
             "ticks": ""
            },
            "type": "mesh3d"
           }
          ],
          "parcoords": [
           {
            "line": {
             "colorbar": {
              "outlinewidth": 0,
              "ticks": ""
             }
            },
            "type": "parcoords"
           }
          ],
          "pie": [
           {
            "automargin": true,
            "type": "pie"
           }
          ],
          "scatter": [
           {
            "marker": {
             "colorbar": {
              "outlinewidth": 0,
              "ticks": ""
             }
            },
            "type": "scatter"
           }
          ],
          "scatter3d": [
           {
            "line": {
             "colorbar": {
              "outlinewidth": 0,
              "ticks": ""
             }
            },
            "marker": {
             "colorbar": {
              "outlinewidth": 0,
              "ticks": ""
             }
            },
            "type": "scatter3d"
           }
          ],
          "scattercarpet": [
           {
            "marker": {
             "colorbar": {
              "outlinewidth": 0,
              "ticks": ""
             }
            },
            "type": "scattercarpet"
           }
          ],
          "scattergeo": [
           {
            "marker": {
             "colorbar": {
              "outlinewidth": 0,
              "ticks": ""
             }
            },
            "type": "scattergeo"
           }
          ],
          "scattergl": [
           {
            "marker": {
             "colorbar": {
              "outlinewidth": 0,
              "ticks": ""
             }
            },
            "type": "scattergl"
           }
          ],
          "scattermapbox": [
           {
            "marker": {
             "colorbar": {
              "outlinewidth": 0,
              "ticks": ""
             }
            },
            "type": "scattermapbox"
           }
          ],
          "scatterpolar": [
           {
            "marker": {
             "colorbar": {
              "outlinewidth": 0,
              "ticks": ""
             }
            },
            "type": "scatterpolar"
           }
          ],
          "scatterpolargl": [
           {
            "marker": {
             "colorbar": {
              "outlinewidth": 0,
              "ticks": ""
             }
            },
            "type": "scatterpolargl"
           }
          ],
          "scatterternary": [
           {
            "marker": {
             "colorbar": {
              "outlinewidth": 0,
              "ticks": ""
             }
            },
            "type": "scatterternary"
           }
          ],
          "surface": [
           {
            "colorbar": {
             "outlinewidth": 0,
             "ticks": ""
            },
            "colorscale": [
             [
              0,
              "#0d0887"
             ],
             [
              0.1111111111111111,
              "#46039f"
             ],
             [
              0.2222222222222222,
              "#7201a8"
             ],
             [
              0.3333333333333333,
              "#9c179e"
             ],
             [
              0.4444444444444444,
              "#bd3786"
             ],
             [
              0.5555555555555556,
              "#d8576b"
             ],
             [
              0.6666666666666666,
              "#ed7953"
             ],
             [
              0.7777777777777778,
              "#fb9f3a"
             ],
             [
              0.8888888888888888,
              "#fdca26"
             ],
             [
              1,
              "#f0f921"
             ]
            ],
            "type": "surface"
           }
          ],
          "table": [
           {
            "cells": {
             "fill": {
              "color": "#EBF0F8"
             },
             "line": {
              "color": "white"
             }
            },
            "header": {
             "fill": {
              "color": "#C8D4E3"
             },
             "line": {
              "color": "white"
             }
            },
            "type": "table"
           }
          ]
         },
         "layout": {
          "annotationdefaults": {
           "arrowcolor": "#2a3f5f",
           "arrowhead": 0,
           "arrowwidth": 1
          },
          "autotypenumbers": "strict",
          "coloraxis": {
           "colorbar": {
            "outlinewidth": 0,
            "ticks": ""
           }
          },
          "colorscale": {
           "diverging": [
            [
             0,
             "#8e0152"
            ],
            [
             0.1,
             "#c51b7d"
            ],
            [
             0.2,
             "#de77ae"
            ],
            [
             0.3,
             "#f1b6da"
            ],
            [
             0.4,
             "#fde0ef"
            ],
            [
             0.5,
             "#f7f7f7"
            ],
            [
             0.6,
             "#e6f5d0"
            ],
            [
             0.7,
             "#b8e186"
            ],
            [
             0.8,
             "#7fbc41"
            ],
            [
             0.9,
             "#4d9221"
            ],
            [
             1,
             "#276419"
            ]
           ],
           "sequential": [
            [
             0,
             "#0d0887"
            ],
            [
             0.1111111111111111,
             "#46039f"
            ],
            [
             0.2222222222222222,
             "#7201a8"
            ],
            [
             0.3333333333333333,
             "#9c179e"
            ],
            [
             0.4444444444444444,
             "#bd3786"
            ],
            [
             0.5555555555555556,
             "#d8576b"
            ],
            [
             0.6666666666666666,
             "#ed7953"
            ],
            [
             0.7777777777777778,
             "#fb9f3a"
            ],
            [
             0.8888888888888888,
             "#fdca26"
            ],
            [
             1,
             "#f0f921"
            ]
           ],
           "sequentialminus": [
            [
             0,
             "#0d0887"
            ],
            [
             0.1111111111111111,
             "#46039f"
            ],
            [
             0.2222222222222222,
             "#7201a8"
            ],
            [
             0.3333333333333333,
             "#9c179e"
            ],
            [
             0.4444444444444444,
             "#bd3786"
            ],
            [
             0.5555555555555556,
             "#d8576b"
            ],
            [
             0.6666666666666666,
             "#ed7953"
            ],
            [
             0.7777777777777778,
             "#fb9f3a"
            ],
            [
             0.8888888888888888,
             "#fdca26"
            ],
            [
             1,
             "#f0f921"
            ]
           ]
          },
          "colorway": [
           "#636efa",
           "#EF553B",
           "#00cc96",
           "#ab63fa",
           "#FFA15A",
           "#19d3f3",
           "#FF6692",
           "#B6E880",
           "#FF97FF",
           "#FECB52"
          ],
          "font": {
           "color": "#2a3f5f"
          },
          "geo": {
           "bgcolor": "white",
           "lakecolor": "white",
           "landcolor": "#E5ECF6",
           "showlakes": true,
           "showland": true,
           "subunitcolor": "white"
          },
          "hoverlabel": {
           "align": "left"
          },
          "hovermode": "closest",
          "mapbox": {
           "style": "light"
          },
          "paper_bgcolor": "white",
          "plot_bgcolor": "#E5ECF6",
          "polar": {
           "angularaxis": {
            "gridcolor": "white",
            "linecolor": "white",
            "ticks": ""
           },
           "bgcolor": "#E5ECF6",
           "radialaxis": {
            "gridcolor": "white",
            "linecolor": "white",
            "ticks": ""
           }
          },
          "scene": {
           "xaxis": {
            "backgroundcolor": "#E5ECF6",
            "gridcolor": "white",
            "gridwidth": 2,
            "linecolor": "white",
            "showbackground": true,
            "ticks": "",
            "zerolinecolor": "white"
           },
           "yaxis": {
            "backgroundcolor": "#E5ECF6",
            "gridcolor": "white",
            "gridwidth": 2,
            "linecolor": "white",
            "showbackground": true,
            "ticks": "",
            "zerolinecolor": "white"
           },
           "zaxis": {
            "backgroundcolor": "#E5ECF6",
            "gridcolor": "white",
            "gridwidth": 2,
            "linecolor": "white",
            "showbackground": true,
            "ticks": "",
            "zerolinecolor": "white"
           }
          },
          "shapedefaults": {
           "line": {
            "color": "#2a3f5f"
           }
          },
          "ternary": {
           "aaxis": {
            "gridcolor": "white",
            "linecolor": "white",
            "ticks": ""
           },
           "baxis": {
            "gridcolor": "white",
            "linecolor": "white",
            "ticks": ""
           },
           "bgcolor": "#E5ECF6",
           "caxis": {
            "gridcolor": "white",
            "linecolor": "white",
            "ticks": ""
           }
          },
          "title": {
           "x": 0.05
          },
          "xaxis": {
           "automargin": true,
           "gridcolor": "white",
           "linecolor": "white",
           "ticks": "",
           "title": {
            "standoff": 15
           },
           "zerolinecolor": "white",
           "zerolinewidth": 2
          },
          "yaxis": {
           "automargin": true,
           "gridcolor": "white",
           "linecolor": "white",
           "ticks": "",
           "title": {
            "standoff": 15
           },
           "zerolinecolor": "white",
           "zerolinewidth": 2
          }
         }
        },
        "title": {
         "text": "Bullet Chart"
        },
        "width": 800,
        "xaxis": {
         "anchor": "y",
         "domain": [
          0.4,
          0.6
         ],
         "range": [
          0,
          1
         ],
         "showgrid": false,
         "showticklabels": false,
         "ticks": "outside",
         "zeroline": false
        },
        "yaxis": {
         "anchor": "x",
         "domain": [
          0,
          1
         ],
         "layer": "below traces",
         "showgrid": false,
         "tickmode": "array",
         "ticktext": [
          "+1.5°",
          "",
          "+2°C",
          "",
          "+4°C",
          ""
         ],
         "tickvals": [
          1,
          2,
          3,
          4,
          5,
          6
         ],
         "tickwidth": 1,
         "zeroline": false
        }
       }
      },
      "text/html": [
       "<div>                            <div id=\"8ecc6b5a-1e09-4f84-aeff-2d00eb362d05\" class=\"plotly-graph-div\" style=\"height:600px; width:800px;\"></div>            <script type=\"text/javascript\">                require([\"plotly\"], function(Plotly) {                    window.PLOTLYENV=window.PLOTLYENV || {};                                    if (document.getElementById(\"8ecc6b5a-1e09-4f84-aeff-2d00eb362d05\")) {                    Plotly.newPlot(                        \"8ecc6b5a-1e09-4f84-aeff-2d00eb362d05\",                        [{\"base\":0,\"hoverinfo\":\"y\",\"marker\":{\"color\":\"#820000\"},\"name\":\"measures\",\"orientation\":\"v\",\"type\":\"bar\",\"width\":0.4,\"x\":[0.5],\"xaxis\":\"x\",\"y\":[6],\"yaxis\":\"y\"},{\"base\":0,\"hoverinfo\":\"y\",\"marker\":{\"color\":\"#C00000\"},\"name\":\"measures\",\"orientation\":\"v\",\"type\":\"bar\",\"width\":0.4,\"x\":[0.5],\"xaxis\":\"x\",\"y\":[5],\"yaxis\":\"y\"},{\"base\":0,\"hoverinfo\":\"y\",\"marker\":{\"color\":\"#FF8939\"},\"name\":\"measures\",\"orientation\":\"v\",\"type\":\"bar\",\"width\":0.4,\"x\":[0.5],\"xaxis\":\"x\",\"y\":[4],\"yaxis\":\"y\"},{\"base\":0,\"hoverinfo\":\"y\",\"marker\":{\"color\":\"#FEC800\"},\"name\":\"measures\",\"orientation\":\"v\",\"type\":\"bar\",\"width\":0.4,\"x\":[0.5],\"xaxis\":\"x\",\"y\":[3],\"yaxis\":\"y\"},{\"base\":0,\"hoverinfo\":\"y\",\"marker\":{\"color\":\"#8CDF41\"},\"name\":\"measures\",\"orientation\":\"v\",\"type\":\"bar\",\"width\":0.4,\"x\":[0.5],\"xaxis\":\"x\",\"y\":[2],\"yaxis\":\"y\"},{\"base\":0,\"hoverinfo\":\"y\",\"marker\":{\"color\":\"#0DB800\"},\"name\":\"measures\",\"orientation\":\"v\",\"type\":\"bar\",\"width\":0.4,\"x\":[0.5],\"xaxis\":\"x\",\"y\":[1],\"yaxis\":\"y\"},{\"hoverinfo\":\"y\",\"marker\":{\"color\":\"rgb(0, 0, 0)\",\"size\":12,\"symbol\":\"diamond-tall\"},\"name\":\"markers\",\"type\":\"scatter\",\"x\":[0.5],\"xaxis\":\"x\",\"y\":[],\"yaxis\":\"y\"},{\"hovertemplate\":\"Accomplishment\",\"marker\":{\"color\":\"green\",\"size\":20,\"symbol\":\"arrow-right\"},\"name\":\"Accomplishment\",\"showlegend\":false,\"type\":\"scatter\",\"x\":[0.25],\"xaxis\":\"x\",\"y\":[1],\"yaxis\":\"y\"},{\"hovertemplate\":\"Engagement\",\"marker\":{\"color\":\"white\",\"line\":{\"color\":\"black\",\"width\":1},\"size\":20,\"symbol\":\"arrow-left\"},\"name\":\"Engagement\",\"showlegend\":false,\"type\":\"scatter\",\"x\":[0.75],\"xaxis\":\"x\",\"y\":[1],\"yaxis\":\"y\"}],                        {\"annotations\":[{\"font\":{\"color\":\"#0f0f0f\",\"size\":13},\"showarrow\":false,\"text\":\"<b></b>\",\"textangle\":0,\"x\":0.5,\"xanchor\":\"center\",\"xref\":\"paper\",\"y\":1.03,\"yanchor\":\"middle\",\"yref\":\"paper\"}],\"barmode\":\"stack\",\"height\":600,\"margin\":{\"l\":80},\"paper_bgcolor\":\"rgba(0,0,0,0)\",\"plot_bgcolor\":\"rgba(0,0,0,0)\",\"showlegend\":false,\"template\":{\"data\":{\"bar\":[{\"error_x\":{\"color\":\"#2a3f5f\"},\"error_y\":{\"color\":\"#2a3f5f\"},\"marker\":{\"line\":{\"color\":\"#E5ECF6\",\"width\":0.5},\"pattern\":{\"fillmode\":\"overlay\",\"size\":10,\"solidity\":0.2}},\"type\":\"bar\"}],\"barpolar\":[{\"marker\":{\"line\":{\"color\":\"#E5ECF6\",\"width\":0.5},\"pattern\":{\"fillmode\":\"overlay\",\"size\":10,\"solidity\":0.2}},\"type\":\"barpolar\"}],\"carpet\":[{\"aaxis\":{\"endlinecolor\":\"#2a3f5f\",\"gridcolor\":\"white\",\"linecolor\":\"white\",\"minorgridcolor\":\"white\",\"startlinecolor\":\"#2a3f5f\"},\"baxis\":{\"endlinecolor\":\"#2a3f5f\",\"gridcolor\":\"white\",\"linecolor\":\"white\",\"minorgridcolor\":\"white\",\"startlinecolor\":\"#2a3f5f\"},\"type\":\"carpet\"}],\"choropleth\":[{\"colorbar\":{\"outlinewidth\":0,\"ticks\":\"\"},\"type\":\"choropleth\"}],\"contour\":[{\"colorbar\":{\"outlinewidth\":0,\"ticks\":\"\"},\"colorscale\":[[0.0,\"#0d0887\"],[0.1111111111111111,\"#46039f\"],[0.2222222222222222,\"#7201a8\"],[0.3333333333333333,\"#9c179e\"],[0.4444444444444444,\"#bd3786\"],[0.5555555555555556,\"#d8576b\"],[0.6666666666666666,\"#ed7953\"],[0.7777777777777778,\"#fb9f3a\"],[0.8888888888888888,\"#fdca26\"],[1.0,\"#f0f921\"]],\"type\":\"contour\"}],\"contourcarpet\":[{\"colorbar\":{\"outlinewidth\":0,\"ticks\":\"\"},\"type\":\"contourcarpet\"}],\"heatmap\":[{\"colorbar\":{\"outlinewidth\":0,\"ticks\":\"\"},\"colorscale\":[[0.0,\"#0d0887\"],[0.1111111111111111,\"#46039f\"],[0.2222222222222222,\"#7201a8\"],[0.3333333333333333,\"#9c179e\"],[0.4444444444444444,\"#bd3786\"],[0.5555555555555556,\"#d8576b\"],[0.6666666666666666,\"#ed7953\"],[0.7777777777777778,\"#fb9f3a\"],[0.8888888888888888,\"#fdca26\"],[1.0,\"#f0f921\"]],\"type\":\"heatmap\"}],\"heatmapgl\":[{\"colorbar\":{\"outlinewidth\":0,\"ticks\":\"\"},\"colorscale\":[[0.0,\"#0d0887\"],[0.1111111111111111,\"#46039f\"],[0.2222222222222222,\"#7201a8\"],[0.3333333333333333,\"#9c179e\"],[0.4444444444444444,\"#bd3786\"],[0.5555555555555556,\"#d8576b\"],[0.6666666666666666,\"#ed7953\"],[0.7777777777777778,\"#fb9f3a\"],[0.8888888888888888,\"#fdca26\"],[1.0,\"#f0f921\"]],\"type\":\"heatmapgl\"}],\"histogram\":[{\"marker\":{\"pattern\":{\"fillmode\":\"overlay\",\"size\":10,\"solidity\":0.2}},\"type\":\"histogram\"}],\"histogram2d\":[{\"colorbar\":{\"outlinewidth\":0,\"ticks\":\"\"},\"colorscale\":[[0.0,\"#0d0887\"],[0.1111111111111111,\"#46039f\"],[0.2222222222222222,\"#7201a8\"],[0.3333333333333333,\"#9c179e\"],[0.4444444444444444,\"#bd3786\"],[0.5555555555555556,\"#d8576b\"],[0.6666666666666666,\"#ed7953\"],[0.7777777777777778,\"#fb9f3a\"],[0.8888888888888888,\"#fdca26\"],[1.0,\"#f0f921\"]],\"type\":\"histogram2d\"}],\"histogram2dcontour\":[{\"colorbar\":{\"outlinewidth\":0,\"ticks\":\"\"},\"colorscale\":[[0.0,\"#0d0887\"],[0.1111111111111111,\"#46039f\"],[0.2222222222222222,\"#7201a8\"],[0.3333333333333333,\"#9c179e\"],[0.4444444444444444,\"#bd3786\"],[0.5555555555555556,\"#d8576b\"],[0.6666666666666666,\"#ed7953\"],[0.7777777777777778,\"#fb9f3a\"],[0.8888888888888888,\"#fdca26\"],[1.0,\"#f0f921\"]],\"type\":\"histogram2dcontour\"}],\"mesh3d\":[{\"colorbar\":{\"outlinewidth\":0,\"ticks\":\"\"},\"type\":\"mesh3d\"}],\"parcoords\":[{\"line\":{\"colorbar\":{\"outlinewidth\":0,\"ticks\":\"\"}},\"type\":\"parcoords\"}],\"pie\":[{\"automargin\":true,\"type\":\"pie\"}],\"scatter\":[{\"marker\":{\"colorbar\":{\"outlinewidth\":0,\"ticks\":\"\"}},\"type\":\"scatter\"}],\"scatter3d\":[{\"line\":{\"colorbar\":{\"outlinewidth\":0,\"ticks\":\"\"}},\"marker\":{\"colorbar\":{\"outlinewidth\":0,\"ticks\":\"\"}},\"type\":\"scatter3d\"}],\"scattercarpet\":[{\"marker\":{\"colorbar\":{\"outlinewidth\":0,\"ticks\":\"\"}},\"type\":\"scattercarpet\"}],\"scattergeo\":[{\"marker\":{\"colorbar\":{\"outlinewidth\":0,\"ticks\":\"\"}},\"type\":\"scattergeo\"}],\"scattergl\":[{\"marker\":{\"colorbar\":{\"outlinewidth\":0,\"ticks\":\"\"}},\"type\":\"scattergl\"}],\"scattermapbox\":[{\"marker\":{\"colorbar\":{\"outlinewidth\":0,\"ticks\":\"\"}},\"type\":\"scattermapbox\"}],\"scatterpolar\":[{\"marker\":{\"colorbar\":{\"outlinewidth\":0,\"ticks\":\"\"}},\"type\":\"scatterpolar\"}],\"scatterpolargl\":[{\"marker\":{\"colorbar\":{\"outlinewidth\":0,\"ticks\":\"\"}},\"type\":\"scatterpolargl\"}],\"scatterternary\":[{\"marker\":{\"colorbar\":{\"outlinewidth\":0,\"ticks\":\"\"}},\"type\":\"scatterternary\"}],\"surface\":[{\"colorbar\":{\"outlinewidth\":0,\"ticks\":\"\"},\"colorscale\":[[0.0,\"#0d0887\"],[0.1111111111111111,\"#46039f\"],[0.2222222222222222,\"#7201a8\"],[0.3333333333333333,\"#9c179e\"],[0.4444444444444444,\"#bd3786\"],[0.5555555555555556,\"#d8576b\"],[0.6666666666666666,\"#ed7953\"],[0.7777777777777778,\"#fb9f3a\"],[0.8888888888888888,\"#fdca26\"],[1.0,\"#f0f921\"]],\"type\":\"surface\"}],\"table\":[{\"cells\":{\"fill\":{\"color\":\"#EBF0F8\"},\"line\":{\"color\":\"white\"}},\"header\":{\"fill\":{\"color\":\"#C8D4E3\"},\"line\":{\"color\":\"white\"}},\"type\":\"table\"}]},\"layout\":{\"annotationdefaults\":{\"arrowcolor\":\"#2a3f5f\",\"arrowhead\":0,\"arrowwidth\":1},\"autotypenumbers\":\"strict\",\"coloraxis\":{\"colorbar\":{\"outlinewidth\":0,\"ticks\":\"\"}},\"colorscale\":{\"diverging\":[[0,\"#8e0152\"],[0.1,\"#c51b7d\"],[0.2,\"#de77ae\"],[0.3,\"#f1b6da\"],[0.4,\"#fde0ef\"],[0.5,\"#f7f7f7\"],[0.6,\"#e6f5d0\"],[0.7,\"#b8e186\"],[0.8,\"#7fbc41\"],[0.9,\"#4d9221\"],[1,\"#276419\"]],\"sequential\":[[0.0,\"#0d0887\"],[0.1111111111111111,\"#46039f\"],[0.2222222222222222,\"#7201a8\"],[0.3333333333333333,\"#9c179e\"],[0.4444444444444444,\"#bd3786\"],[0.5555555555555556,\"#d8576b\"],[0.6666666666666666,\"#ed7953\"],[0.7777777777777778,\"#fb9f3a\"],[0.8888888888888888,\"#fdca26\"],[1.0,\"#f0f921\"]],\"sequentialminus\":[[0.0,\"#0d0887\"],[0.1111111111111111,\"#46039f\"],[0.2222222222222222,\"#7201a8\"],[0.3333333333333333,\"#9c179e\"],[0.4444444444444444,\"#bd3786\"],[0.5555555555555556,\"#d8576b\"],[0.6666666666666666,\"#ed7953\"],[0.7777777777777778,\"#fb9f3a\"],[0.8888888888888888,\"#fdca26\"],[1.0,\"#f0f921\"]]},\"colorway\":[\"#636efa\",\"#EF553B\",\"#00cc96\",\"#ab63fa\",\"#FFA15A\",\"#19d3f3\",\"#FF6692\",\"#B6E880\",\"#FF97FF\",\"#FECB52\"],\"font\":{\"color\":\"#2a3f5f\"},\"geo\":{\"bgcolor\":\"white\",\"lakecolor\":\"white\",\"landcolor\":\"#E5ECF6\",\"showlakes\":true,\"showland\":true,\"subunitcolor\":\"white\"},\"hoverlabel\":{\"align\":\"left\"},\"hovermode\":\"closest\",\"mapbox\":{\"style\":\"light\"},\"paper_bgcolor\":\"white\",\"plot_bgcolor\":\"#E5ECF6\",\"polar\":{\"angularaxis\":{\"gridcolor\":\"white\",\"linecolor\":\"white\",\"ticks\":\"\"},\"bgcolor\":\"#E5ECF6\",\"radialaxis\":{\"gridcolor\":\"white\",\"linecolor\":\"white\",\"ticks\":\"\"}},\"scene\":{\"xaxis\":{\"backgroundcolor\":\"#E5ECF6\",\"gridcolor\":\"white\",\"gridwidth\":2,\"linecolor\":\"white\",\"showbackground\":true,\"ticks\":\"\",\"zerolinecolor\":\"white\"},\"yaxis\":{\"backgroundcolor\":\"#E5ECF6\",\"gridcolor\":\"white\",\"gridwidth\":2,\"linecolor\":\"white\",\"showbackground\":true,\"ticks\":\"\",\"zerolinecolor\":\"white\"},\"zaxis\":{\"backgroundcolor\":\"#E5ECF6\",\"gridcolor\":\"white\",\"gridwidth\":2,\"linecolor\":\"white\",\"showbackground\":true,\"ticks\":\"\",\"zerolinecolor\":\"white\"}},\"shapedefaults\":{\"line\":{\"color\":\"#2a3f5f\"}},\"ternary\":{\"aaxis\":{\"gridcolor\":\"white\",\"linecolor\":\"white\",\"ticks\":\"\"},\"baxis\":{\"gridcolor\":\"white\",\"linecolor\":\"white\",\"ticks\":\"\"},\"bgcolor\":\"#E5ECF6\",\"caxis\":{\"gridcolor\":\"white\",\"linecolor\":\"white\",\"ticks\":\"\"}},\"title\":{\"x\":0.05},\"xaxis\":{\"automargin\":true,\"gridcolor\":\"white\",\"linecolor\":\"white\",\"ticks\":\"\",\"title\":{\"standoff\":15},\"zerolinecolor\":\"white\",\"zerolinewidth\":2},\"yaxis\":{\"automargin\":true,\"gridcolor\":\"white\",\"linecolor\":\"white\",\"ticks\":\"\",\"title\":{\"standoff\":15},\"zerolinecolor\":\"white\",\"zerolinewidth\":2}}},\"title\":{\"text\":\"Bullet Chart\"},\"width\":800,\"xaxis\":{\"anchor\":\"y\",\"domain\":[0.4,0.6],\"range\":[0,1],\"showgrid\":false,\"showticklabels\":false,\"ticks\":\"outside\",\"zeroline\":false},\"yaxis\":{\"anchor\":\"x\",\"domain\":[0.0,1.0],\"layer\":\"below traces\",\"showgrid\":false,\"tickmode\":\"array\",\"ticktext\":[\"+1.5\\u00b0\",\"\",\"+2\\u00b0C\",\"\",\"+4\\u00b0C\",\"\"],\"tickvals\":[1,2,3,4,5,6],\"tickwidth\":1,\"zeroline\":false}},                        {\"responsive\": true}                    ).then(function(){\n",
       "                            \n",
       "var gd = document.getElementById('8ecc6b5a-1e09-4f84-aeff-2d00eb362d05');\n",
       "var x = new MutationObserver(function (mutations, observer) {{\n",
       "        var display = window.getComputedStyle(gd).display;\n",
       "        if (!display || display === 'none') {{\n",
       "            console.log([gd, 'removed!']);\n",
       "            Plotly.purge(gd);\n",
       "            observer.disconnect();\n",
       "        }}\n",
       "}});\n",
       "\n",
       "// Listen for the removal of the full notebook cells\n",
       "var notebookContainer = gd.closest('#notebook-container');\n",
       "if (notebookContainer) {{\n",
       "    x.observe(notebookContainer, {childList: true});\n",
       "}}\n",
       "\n",
       "// Listen for the clearing of the current output cell\n",
       "var outputEl = gd.closest('.output');\n",
       "if (outputEl) {{\n",
       "    x.observe(outputEl, {childList: true});\n",
       "}}\n",
       "\n",
       "                        })                };                });            </script>        </div>"
      ]
     },
     "metadata": {},
     "output_type": "display_data"
    }
   ],
   "source": [
    "import plotly.figure_factory as ff\n",
    "import pandas as pd\n",
    "  \n",
    "  \n",
    "data = [      \n",
    "    {\"title\": \"\", \n",
    "     \"ranges\": [1, 7, 6], \n",
    "     \"measures\":[x for x in range(1,7)]\n",
    "     #\"markers\":[2.4]\n",
    "    }\n",
    "]\n",
    "  \n",
    "fig = ff.create_bullet(\n",
    "    data=data, \n",
    "    titles='title', \n",
    "    measures='measures',\n",
    "    orientation='v',\n",
    "    measure_colors=['rgb(14, 52, 75)', 'rgb(31, 141, 127)'],\n",
    "    width=800)\n",
    "\n",
    "fig.update_xaxes(ticks=\"outside\")\n",
    "\n",
    "fig.update_yaxes(layer=\"below traces\",\n",
    "                 tickmode = 'array',\n",
    "                 tickvals = [1, 2, 3, 4, 5, 6],\n",
    "                 ticktext = ['+1.5°', '', '+2°C','', '+4°C', ''])\n",
    "                             \n",
    "fig.update_layout(paper_bgcolor='rgba(0,0,0,0)', plot_bgcolor='rgba(0,0,0,0)')\n",
    "\n",
    "trace1 = go.Scatter(x=[0.25], y=[1],\n",
    "                    marker={'symbol':'arrow-right',\n",
    "                            'color':'green',\n",
    "                            'size':20\n",
    "                           },\n",
    "                    name='Accomplishment',\n",
    "                    xaxis='x1',\n",
    "                    yaxis='y1',\n",
    "                    hovertemplate =\n",
    "                    'Accomplishment',\n",
    "                    showlegend = False)\n",
    "                   \n",
    "trace2 = go.Scatter(x=[0.75], y=[1],\n",
    "                    marker={'symbol':'arrow-left',\n",
    "                            'color':'white',\n",
    "                            'line': {'color':'black', 'width':1},\n",
    "                            'size':20},\n",
    "                    name='Engagement',\n",
    "                    xaxis='x1',\n",
    "                    yaxis='y1',\n",
    "                    hovertemplate ='Engagement',\n",
    "                    showlegend = False)\n",
    "\n",
    "bar = [bar for bar in fig.data if bar.name == 'measures']\n",
    "\n",
    "# Set the color of the middle bar to blue\n",
    "colors = ['#820000',\n",
    "          '#C00000',\n",
    "          '#FF8939',\n",
    "          '#FEC800',\n",
    "          '#8CDF41',\n",
    "          '#0DB800']\n",
    "\n",
    "for i in range(len(bar)):\n",
    "    bar[i].marker.color = colors[i]\n",
    "\n",
    "fig.add_traces([trace1, trace2])\n",
    "  \n",
    "fig.show()"
   ]
  },
  {
   "cell_type": "code",
   "execution_count": 245,
   "id": "277938ca",
   "metadata": {},
   "outputs": [
    {
     "data": {
      "application/vnd.plotly.v1+json": {
       "config": {
        "plotlyServerURL": "https://plot.ly"
       },
       "data": [
        {
         "base": 0,
         "hoverinfo": "y",
         "marker": {
          "color": "#820000"
         },
         "name": "measures",
         "orientation": "v",
         "type": "bar",
         "width": 0.4,
         "x": [
          0.5
         ],
         "xaxis": "x",
         "y": [
          6
         ],
         "yaxis": "y"
        },
        {
         "base": 0,
         "hoverinfo": "y",
         "marker": {
          "color": "#C00000"
         },
         "name": "measures",
         "orientation": "v",
         "type": "bar",
         "width": 0.4,
         "x": [
          0.5
         ],
         "xaxis": "x",
         "y": [
          5
         ],
         "yaxis": "y"
        },
        {
         "base": 0,
         "hoverinfo": "y",
         "marker": {
          "color": "#FF8939"
         },
         "name": "measures",
         "orientation": "v",
         "type": "bar",
         "width": 0.4,
         "x": [
          0.5
         ],
         "xaxis": "x",
         "y": [
          4
         ],
         "yaxis": "y"
        },
        {
         "base": 0,
         "hoverinfo": "y",
         "marker": {
          "color": "#FEC800"
         },
         "name": "measures",
         "orientation": "v",
         "type": "bar",
         "width": 0.4,
         "x": [
          0.5
         ],
         "xaxis": "x",
         "y": [
          3
         ],
         "yaxis": "y"
        },
        {
         "base": 0,
         "hoverinfo": "y",
         "marker": {
          "color": "#8CDF41"
         },
         "name": "measures",
         "orientation": "v",
         "type": "bar",
         "width": 0.4,
         "x": [
          0.5
         ],
         "xaxis": "x",
         "y": [
          2
         ],
         "yaxis": "y"
        },
        {
         "base": 0,
         "hoverinfo": "y",
         "marker": {
          "color": "#0DB800"
         },
         "name": "measures",
         "orientation": "v",
         "type": "bar",
         "width": 0.4,
         "x": [
          0.5
         ],
         "xaxis": "x",
         "y": [
          1
         ],
         "yaxis": "y"
        },
        {
         "hoverinfo": "y",
         "marker": {
          "color": "rgb(0, 0, 0)",
          "size": 12,
          "symbol": "diamond-tall"
         },
         "name": "markers",
         "type": "scatter",
         "x": [
          0.5
         ],
         "xaxis": "x",
         "y": [],
         "yaxis": "y"
        },
        {
         "hovertemplate": "Accomplishment",
         "marker": {
          "color": "green",
          "size": 20,
          "symbol": "arrow-right"
         },
         "name": "Accomplishment",
         "showlegend": false,
         "type": "scatter",
         "x": [
          0.25
         ],
         "xaxis": "x",
         "y": [
          1
         ],
         "yaxis": "y"
        },
        {
         "hovertemplate": "Engagement",
         "marker": {
          "color": "white",
          "line": {
           "color": "black",
           "width": 1
          },
          "size": 20,
          "symbol": "arrow-left"
         },
         "name": "Engagement",
         "showlegend": false,
         "type": "scatter",
         "x": [
          0.75
         ],
         "xaxis": "x",
         "y": [
          1
         ],
         "yaxis": "y"
        }
       ],
       "layout": {
        "annotations": [
         {
          "font": {
           "color": "#0f0f0f",
           "size": 13
          },
          "showarrow": false,
          "text": "<b></b>",
          "textangle": 0,
          "x": 0.5,
          "xanchor": "center",
          "xref": "paper",
          "y": 1.03,
          "yanchor": "middle",
          "yref": "paper"
         }
        ],
        "barmode": "stack",
        "height": 600,
        "margin": {
         "l": 80
        },
        "paper_bgcolor": "rgba(0,0,0,0)",
        "plot_bgcolor": "rgba(0,0,0,0)",
        "showlegend": false,
        "template": {
         "data": {
          "bar": [
           {
            "error_x": {
             "color": "#2a3f5f"
            },
            "error_y": {
             "color": "#2a3f5f"
            },
            "marker": {
             "line": {
              "color": "#E5ECF6",
              "width": 0.5
             },
             "pattern": {
              "fillmode": "overlay",
              "size": 10,
              "solidity": 0.2
             }
            },
            "type": "bar"
           }
          ],
          "barpolar": [
           {
            "marker": {
             "line": {
              "color": "#E5ECF6",
              "width": 0.5
             },
             "pattern": {
              "fillmode": "overlay",
              "size": 10,
              "solidity": 0.2
             }
            },
            "type": "barpolar"
           }
          ],
          "carpet": [
           {
            "aaxis": {
             "endlinecolor": "#2a3f5f",
             "gridcolor": "white",
             "linecolor": "white",
             "minorgridcolor": "white",
             "startlinecolor": "#2a3f5f"
            },
            "baxis": {
             "endlinecolor": "#2a3f5f",
             "gridcolor": "white",
             "linecolor": "white",
             "minorgridcolor": "white",
             "startlinecolor": "#2a3f5f"
            },
            "type": "carpet"
           }
          ],
          "choropleth": [
           {
            "colorbar": {
             "outlinewidth": 0,
             "ticks": ""
            },
            "type": "choropleth"
           }
          ],
          "contour": [
           {
            "colorbar": {
             "outlinewidth": 0,
             "ticks": ""
            },
            "colorscale": [
             [
              0,
              "#0d0887"
             ],
             [
              0.1111111111111111,
              "#46039f"
             ],
             [
              0.2222222222222222,
              "#7201a8"
             ],
             [
              0.3333333333333333,
              "#9c179e"
             ],
             [
              0.4444444444444444,
              "#bd3786"
             ],
             [
              0.5555555555555556,
              "#d8576b"
             ],
             [
              0.6666666666666666,
              "#ed7953"
             ],
             [
              0.7777777777777778,
              "#fb9f3a"
             ],
             [
              0.8888888888888888,
              "#fdca26"
             ],
             [
              1,
              "#f0f921"
             ]
            ],
            "type": "contour"
           }
          ],
          "contourcarpet": [
           {
            "colorbar": {
             "outlinewidth": 0,
             "ticks": ""
            },
            "type": "contourcarpet"
           }
          ],
          "heatmap": [
           {
            "colorbar": {
             "outlinewidth": 0,
             "ticks": ""
            },
            "colorscale": [
             [
              0,
              "#0d0887"
             ],
             [
              0.1111111111111111,
              "#46039f"
             ],
             [
              0.2222222222222222,
              "#7201a8"
             ],
             [
              0.3333333333333333,
              "#9c179e"
             ],
             [
              0.4444444444444444,
              "#bd3786"
             ],
             [
              0.5555555555555556,
              "#d8576b"
             ],
             [
              0.6666666666666666,
              "#ed7953"
             ],
             [
              0.7777777777777778,
              "#fb9f3a"
             ],
             [
              0.8888888888888888,
              "#fdca26"
             ],
             [
              1,
              "#f0f921"
             ]
            ],
            "type": "heatmap"
           }
          ],
          "heatmapgl": [
           {
            "colorbar": {
             "outlinewidth": 0,
             "ticks": ""
            },
            "colorscale": [
             [
              0,
              "#0d0887"
             ],
             [
              0.1111111111111111,
              "#46039f"
             ],
             [
              0.2222222222222222,
              "#7201a8"
             ],
             [
              0.3333333333333333,
              "#9c179e"
             ],
             [
              0.4444444444444444,
              "#bd3786"
             ],
             [
              0.5555555555555556,
              "#d8576b"
             ],
             [
              0.6666666666666666,
              "#ed7953"
             ],
             [
              0.7777777777777778,
              "#fb9f3a"
             ],
             [
              0.8888888888888888,
              "#fdca26"
             ],
             [
              1,
              "#f0f921"
             ]
            ],
            "type": "heatmapgl"
           }
          ],
          "histogram": [
           {
            "marker": {
             "pattern": {
              "fillmode": "overlay",
              "size": 10,
              "solidity": 0.2
             }
            },
            "type": "histogram"
           }
          ],
          "histogram2d": [
           {
            "colorbar": {
             "outlinewidth": 0,
             "ticks": ""
            },
            "colorscale": [
             [
              0,
              "#0d0887"
             ],
             [
              0.1111111111111111,
              "#46039f"
             ],
             [
              0.2222222222222222,
              "#7201a8"
             ],
             [
              0.3333333333333333,
              "#9c179e"
             ],
             [
              0.4444444444444444,
              "#bd3786"
             ],
             [
              0.5555555555555556,
              "#d8576b"
             ],
             [
              0.6666666666666666,
              "#ed7953"
             ],
             [
              0.7777777777777778,
              "#fb9f3a"
             ],
             [
              0.8888888888888888,
              "#fdca26"
             ],
             [
              1,
              "#f0f921"
             ]
            ],
            "type": "histogram2d"
           }
          ],
          "histogram2dcontour": [
           {
            "colorbar": {
             "outlinewidth": 0,
             "ticks": ""
            },
            "colorscale": [
             [
              0,
              "#0d0887"
             ],
             [
              0.1111111111111111,
              "#46039f"
             ],
             [
              0.2222222222222222,
              "#7201a8"
             ],
             [
              0.3333333333333333,
              "#9c179e"
             ],
             [
              0.4444444444444444,
              "#bd3786"
             ],
             [
              0.5555555555555556,
              "#d8576b"
             ],
             [
              0.6666666666666666,
              "#ed7953"
             ],
             [
              0.7777777777777778,
              "#fb9f3a"
             ],
             [
              0.8888888888888888,
              "#fdca26"
             ],
             [
              1,
              "#f0f921"
             ]
            ],
            "type": "histogram2dcontour"
           }
          ],
          "mesh3d": [
           {
            "colorbar": {
             "outlinewidth": 0,
             "ticks": ""
            },
            "type": "mesh3d"
           }
          ],
          "parcoords": [
           {
            "line": {
             "colorbar": {
              "outlinewidth": 0,
              "ticks": ""
             }
            },
            "type": "parcoords"
           }
          ],
          "pie": [
           {
            "automargin": true,
            "type": "pie"
           }
          ],
          "scatter": [
           {
            "marker": {
             "colorbar": {
              "outlinewidth": 0,
              "ticks": ""
             }
            },
            "type": "scatter"
           }
          ],
          "scatter3d": [
           {
            "line": {
             "colorbar": {
              "outlinewidth": 0,
              "ticks": ""
             }
            },
            "marker": {
             "colorbar": {
              "outlinewidth": 0,
              "ticks": ""
             }
            },
            "type": "scatter3d"
           }
          ],
          "scattercarpet": [
           {
            "marker": {
             "colorbar": {
              "outlinewidth": 0,
              "ticks": ""
             }
            },
            "type": "scattercarpet"
           }
          ],
          "scattergeo": [
           {
            "marker": {
             "colorbar": {
              "outlinewidth": 0,
              "ticks": ""
             }
            },
            "type": "scattergeo"
           }
          ],
          "scattergl": [
           {
            "marker": {
             "colorbar": {
              "outlinewidth": 0,
              "ticks": ""
             }
            },
            "type": "scattergl"
           }
          ],
          "scattermapbox": [
           {
            "marker": {
             "colorbar": {
              "outlinewidth": 0,
              "ticks": ""
             }
            },
            "type": "scattermapbox"
           }
          ],
          "scatterpolar": [
           {
            "marker": {
             "colorbar": {
              "outlinewidth": 0,
              "ticks": ""
             }
            },
            "type": "scatterpolar"
           }
          ],
          "scatterpolargl": [
           {
            "marker": {
             "colorbar": {
              "outlinewidth": 0,
              "ticks": ""
             }
            },
            "type": "scatterpolargl"
           }
          ],
          "scatterternary": [
           {
            "marker": {
             "colorbar": {
              "outlinewidth": 0,
              "ticks": ""
             }
            },
            "type": "scatterternary"
           }
          ],
          "surface": [
           {
            "colorbar": {
             "outlinewidth": 0,
             "ticks": ""
            },
            "colorscale": [
             [
              0,
              "#0d0887"
             ],
             [
              0.1111111111111111,
              "#46039f"
             ],
             [
              0.2222222222222222,
              "#7201a8"
             ],
             [
              0.3333333333333333,
              "#9c179e"
             ],
             [
              0.4444444444444444,
              "#bd3786"
             ],
             [
              0.5555555555555556,
              "#d8576b"
             ],
             [
              0.6666666666666666,
              "#ed7953"
             ],
             [
              0.7777777777777778,
              "#fb9f3a"
             ],
             [
              0.8888888888888888,
              "#fdca26"
             ],
             [
              1,
              "#f0f921"
             ]
            ],
            "type": "surface"
           }
          ],
          "table": [
           {
            "cells": {
             "fill": {
              "color": "#EBF0F8"
             },
             "line": {
              "color": "white"
             }
            },
            "header": {
             "fill": {
              "color": "#C8D4E3"
             },
             "line": {
              "color": "white"
             }
            },
            "type": "table"
           }
          ]
         },
         "layout": {
          "annotationdefaults": {
           "arrowcolor": "#2a3f5f",
           "arrowhead": 0,
           "arrowwidth": 1
          },
          "autotypenumbers": "strict",
          "coloraxis": {
           "colorbar": {
            "outlinewidth": 0,
            "ticks": ""
           }
          },
          "colorscale": {
           "diverging": [
            [
             0,
             "#8e0152"
            ],
            [
             0.1,
             "#c51b7d"
            ],
            [
             0.2,
             "#de77ae"
            ],
            [
             0.3,
             "#f1b6da"
            ],
            [
             0.4,
             "#fde0ef"
            ],
            [
             0.5,
             "#f7f7f7"
            ],
            [
             0.6,
             "#e6f5d0"
            ],
            [
             0.7,
             "#b8e186"
            ],
            [
             0.8,
             "#7fbc41"
            ],
            [
             0.9,
             "#4d9221"
            ],
            [
             1,
             "#276419"
            ]
           ],
           "sequential": [
            [
             0,
             "#0d0887"
            ],
            [
             0.1111111111111111,
             "#46039f"
            ],
            [
             0.2222222222222222,
             "#7201a8"
            ],
            [
             0.3333333333333333,
             "#9c179e"
            ],
            [
             0.4444444444444444,
             "#bd3786"
            ],
            [
             0.5555555555555556,
             "#d8576b"
            ],
            [
             0.6666666666666666,
             "#ed7953"
            ],
            [
             0.7777777777777778,
             "#fb9f3a"
            ],
            [
             0.8888888888888888,
             "#fdca26"
            ],
            [
             1,
             "#f0f921"
            ]
           ],
           "sequentialminus": [
            [
             0,
             "#0d0887"
            ],
            [
             0.1111111111111111,
             "#46039f"
            ],
            [
             0.2222222222222222,
             "#7201a8"
            ],
            [
             0.3333333333333333,
             "#9c179e"
            ],
            [
             0.4444444444444444,
             "#bd3786"
            ],
            [
             0.5555555555555556,
             "#d8576b"
            ],
            [
             0.6666666666666666,
             "#ed7953"
            ],
            [
             0.7777777777777778,
             "#fb9f3a"
            ],
            [
             0.8888888888888888,
             "#fdca26"
            ],
            [
             1,
             "#f0f921"
            ]
           ]
          },
          "colorway": [
           "#636efa",
           "#EF553B",
           "#00cc96",
           "#ab63fa",
           "#FFA15A",
           "#19d3f3",
           "#FF6692",
           "#B6E880",
           "#FF97FF",
           "#FECB52"
          ],
          "font": {
           "color": "#2a3f5f"
          },
          "geo": {
           "bgcolor": "white",
           "lakecolor": "white",
           "landcolor": "#E5ECF6",
           "showlakes": true,
           "showland": true,
           "subunitcolor": "white"
          },
          "hoverlabel": {
           "align": "left"
          },
          "hovermode": "closest",
          "mapbox": {
           "style": "light"
          },
          "paper_bgcolor": "white",
          "plot_bgcolor": "#E5ECF6",
          "polar": {
           "angularaxis": {
            "gridcolor": "white",
            "linecolor": "white",
            "ticks": ""
           },
           "bgcolor": "#E5ECF6",
           "radialaxis": {
            "gridcolor": "white",
            "linecolor": "white",
            "ticks": ""
           }
          },
          "scene": {
           "xaxis": {
            "backgroundcolor": "#E5ECF6",
            "gridcolor": "white",
            "gridwidth": 2,
            "linecolor": "white",
            "showbackground": true,
            "ticks": "",
            "zerolinecolor": "white"
           },
           "yaxis": {
            "backgroundcolor": "#E5ECF6",
            "gridcolor": "white",
            "gridwidth": 2,
            "linecolor": "white",
            "showbackground": true,
            "ticks": "",
            "zerolinecolor": "white"
           },
           "zaxis": {
            "backgroundcolor": "#E5ECF6",
            "gridcolor": "white",
            "gridwidth": 2,
            "linecolor": "white",
            "showbackground": true,
            "ticks": "",
            "zerolinecolor": "white"
           }
          },
          "shapedefaults": {
           "line": {
            "color": "#2a3f5f"
           }
          },
          "ternary": {
           "aaxis": {
            "gridcolor": "white",
            "linecolor": "white",
            "ticks": ""
           },
           "baxis": {
            "gridcolor": "white",
            "linecolor": "white",
            "ticks": ""
           },
           "bgcolor": "#E5ECF6",
           "caxis": {
            "gridcolor": "white",
            "linecolor": "white",
            "ticks": ""
           }
          },
          "title": {
           "x": 0.05
          },
          "xaxis": {
           "automargin": true,
           "gridcolor": "white",
           "linecolor": "white",
           "ticks": "",
           "title": {
            "standoff": 15
           },
           "zerolinecolor": "white",
           "zerolinewidth": 2
          },
          "yaxis": {
           "automargin": true,
           "gridcolor": "white",
           "linecolor": "white",
           "ticks": "",
           "title": {
            "standoff": 15
           },
           "zerolinecolor": "white",
           "zerolinewidth": 2
          }
         }
        },
        "title": {
         "text": "Bullet Chart"
        },
        "width": 800,
        "xaxis": {
         "anchor": "y",
         "domain": [
          0.4,
          0.6
         ],
         "range": [
          0,
          1
         ],
         "showgrid": false,
         "showticklabels": false,
         "ticks": "outside",
         "zeroline": false
        },
        "yaxis": {
         "anchor": "x",
         "domain": [
          0,
          1
         ],
         "layer": "below traces",
         "showgrid": false,
         "tickmode": "array",
         "ticktext": [
          "+1.5°",
          "",
          "+2°C",
          "",
          "+4°C",
          ""
         ],
         "tickvals": [
          1,
          2,
          3,
          4,
          5,
          6
         ],
         "tickwidth": 1,
         "zeroline": false
        }
       }
      },
      "text/html": [
       "<div>                            <div id=\"2650018a-d36d-4274-98be-ea596fd37eb3\" class=\"plotly-graph-div\" style=\"height:600px; width:800px;\"></div>            <script type=\"text/javascript\">                require([\"plotly\"], function(Plotly) {                    window.PLOTLYENV=window.PLOTLYENV || {};                                    if (document.getElementById(\"2650018a-d36d-4274-98be-ea596fd37eb3\")) {                    Plotly.newPlot(                        \"2650018a-d36d-4274-98be-ea596fd37eb3\",                        [{\"base\":0,\"hoverinfo\":\"y\",\"marker\":{\"color\":\"#820000\"},\"name\":\"measures\",\"orientation\":\"v\",\"type\":\"bar\",\"width\":0.4,\"x\":[0.5],\"xaxis\":\"x\",\"y\":[6],\"yaxis\":\"y\"},{\"base\":0,\"hoverinfo\":\"y\",\"marker\":{\"color\":\"#C00000\"},\"name\":\"measures\",\"orientation\":\"v\",\"type\":\"bar\",\"width\":0.4,\"x\":[0.5],\"xaxis\":\"x\",\"y\":[5],\"yaxis\":\"y\"},{\"base\":0,\"hoverinfo\":\"y\",\"marker\":{\"color\":\"#FF8939\"},\"name\":\"measures\",\"orientation\":\"v\",\"type\":\"bar\",\"width\":0.4,\"x\":[0.5],\"xaxis\":\"x\",\"y\":[4],\"yaxis\":\"y\"},{\"base\":0,\"hoverinfo\":\"y\",\"marker\":{\"color\":\"#FEC800\"},\"name\":\"measures\",\"orientation\":\"v\",\"type\":\"bar\",\"width\":0.4,\"x\":[0.5],\"xaxis\":\"x\",\"y\":[3],\"yaxis\":\"y\"},{\"base\":0,\"hoverinfo\":\"y\",\"marker\":{\"color\":\"#8CDF41\"},\"name\":\"measures\",\"orientation\":\"v\",\"type\":\"bar\",\"width\":0.4,\"x\":[0.5],\"xaxis\":\"x\",\"y\":[2],\"yaxis\":\"y\"},{\"base\":0,\"hoverinfo\":\"y\",\"marker\":{\"color\":\"#0DB800\"},\"name\":\"measures\",\"orientation\":\"v\",\"type\":\"bar\",\"width\":0.4,\"x\":[0.5],\"xaxis\":\"x\",\"y\":[1],\"yaxis\":\"y\"},{\"hoverinfo\":\"y\",\"marker\":{\"color\":\"rgb(0, 0, 0)\",\"size\":12,\"symbol\":\"diamond-tall\"},\"name\":\"markers\",\"type\":\"scatter\",\"x\":[0.5],\"xaxis\":\"x\",\"y\":[],\"yaxis\":\"y\"},{\"hovertemplate\":\"Accomplishment\",\"marker\":{\"color\":\"green\",\"size\":20,\"symbol\":\"arrow-right\"},\"name\":\"Accomplishment\",\"showlegend\":false,\"type\":\"scatter\",\"x\":[0.25],\"xaxis\":\"x\",\"y\":[1],\"yaxis\":\"y\"},{\"hovertemplate\":\"Engagement\",\"marker\":{\"color\":\"white\",\"line\":{\"color\":\"black\",\"width\":1},\"size\":20,\"symbol\":\"arrow-left\"},\"name\":\"Engagement\",\"showlegend\":false,\"type\":\"scatter\",\"x\":[0.75],\"xaxis\":\"x\",\"y\":[1],\"yaxis\":\"y\"}],                        {\"annotations\":[{\"font\":{\"color\":\"#0f0f0f\",\"size\":13},\"showarrow\":false,\"text\":\"<b></b>\",\"textangle\":0,\"x\":0.5,\"xanchor\":\"center\",\"xref\":\"paper\",\"y\":1.03,\"yanchor\":\"middle\",\"yref\":\"paper\"}],\"barmode\":\"stack\",\"height\":600,\"margin\":{\"l\":80},\"paper_bgcolor\":\"rgba(0,0,0,0)\",\"plot_bgcolor\":\"rgba(0,0,0,0)\",\"showlegend\":false,\"template\":{\"data\":{\"bar\":[{\"error_x\":{\"color\":\"#2a3f5f\"},\"error_y\":{\"color\":\"#2a3f5f\"},\"marker\":{\"line\":{\"color\":\"#E5ECF6\",\"width\":0.5},\"pattern\":{\"fillmode\":\"overlay\",\"size\":10,\"solidity\":0.2}},\"type\":\"bar\"}],\"barpolar\":[{\"marker\":{\"line\":{\"color\":\"#E5ECF6\",\"width\":0.5},\"pattern\":{\"fillmode\":\"overlay\",\"size\":10,\"solidity\":0.2}},\"type\":\"barpolar\"}],\"carpet\":[{\"aaxis\":{\"endlinecolor\":\"#2a3f5f\",\"gridcolor\":\"white\",\"linecolor\":\"white\",\"minorgridcolor\":\"white\",\"startlinecolor\":\"#2a3f5f\"},\"baxis\":{\"endlinecolor\":\"#2a3f5f\",\"gridcolor\":\"white\",\"linecolor\":\"white\",\"minorgridcolor\":\"white\",\"startlinecolor\":\"#2a3f5f\"},\"type\":\"carpet\"}],\"choropleth\":[{\"colorbar\":{\"outlinewidth\":0,\"ticks\":\"\"},\"type\":\"choropleth\"}],\"contour\":[{\"colorbar\":{\"outlinewidth\":0,\"ticks\":\"\"},\"colorscale\":[[0.0,\"#0d0887\"],[0.1111111111111111,\"#46039f\"],[0.2222222222222222,\"#7201a8\"],[0.3333333333333333,\"#9c179e\"],[0.4444444444444444,\"#bd3786\"],[0.5555555555555556,\"#d8576b\"],[0.6666666666666666,\"#ed7953\"],[0.7777777777777778,\"#fb9f3a\"],[0.8888888888888888,\"#fdca26\"],[1.0,\"#f0f921\"]],\"type\":\"contour\"}],\"contourcarpet\":[{\"colorbar\":{\"outlinewidth\":0,\"ticks\":\"\"},\"type\":\"contourcarpet\"}],\"heatmap\":[{\"colorbar\":{\"outlinewidth\":0,\"ticks\":\"\"},\"colorscale\":[[0.0,\"#0d0887\"],[0.1111111111111111,\"#46039f\"],[0.2222222222222222,\"#7201a8\"],[0.3333333333333333,\"#9c179e\"],[0.4444444444444444,\"#bd3786\"],[0.5555555555555556,\"#d8576b\"],[0.6666666666666666,\"#ed7953\"],[0.7777777777777778,\"#fb9f3a\"],[0.8888888888888888,\"#fdca26\"],[1.0,\"#f0f921\"]],\"type\":\"heatmap\"}],\"heatmapgl\":[{\"colorbar\":{\"outlinewidth\":0,\"ticks\":\"\"},\"colorscale\":[[0.0,\"#0d0887\"],[0.1111111111111111,\"#46039f\"],[0.2222222222222222,\"#7201a8\"],[0.3333333333333333,\"#9c179e\"],[0.4444444444444444,\"#bd3786\"],[0.5555555555555556,\"#d8576b\"],[0.6666666666666666,\"#ed7953\"],[0.7777777777777778,\"#fb9f3a\"],[0.8888888888888888,\"#fdca26\"],[1.0,\"#f0f921\"]],\"type\":\"heatmapgl\"}],\"histogram\":[{\"marker\":{\"pattern\":{\"fillmode\":\"overlay\",\"size\":10,\"solidity\":0.2}},\"type\":\"histogram\"}],\"histogram2d\":[{\"colorbar\":{\"outlinewidth\":0,\"ticks\":\"\"},\"colorscale\":[[0.0,\"#0d0887\"],[0.1111111111111111,\"#46039f\"],[0.2222222222222222,\"#7201a8\"],[0.3333333333333333,\"#9c179e\"],[0.4444444444444444,\"#bd3786\"],[0.5555555555555556,\"#d8576b\"],[0.6666666666666666,\"#ed7953\"],[0.7777777777777778,\"#fb9f3a\"],[0.8888888888888888,\"#fdca26\"],[1.0,\"#f0f921\"]],\"type\":\"histogram2d\"}],\"histogram2dcontour\":[{\"colorbar\":{\"outlinewidth\":0,\"ticks\":\"\"},\"colorscale\":[[0.0,\"#0d0887\"],[0.1111111111111111,\"#46039f\"],[0.2222222222222222,\"#7201a8\"],[0.3333333333333333,\"#9c179e\"],[0.4444444444444444,\"#bd3786\"],[0.5555555555555556,\"#d8576b\"],[0.6666666666666666,\"#ed7953\"],[0.7777777777777778,\"#fb9f3a\"],[0.8888888888888888,\"#fdca26\"],[1.0,\"#f0f921\"]],\"type\":\"histogram2dcontour\"}],\"mesh3d\":[{\"colorbar\":{\"outlinewidth\":0,\"ticks\":\"\"},\"type\":\"mesh3d\"}],\"parcoords\":[{\"line\":{\"colorbar\":{\"outlinewidth\":0,\"ticks\":\"\"}},\"type\":\"parcoords\"}],\"pie\":[{\"automargin\":true,\"type\":\"pie\"}],\"scatter\":[{\"marker\":{\"colorbar\":{\"outlinewidth\":0,\"ticks\":\"\"}},\"type\":\"scatter\"}],\"scatter3d\":[{\"line\":{\"colorbar\":{\"outlinewidth\":0,\"ticks\":\"\"}},\"marker\":{\"colorbar\":{\"outlinewidth\":0,\"ticks\":\"\"}},\"type\":\"scatter3d\"}],\"scattercarpet\":[{\"marker\":{\"colorbar\":{\"outlinewidth\":0,\"ticks\":\"\"}},\"type\":\"scattercarpet\"}],\"scattergeo\":[{\"marker\":{\"colorbar\":{\"outlinewidth\":0,\"ticks\":\"\"}},\"type\":\"scattergeo\"}],\"scattergl\":[{\"marker\":{\"colorbar\":{\"outlinewidth\":0,\"ticks\":\"\"}},\"type\":\"scattergl\"}],\"scattermapbox\":[{\"marker\":{\"colorbar\":{\"outlinewidth\":0,\"ticks\":\"\"}},\"type\":\"scattermapbox\"}],\"scatterpolar\":[{\"marker\":{\"colorbar\":{\"outlinewidth\":0,\"ticks\":\"\"}},\"type\":\"scatterpolar\"}],\"scatterpolargl\":[{\"marker\":{\"colorbar\":{\"outlinewidth\":0,\"ticks\":\"\"}},\"type\":\"scatterpolargl\"}],\"scatterternary\":[{\"marker\":{\"colorbar\":{\"outlinewidth\":0,\"ticks\":\"\"}},\"type\":\"scatterternary\"}],\"surface\":[{\"colorbar\":{\"outlinewidth\":0,\"ticks\":\"\"},\"colorscale\":[[0.0,\"#0d0887\"],[0.1111111111111111,\"#46039f\"],[0.2222222222222222,\"#7201a8\"],[0.3333333333333333,\"#9c179e\"],[0.4444444444444444,\"#bd3786\"],[0.5555555555555556,\"#d8576b\"],[0.6666666666666666,\"#ed7953\"],[0.7777777777777778,\"#fb9f3a\"],[0.8888888888888888,\"#fdca26\"],[1.0,\"#f0f921\"]],\"type\":\"surface\"}],\"table\":[{\"cells\":{\"fill\":{\"color\":\"#EBF0F8\"},\"line\":{\"color\":\"white\"}},\"header\":{\"fill\":{\"color\":\"#C8D4E3\"},\"line\":{\"color\":\"white\"}},\"type\":\"table\"}]},\"layout\":{\"annotationdefaults\":{\"arrowcolor\":\"#2a3f5f\",\"arrowhead\":0,\"arrowwidth\":1},\"autotypenumbers\":\"strict\",\"coloraxis\":{\"colorbar\":{\"outlinewidth\":0,\"ticks\":\"\"}},\"colorscale\":{\"diverging\":[[0,\"#8e0152\"],[0.1,\"#c51b7d\"],[0.2,\"#de77ae\"],[0.3,\"#f1b6da\"],[0.4,\"#fde0ef\"],[0.5,\"#f7f7f7\"],[0.6,\"#e6f5d0\"],[0.7,\"#b8e186\"],[0.8,\"#7fbc41\"],[0.9,\"#4d9221\"],[1,\"#276419\"]],\"sequential\":[[0.0,\"#0d0887\"],[0.1111111111111111,\"#46039f\"],[0.2222222222222222,\"#7201a8\"],[0.3333333333333333,\"#9c179e\"],[0.4444444444444444,\"#bd3786\"],[0.5555555555555556,\"#d8576b\"],[0.6666666666666666,\"#ed7953\"],[0.7777777777777778,\"#fb9f3a\"],[0.8888888888888888,\"#fdca26\"],[1.0,\"#f0f921\"]],\"sequentialminus\":[[0.0,\"#0d0887\"],[0.1111111111111111,\"#46039f\"],[0.2222222222222222,\"#7201a8\"],[0.3333333333333333,\"#9c179e\"],[0.4444444444444444,\"#bd3786\"],[0.5555555555555556,\"#d8576b\"],[0.6666666666666666,\"#ed7953\"],[0.7777777777777778,\"#fb9f3a\"],[0.8888888888888888,\"#fdca26\"],[1.0,\"#f0f921\"]]},\"colorway\":[\"#636efa\",\"#EF553B\",\"#00cc96\",\"#ab63fa\",\"#FFA15A\",\"#19d3f3\",\"#FF6692\",\"#B6E880\",\"#FF97FF\",\"#FECB52\"],\"font\":{\"color\":\"#2a3f5f\"},\"geo\":{\"bgcolor\":\"white\",\"lakecolor\":\"white\",\"landcolor\":\"#E5ECF6\",\"showlakes\":true,\"showland\":true,\"subunitcolor\":\"white\"},\"hoverlabel\":{\"align\":\"left\"},\"hovermode\":\"closest\",\"mapbox\":{\"style\":\"light\"},\"paper_bgcolor\":\"white\",\"plot_bgcolor\":\"#E5ECF6\",\"polar\":{\"angularaxis\":{\"gridcolor\":\"white\",\"linecolor\":\"white\",\"ticks\":\"\"},\"bgcolor\":\"#E5ECF6\",\"radialaxis\":{\"gridcolor\":\"white\",\"linecolor\":\"white\",\"ticks\":\"\"}},\"scene\":{\"xaxis\":{\"backgroundcolor\":\"#E5ECF6\",\"gridcolor\":\"white\",\"gridwidth\":2,\"linecolor\":\"white\",\"showbackground\":true,\"ticks\":\"\",\"zerolinecolor\":\"white\"},\"yaxis\":{\"backgroundcolor\":\"#E5ECF6\",\"gridcolor\":\"white\",\"gridwidth\":2,\"linecolor\":\"white\",\"showbackground\":true,\"ticks\":\"\",\"zerolinecolor\":\"white\"},\"zaxis\":{\"backgroundcolor\":\"#E5ECF6\",\"gridcolor\":\"white\",\"gridwidth\":2,\"linecolor\":\"white\",\"showbackground\":true,\"ticks\":\"\",\"zerolinecolor\":\"white\"}},\"shapedefaults\":{\"line\":{\"color\":\"#2a3f5f\"}},\"ternary\":{\"aaxis\":{\"gridcolor\":\"white\",\"linecolor\":\"white\",\"ticks\":\"\"},\"baxis\":{\"gridcolor\":\"white\",\"linecolor\":\"white\",\"ticks\":\"\"},\"bgcolor\":\"#E5ECF6\",\"caxis\":{\"gridcolor\":\"white\",\"linecolor\":\"white\",\"ticks\":\"\"}},\"title\":{\"x\":0.05},\"xaxis\":{\"automargin\":true,\"gridcolor\":\"white\",\"linecolor\":\"white\",\"ticks\":\"\",\"title\":{\"standoff\":15},\"zerolinecolor\":\"white\",\"zerolinewidth\":2},\"yaxis\":{\"automargin\":true,\"gridcolor\":\"white\",\"linecolor\":\"white\",\"ticks\":\"\",\"title\":{\"standoff\":15},\"zerolinecolor\":\"white\",\"zerolinewidth\":2}}},\"title\":{\"text\":\"Bullet Chart\"},\"width\":800,\"xaxis\":{\"anchor\":\"y\",\"domain\":[0.4,0.6],\"range\":[0,1],\"showgrid\":false,\"showticklabels\":false,\"ticks\":\"outside\",\"zeroline\":false},\"yaxis\":{\"anchor\":\"x\",\"domain\":[0.0,1.0],\"layer\":\"below traces\",\"showgrid\":false,\"tickmode\":\"array\",\"ticktext\":[\"+1.5\\u00b0\",\"\",\"+2\\u00b0C\",\"\",\"+4\\u00b0C\",\"\"],\"tickvals\":[1,2,3,4,5,6],\"tickwidth\":1,\"zeroline\":false}},                        {\"responsive\": true}                    ).then(function(){\n",
       "                            \n",
       "var gd = document.getElementById('2650018a-d36d-4274-98be-ea596fd37eb3');\n",
       "var x = new MutationObserver(function (mutations, observer) {{\n",
       "        var display = window.getComputedStyle(gd).display;\n",
       "        if (!display || display === 'none') {{\n",
       "            console.log([gd, 'removed!']);\n",
       "            Plotly.purge(gd);\n",
       "            observer.disconnect();\n",
       "        }}\n",
       "}});\n",
       "\n",
       "// Listen for the removal of the full notebook cells\n",
       "var notebookContainer = gd.closest('#notebook-container');\n",
       "if (notebookContainer) {{\n",
       "    x.observe(notebookContainer, {childList: true});\n",
       "}}\n",
       "\n",
       "// Listen for the clearing of the current output cell\n",
       "var outputEl = gd.closest('.output');\n",
       "if (outputEl) {{\n",
       "    x.observe(outputEl, {childList: true});\n",
       "}}\n",
       "\n",
       "                        })                };                });            </script>        </div>"
      ]
     },
     "metadata": {},
     "output_type": "display_data"
    }
   ],
   "source": [
    "color_bars = ['#820000',\n",
    "          '#C00000',\n",
    "          '#FF8939',\n",
    "          '#FEC800',\n",
    "          '#8CDF41',\n",
    "          '#0DB800']\n",
    "\n",
    "import plotly.figure_factory as ff\n",
    "import pandas as pd\n",
    "  \n",
    "  \n",
    "data = [      \n",
    "    {\"title\": \"\", \n",
    "     \"ranges\": [1, 7, 6], \n",
    "     \"measures\":[x for x in range(1,7)]\n",
    "     #\"markers\":[2.4]\n",
    "    }\n",
    "]\n",
    "  \n",
    "fig = ff.create_bullet(\n",
    "    data=data, \n",
    "    titles='title', \n",
    "    measures='measures',\n",
    "    orientation='v',\n",
    "    measure_colors=['rgb(14, 52, 75)', 'rgb(31, 141, 127)'],\n",
    "    width=800)\n",
    "\n",
    "fig.update_xaxes(ticks=\"outside\")\n",
    "\n",
    "fig.update_yaxes(layer=\"below traces\",\n",
    "                 tickmode = 'array',\n",
    "                 tickvals = [1, 2, 3, 4, 5, 6],\n",
    "                 ticktext = ['+1.5°', '', '+2°C','', '+4°C', ''])\n",
    "                             \n",
    "fig.update_layout(paper_bgcolor='rgba(0,0,0,0)', plot_bgcolor='rgba(0,0,0,0)')\n",
    "\n",
    "trace1 = go.Scatter(x=[0.25], y=[1],\n",
    "                    marker={'symbol':'arrow-right',\n",
    "                            'color':'green',\n",
    "                            'size':20\n",
    "                           },\n",
    "                    name='Accomplishment',\n",
    "                    xaxis='x1',\n",
    "                    yaxis='y1',\n",
    "                    hovertemplate =\n",
    "                    'Accomplishment',\n",
    "                    showlegend = False)\n",
    "                   \n",
    "trace2 = go.Scatter(x=[0.75], y=[1],\n",
    "                    marker={'symbol':'arrow-left',\n",
    "                            'color':'white',\n",
    "                            'line': {'color':'black', 'width':1},\n",
    "                            'size':20},\n",
    "                    name='Engagement',\n",
    "                    xaxis='x1',\n",
    "                    yaxis='y1',\n",
    "                    hovertemplate ='Engagement',\n",
    "                    showlegend = False)\n",
    "\n",
    "bar = [bar for bar in fig.data if bar.name == 'measures']\n",
    "\n",
    "\n",
    "for i in range(len(bar)):\n",
    "    bar[i].marker.color = color_bars[i]\n",
    "\n",
    "fig.add_traces([trace1, trace2])\n",
    "\n"
   ]
  },
  {
   "cell_type": "code",
   "execution_count": 252,
   "id": "61908a6e",
   "metadata": {},
   "outputs": [],
   "source": [
    "def build_bullet_gauge(engagement, accomplishment):\n",
    "    '''\n",
    "    Builds the custom Bullet Gauge for the dashboard.\n",
    "    Takes 2 values for the engagement & accomplishment from the selected_company\n",
    "    Returns the gauge with colors varying from green to dark red, with cursors on both sides representing:\n",
    "    - in white, on the right side: the engagement from the company, expressed as a score\n",
    "    - in color, on the left side: the actual accomplishments from the same company, expressed as a score\n",
    "    '''\n",
    "    \n",
    "    # Building custom bullet gauge\n",
    "    data = [      \n",
    "        {\"ranges\": [1, 7, 6], \n",
    "         \"measures\":[x for x in range(1,7)]\n",
    "        }\n",
    "    ]\n",
    "\n",
    "    fig = ff.create_bullet(\n",
    "        data=data, \n",
    "        measures='measures',\n",
    "        orientation='v',\n",
    "        measure_colors=['rgb(0,0,0)', 'rgb(0,0,0)'],\n",
    "        title=None,\n",
    "        width=800)\n",
    "\n",
    "\n",
    "    # Building left cursor: accomplishment\n",
    "    trace1 = go.Scatter(x=[0.25], y=[1],\n",
    "                        marker={'symbol':'arrow-right',\n",
    "                                'color':'green',\n",
    "                                'size':20\n",
    "                               },\n",
    "                        name='Accomplishment',\n",
    "                        xaxis='x1',\n",
    "                        yaxis='y1',\n",
    "                        hovertemplate =\n",
    "                        'Accomplishment',\n",
    "                        showlegend = False)\n",
    "    \n",
    "    # Building right cursor: engagement\n",
    "    trace2 = go.Scatter(x=[0.75], y=[1],\n",
    "                        marker={'symbol':'arrow-left',\n",
    "                                'color':'white',\n",
    "                                'line': {'color':'black', 'width':1},\n",
    "                                'size':20},\n",
    "                        name='Engagement',\n",
    "                        xaxis='x1',\n",
    "                        yaxis='y1',\n",
    "                        hovertemplate ='Engagement',\n",
    "                        showlegend = False)\n",
    "\n",
    "    \n",
    "    # Fixing ticks\n",
    "    fig.update_xaxes(ticks=\"outside\")\n",
    "    fig.update_yaxes(layer=\"below traces\",\n",
    "                     tickmode = 'array',\n",
    "                     tickvals = [1, 2, 3, 4, 5, 6],\n",
    "                     ticktext = ['+1.5°', '', '+2°C','', '+4°C', ''])\n",
    "    \n",
    "    # Deleting the background\n",
    "    fig.update_layout(paper_bgcolor='rgba(0,0,0,0)', plot_bgcolor='rgba(0,0,0,0)')\n",
    "    \n",
    "    # Replacing the default colorscale with the custom colors\n",
    "    bar = [bar for bar in fig.data if bar.name == 'measures']\n",
    "    for i in range(len(bar)):\n",
    "        bar[i].marker.color = color_bars[i]\n",
    "    \n",
    "    # Adding cursors\n",
    "    fig.add_traces([trace1, trace2])\n",
    "\n",
    "    return fig\n"
   ]
  },
  {
   "cell_type": "code",
   "execution_count": 253,
   "id": "3bb19568",
   "metadata": {},
   "outputs": [
    {
     "data": {
      "application/vnd.plotly.v1+json": {
       "config": {
        "plotlyServerURL": "https://plot.ly"
       },
       "data": [
        {
         "base": 0,
         "hoverinfo": "y",
         "marker": {
          "color": "#820000"
         },
         "name": "measures",
         "orientation": "v",
         "type": "bar",
         "width": 0.4,
         "x": [
          0.5
         ],
         "xaxis": "x",
         "y": [
          6
         ],
         "yaxis": "y"
        },
        {
         "base": 0,
         "hoverinfo": "y",
         "marker": {
          "color": "#C00000"
         },
         "name": "measures",
         "orientation": "v",
         "type": "bar",
         "width": 0.4,
         "x": [
          0.5
         ],
         "xaxis": "x",
         "y": [
          5
         ],
         "yaxis": "y"
        },
        {
         "base": 0,
         "hoverinfo": "y",
         "marker": {
          "color": "#FF8939"
         },
         "name": "measures",
         "orientation": "v",
         "type": "bar",
         "width": 0.4,
         "x": [
          0.5
         ],
         "xaxis": "x",
         "y": [
          4
         ],
         "yaxis": "y"
        },
        {
         "base": 0,
         "hoverinfo": "y",
         "marker": {
          "color": "#FEC800"
         },
         "name": "measures",
         "orientation": "v",
         "type": "bar",
         "width": 0.4,
         "x": [
          0.5
         ],
         "xaxis": "x",
         "y": [
          3
         ],
         "yaxis": "y"
        },
        {
         "base": 0,
         "hoverinfo": "y",
         "marker": {
          "color": "#8CDF41"
         },
         "name": "measures",
         "orientation": "v",
         "type": "bar",
         "width": 0.4,
         "x": [
          0.5
         ],
         "xaxis": "x",
         "y": [
          2
         ],
         "yaxis": "y"
        },
        {
         "base": 0,
         "hoverinfo": "y",
         "marker": {
          "color": "#0DB800"
         },
         "name": "measures",
         "orientation": "v",
         "type": "bar",
         "width": 0.4,
         "x": [
          0.5
         ],
         "xaxis": "x",
         "y": [
          1
         ],
         "yaxis": "y"
        },
        {
         "hoverinfo": "y",
         "marker": {
          "color": "rgb(0, 0, 0)",
          "size": 12,
          "symbol": "diamond-tall"
         },
         "name": "markers",
         "type": "scatter",
         "x": [
          0.5
         ],
         "xaxis": "x",
         "y": [],
         "yaxis": "y"
        },
        {
         "hovertemplate": "Accomplishment",
         "marker": {
          "color": "green",
          "size": 20,
          "symbol": "arrow-right"
         },
         "name": "Accomplishment",
         "showlegend": false,
         "type": "scatter",
         "x": [
          0.25
         ],
         "xaxis": "x",
         "y": [
          1
         ],
         "yaxis": "y"
        },
        {
         "hovertemplate": "Engagement",
         "marker": {
          "color": "white",
          "line": {
           "color": "black",
           "width": 1
          },
          "size": 20,
          "symbol": "arrow-left"
         },
         "name": "Engagement",
         "showlegend": false,
         "type": "scatter",
         "x": [
          0.75
         ],
         "xaxis": "x",
         "y": [
          1
         ],
         "yaxis": "y"
        }
       ],
       "layout": {
        "annotations": [
         {
          "font": {
           "color": "#0f0f0f",
           "size": 13
          },
          "showarrow": false,
          "text": "<b></b>",
          "textangle": 0,
          "x": 0.5,
          "xanchor": "center",
          "xref": "paper",
          "y": 1.03,
          "yanchor": "middle",
          "yref": "paper"
         }
        ],
        "barmode": "stack",
        "height": 600,
        "margin": {
         "l": 80
        },
        "paper_bgcolor": "rgba(0,0,0,0)",
        "plot_bgcolor": "rgba(0,0,0,0)",
        "showlegend": false,
        "template": {
         "data": {
          "bar": [
           {
            "error_x": {
             "color": "#2a3f5f"
            },
            "error_y": {
             "color": "#2a3f5f"
            },
            "marker": {
             "line": {
              "color": "#E5ECF6",
              "width": 0.5
             },
             "pattern": {
              "fillmode": "overlay",
              "size": 10,
              "solidity": 0.2
             }
            },
            "type": "bar"
           }
          ],
          "barpolar": [
           {
            "marker": {
             "line": {
              "color": "#E5ECF6",
              "width": 0.5
             },
             "pattern": {
              "fillmode": "overlay",
              "size": 10,
              "solidity": 0.2
             }
            },
            "type": "barpolar"
           }
          ],
          "carpet": [
           {
            "aaxis": {
             "endlinecolor": "#2a3f5f",
             "gridcolor": "white",
             "linecolor": "white",
             "minorgridcolor": "white",
             "startlinecolor": "#2a3f5f"
            },
            "baxis": {
             "endlinecolor": "#2a3f5f",
             "gridcolor": "white",
             "linecolor": "white",
             "minorgridcolor": "white",
             "startlinecolor": "#2a3f5f"
            },
            "type": "carpet"
           }
          ],
          "choropleth": [
           {
            "colorbar": {
             "outlinewidth": 0,
             "ticks": ""
            },
            "type": "choropleth"
           }
          ],
          "contour": [
           {
            "colorbar": {
             "outlinewidth": 0,
             "ticks": ""
            },
            "colorscale": [
             [
              0,
              "#0d0887"
             ],
             [
              0.1111111111111111,
              "#46039f"
             ],
             [
              0.2222222222222222,
              "#7201a8"
             ],
             [
              0.3333333333333333,
              "#9c179e"
             ],
             [
              0.4444444444444444,
              "#bd3786"
             ],
             [
              0.5555555555555556,
              "#d8576b"
             ],
             [
              0.6666666666666666,
              "#ed7953"
             ],
             [
              0.7777777777777778,
              "#fb9f3a"
             ],
             [
              0.8888888888888888,
              "#fdca26"
             ],
             [
              1,
              "#f0f921"
             ]
            ],
            "type": "contour"
           }
          ],
          "contourcarpet": [
           {
            "colorbar": {
             "outlinewidth": 0,
             "ticks": ""
            },
            "type": "contourcarpet"
           }
          ],
          "heatmap": [
           {
            "colorbar": {
             "outlinewidth": 0,
             "ticks": ""
            },
            "colorscale": [
             [
              0,
              "#0d0887"
             ],
             [
              0.1111111111111111,
              "#46039f"
             ],
             [
              0.2222222222222222,
              "#7201a8"
             ],
             [
              0.3333333333333333,
              "#9c179e"
             ],
             [
              0.4444444444444444,
              "#bd3786"
             ],
             [
              0.5555555555555556,
              "#d8576b"
             ],
             [
              0.6666666666666666,
              "#ed7953"
             ],
             [
              0.7777777777777778,
              "#fb9f3a"
             ],
             [
              0.8888888888888888,
              "#fdca26"
             ],
             [
              1,
              "#f0f921"
             ]
            ],
            "type": "heatmap"
           }
          ],
          "heatmapgl": [
           {
            "colorbar": {
             "outlinewidth": 0,
             "ticks": ""
            },
            "colorscale": [
             [
              0,
              "#0d0887"
             ],
             [
              0.1111111111111111,
              "#46039f"
             ],
             [
              0.2222222222222222,
              "#7201a8"
             ],
             [
              0.3333333333333333,
              "#9c179e"
             ],
             [
              0.4444444444444444,
              "#bd3786"
             ],
             [
              0.5555555555555556,
              "#d8576b"
             ],
             [
              0.6666666666666666,
              "#ed7953"
             ],
             [
              0.7777777777777778,
              "#fb9f3a"
             ],
             [
              0.8888888888888888,
              "#fdca26"
             ],
             [
              1,
              "#f0f921"
             ]
            ],
            "type": "heatmapgl"
           }
          ],
          "histogram": [
           {
            "marker": {
             "pattern": {
              "fillmode": "overlay",
              "size": 10,
              "solidity": 0.2
             }
            },
            "type": "histogram"
           }
          ],
          "histogram2d": [
           {
            "colorbar": {
             "outlinewidth": 0,
             "ticks": ""
            },
            "colorscale": [
             [
              0,
              "#0d0887"
             ],
             [
              0.1111111111111111,
              "#46039f"
             ],
             [
              0.2222222222222222,
              "#7201a8"
             ],
             [
              0.3333333333333333,
              "#9c179e"
             ],
             [
              0.4444444444444444,
              "#bd3786"
             ],
             [
              0.5555555555555556,
              "#d8576b"
             ],
             [
              0.6666666666666666,
              "#ed7953"
             ],
             [
              0.7777777777777778,
              "#fb9f3a"
             ],
             [
              0.8888888888888888,
              "#fdca26"
             ],
             [
              1,
              "#f0f921"
             ]
            ],
            "type": "histogram2d"
           }
          ],
          "histogram2dcontour": [
           {
            "colorbar": {
             "outlinewidth": 0,
             "ticks": ""
            },
            "colorscale": [
             [
              0,
              "#0d0887"
             ],
             [
              0.1111111111111111,
              "#46039f"
             ],
             [
              0.2222222222222222,
              "#7201a8"
             ],
             [
              0.3333333333333333,
              "#9c179e"
             ],
             [
              0.4444444444444444,
              "#bd3786"
             ],
             [
              0.5555555555555556,
              "#d8576b"
             ],
             [
              0.6666666666666666,
              "#ed7953"
             ],
             [
              0.7777777777777778,
              "#fb9f3a"
             ],
             [
              0.8888888888888888,
              "#fdca26"
             ],
             [
              1,
              "#f0f921"
             ]
            ],
            "type": "histogram2dcontour"
           }
          ],
          "mesh3d": [
           {
            "colorbar": {
             "outlinewidth": 0,
             "ticks": ""
            },
            "type": "mesh3d"
           }
          ],
          "parcoords": [
           {
            "line": {
             "colorbar": {
              "outlinewidth": 0,
              "ticks": ""
             }
            },
            "type": "parcoords"
           }
          ],
          "pie": [
           {
            "automargin": true,
            "type": "pie"
           }
          ],
          "scatter": [
           {
            "marker": {
             "colorbar": {
              "outlinewidth": 0,
              "ticks": ""
             }
            },
            "type": "scatter"
           }
          ],
          "scatter3d": [
           {
            "line": {
             "colorbar": {
              "outlinewidth": 0,
              "ticks": ""
             }
            },
            "marker": {
             "colorbar": {
              "outlinewidth": 0,
              "ticks": ""
             }
            },
            "type": "scatter3d"
           }
          ],
          "scattercarpet": [
           {
            "marker": {
             "colorbar": {
              "outlinewidth": 0,
              "ticks": ""
             }
            },
            "type": "scattercarpet"
           }
          ],
          "scattergeo": [
           {
            "marker": {
             "colorbar": {
              "outlinewidth": 0,
              "ticks": ""
             }
            },
            "type": "scattergeo"
           }
          ],
          "scattergl": [
           {
            "marker": {
             "colorbar": {
              "outlinewidth": 0,
              "ticks": ""
             }
            },
            "type": "scattergl"
           }
          ],
          "scattermapbox": [
           {
            "marker": {
             "colorbar": {
              "outlinewidth": 0,
              "ticks": ""
             }
            },
            "type": "scattermapbox"
           }
          ],
          "scatterpolar": [
           {
            "marker": {
             "colorbar": {
              "outlinewidth": 0,
              "ticks": ""
             }
            },
            "type": "scatterpolar"
           }
          ],
          "scatterpolargl": [
           {
            "marker": {
             "colorbar": {
              "outlinewidth": 0,
              "ticks": ""
             }
            },
            "type": "scatterpolargl"
           }
          ],
          "scatterternary": [
           {
            "marker": {
             "colorbar": {
              "outlinewidth": 0,
              "ticks": ""
             }
            },
            "type": "scatterternary"
           }
          ],
          "surface": [
           {
            "colorbar": {
             "outlinewidth": 0,
             "ticks": ""
            },
            "colorscale": [
             [
              0,
              "#0d0887"
             ],
             [
              0.1111111111111111,
              "#46039f"
             ],
             [
              0.2222222222222222,
              "#7201a8"
             ],
             [
              0.3333333333333333,
              "#9c179e"
             ],
             [
              0.4444444444444444,
              "#bd3786"
             ],
             [
              0.5555555555555556,
              "#d8576b"
             ],
             [
              0.6666666666666666,
              "#ed7953"
             ],
             [
              0.7777777777777778,
              "#fb9f3a"
             ],
             [
              0.8888888888888888,
              "#fdca26"
             ],
             [
              1,
              "#f0f921"
             ]
            ],
            "type": "surface"
           }
          ],
          "table": [
           {
            "cells": {
             "fill": {
              "color": "#EBF0F8"
             },
             "line": {
              "color": "white"
             }
            },
            "header": {
             "fill": {
              "color": "#C8D4E3"
             },
             "line": {
              "color": "white"
             }
            },
            "type": "table"
           }
          ]
         },
         "layout": {
          "annotationdefaults": {
           "arrowcolor": "#2a3f5f",
           "arrowhead": 0,
           "arrowwidth": 1
          },
          "autotypenumbers": "strict",
          "coloraxis": {
           "colorbar": {
            "outlinewidth": 0,
            "ticks": ""
           }
          },
          "colorscale": {
           "diverging": [
            [
             0,
             "#8e0152"
            ],
            [
             0.1,
             "#c51b7d"
            ],
            [
             0.2,
             "#de77ae"
            ],
            [
             0.3,
             "#f1b6da"
            ],
            [
             0.4,
             "#fde0ef"
            ],
            [
             0.5,
             "#f7f7f7"
            ],
            [
             0.6,
             "#e6f5d0"
            ],
            [
             0.7,
             "#b8e186"
            ],
            [
             0.8,
             "#7fbc41"
            ],
            [
             0.9,
             "#4d9221"
            ],
            [
             1,
             "#276419"
            ]
           ],
           "sequential": [
            [
             0,
             "#0d0887"
            ],
            [
             0.1111111111111111,
             "#46039f"
            ],
            [
             0.2222222222222222,
             "#7201a8"
            ],
            [
             0.3333333333333333,
             "#9c179e"
            ],
            [
             0.4444444444444444,
             "#bd3786"
            ],
            [
             0.5555555555555556,
             "#d8576b"
            ],
            [
             0.6666666666666666,
             "#ed7953"
            ],
            [
             0.7777777777777778,
             "#fb9f3a"
            ],
            [
             0.8888888888888888,
             "#fdca26"
            ],
            [
             1,
             "#f0f921"
            ]
           ],
           "sequentialminus": [
            [
             0,
             "#0d0887"
            ],
            [
             0.1111111111111111,
             "#46039f"
            ],
            [
             0.2222222222222222,
             "#7201a8"
            ],
            [
             0.3333333333333333,
             "#9c179e"
            ],
            [
             0.4444444444444444,
             "#bd3786"
            ],
            [
             0.5555555555555556,
             "#d8576b"
            ],
            [
             0.6666666666666666,
             "#ed7953"
            ],
            [
             0.7777777777777778,
             "#fb9f3a"
            ],
            [
             0.8888888888888888,
             "#fdca26"
            ],
            [
             1,
             "#f0f921"
            ]
           ]
          },
          "colorway": [
           "#636efa",
           "#EF553B",
           "#00cc96",
           "#ab63fa",
           "#FFA15A",
           "#19d3f3",
           "#FF6692",
           "#B6E880",
           "#FF97FF",
           "#FECB52"
          ],
          "font": {
           "color": "#2a3f5f"
          },
          "geo": {
           "bgcolor": "white",
           "lakecolor": "white",
           "landcolor": "#E5ECF6",
           "showlakes": true,
           "showland": true,
           "subunitcolor": "white"
          },
          "hoverlabel": {
           "align": "left"
          },
          "hovermode": "closest",
          "mapbox": {
           "style": "light"
          },
          "paper_bgcolor": "white",
          "plot_bgcolor": "#E5ECF6",
          "polar": {
           "angularaxis": {
            "gridcolor": "white",
            "linecolor": "white",
            "ticks": ""
           },
           "bgcolor": "#E5ECF6",
           "radialaxis": {
            "gridcolor": "white",
            "linecolor": "white",
            "ticks": ""
           }
          },
          "scene": {
           "xaxis": {
            "backgroundcolor": "#E5ECF6",
            "gridcolor": "white",
            "gridwidth": 2,
            "linecolor": "white",
            "showbackground": true,
            "ticks": "",
            "zerolinecolor": "white"
           },
           "yaxis": {
            "backgroundcolor": "#E5ECF6",
            "gridcolor": "white",
            "gridwidth": 2,
            "linecolor": "white",
            "showbackground": true,
            "ticks": "",
            "zerolinecolor": "white"
           },
           "zaxis": {
            "backgroundcolor": "#E5ECF6",
            "gridcolor": "white",
            "gridwidth": 2,
            "linecolor": "white",
            "showbackground": true,
            "ticks": "",
            "zerolinecolor": "white"
           }
          },
          "shapedefaults": {
           "line": {
            "color": "#2a3f5f"
           }
          },
          "ternary": {
           "aaxis": {
            "gridcolor": "white",
            "linecolor": "white",
            "ticks": ""
           },
           "baxis": {
            "gridcolor": "white",
            "linecolor": "white",
            "ticks": ""
           },
           "bgcolor": "#E5ECF6",
           "caxis": {
            "gridcolor": "white",
            "linecolor": "white",
            "ticks": ""
           }
          },
          "title": {
           "x": 0.05
          },
          "xaxis": {
           "automargin": true,
           "gridcolor": "white",
           "linecolor": "white",
           "ticks": "",
           "title": {
            "standoff": 15
           },
           "zerolinecolor": "white",
           "zerolinewidth": 2
          },
          "yaxis": {
           "automargin": true,
           "gridcolor": "white",
           "linecolor": "white",
           "ticks": "",
           "title": {
            "standoff": 15
           },
           "zerolinecolor": "white",
           "zerolinewidth": 2
          }
         }
        },
        "title": {},
        "width": 800,
        "xaxis": {
         "anchor": "y",
         "domain": [
          0.4,
          0.6
         ],
         "range": [
          0,
          1
         ],
         "showgrid": false,
         "showticklabels": false,
         "ticks": "outside",
         "zeroline": false
        },
        "yaxis": {
         "anchor": "x",
         "domain": [
          0,
          1
         ],
         "layer": "below traces",
         "showgrid": false,
         "tickmode": "array",
         "ticktext": [
          "+1.5°",
          "",
          "+2°C",
          "",
          "+4°C",
          ""
         ],
         "tickvals": [
          1,
          2,
          3,
          4,
          5,
          6
         ],
         "tickwidth": 1,
         "zeroline": false
        }
       }
      },
      "text/html": [
       "<div>                            <div id=\"a8e6683c-854e-4819-ba2a-ea7ebf0f4fb7\" class=\"plotly-graph-div\" style=\"height:600px; width:800px;\"></div>            <script type=\"text/javascript\">                require([\"plotly\"], function(Plotly) {                    window.PLOTLYENV=window.PLOTLYENV || {};                                    if (document.getElementById(\"a8e6683c-854e-4819-ba2a-ea7ebf0f4fb7\")) {                    Plotly.newPlot(                        \"a8e6683c-854e-4819-ba2a-ea7ebf0f4fb7\",                        [{\"base\":0,\"hoverinfo\":\"y\",\"marker\":{\"color\":\"#820000\"},\"name\":\"measures\",\"orientation\":\"v\",\"type\":\"bar\",\"width\":0.4,\"x\":[0.5],\"xaxis\":\"x\",\"y\":[6],\"yaxis\":\"y\"},{\"base\":0,\"hoverinfo\":\"y\",\"marker\":{\"color\":\"#C00000\"},\"name\":\"measures\",\"orientation\":\"v\",\"type\":\"bar\",\"width\":0.4,\"x\":[0.5],\"xaxis\":\"x\",\"y\":[5],\"yaxis\":\"y\"},{\"base\":0,\"hoverinfo\":\"y\",\"marker\":{\"color\":\"#FF8939\"},\"name\":\"measures\",\"orientation\":\"v\",\"type\":\"bar\",\"width\":0.4,\"x\":[0.5],\"xaxis\":\"x\",\"y\":[4],\"yaxis\":\"y\"},{\"base\":0,\"hoverinfo\":\"y\",\"marker\":{\"color\":\"#FEC800\"},\"name\":\"measures\",\"orientation\":\"v\",\"type\":\"bar\",\"width\":0.4,\"x\":[0.5],\"xaxis\":\"x\",\"y\":[3],\"yaxis\":\"y\"},{\"base\":0,\"hoverinfo\":\"y\",\"marker\":{\"color\":\"#8CDF41\"},\"name\":\"measures\",\"orientation\":\"v\",\"type\":\"bar\",\"width\":0.4,\"x\":[0.5],\"xaxis\":\"x\",\"y\":[2],\"yaxis\":\"y\"},{\"base\":0,\"hoverinfo\":\"y\",\"marker\":{\"color\":\"#0DB800\"},\"name\":\"measures\",\"orientation\":\"v\",\"type\":\"bar\",\"width\":0.4,\"x\":[0.5],\"xaxis\":\"x\",\"y\":[1],\"yaxis\":\"y\"},{\"hoverinfo\":\"y\",\"marker\":{\"color\":\"rgb(0, 0, 0)\",\"size\":12,\"symbol\":\"diamond-tall\"},\"name\":\"markers\",\"type\":\"scatter\",\"x\":[0.5],\"xaxis\":\"x\",\"y\":[],\"yaxis\":\"y\"},{\"hovertemplate\":\"Accomplishment\",\"marker\":{\"color\":\"green\",\"size\":20,\"symbol\":\"arrow-right\"},\"name\":\"Accomplishment\",\"showlegend\":false,\"type\":\"scatter\",\"x\":[0.25],\"xaxis\":\"x\",\"y\":[1],\"yaxis\":\"y\"},{\"hovertemplate\":\"Engagement\",\"marker\":{\"color\":\"white\",\"line\":{\"color\":\"black\",\"width\":1},\"size\":20,\"symbol\":\"arrow-left\"},\"name\":\"Engagement\",\"showlegend\":false,\"type\":\"scatter\",\"x\":[0.75],\"xaxis\":\"x\",\"y\":[1],\"yaxis\":\"y\"}],                        {\"annotations\":[{\"font\":{\"color\":\"#0f0f0f\",\"size\":13},\"showarrow\":false,\"text\":\"<b></b>\",\"textangle\":0,\"x\":0.5,\"xanchor\":\"center\",\"xref\":\"paper\",\"y\":1.03,\"yanchor\":\"middle\",\"yref\":\"paper\"}],\"barmode\":\"stack\",\"height\":600,\"margin\":{\"l\":80},\"paper_bgcolor\":\"rgba(0,0,0,0)\",\"plot_bgcolor\":\"rgba(0,0,0,0)\",\"showlegend\":false,\"template\":{\"data\":{\"bar\":[{\"error_x\":{\"color\":\"#2a3f5f\"},\"error_y\":{\"color\":\"#2a3f5f\"},\"marker\":{\"line\":{\"color\":\"#E5ECF6\",\"width\":0.5},\"pattern\":{\"fillmode\":\"overlay\",\"size\":10,\"solidity\":0.2}},\"type\":\"bar\"}],\"barpolar\":[{\"marker\":{\"line\":{\"color\":\"#E5ECF6\",\"width\":0.5},\"pattern\":{\"fillmode\":\"overlay\",\"size\":10,\"solidity\":0.2}},\"type\":\"barpolar\"}],\"carpet\":[{\"aaxis\":{\"endlinecolor\":\"#2a3f5f\",\"gridcolor\":\"white\",\"linecolor\":\"white\",\"minorgridcolor\":\"white\",\"startlinecolor\":\"#2a3f5f\"},\"baxis\":{\"endlinecolor\":\"#2a3f5f\",\"gridcolor\":\"white\",\"linecolor\":\"white\",\"minorgridcolor\":\"white\",\"startlinecolor\":\"#2a3f5f\"},\"type\":\"carpet\"}],\"choropleth\":[{\"colorbar\":{\"outlinewidth\":0,\"ticks\":\"\"},\"type\":\"choropleth\"}],\"contour\":[{\"colorbar\":{\"outlinewidth\":0,\"ticks\":\"\"},\"colorscale\":[[0.0,\"#0d0887\"],[0.1111111111111111,\"#46039f\"],[0.2222222222222222,\"#7201a8\"],[0.3333333333333333,\"#9c179e\"],[0.4444444444444444,\"#bd3786\"],[0.5555555555555556,\"#d8576b\"],[0.6666666666666666,\"#ed7953\"],[0.7777777777777778,\"#fb9f3a\"],[0.8888888888888888,\"#fdca26\"],[1.0,\"#f0f921\"]],\"type\":\"contour\"}],\"contourcarpet\":[{\"colorbar\":{\"outlinewidth\":0,\"ticks\":\"\"},\"type\":\"contourcarpet\"}],\"heatmap\":[{\"colorbar\":{\"outlinewidth\":0,\"ticks\":\"\"},\"colorscale\":[[0.0,\"#0d0887\"],[0.1111111111111111,\"#46039f\"],[0.2222222222222222,\"#7201a8\"],[0.3333333333333333,\"#9c179e\"],[0.4444444444444444,\"#bd3786\"],[0.5555555555555556,\"#d8576b\"],[0.6666666666666666,\"#ed7953\"],[0.7777777777777778,\"#fb9f3a\"],[0.8888888888888888,\"#fdca26\"],[1.0,\"#f0f921\"]],\"type\":\"heatmap\"}],\"heatmapgl\":[{\"colorbar\":{\"outlinewidth\":0,\"ticks\":\"\"},\"colorscale\":[[0.0,\"#0d0887\"],[0.1111111111111111,\"#46039f\"],[0.2222222222222222,\"#7201a8\"],[0.3333333333333333,\"#9c179e\"],[0.4444444444444444,\"#bd3786\"],[0.5555555555555556,\"#d8576b\"],[0.6666666666666666,\"#ed7953\"],[0.7777777777777778,\"#fb9f3a\"],[0.8888888888888888,\"#fdca26\"],[1.0,\"#f0f921\"]],\"type\":\"heatmapgl\"}],\"histogram\":[{\"marker\":{\"pattern\":{\"fillmode\":\"overlay\",\"size\":10,\"solidity\":0.2}},\"type\":\"histogram\"}],\"histogram2d\":[{\"colorbar\":{\"outlinewidth\":0,\"ticks\":\"\"},\"colorscale\":[[0.0,\"#0d0887\"],[0.1111111111111111,\"#46039f\"],[0.2222222222222222,\"#7201a8\"],[0.3333333333333333,\"#9c179e\"],[0.4444444444444444,\"#bd3786\"],[0.5555555555555556,\"#d8576b\"],[0.6666666666666666,\"#ed7953\"],[0.7777777777777778,\"#fb9f3a\"],[0.8888888888888888,\"#fdca26\"],[1.0,\"#f0f921\"]],\"type\":\"histogram2d\"}],\"histogram2dcontour\":[{\"colorbar\":{\"outlinewidth\":0,\"ticks\":\"\"},\"colorscale\":[[0.0,\"#0d0887\"],[0.1111111111111111,\"#46039f\"],[0.2222222222222222,\"#7201a8\"],[0.3333333333333333,\"#9c179e\"],[0.4444444444444444,\"#bd3786\"],[0.5555555555555556,\"#d8576b\"],[0.6666666666666666,\"#ed7953\"],[0.7777777777777778,\"#fb9f3a\"],[0.8888888888888888,\"#fdca26\"],[1.0,\"#f0f921\"]],\"type\":\"histogram2dcontour\"}],\"mesh3d\":[{\"colorbar\":{\"outlinewidth\":0,\"ticks\":\"\"},\"type\":\"mesh3d\"}],\"parcoords\":[{\"line\":{\"colorbar\":{\"outlinewidth\":0,\"ticks\":\"\"}},\"type\":\"parcoords\"}],\"pie\":[{\"automargin\":true,\"type\":\"pie\"}],\"scatter\":[{\"marker\":{\"colorbar\":{\"outlinewidth\":0,\"ticks\":\"\"}},\"type\":\"scatter\"}],\"scatter3d\":[{\"line\":{\"colorbar\":{\"outlinewidth\":0,\"ticks\":\"\"}},\"marker\":{\"colorbar\":{\"outlinewidth\":0,\"ticks\":\"\"}},\"type\":\"scatter3d\"}],\"scattercarpet\":[{\"marker\":{\"colorbar\":{\"outlinewidth\":0,\"ticks\":\"\"}},\"type\":\"scattercarpet\"}],\"scattergeo\":[{\"marker\":{\"colorbar\":{\"outlinewidth\":0,\"ticks\":\"\"}},\"type\":\"scattergeo\"}],\"scattergl\":[{\"marker\":{\"colorbar\":{\"outlinewidth\":0,\"ticks\":\"\"}},\"type\":\"scattergl\"}],\"scattermapbox\":[{\"marker\":{\"colorbar\":{\"outlinewidth\":0,\"ticks\":\"\"}},\"type\":\"scattermapbox\"}],\"scatterpolar\":[{\"marker\":{\"colorbar\":{\"outlinewidth\":0,\"ticks\":\"\"}},\"type\":\"scatterpolar\"}],\"scatterpolargl\":[{\"marker\":{\"colorbar\":{\"outlinewidth\":0,\"ticks\":\"\"}},\"type\":\"scatterpolargl\"}],\"scatterternary\":[{\"marker\":{\"colorbar\":{\"outlinewidth\":0,\"ticks\":\"\"}},\"type\":\"scatterternary\"}],\"surface\":[{\"colorbar\":{\"outlinewidth\":0,\"ticks\":\"\"},\"colorscale\":[[0.0,\"#0d0887\"],[0.1111111111111111,\"#46039f\"],[0.2222222222222222,\"#7201a8\"],[0.3333333333333333,\"#9c179e\"],[0.4444444444444444,\"#bd3786\"],[0.5555555555555556,\"#d8576b\"],[0.6666666666666666,\"#ed7953\"],[0.7777777777777778,\"#fb9f3a\"],[0.8888888888888888,\"#fdca26\"],[1.0,\"#f0f921\"]],\"type\":\"surface\"}],\"table\":[{\"cells\":{\"fill\":{\"color\":\"#EBF0F8\"},\"line\":{\"color\":\"white\"}},\"header\":{\"fill\":{\"color\":\"#C8D4E3\"},\"line\":{\"color\":\"white\"}},\"type\":\"table\"}]},\"layout\":{\"annotationdefaults\":{\"arrowcolor\":\"#2a3f5f\",\"arrowhead\":0,\"arrowwidth\":1},\"autotypenumbers\":\"strict\",\"coloraxis\":{\"colorbar\":{\"outlinewidth\":0,\"ticks\":\"\"}},\"colorscale\":{\"diverging\":[[0,\"#8e0152\"],[0.1,\"#c51b7d\"],[0.2,\"#de77ae\"],[0.3,\"#f1b6da\"],[0.4,\"#fde0ef\"],[0.5,\"#f7f7f7\"],[0.6,\"#e6f5d0\"],[0.7,\"#b8e186\"],[0.8,\"#7fbc41\"],[0.9,\"#4d9221\"],[1,\"#276419\"]],\"sequential\":[[0.0,\"#0d0887\"],[0.1111111111111111,\"#46039f\"],[0.2222222222222222,\"#7201a8\"],[0.3333333333333333,\"#9c179e\"],[0.4444444444444444,\"#bd3786\"],[0.5555555555555556,\"#d8576b\"],[0.6666666666666666,\"#ed7953\"],[0.7777777777777778,\"#fb9f3a\"],[0.8888888888888888,\"#fdca26\"],[1.0,\"#f0f921\"]],\"sequentialminus\":[[0.0,\"#0d0887\"],[0.1111111111111111,\"#46039f\"],[0.2222222222222222,\"#7201a8\"],[0.3333333333333333,\"#9c179e\"],[0.4444444444444444,\"#bd3786\"],[0.5555555555555556,\"#d8576b\"],[0.6666666666666666,\"#ed7953\"],[0.7777777777777778,\"#fb9f3a\"],[0.8888888888888888,\"#fdca26\"],[1.0,\"#f0f921\"]]},\"colorway\":[\"#636efa\",\"#EF553B\",\"#00cc96\",\"#ab63fa\",\"#FFA15A\",\"#19d3f3\",\"#FF6692\",\"#B6E880\",\"#FF97FF\",\"#FECB52\"],\"font\":{\"color\":\"#2a3f5f\"},\"geo\":{\"bgcolor\":\"white\",\"lakecolor\":\"white\",\"landcolor\":\"#E5ECF6\",\"showlakes\":true,\"showland\":true,\"subunitcolor\":\"white\"},\"hoverlabel\":{\"align\":\"left\"},\"hovermode\":\"closest\",\"mapbox\":{\"style\":\"light\"},\"paper_bgcolor\":\"white\",\"plot_bgcolor\":\"#E5ECF6\",\"polar\":{\"angularaxis\":{\"gridcolor\":\"white\",\"linecolor\":\"white\",\"ticks\":\"\"},\"bgcolor\":\"#E5ECF6\",\"radialaxis\":{\"gridcolor\":\"white\",\"linecolor\":\"white\",\"ticks\":\"\"}},\"scene\":{\"xaxis\":{\"backgroundcolor\":\"#E5ECF6\",\"gridcolor\":\"white\",\"gridwidth\":2,\"linecolor\":\"white\",\"showbackground\":true,\"ticks\":\"\",\"zerolinecolor\":\"white\"},\"yaxis\":{\"backgroundcolor\":\"#E5ECF6\",\"gridcolor\":\"white\",\"gridwidth\":2,\"linecolor\":\"white\",\"showbackground\":true,\"ticks\":\"\",\"zerolinecolor\":\"white\"},\"zaxis\":{\"backgroundcolor\":\"#E5ECF6\",\"gridcolor\":\"white\",\"gridwidth\":2,\"linecolor\":\"white\",\"showbackground\":true,\"ticks\":\"\",\"zerolinecolor\":\"white\"}},\"shapedefaults\":{\"line\":{\"color\":\"#2a3f5f\"}},\"ternary\":{\"aaxis\":{\"gridcolor\":\"white\",\"linecolor\":\"white\",\"ticks\":\"\"},\"baxis\":{\"gridcolor\":\"white\",\"linecolor\":\"white\",\"ticks\":\"\"},\"bgcolor\":\"#E5ECF6\",\"caxis\":{\"gridcolor\":\"white\",\"linecolor\":\"white\",\"ticks\":\"\"}},\"title\":{\"x\":0.05},\"xaxis\":{\"automargin\":true,\"gridcolor\":\"white\",\"linecolor\":\"white\",\"ticks\":\"\",\"title\":{\"standoff\":15},\"zerolinecolor\":\"white\",\"zerolinewidth\":2},\"yaxis\":{\"automargin\":true,\"gridcolor\":\"white\",\"linecolor\":\"white\",\"ticks\":\"\",\"title\":{\"standoff\":15},\"zerolinecolor\":\"white\",\"zerolinewidth\":2}}},\"title\":{},\"width\":800,\"xaxis\":{\"anchor\":\"y\",\"domain\":[0.4,0.6],\"range\":[0,1],\"showgrid\":false,\"showticklabels\":false,\"ticks\":\"outside\",\"zeroline\":false},\"yaxis\":{\"anchor\":\"x\",\"domain\":[0.0,1.0],\"layer\":\"below traces\",\"showgrid\":false,\"tickmode\":\"array\",\"ticktext\":[\"+1.5\\u00b0\",\"\",\"+2\\u00b0C\",\"\",\"+4\\u00b0C\",\"\"],\"tickvals\":[1,2,3,4,5,6],\"tickwidth\":1,\"zeroline\":false}},                        {\"responsive\": true}                    ).then(function(){\n",
       "                            \n",
       "var gd = document.getElementById('a8e6683c-854e-4819-ba2a-ea7ebf0f4fb7');\n",
       "var x = new MutationObserver(function (mutations, observer) {{\n",
       "        var display = window.getComputedStyle(gd).display;\n",
       "        if (!display || display === 'none') {{\n",
       "            console.log([gd, 'removed!']);\n",
       "            Plotly.purge(gd);\n",
       "            observer.disconnect();\n",
       "        }}\n",
       "}});\n",
       "\n",
       "// Listen for the removal of the full notebook cells\n",
       "var notebookContainer = gd.closest('#notebook-container');\n",
       "if (notebookContainer) {{\n",
       "    x.observe(notebookContainer, {childList: true});\n",
       "}}\n",
       "\n",
       "// Listen for the clearing of the current output cell\n",
       "var outputEl = gd.closest('.output');\n",
       "if (outputEl) {{\n",
       "    x.observe(outputEl, {childList: true});\n",
       "}}\n",
       "\n",
       "                        })                };                });            </script>        </div>"
      ]
     },
     "metadata": {},
     "output_type": "display_data"
    }
   ],
   "source": [
    "fig = build_bullet_gauge('', '')\n",
    "fig.show()"
   ]
  },
  {
   "cell_type": "code",
   "execution_count": null,
   "id": "89ed754f",
   "metadata": {},
   "outputs": [],
   "source": []
  }
 ],
 "metadata": {
  "kernelspec": {
   "display_name": "Python 3 (ipykernel)",
   "language": "python",
   "name": "python3"
  },
  "language_info": {
   "codemirror_mode": {
    "name": "ipython",
    "version": 3
   },
   "file_extension": ".py",
   "mimetype": "text/x-python",
   "name": "python",
   "nbconvert_exporter": "python",
   "pygments_lexer": "ipython3",
   "version": "3.8.10"
  }
 },
 "nbformat": 4,
 "nbformat_minor": 5
}
