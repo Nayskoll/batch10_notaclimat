{
 "cells": [
  {
   "cell_type": "code",
   "execution_count": 4,
   "id": "87aa566b",
   "metadata": {},
   "outputs": [],
   "source": [
    "import pandas as pd\n",
    "\n",
    "df = pd.read_excel(\"../data/BDD Surcouche pour dataviz_v03.xlsx\")#, dtype={'Groupe': str})\n",
    "df = df.drop([0])\n",
    "\n",
    "t1b2_data = df.rename(columns={'Group':'company_name'})#.astype(str)\n"
   ]
  },
  {
   "cell_type": "code",
   "execution_count": 5,
   "id": "836dd5d0",
   "metadata": {},
   "outputs": [
    {
     "data": {
      "text/plain": [
       "Index(['company_name', 'Sector', 'Logo', 'Unnamed: 3', 'Country flag',\n",
       "       'Turnover', 'Top brand 1', 'Top brand 2', 'Top brand 3', 'Top brand 4',\n",
       "       'Top brand 5', 'Logo brand 1', 'Logo brand 2', 'Logo brand 3',\n",
       "       'Logo brand 4', 'Logo brand 5', 'Competitor 1', 'Competitor 2',\n",
       "       'Competitor 3', 'Competitor 4', 'Competitor 5', 'Competitor 6',\n",
       "       'Competitor 7', 'Competitor 8', 'Competitor 9', 'Comment',\n",
       "       'Global score', 'C1 direct score', 'C1 direct level', 'C1 reduction',\n",
       "       'C1 initial value', 'C1 final value', 'C1 unit', 'C1 initial date',\n",
       "       'C1 final date', 'C1 2deg final', 'C1 1,8deg final', 'C1 1,5deg final',\n",
       "       'C2 complete score', 'C2 complete level', 'C2 reduction',\n",
       "       'C2 initial value', 'C2 final value', 'C2 unit', 'C2 initial date',\n",
       "       'C2 final date', 'C2 2deg final', 'C2 1,8deg final', 'C2 1,5deg final',\n",
       "       'Footnote', 'E1 score commitment direct', 'E1 commitment direct',\n",
       "       'E1 phrase ', 'E1 perimeter', 'E1 reduction', 'E1 unit',\n",
       "       'E1 final date', 'E1 final date.1', 'E2 score commitment',\n",
       "       'E2 commitment complete', 'E2 phrase ', 'E2 perimeter', 'E2 reduction',\n",
       "       'E2 unit', 'E2 final date', 'E2 final date.1', 'Tota emissions',\n",
       "       'Cat 1 amount', 'Cat 1 name', 'Cat 2 amount', 'Cat 2 name',\n",
       "       'Cat 3 amount', 'Cat 3 name', 'Cat 4 amount', 'Cat 4 name',\n",
       "       'Cat 5 amount', 'Cat 5 name', 'Cat 6 amount', 'Cat 6 name',\n",
       "       'Wording interactive 1', 'Wording interactive 2',\n",
       "       'Wording interactive 3', 'Wording interactive 4',\n",
       "       'Wording interactive 5', 'Wording interactive 6'],\n",
       "      dtype='object')"
      ]
     },
     "execution_count": 5,
     "metadata": {},
     "output_type": "execute_result"
    }
   ],
   "source": [
    "t1b2_data.columns"
   ]
  },
  {
   "cell_type": "code",
   "execution_count": 21,
   "id": "6f4c4bef",
   "metadata": {},
   "outputs": [],
   "source": [
    "# Generating company_id variable\n",
    "\n",
    "import base64\n",
    "def encode(text):\n",
    "  btext = text.encode('utf-8')[:6]\n",
    "  return base64.b64encode(btext).decode(\"utf-8\") \n",
    "\n",
    "\n",
    "t1b2_data['company_id'] = [encode(x) for x in t1b2_data['company_name']]\n",
    "\n",
    "cols_for_calculation = [\n",
    "    'company_name',\n",
    "    'C1 direct score',\n",
    "    'C1 initial value',\n",
    "    'C1 final value', \n",
    "    'C1 unit', \n",
    "    'C1 initial date',\n",
    "    'C1 final date', \n",
    "    'C1 2deg final', \n",
    "    'C1 1,8deg final',\n",
    "    'C1 1,5deg final',\n",
    "    'C2 complete score', \n",
    "    'C2 complete level',\n",
    "    'C2 reduction',\n",
    "    'C2 initial value', \n",
    "    'C2 final value',\n",
    "    'C2 unit',\n",
    "    'C2 initial date',\n",
    "    'C2 final date', \n",
    "    'C2 2deg final',\n",
    "    'C2 1,8deg final',\n",
    "    'C2 1,5deg final'\n",
    "]"
   ]
  },
  {
   "cell_type": "code",
   "execution_count": 22,
   "id": "955eb582",
   "metadata": {},
   "outputs": [],
   "source": [
    "# Company selection\n",
    "\n",
    "company = 'Danone'\n"
   ]
  },
  {
   "cell_type": "code",
   "execution_count": 23,
   "id": "411f0a71",
   "metadata": {},
   "outputs": [],
   "source": [
    "# Calculating score performance to choose color\n",
    "\n",
    "list_reference2 = ['Non publiée', 'Vers + 4°C', 'Entre +2°C et +3°C', '2°C', 'Bien moins de 2°C', '1,5°C', 'n.a. (trop récente)']\n",
    "list_hexcolors_direct = ['820000', 'C00000', 'FF8939', 'FEC800', '8CDF41', '0DB800', 'C00000']\n",
    "list_scores = ['1','2','3','4','5','6','99']\n",
    "    \n",
    "direct_score_reference_table = pd.DataFrame(data={'direct_score': list_scores, 'direct_score_label': list_reference2, 'hexcolor':list_hexcolors_direct})"
   ]
  },
  {
   "cell_type": "code",
   "execution_count": 24,
   "id": "1396baf9",
   "metadata": {},
   "outputs": [],
   "source": [
    "df_filtered = t1b2_data[cols_for_calculation].copy()"
   ]
  },
  {
   "cell_type": "code",
   "execution_count": 33,
   "id": "3b6b2cb0",
   "metadata": {},
   "outputs": [
    {
     "name": "stdout",
     "output_type": "stream",
     "text": [
      "Help on package flag:\n",
      "\n",
      "NAME\n",
      "    flag\n",
      "\n",
      "DESCRIPTION\n",
      "    flag\n",
      "    ~~~~\n",
      "\n",
      "PACKAGE CONTENTS\n",
      "    core\n",
      "    parser\n",
      "    registry\n",
      "    utils\n",
      "\n",
      "FUNCTIONS\n",
      "    int(name, default, help)\n",
      "    \n",
      "    parse()\n",
      "    \n",
      "    string(name, default, help)\n",
      "\n",
      "DATA\n",
      "    __all__ = ['parse', 'int', 'string']\n",
      "\n",
      "VERSION\n",
      "    0.1.1\n",
      "\n",
      "FILE\n",
      "    /home/ubuntu/.local/lib/python3.8/site-packages/flag/__init__.py\n",
      "\n",
      "\n"
     ]
    }
   ],
   "source": [
    "import flag"
   ]
  },
  {
   "cell_type": "code",
   "execution_count": 25,
   "id": "19bc8334",
   "metadata": {},
   "outputs": [
    {
     "data": {
      "text/html": [
       "<div>\n",
       "<style scoped>\n",
       "    .dataframe tbody tr th:only-of-type {\n",
       "        vertical-align: middle;\n",
       "    }\n",
       "\n",
       "    .dataframe tbody tr th {\n",
       "        vertical-align: top;\n",
       "    }\n",
       "\n",
       "    .dataframe thead th {\n",
       "        text-align: right;\n",
       "    }\n",
       "</style>\n",
       "<table border=\"1\" class=\"dataframe\">\n",
       "  <thead>\n",
       "    <tr style=\"text-align: right;\">\n",
       "      <th></th>\n",
       "      <th>company_name</th>\n",
       "      <th>C1 direct score</th>\n",
       "      <th>C1 initial value</th>\n",
       "      <th>C1 final value</th>\n",
       "      <th>C1 unit</th>\n",
       "      <th>C1 initial date</th>\n",
       "      <th>C1 final date</th>\n",
       "      <th>C1 2deg final</th>\n",
       "      <th>C1 1,8deg final</th>\n",
       "      <th>C1 1,5deg final</th>\n",
       "      <th>...</th>\n",
       "      <th>C2 complete level</th>\n",
       "      <th>C2 reduction</th>\n",
       "      <th>C2 initial value</th>\n",
       "      <th>C2 final value</th>\n",
       "      <th>C2 unit</th>\n",
       "      <th>C2 initial date</th>\n",
       "      <th>C2 final date</th>\n",
       "      <th>C2 2deg final</th>\n",
       "      <th>C2 1,8deg final</th>\n",
       "      <th>C2 1,5deg final</th>\n",
       "    </tr>\n",
       "  </thead>\n",
       "  <tbody>\n",
       "    <tr>\n",
       "      <th>1</th>\n",
       "      <td>Associated British Foods (alim.)</td>\n",
       "      <td>5.0</td>\n",
       "      <td>1.0</td>\n",
       "      <td>0.874391</td>\n",
       "      <td>absolu</td>\n",
       "      <td>2016</td>\n",
       "      <td>2020</td>\n",
       "      <td>0.95</td>\n",
       "      <td>0.9</td>\n",
       "      <td>0.832</td>\n",
       "      <td>...</td>\n",
       "      <td>1.5</td>\n",
       "      <td>n.a.</td>\n",
       "      <td>n.a.</td>\n",
       "      <td>n.a.</td>\n",
       "      <td>absolu</td>\n",
       "      <td>n.a.</td>\n",
       "      <td>n.a.</td>\n",
       "      <td>0.95</td>\n",
       "      <td>0.9</td>\n",
       "      <td>0.832</td>\n",
       "    </tr>\n",
       "    <tr>\n",
       "      <th>2</th>\n",
       "      <td>Bel</td>\n",
       "      <td>3.0</td>\n",
       "      <td>1.0</td>\n",
       "      <td>0.960596</td>\n",
       "      <td>absolu</td>\n",
       "      <td>2016</td>\n",
       "      <td>2020</td>\n",
       "      <td>0.95</td>\n",
       "      <td>0.9</td>\n",
       "      <td>0.832</td>\n",
       "      <td>...</td>\n",
       "      <td>5.3</td>\n",
       "      <td>-0.146</td>\n",
       "      <td>1.0</td>\n",
       "      <td>0.854</td>\n",
       "      <td>intensité</td>\n",
       "      <td>2017</td>\n",
       "      <td>2019</td>\n",
       "      <td>0.96</td>\n",
       "      <td>0.92</td>\n",
       "      <td>0.8656</td>\n",
       "    </tr>\n",
       "    <tr>\n",
       "      <th>3</th>\n",
       "      <td>Danone</td>\n",
       "      <td>6.0</td>\n",
       "      <td>1.0</td>\n",
       "      <td>0.620611</td>\n",
       "      <td>absolu</td>\n",
       "      <td>2015</td>\n",
       "      <td>2020</td>\n",
       "      <td>0.9375</td>\n",
       "      <td>0.875</td>\n",
       "      <td>0.79</td>\n",
       "      <td>...</td>\n",
       "      <td>5.1</td>\n",
       "      <td>-0.275</td>\n",
       "      <td>1.0</td>\n",
       "      <td>0.725</td>\n",
       "      <td>intensité</td>\n",
       "      <td>2015</td>\n",
       "      <td>2020</td>\n",
       "      <td>0.9</td>\n",
       "      <td>0.8</td>\n",
       "      <td>0.664</td>\n",
       "    </tr>\n",
       "    <tr>\n",
       "      <th>4</th>\n",
       "      <td>Ecotone</td>\n",
       "      <td>6.0</td>\n",
       "      <td>1.0</td>\n",
       "      <td>0.674677</td>\n",
       "      <td>absolu</td>\n",
       "      <td>2010</td>\n",
       "      <td>2018</td>\n",
       "      <td>0.9</td>\n",
       "      <td>0.8</td>\n",
       "      <td>0.664</td>\n",
       "      <td>...</td>\n",
       "      <td>1.5</td>\n",
       "      <td>n.a.</td>\n",
       "      <td>n.a.</td>\n",
       "      <td>n.a.</td>\n",
       "      <td>intensité</td>\n",
       "      <td>n.a.</td>\n",
       "      <td>n.a.</td>\n",
       "      <td>n.a.</td>\n",
       "      <td>n.a.</td>\n",
       "      <td>n.a.</td>\n",
       "    </tr>\n",
       "    <tr>\n",
       "      <th>5</th>\n",
       "      <td>Ferrero</td>\n",
       "      <td>2.0</td>\n",
       "      <td>1.0</td>\n",
       "      <td>1.27683</td>\n",
       "      <td>absolu</td>\n",
       "      <td>2015</td>\n",
       "      <td>2019</td>\n",
       "      <td>0.95</td>\n",
       "      <td>0.9</td>\n",
       "      <td>0.832</td>\n",
       "      <td>...</td>\n",
       "      <td>2.1</td>\n",
       "      <td>0.075</td>\n",
       "      <td>1.0</td>\n",
       "      <td>1.075</td>\n",
       "      <td>absolu</td>\n",
       "      <td>2016</td>\n",
       "      <td>2019</td>\n",
       "      <td>0.9625</td>\n",
       "      <td>0.925</td>\n",
       "      <td>0.874</td>\n",
       "    </tr>\n",
       "    <tr>\n",
       "      <th>6</th>\n",
       "      <td>General Mills</td>\n",
       "      <td>6.0</td>\n",
       "      <td>1.0</td>\n",
       "      <td>0.790209</td>\n",
       "      <td>absolu</td>\n",
       "      <td>2015</td>\n",
       "      <td>2020</td>\n",
       "      <td>0.9375</td>\n",
       "      <td>0.875</td>\n",
       "      <td>0.79</td>\n",
       "      <td>...</td>\n",
       "      <td>4.1</td>\n",
       "      <td>-0.17</td>\n",
       "      <td>1.0</td>\n",
       "      <td>0.83</td>\n",
       "      <td>absolu</td>\n",
       "      <td>2010</td>\n",
       "      <td>2020</td>\n",
       "      <td>0.875</td>\n",
       "      <td>0.75</td>\n",
       "      <td>0.58</td>\n",
       "    </tr>\n",
       "    <tr>\n",
       "      <th>7</th>\n",
       "      <td>Hero</td>\n",
       "      <td>3.0</td>\n",
       "      <td>1.0</td>\n",
       "      <td>0.679657</td>\n",
       "      <td>intensité</td>\n",
       "      <td>2010</td>\n",
       "      <td>2019</td>\n",
       "      <td>0.82</td>\n",
       "      <td>0.64</td>\n",
       "      <td>0.3952</td>\n",
       "      <td>...</td>\n",
       "      <td>1.5</td>\n",
       "      <td>n.a.</td>\n",
       "      <td>n.a.</td>\n",
       "      <td>n.a.</td>\n",
       "      <td>absolu</td>\n",
       "      <td>n.a.</td>\n",
       "      <td>n.a.</td>\n",
       "      <td>n.a.</td>\n",
       "      <td>n.a.</td>\n",
       "      <td>n.a.</td>\n",
       "    </tr>\n",
       "    <tr>\n",
       "      <th>8</th>\n",
       "      <td>Kellogg</td>\n",
       "      <td>6.0</td>\n",
       "      <td>1.0</td>\n",
       "      <td>0.713283</td>\n",
       "      <td>absolu</td>\n",
       "      <td>2015</td>\n",
       "      <td>2019</td>\n",
       "      <td>0.95</td>\n",
       "      <td>0.9</td>\n",
       "      <td>0.832</td>\n",
       "      <td>...</td>\n",
       "      <td>3.6</td>\n",
       "      <td>-0.048</td>\n",
       "      <td>1.0</td>\n",
       "      <td>0.952</td>\n",
       "      <td>absolu</td>\n",
       "      <td>2015</td>\n",
       "      <td>2019</td>\n",
       "      <td>0.95</td>\n",
       "      <td>0.9</td>\n",
       "      <td>0.832</td>\n",
       "    </tr>\n",
       "    <tr>\n",
       "      <th>9</th>\n",
       "      <td>Mars</td>\n",
       "      <td>6.0</td>\n",
       "      <td>1.0</td>\n",
       "      <td>0.780749</td>\n",
       "      <td>absolu</td>\n",
       "      <td>2015</td>\n",
       "      <td>2019</td>\n",
       "      <td>0.95</td>\n",
       "      <td>0.9</td>\n",
       "      <td>0.832</td>\n",
       "      <td>...</td>\n",
       "      <td>3.1</td>\n",
       "      <td>-0.02</td>\n",
       "      <td>1.0</td>\n",
       "      <td>0.98</td>\n",
       "      <td>absolu</td>\n",
       "      <td>2015</td>\n",
       "      <td>2019</td>\n",
       "      <td>0.95</td>\n",
       "      <td>0.9</td>\n",
       "      <td>0.832</td>\n",
       "    </tr>\n",
       "    <tr>\n",
       "      <th>10</th>\n",
       "      <td>Mondelez</td>\n",
       "      <td>5.0</td>\n",
       "      <td>1.0</td>\n",
       "      <td>0.762475</td>\n",
       "      <td>absolu</td>\n",
       "      <td>2013</td>\n",
       "      <td>2020</td>\n",
       "      <td>0.9125</td>\n",
       "      <td>0.825</td>\n",
       "      <td>0.706</td>\n",
       "      <td>...</td>\n",
       "      <td>2.5</td>\n",
       "      <td>-</td>\n",
       "      <td>n.a.</td>\n",
       "      <td>n.a.</td>\n",
       "      <td>absolu</td>\n",
       "      <td>n.a.</td>\n",
       "      <td>n.a.</td>\n",
       "      <td>n.a.</td>\n",
       "      <td>n.a.</td>\n",
       "      <td>n.a.</td>\n",
       "    </tr>\n",
       "    <tr>\n",
       "      <th>11</th>\n",
       "      <td>Nestlé</td>\n",
       "      <td>6.0</td>\n",
       "      <td>1.0</td>\n",
       "      <td>0.68111</td>\n",
       "      <td>absolu</td>\n",
       "      <td>2014</td>\n",
       "      <td>2020</td>\n",
       "      <td>0.925</td>\n",
       "      <td>0.85</td>\n",
       "      <td>0.748</td>\n",
       "      <td>...</td>\n",
       "      <td>3.6</td>\n",
       "      <td>-0.048</td>\n",
       "      <td>1.0</td>\n",
       "      <td>0.952</td>\n",
       "      <td>absolu</td>\n",
       "      <td>2014</td>\n",
       "      <td>2018</td>\n",
       "      <td>0.95</td>\n",
       "      <td>0.9</td>\n",
       "      <td>0.832</td>\n",
       "    </tr>\n",
       "    <tr>\n",
       "      <th>12</th>\n",
       "      <td>Pepsico</td>\n",
       "      <td>6.0</td>\n",
       "      <td>1.0</td>\n",
       "      <td>0.76567</td>\n",
       "      <td>absolu</td>\n",
       "      <td>2015</td>\n",
       "      <td>2020</td>\n",
       "      <td>0.9375</td>\n",
       "      <td>0.875</td>\n",
       "      <td>0.79</td>\n",
       "      <td>...</td>\n",
       "      <td>3.7</td>\n",
       "      <td>-0.05</td>\n",
       "      <td>1.0</td>\n",
       "      <td>0.95</td>\n",
       "      <td>absolu</td>\n",
       "      <td>2015</td>\n",
       "      <td>2020</td>\n",
       "      <td>0.9375</td>\n",
       "      <td>0.875</td>\n",
       "      <td>0.79</td>\n",
       "    </tr>\n",
       "    <tr>\n",
       "      <th>13</th>\n",
       "      <td>Henkel</td>\n",
       "      <td>3.0</td>\n",
       "      <td>1.0</td>\n",
       "      <td>0.994012</td>\n",
       "      <td>absolu</td>\n",
       "      <td>2016</td>\n",
       "      <td>2019</td>\n",
       "      <td>0.9625</td>\n",
       "      <td>0.925</td>\n",
       "      <td>0.874</td>\n",
       "      <td>...</td>\n",
       "      <td>3.1</td>\n",
       "      <td>-0.021</td>\n",
       "      <td>1.0</td>\n",
       "      <td>0.979</td>\n",
       "      <td>absolu</td>\n",
       "      <td>2016</td>\n",
       "      <td>2019</td>\n",
       "      <td>0.9625</td>\n",
       "      <td>0.925</td>\n",
       "      <td>0.874</td>\n",
       "    </tr>\n",
       "    <tr>\n",
       "      <th>14</th>\n",
       "      <td>P&amp;G</td>\n",
       "      <td>6.0</td>\n",
       "      <td>1.0</td>\n",
       "      <td>0.794123</td>\n",
       "      <td>absolu</td>\n",
       "      <td>2015</td>\n",
       "      <td>2019</td>\n",
       "      <td>0.95</td>\n",
       "      <td>0.9</td>\n",
       "      <td>0.832</td>\n",
       "      <td>...</td>\n",
       "      <td>2.5</td>\n",
       "      <td>-</td>\n",
       "      <td>n.a.</td>\n",
       "      <td>n.a.</td>\n",
       "      <td>absolu</td>\n",
       "      <td>n.a.</td>\n",
       "      <td>n.a.</td>\n",
       "      <td>n.a.</td>\n",
       "      <td>n.a.</td>\n",
       "      <td>n.a.</td>\n",
       "    </tr>\n",
       "    <tr>\n",
       "      <th>15</th>\n",
       "      <td>Unilever</td>\n",
       "      <td>6.0</td>\n",
       "      <td>1.0</td>\n",
       "      <td>0.570268</td>\n",
       "      <td>absolu</td>\n",
       "      <td>2015</td>\n",
       "      <td>2019</td>\n",
       "      <td>0.95</td>\n",
       "      <td>0.9</td>\n",
       "      <td>0.832</td>\n",
       "      <td>...</td>\n",
       "      <td>3.4</td>\n",
       "      <td>-0.052</td>\n",
       "      <td>1.0</td>\n",
       "      <td>0.948</td>\n",
       "      <td>intensité</td>\n",
       "      <td>2015</td>\n",
       "      <td>2019</td>\n",
       "      <td>0.92</td>\n",
       "      <td>0.84</td>\n",
       "      <td>0.7312</td>\n",
       "    </tr>\n",
       "    <tr>\n",
       "      <th>16</th>\n",
       "      <td>Colgate-Palmolive</td>\n",
       "      <td>6.0</td>\n",
       "      <td>1.0</td>\n",
       "      <td>0.800875</td>\n",
       "      <td>absolu</td>\n",
       "      <td>2015</td>\n",
       "      <td>2019</td>\n",
       "      <td>0.95</td>\n",
       "      <td>0.9</td>\n",
       "      <td>0.832</td>\n",
       "      <td>...</td>\n",
       "      <td>4.1</td>\n",
       "      <td>-0.064</td>\n",
       "      <td>1.0</td>\n",
       "      <td>0.936</td>\n",
       "      <td>absolu</td>\n",
       "      <td>2015</td>\n",
       "      <td>2019</td>\n",
       "      <td>0.95</td>\n",
       "      <td>0.9</td>\n",
       "      <td>0.832</td>\n",
       "    </tr>\n",
       "    <tr>\n",
       "      <th>17</th>\n",
       "      <td>Coty</td>\n",
       "      <td>6.0</td>\n",
       "      <td>1.0</td>\n",
       "      <td>0.772641</td>\n",
       "      <td>absolu</td>\n",
       "      <td>2017</td>\n",
       "      <td>2019</td>\n",
       "      <td>0.975</td>\n",
       "      <td>0.95</td>\n",
       "      <td>0.916</td>\n",
       "      <td>...</td>\n",
       "      <td>3.4</td>\n",
       "      <td>0.002</td>\n",
       "      <td>1.0</td>\n",
       "      <td>1.002</td>\n",
       "      <td>absolu</td>\n",
       "      <td>2017</td>\n",
       "      <td>2019</td>\n",
       "      <td>0.975</td>\n",
       "      <td>0.95</td>\n",
       "      <td>0.916</td>\n",
       "    </tr>\n",
       "    <tr>\n",
       "      <th>18</th>\n",
       "      <td>L'Oréal</td>\n",
       "      <td>6.0</td>\n",
       "      <td>1.0</td>\n",
       "      <td>0.702595</td>\n",
       "      <td>absolu</td>\n",
       "      <td>2016</td>\n",
       "      <td>2019</td>\n",
       "      <td>0.9625</td>\n",
       "      <td>0.925</td>\n",
       "      <td>0.874</td>\n",
       "      <td>...</td>\n",
       "      <td>3.4</td>\n",
       "      <td>-0.039</td>\n",
       "      <td>1.0</td>\n",
       "      <td>0.961</td>\n",
       "      <td>intensité</td>\n",
       "      <td>2016</td>\n",
       "      <td>2019</td>\n",
       "      <td>0.9625</td>\n",
       "      <td>0.925</td>\n",
       "      <td>0.874</td>\n",
       "    </tr>\n",
       "    <tr>\n",
       "      <th>19</th>\n",
       "      <td>Shiseido</td>\n",
       "      <td>5.0</td>\n",
       "      <td>1.0</td>\n",
       "      <td>0.838779</td>\n",
       "      <td>absolu</td>\n",
       "      <td>2016</td>\n",
       "      <td>2020</td>\n",
       "      <td>0.95</td>\n",
       "      <td>0.9</td>\n",
       "      <td>0.832</td>\n",
       "      <td>...</td>\n",
       "      <td>2.5</td>\n",
       "      <td>-</td>\n",
       "      <td>n.a.</td>\n",
       "      <td>n.a.</td>\n",
       "      <td>absolu</td>\n",
       "      <td>n.a.</td>\n",
       "      <td>n.a.</td>\n",
       "      <td>n.a.</td>\n",
       "      <td>n.a.</td>\n",
       "      <td>n.a.</td>\n",
       "    </tr>\n",
       "    <tr>\n",
       "      <th>20</th>\n",
       "      <td>Beiersdorf</td>\n",
       "      <td>6.0</td>\n",
       "      <td>1.0</td>\n",
       "      <td>0.56356</td>\n",
       "      <td>absolu</td>\n",
       "      <td>2016</td>\n",
       "      <td>2019</td>\n",
       "      <td>0.9625</td>\n",
       "      <td>0.925</td>\n",
       "      <td>0.874</td>\n",
       "      <td>...</td>\n",
       "      <td>2.5</td>\n",
       "      <td>-</td>\n",
       "      <td>n.a.</td>\n",
       "      <td>n.a.</td>\n",
       "      <td>absolu</td>\n",
       "      <td>n.a.</td>\n",
       "      <td>n.a.</td>\n",
       "      <td>n.a.</td>\n",
       "      <td>n.a.</td>\n",
       "      <td>n.a.</td>\n",
       "    </tr>\n",
       "    <tr>\n",
       "      <th>21</th>\n",
       "      <td>S. C. Johnson</td>\n",
       "      <td>5.0</td>\n",
       "      <td>1.0</td>\n",
       "      <td>0.761005</td>\n",
       "      <td>intensité</td>\n",
       "      <td>2015</td>\n",
       "      <td>2019</td>\n",
       "      <td>0.95</td>\n",
       "      <td>0.9</td>\n",
       "      <td>0.832</td>\n",
       "      <td>...</td>\n",
       "      <td>1.5</td>\n",
       "      <td>n.a.</td>\n",
       "      <td>n.a.</td>\n",
       "      <td>n.a.</td>\n",
       "      <td>intensité</td>\n",
       "      <td>n.a.</td>\n",
       "      <td>n.a.</td>\n",
       "      <td>n.a.</td>\n",
       "      <td>n.a.</td>\n",
       "      <td>n.a.</td>\n",
       "    </tr>\n",
       "    <tr>\n",
       "      <th>22</th>\n",
       "      <td>Reckitt</td>\n",
       "      <td>6.0</td>\n",
       "      <td>1.0</td>\n",
       "      <td>0.804266</td>\n",
       "      <td>absolu</td>\n",
       "      <td>2015</td>\n",
       "      <td>2019</td>\n",
       "      <td>0.95</td>\n",
       "      <td>0.9</td>\n",
       "      <td>0.832</td>\n",
       "      <td>...</td>\n",
       "      <td>3.9</td>\n",
       "      <td>-0.072</td>\n",
       "      <td>1.0</td>\n",
       "      <td>0.928</td>\n",
       "      <td>intensité</td>\n",
       "      <td>2015</td>\n",
       "      <td>2019</td>\n",
       "      <td>0.92</td>\n",
       "      <td>0.84</td>\n",
       "      <td>0.7312</td>\n",
       "    </tr>\n",
       "    <tr>\n",
       "      <th>23</th>\n",
       "      <td>GSK</td>\n",
       "      <td>6.0</td>\n",
       "      <td>1.0</td>\n",
       "      <td>0.868251</td>\n",
       "      <td>absolu</td>\n",
       "      <td>2016</td>\n",
       "      <td>2019</td>\n",
       "      <td>0.9625</td>\n",
       "      <td>0.925</td>\n",
       "      <td>0.874</td>\n",
       "      <td>...</td>\n",
       "      <td>6.4</td>\n",
       "      <td>-0.141</td>\n",
       "      <td>1.0</td>\n",
       "      <td>0.859</td>\n",
       "      <td>absolu</td>\n",
       "      <td>2016</td>\n",
       "      <td>2019</td>\n",
       "      <td>0.9625</td>\n",
       "      <td>0.925</td>\n",
       "      <td>0.874</td>\n",
       "    </tr>\n",
       "    <tr>\n",
       "      <th>24</th>\n",
       "      <td>Johnson &amp; Johnson</td>\n",
       "      <td>6.0</td>\n",
       "      <td>1.0</td>\n",
       "      <td>0.825294</td>\n",
       "      <td>absolu</td>\n",
       "      <td>2016</td>\n",
       "      <td>2019</td>\n",
       "      <td>0.9625</td>\n",
       "      <td>0.925</td>\n",
       "      <td>0.874</td>\n",
       "      <td>...</td>\n",
       "      <td>3.3</td>\n",
       "      <td>-0.03</td>\n",
       "      <td>1.0</td>\n",
       "      <td>0.97</td>\n",
       "      <td>absolu</td>\n",
       "      <td>2016</td>\n",
       "      <td>2019</td>\n",
       "      <td>0.9625</td>\n",
       "      <td>0.925</td>\n",
       "      <td>0.874</td>\n",
       "    </tr>\n",
       "  </tbody>\n",
       "</table>\n",
       "<p>24 rows × 21 columns</p>\n",
       "</div>"
      ],
      "text/plain": [
       "                        company_name  C1 direct score C1 initial value  \\\n",
       "1   Associated British Foods (alim.)              5.0              1.0   \n",
       "2                                Bel              3.0              1.0   \n",
       "3                             Danone              6.0              1.0   \n",
       "4                            Ecotone              6.0              1.0   \n",
       "5                            Ferrero              2.0              1.0   \n",
       "6                      General Mills              6.0              1.0   \n",
       "7                               Hero              3.0              1.0   \n",
       "8                            Kellogg              6.0              1.0   \n",
       "9                               Mars              6.0              1.0   \n",
       "10                          Mondelez              5.0              1.0   \n",
       "11                            Nestlé              6.0              1.0   \n",
       "12                           Pepsico              6.0              1.0   \n",
       "13                            Henkel              3.0              1.0   \n",
       "14                               P&G              6.0              1.0   \n",
       "15                          Unilever              6.0              1.0   \n",
       "16                 Colgate-Palmolive              6.0              1.0   \n",
       "17                              Coty              6.0              1.0   \n",
       "18                           L'Oréal              6.0              1.0   \n",
       "19                          Shiseido              5.0              1.0   \n",
       "20                        Beiersdorf              6.0              1.0   \n",
       "21                     S. C. Johnson              5.0              1.0   \n",
       "22                           Reckitt              6.0              1.0   \n",
       "23                               GSK              6.0              1.0   \n",
       "24                 Johnson & Johnson              6.0              1.0   \n",
       "\n",
       "   C1 final value    C1 unit C1 initial date C1 final date C1 2deg final  \\\n",
       "1        0.874391     absolu            2016          2020          0.95   \n",
       "2        0.960596     absolu            2016          2020          0.95   \n",
       "3        0.620611     absolu            2015          2020        0.9375   \n",
       "4        0.674677     absolu            2010          2018           0.9   \n",
       "5         1.27683     absolu            2015          2019          0.95   \n",
       "6        0.790209     absolu            2015          2020        0.9375   \n",
       "7        0.679657  intensité            2010          2019          0.82   \n",
       "8        0.713283     absolu            2015          2019          0.95   \n",
       "9        0.780749     absolu            2015          2019          0.95   \n",
       "10       0.762475     absolu            2013          2020        0.9125   \n",
       "11        0.68111     absolu            2014          2020         0.925   \n",
       "12        0.76567     absolu            2015          2020        0.9375   \n",
       "13       0.994012     absolu            2016          2019        0.9625   \n",
       "14       0.794123     absolu            2015          2019          0.95   \n",
       "15       0.570268     absolu            2015          2019          0.95   \n",
       "16       0.800875     absolu            2015          2019          0.95   \n",
       "17       0.772641     absolu            2017          2019         0.975   \n",
       "18       0.702595     absolu            2016          2019        0.9625   \n",
       "19       0.838779     absolu            2016          2020          0.95   \n",
       "20        0.56356     absolu            2016          2019        0.9625   \n",
       "21       0.761005  intensité            2015          2019          0.95   \n",
       "22       0.804266     absolu            2015          2019          0.95   \n",
       "23       0.868251     absolu            2016          2019        0.9625   \n",
       "24       0.825294     absolu            2016          2019        0.9625   \n",
       "\n",
       "   C1 1,8deg final C1 1,5deg final  ...  C2 complete level  C2 reduction  \\\n",
       "1              0.9           0.832  ...                1.5          n.a.   \n",
       "2              0.9           0.832  ...                5.3        -0.146   \n",
       "3            0.875            0.79  ...                5.1        -0.275   \n",
       "4              0.8           0.664  ...                1.5          n.a.   \n",
       "5              0.9           0.832  ...                2.1         0.075   \n",
       "6            0.875            0.79  ...                4.1         -0.17   \n",
       "7             0.64          0.3952  ...                1.5          n.a.   \n",
       "8              0.9           0.832  ...                3.6        -0.048   \n",
       "9              0.9           0.832  ...                3.1         -0.02   \n",
       "10           0.825           0.706  ...                2.5             -   \n",
       "11            0.85           0.748  ...                3.6        -0.048   \n",
       "12           0.875            0.79  ...                3.7         -0.05   \n",
       "13           0.925           0.874  ...                3.1        -0.021   \n",
       "14             0.9           0.832  ...                2.5             -   \n",
       "15             0.9           0.832  ...                3.4        -0.052   \n",
       "16             0.9           0.832  ...                4.1        -0.064   \n",
       "17            0.95           0.916  ...                3.4         0.002   \n",
       "18           0.925           0.874  ...                3.4        -0.039   \n",
       "19             0.9           0.832  ...                2.5             -   \n",
       "20           0.925           0.874  ...                2.5             -   \n",
       "21             0.9           0.832  ...                1.5          n.a.   \n",
       "22             0.9           0.832  ...                3.9        -0.072   \n",
       "23           0.925           0.874  ...                6.4        -0.141   \n",
       "24           0.925           0.874  ...                3.3         -0.03   \n",
       "\n",
       "   C2 initial value C2 final value    C2 unit C2 initial date C2 final date  \\\n",
       "1              n.a.           n.a.     absolu            n.a.          n.a.   \n",
       "2               1.0          0.854  intensité            2017          2019   \n",
       "3               1.0          0.725  intensité            2015          2020   \n",
       "4              n.a.           n.a.  intensité            n.a.          n.a.   \n",
       "5               1.0          1.075     absolu            2016          2019   \n",
       "6               1.0           0.83     absolu            2010          2020   \n",
       "7              n.a.           n.a.     absolu            n.a.          n.a.   \n",
       "8               1.0          0.952     absolu            2015          2019   \n",
       "9               1.0           0.98     absolu            2015          2019   \n",
       "10             n.a.           n.a.     absolu            n.a.          n.a.   \n",
       "11              1.0          0.952     absolu            2014          2018   \n",
       "12              1.0           0.95     absolu            2015          2020   \n",
       "13              1.0          0.979     absolu            2016          2019   \n",
       "14             n.a.           n.a.     absolu            n.a.          n.a.   \n",
       "15              1.0          0.948  intensité            2015          2019   \n",
       "16              1.0          0.936     absolu            2015          2019   \n",
       "17              1.0          1.002     absolu            2017          2019   \n",
       "18              1.0          0.961  intensité            2016          2019   \n",
       "19             n.a.           n.a.     absolu            n.a.          n.a.   \n",
       "20             n.a.           n.a.     absolu            n.a.          n.a.   \n",
       "21             n.a.           n.a.  intensité            n.a.          n.a.   \n",
       "22              1.0          0.928  intensité            2015          2019   \n",
       "23              1.0          0.859     absolu            2016          2019   \n",
       "24              1.0           0.97     absolu            2016          2019   \n",
       "\n",
       "   C2 2deg final C2 1,8deg final C2 1,5deg final  \n",
       "1           0.95             0.9           0.832  \n",
       "2           0.96            0.92          0.8656  \n",
       "3            0.9             0.8           0.664  \n",
       "4           n.a.            n.a.            n.a.  \n",
       "5         0.9625           0.925           0.874  \n",
       "6          0.875            0.75            0.58  \n",
       "7           n.a.            n.a.            n.a.  \n",
       "8           0.95             0.9           0.832  \n",
       "9           0.95             0.9           0.832  \n",
       "10          n.a.            n.a.            n.a.  \n",
       "11          0.95             0.9           0.832  \n",
       "12        0.9375           0.875            0.79  \n",
       "13        0.9625           0.925           0.874  \n",
       "14          n.a.            n.a.            n.a.  \n",
       "15          0.92            0.84          0.7312  \n",
       "16          0.95             0.9           0.832  \n",
       "17         0.975            0.95           0.916  \n",
       "18        0.9625           0.925           0.874  \n",
       "19          n.a.            n.a.            n.a.  \n",
       "20          n.a.            n.a.            n.a.  \n",
       "21          n.a.            n.a.            n.a.  \n",
       "22          0.92            0.84          0.7312  \n",
       "23        0.9625           0.925           0.874  \n",
       "24        0.9625           0.925           0.874  \n",
       "\n",
       "[24 rows x 21 columns]"
      ]
     },
     "execution_count": 25,
     "metadata": {},
     "output_type": "execute_result"
    }
   ],
   "source": [
    "df_filtered"
   ]
  },
  {
   "cell_type": "code",
   "execution_count": 29,
   "id": "5473671e",
   "metadata": {},
   "outputs": [],
   "source": [
    "# Generating filtered df once company is selected\n",
    "\n",
    "df_filtered = t1b2_data[cols_for_calculation].copy()\n",
    "\n",
    "for col in ['C1 direct score', 'C2 complete score']:\n",
    "    df_filtered[col] = df_filtered[col].astype('int').astype('str')\n",
    "    \n",
    "# Filtering data & adding reference columns\n",
    "\n",
    "df_filtered = pd.merge(df_filtered, direct_score_reference_table, how='left', left_on='C1 direct score', right_on='direct_score').rename(columns={'direct_score_label':'c1_label', 'hexcolor': 'c1_color'}).drop(columns=['direct_score'])\n",
    "df_filtered = pd.merge(df_filtered, direct_score_reference_table, how='left', left_on='C2 complete score', right_on='direct_score').rename(columns={'direct_score_label':'c2_label', 'hexcolor': 'c2_color'}).drop(columns=['direct_score'])\n",
    "\n",
    "# Adding the c1 & c2 images\n",
    "\n",
    "'''df_filtered['global_score_pic'] = 'assets/frames/climate_score/Frame_'+df_filtered['global_score_label']+'.png' \n",
    "'''\n",
    "df_filtered.to_csv(path_or_buf='t1b2.csv', sep=',', header=True, index=False)"
   ]
  },
  {
   "cell_type": "code",
   "execution_count": 153,
   "id": "4ffc8886",
   "metadata": {},
   "outputs": [
    {
     "data": {
      "text/plain": [
       "0       0.9\n",
       "1       0.9\n",
       "2     0.875\n",
       "3       0.8\n",
       "4       0.9\n",
       "5     0.875\n",
       "6      0.64\n",
       "7       0.9\n",
       "8       0.9\n",
       "9     0.825\n",
       "10     0.85\n",
       "11    0.875\n",
       "12    0.925\n",
       "13      0.9\n",
       "14      0.9\n",
       "15      0.9\n",
       "16     0.95\n",
       "17    0.925\n",
       "18      0.9\n",
       "19    0.925\n",
       "20      0.9\n",
       "21      0.9\n",
       "22    0.925\n",
       "23    0.925\n",
       "Name: C1 1,8deg final, dtype: object"
      ]
     },
     "execution_count": 153,
     "metadata": {},
     "output_type": "execute_result"
    }
   ],
   "source": [
    "df_filtered['C1 1,8deg final']"
   ]
  },
  {
   "cell_type": "code",
   "execution_count": 145,
   "id": "fdd4e6f6",
   "metadata": {},
   "outputs": [
    {
     "name": "stdout",
     "output_type": "stream",
     "text": [
      "False\n",
      "False\n",
      "False\n",
      "False\n"
     ]
    }
   ],
   "source": [
    "import numpy as np\n",
    "values = []\n",
    "col_list = ['C1 final value', \n",
    "'C1 1,5deg final',\n",
    "'C1 1,8deg final',\n",
    "'C1 2deg final'\n",
    "]\n",
    "\n",
    "for col in col_list:\n",
    "    values.append(df_filtered.loc[0,col]-1)\n",
    "    print (df_filtered.loc[0,col] == np.nan)"
   ]
  },
  {
   "cell_type": "code",
   "execution_count": 136,
   "id": "ab4bf63b",
   "metadata": {},
   "outputs": [
    {
     "data": {
      "application/vnd.plotly.v1+json": {
       "config": {
        "plotlyServerURL": "https://plot.ly"
       },
       "data": [
        {
         "marker": {
          "color": [
           "black",
           "green",
           "blue",
           "purple"
          ]
         },
         "text": [
          "-0.12560856207900006",
          "-0.050000000000000044",
          "-0.09999999999999998",
          "-0.16800000000000004"
         ],
         "textposition": "inside",
         "texttemplate": "%{text:.1%}",
         "type": "bar",
         "x": [
          "selected_company",
          "1.5°C scenario",
          "1.8°C scenario",
          "2°C scenario"
         ],
         "y": [
          -0.12560856207900006,
          -0.050000000000000044,
          -0.09999999999999998,
          -0.16800000000000004
         ]
        }
       ],
       "layout": {
        "showlegend": false,
        "template": {
         "data": {
          "bar": [
           {
            "error_x": {
             "color": "#2a3f5f"
            },
            "error_y": {
             "color": "#2a3f5f"
            },
            "marker": {
             "line": {
              "color": "#E5ECF6",
              "width": 0.5
             },
             "pattern": {
              "fillmode": "overlay",
              "size": 10,
              "solidity": 0.2
             }
            },
            "type": "bar"
           }
          ],
          "barpolar": [
           {
            "marker": {
             "line": {
              "color": "#E5ECF6",
              "width": 0.5
             },
             "pattern": {
              "fillmode": "overlay",
              "size": 10,
              "solidity": 0.2
             }
            },
            "type": "barpolar"
           }
          ],
          "carpet": [
           {
            "aaxis": {
             "endlinecolor": "#2a3f5f",
             "gridcolor": "white",
             "linecolor": "white",
             "minorgridcolor": "white",
             "startlinecolor": "#2a3f5f"
            },
            "baxis": {
             "endlinecolor": "#2a3f5f",
             "gridcolor": "white",
             "linecolor": "white",
             "minorgridcolor": "white",
             "startlinecolor": "#2a3f5f"
            },
            "type": "carpet"
           }
          ],
          "choropleth": [
           {
            "colorbar": {
             "outlinewidth": 0,
             "ticks": ""
            },
            "type": "choropleth"
           }
          ],
          "contour": [
           {
            "colorbar": {
             "outlinewidth": 0,
             "ticks": ""
            },
            "colorscale": [
             [
              0,
              "#0d0887"
             ],
             [
              0.1111111111111111,
              "#46039f"
             ],
             [
              0.2222222222222222,
              "#7201a8"
             ],
             [
              0.3333333333333333,
              "#9c179e"
             ],
             [
              0.4444444444444444,
              "#bd3786"
             ],
             [
              0.5555555555555556,
              "#d8576b"
             ],
             [
              0.6666666666666666,
              "#ed7953"
             ],
             [
              0.7777777777777778,
              "#fb9f3a"
             ],
             [
              0.8888888888888888,
              "#fdca26"
             ],
             [
              1,
              "#f0f921"
             ]
            ],
            "type": "contour"
           }
          ],
          "contourcarpet": [
           {
            "colorbar": {
             "outlinewidth": 0,
             "ticks": ""
            },
            "type": "contourcarpet"
           }
          ],
          "heatmap": [
           {
            "colorbar": {
             "outlinewidth": 0,
             "ticks": ""
            },
            "colorscale": [
             [
              0,
              "#0d0887"
             ],
             [
              0.1111111111111111,
              "#46039f"
             ],
             [
              0.2222222222222222,
              "#7201a8"
             ],
             [
              0.3333333333333333,
              "#9c179e"
             ],
             [
              0.4444444444444444,
              "#bd3786"
             ],
             [
              0.5555555555555556,
              "#d8576b"
             ],
             [
              0.6666666666666666,
              "#ed7953"
             ],
             [
              0.7777777777777778,
              "#fb9f3a"
             ],
             [
              0.8888888888888888,
              "#fdca26"
             ],
             [
              1,
              "#f0f921"
             ]
            ],
            "type": "heatmap"
           }
          ],
          "heatmapgl": [
           {
            "colorbar": {
             "outlinewidth": 0,
             "ticks": ""
            },
            "colorscale": [
             [
              0,
              "#0d0887"
             ],
             [
              0.1111111111111111,
              "#46039f"
             ],
             [
              0.2222222222222222,
              "#7201a8"
             ],
             [
              0.3333333333333333,
              "#9c179e"
             ],
             [
              0.4444444444444444,
              "#bd3786"
             ],
             [
              0.5555555555555556,
              "#d8576b"
             ],
             [
              0.6666666666666666,
              "#ed7953"
             ],
             [
              0.7777777777777778,
              "#fb9f3a"
             ],
             [
              0.8888888888888888,
              "#fdca26"
             ],
             [
              1,
              "#f0f921"
             ]
            ],
            "type": "heatmapgl"
           }
          ],
          "histogram": [
           {
            "marker": {
             "pattern": {
              "fillmode": "overlay",
              "size": 10,
              "solidity": 0.2
             }
            },
            "type": "histogram"
           }
          ],
          "histogram2d": [
           {
            "colorbar": {
             "outlinewidth": 0,
             "ticks": ""
            },
            "colorscale": [
             [
              0,
              "#0d0887"
             ],
             [
              0.1111111111111111,
              "#46039f"
             ],
             [
              0.2222222222222222,
              "#7201a8"
             ],
             [
              0.3333333333333333,
              "#9c179e"
             ],
             [
              0.4444444444444444,
              "#bd3786"
             ],
             [
              0.5555555555555556,
              "#d8576b"
             ],
             [
              0.6666666666666666,
              "#ed7953"
             ],
             [
              0.7777777777777778,
              "#fb9f3a"
             ],
             [
              0.8888888888888888,
              "#fdca26"
             ],
             [
              1,
              "#f0f921"
             ]
            ],
            "type": "histogram2d"
           }
          ],
          "histogram2dcontour": [
           {
            "colorbar": {
             "outlinewidth": 0,
             "ticks": ""
            },
            "colorscale": [
             [
              0,
              "#0d0887"
             ],
             [
              0.1111111111111111,
              "#46039f"
             ],
             [
              0.2222222222222222,
              "#7201a8"
             ],
             [
              0.3333333333333333,
              "#9c179e"
             ],
             [
              0.4444444444444444,
              "#bd3786"
             ],
             [
              0.5555555555555556,
              "#d8576b"
             ],
             [
              0.6666666666666666,
              "#ed7953"
             ],
             [
              0.7777777777777778,
              "#fb9f3a"
             ],
             [
              0.8888888888888888,
              "#fdca26"
             ],
             [
              1,
              "#f0f921"
             ]
            ],
            "type": "histogram2dcontour"
           }
          ],
          "mesh3d": [
           {
            "colorbar": {
             "outlinewidth": 0,
             "ticks": ""
            },
            "type": "mesh3d"
           }
          ],
          "parcoords": [
           {
            "line": {
             "colorbar": {
              "outlinewidth": 0,
              "ticks": ""
             }
            },
            "type": "parcoords"
           }
          ],
          "pie": [
           {
            "automargin": true,
            "type": "pie"
           }
          ],
          "scatter": [
           {
            "marker": {
             "colorbar": {
              "outlinewidth": 0,
              "ticks": ""
             }
            },
            "type": "scatter"
           }
          ],
          "scatter3d": [
           {
            "line": {
             "colorbar": {
              "outlinewidth": 0,
              "ticks": ""
             }
            },
            "marker": {
             "colorbar": {
              "outlinewidth": 0,
              "ticks": ""
             }
            },
            "type": "scatter3d"
           }
          ],
          "scattercarpet": [
           {
            "marker": {
             "colorbar": {
              "outlinewidth": 0,
              "ticks": ""
             }
            },
            "type": "scattercarpet"
           }
          ],
          "scattergeo": [
           {
            "marker": {
             "colorbar": {
              "outlinewidth": 0,
              "ticks": ""
             }
            },
            "type": "scattergeo"
           }
          ],
          "scattergl": [
           {
            "marker": {
             "colorbar": {
              "outlinewidth": 0,
              "ticks": ""
             }
            },
            "type": "scattergl"
           }
          ],
          "scattermapbox": [
           {
            "marker": {
             "colorbar": {
              "outlinewidth": 0,
              "ticks": ""
             }
            },
            "type": "scattermapbox"
           }
          ],
          "scatterpolar": [
           {
            "marker": {
             "colorbar": {
              "outlinewidth": 0,
              "ticks": ""
             }
            },
            "type": "scatterpolar"
           }
          ],
          "scatterpolargl": [
           {
            "marker": {
             "colorbar": {
              "outlinewidth": 0,
              "ticks": ""
             }
            },
            "type": "scatterpolargl"
           }
          ],
          "scatterternary": [
           {
            "marker": {
             "colorbar": {
              "outlinewidth": 0,
              "ticks": ""
             }
            },
            "type": "scatterternary"
           }
          ],
          "surface": [
           {
            "colorbar": {
             "outlinewidth": 0,
             "ticks": ""
            },
            "colorscale": [
             [
              0,
              "#0d0887"
             ],
             [
              0.1111111111111111,
              "#46039f"
             ],
             [
              0.2222222222222222,
              "#7201a8"
             ],
             [
              0.3333333333333333,
              "#9c179e"
             ],
             [
              0.4444444444444444,
              "#bd3786"
             ],
             [
              0.5555555555555556,
              "#d8576b"
             ],
             [
              0.6666666666666666,
              "#ed7953"
             ],
             [
              0.7777777777777778,
              "#fb9f3a"
             ],
             [
              0.8888888888888888,
              "#fdca26"
             ],
             [
              1,
              "#f0f921"
             ]
            ],
            "type": "surface"
           }
          ],
          "table": [
           {
            "cells": {
             "fill": {
              "color": "#EBF0F8"
             },
             "line": {
              "color": "white"
             }
            },
            "header": {
             "fill": {
              "color": "#C8D4E3"
             },
             "line": {
              "color": "white"
             }
            },
            "type": "table"
           }
          ]
         },
         "layout": {
          "annotationdefaults": {
           "arrowcolor": "#2a3f5f",
           "arrowhead": 0,
           "arrowwidth": 1
          },
          "autotypenumbers": "strict",
          "coloraxis": {
           "colorbar": {
            "outlinewidth": 0,
            "ticks": ""
           }
          },
          "colorscale": {
           "diverging": [
            [
             0,
             "#8e0152"
            ],
            [
             0.1,
             "#c51b7d"
            ],
            [
             0.2,
             "#de77ae"
            ],
            [
             0.3,
             "#f1b6da"
            ],
            [
             0.4,
             "#fde0ef"
            ],
            [
             0.5,
             "#f7f7f7"
            ],
            [
             0.6,
             "#e6f5d0"
            ],
            [
             0.7,
             "#b8e186"
            ],
            [
             0.8,
             "#7fbc41"
            ],
            [
             0.9,
             "#4d9221"
            ],
            [
             1,
             "#276419"
            ]
           ],
           "sequential": [
            [
             0,
             "#0d0887"
            ],
            [
             0.1111111111111111,
             "#46039f"
            ],
            [
             0.2222222222222222,
             "#7201a8"
            ],
            [
             0.3333333333333333,
             "#9c179e"
            ],
            [
             0.4444444444444444,
             "#bd3786"
            ],
            [
             0.5555555555555556,
             "#d8576b"
            ],
            [
             0.6666666666666666,
             "#ed7953"
            ],
            [
             0.7777777777777778,
             "#fb9f3a"
            ],
            [
             0.8888888888888888,
             "#fdca26"
            ],
            [
             1,
             "#f0f921"
            ]
           ],
           "sequentialminus": [
            [
             0,
             "#0d0887"
            ],
            [
             0.1111111111111111,
             "#46039f"
            ],
            [
             0.2222222222222222,
             "#7201a8"
            ],
            [
             0.3333333333333333,
             "#9c179e"
            ],
            [
             0.4444444444444444,
             "#bd3786"
            ],
            [
             0.5555555555555556,
             "#d8576b"
            ],
            [
             0.6666666666666666,
             "#ed7953"
            ],
            [
             0.7777777777777778,
             "#fb9f3a"
            ],
            [
             0.8888888888888888,
             "#fdca26"
            ],
            [
             1,
             "#f0f921"
            ]
           ]
          },
          "colorway": [
           "#636efa",
           "#EF553B",
           "#00cc96",
           "#ab63fa",
           "#FFA15A",
           "#19d3f3",
           "#FF6692",
           "#B6E880",
           "#FF97FF",
           "#FECB52"
          ],
          "font": {
           "color": "#2a3f5f"
          },
          "geo": {
           "bgcolor": "white",
           "lakecolor": "white",
           "landcolor": "#E5ECF6",
           "showlakes": true,
           "showland": true,
           "subunitcolor": "white"
          },
          "hoverlabel": {
           "align": "left"
          },
          "hovermode": "closest",
          "mapbox": {
           "style": "light"
          },
          "paper_bgcolor": "white",
          "plot_bgcolor": "#E5ECF6",
          "polar": {
           "angularaxis": {
            "gridcolor": "white",
            "linecolor": "white",
            "ticks": ""
           },
           "bgcolor": "#E5ECF6",
           "radialaxis": {
            "gridcolor": "white",
            "linecolor": "white",
            "ticks": ""
           }
          },
          "scene": {
           "xaxis": {
            "backgroundcolor": "#E5ECF6",
            "gridcolor": "white",
            "gridwidth": 2,
            "linecolor": "white",
            "showbackground": true,
            "ticks": "",
            "zerolinecolor": "white"
           },
           "yaxis": {
            "backgroundcolor": "#E5ECF6",
            "gridcolor": "white",
            "gridwidth": 2,
            "linecolor": "white",
            "showbackground": true,
            "ticks": "",
            "zerolinecolor": "white"
           },
           "zaxis": {
            "backgroundcolor": "#E5ECF6",
            "gridcolor": "white",
            "gridwidth": 2,
            "linecolor": "white",
            "showbackground": true,
            "ticks": "",
            "zerolinecolor": "white"
           }
          },
          "shapedefaults": {
           "line": {
            "color": "#2a3f5f"
           }
          },
          "ternary": {
           "aaxis": {
            "gridcolor": "white",
            "linecolor": "white",
            "ticks": ""
           },
           "baxis": {
            "gridcolor": "white",
            "linecolor": "white",
            "ticks": ""
           },
           "bgcolor": "#E5ECF6",
           "caxis": {
            "gridcolor": "white",
            "linecolor": "white",
            "ticks": ""
           }
          },
          "title": {
           "x": 0.05
          },
          "xaxis": {
           "automargin": true,
           "gridcolor": "white",
           "linecolor": "white",
           "ticks": "",
           "title": {
            "standoff": 15
           },
           "zerolinecolor": "white",
           "zerolinewidth": 2
          },
          "yaxis": {
           "automargin": true,
           "gridcolor": "white",
           "linecolor": "white",
           "ticks": "",
           "title": {
            "standoff": 15
           },
           "zerolinecolor": "white",
           "zerolinewidth": 2
          }
         }
        },
        "yaxis": {
         "tickformat": ".0%",
         "title": {
          "text": "GES"
         }
        }
       }
      },
      "text/html": [
       "<div>                            <div id=\"3fd5ecc4-823a-4369-8e97-ea61b388db4f\" class=\"plotly-graph-div\" style=\"height:525px; width:100%;\"></div>            <script type=\"text/javascript\">                require([\"plotly\"], function(Plotly) {                    window.PLOTLYENV=window.PLOTLYENV || {};                                    if (document.getElementById(\"3fd5ecc4-823a-4369-8e97-ea61b388db4f\")) {                    Plotly.newPlot(                        \"3fd5ecc4-823a-4369-8e97-ea61b388db4f\",                        [{\"marker\":{\"color\":[\"black\",\"green\",\"blue\",\"purple\"]},\"text\":[\"-0.12560856207900006\",\"-0.050000000000000044\",\"-0.09999999999999998\",\"-0.16800000000000004\"],\"textposition\":\"inside\",\"texttemplate\":\"%{text:.1%}\",\"type\":\"bar\",\"x\":[\"selected_company\",\"1.5\\u00b0C scenario\",\"1.8\\u00b0C scenario\",\"2\\u00b0C scenario\"],\"y\":[-0.12560856207900006,-0.050000000000000044,-0.09999999999999998,-0.16800000000000004]}],                        {\"showlegend\":false,\"template\":{\"data\":{\"bar\":[{\"error_x\":{\"color\":\"#2a3f5f\"},\"error_y\":{\"color\":\"#2a3f5f\"},\"marker\":{\"line\":{\"color\":\"#E5ECF6\",\"width\":0.5},\"pattern\":{\"fillmode\":\"overlay\",\"size\":10,\"solidity\":0.2}},\"type\":\"bar\"}],\"barpolar\":[{\"marker\":{\"line\":{\"color\":\"#E5ECF6\",\"width\":0.5},\"pattern\":{\"fillmode\":\"overlay\",\"size\":10,\"solidity\":0.2}},\"type\":\"barpolar\"}],\"carpet\":[{\"aaxis\":{\"endlinecolor\":\"#2a3f5f\",\"gridcolor\":\"white\",\"linecolor\":\"white\",\"minorgridcolor\":\"white\",\"startlinecolor\":\"#2a3f5f\"},\"baxis\":{\"endlinecolor\":\"#2a3f5f\",\"gridcolor\":\"white\",\"linecolor\":\"white\",\"minorgridcolor\":\"white\",\"startlinecolor\":\"#2a3f5f\"},\"type\":\"carpet\"}],\"choropleth\":[{\"colorbar\":{\"outlinewidth\":0,\"ticks\":\"\"},\"type\":\"choropleth\"}],\"contour\":[{\"colorbar\":{\"outlinewidth\":0,\"ticks\":\"\"},\"colorscale\":[[0.0,\"#0d0887\"],[0.1111111111111111,\"#46039f\"],[0.2222222222222222,\"#7201a8\"],[0.3333333333333333,\"#9c179e\"],[0.4444444444444444,\"#bd3786\"],[0.5555555555555556,\"#d8576b\"],[0.6666666666666666,\"#ed7953\"],[0.7777777777777778,\"#fb9f3a\"],[0.8888888888888888,\"#fdca26\"],[1.0,\"#f0f921\"]],\"type\":\"contour\"}],\"contourcarpet\":[{\"colorbar\":{\"outlinewidth\":0,\"ticks\":\"\"},\"type\":\"contourcarpet\"}],\"heatmap\":[{\"colorbar\":{\"outlinewidth\":0,\"ticks\":\"\"},\"colorscale\":[[0.0,\"#0d0887\"],[0.1111111111111111,\"#46039f\"],[0.2222222222222222,\"#7201a8\"],[0.3333333333333333,\"#9c179e\"],[0.4444444444444444,\"#bd3786\"],[0.5555555555555556,\"#d8576b\"],[0.6666666666666666,\"#ed7953\"],[0.7777777777777778,\"#fb9f3a\"],[0.8888888888888888,\"#fdca26\"],[1.0,\"#f0f921\"]],\"type\":\"heatmap\"}],\"heatmapgl\":[{\"colorbar\":{\"outlinewidth\":0,\"ticks\":\"\"},\"colorscale\":[[0.0,\"#0d0887\"],[0.1111111111111111,\"#46039f\"],[0.2222222222222222,\"#7201a8\"],[0.3333333333333333,\"#9c179e\"],[0.4444444444444444,\"#bd3786\"],[0.5555555555555556,\"#d8576b\"],[0.6666666666666666,\"#ed7953\"],[0.7777777777777778,\"#fb9f3a\"],[0.8888888888888888,\"#fdca26\"],[1.0,\"#f0f921\"]],\"type\":\"heatmapgl\"}],\"histogram\":[{\"marker\":{\"pattern\":{\"fillmode\":\"overlay\",\"size\":10,\"solidity\":0.2}},\"type\":\"histogram\"}],\"histogram2d\":[{\"colorbar\":{\"outlinewidth\":0,\"ticks\":\"\"},\"colorscale\":[[0.0,\"#0d0887\"],[0.1111111111111111,\"#46039f\"],[0.2222222222222222,\"#7201a8\"],[0.3333333333333333,\"#9c179e\"],[0.4444444444444444,\"#bd3786\"],[0.5555555555555556,\"#d8576b\"],[0.6666666666666666,\"#ed7953\"],[0.7777777777777778,\"#fb9f3a\"],[0.8888888888888888,\"#fdca26\"],[1.0,\"#f0f921\"]],\"type\":\"histogram2d\"}],\"histogram2dcontour\":[{\"colorbar\":{\"outlinewidth\":0,\"ticks\":\"\"},\"colorscale\":[[0.0,\"#0d0887\"],[0.1111111111111111,\"#46039f\"],[0.2222222222222222,\"#7201a8\"],[0.3333333333333333,\"#9c179e\"],[0.4444444444444444,\"#bd3786\"],[0.5555555555555556,\"#d8576b\"],[0.6666666666666666,\"#ed7953\"],[0.7777777777777778,\"#fb9f3a\"],[0.8888888888888888,\"#fdca26\"],[1.0,\"#f0f921\"]],\"type\":\"histogram2dcontour\"}],\"mesh3d\":[{\"colorbar\":{\"outlinewidth\":0,\"ticks\":\"\"},\"type\":\"mesh3d\"}],\"parcoords\":[{\"line\":{\"colorbar\":{\"outlinewidth\":0,\"ticks\":\"\"}},\"type\":\"parcoords\"}],\"pie\":[{\"automargin\":true,\"type\":\"pie\"}],\"scatter\":[{\"marker\":{\"colorbar\":{\"outlinewidth\":0,\"ticks\":\"\"}},\"type\":\"scatter\"}],\"scatter3d\":[{\"line\":{\"colorbar\":{\"outlinewidth\":0,\"ticks\":\"\"}},\"marker\":{\"colorbar\":{\"outlinewidth\":0,\"ticks\":\"\"}},\"type\":\"scatter3d\"}],\"scattercarpet\":[{\"marker\":{\"colorbar\":{\"outlinewidth\":0,\"ticks\":\"\"}},\"type\":\"scattercarpet\"}],\"scattergeo\":[{\"marker\":{\"colorbar\":{\"outlinewidth\":0,\"ticks\":\"\"}},\"type\":\"scattergeo\"}],\"scattergl\":[{\"marker\":{\"colorbar\":{\"outlinewidth\":0,\"ticks\":\"\"}},\"type\":\"scattergl\"}],\"scattermapbox\":[{\"marker\":{\"colorbar\":{\"outlinewidth\":0,\"ticks\":\"\"}},\"type\":\"scattermapbox\"}],\"scatterpolar\":[{\"marker\":{\"colorbar\":{\"outlinewidth\":0,\"ticks\":\"\"}},\"type\":\"scatterpolar\"}],\"scatterpolargl\":[{\"marker\":{\"colorbar\":{\"outlinewidth\":0,\"ticks\":\"\"}},\"type\":\"scatterpolargl\"}],\"scatterternary\":[{\"marker\":{\"colorbar\":{\"outlinewidth\":0,\"ticks\":\"\"}},\"type\":\"scatterternary\"}],\"surface\":[{\"colorbar\":{\"outlinewidth\":0,\"ticks\":\"\"},\"colorscale\":[[0.0,\"#0d0887\"],[0.1111111111111111,\"#46039f\"],[0.2222222222222222,\"#7201a8\"],[0.3333333333333333,\"#9c179e\"],[0.4444444444444444,\"#bd3786\"],[0.5555555555555556,\"#d8576b\"],[0.6666666666666666,\"#ed7953\"],[0.7777777777777778,\"#fb9f3a\"],[0.8888888888888888,\"#fdca26\"],[1.0,\"#f0f921\"]],\"type\":\"surface\"}],\"table\":[{\"cells\":{\"fill\":{\"color\":\"#EBF0F8\"},\"line\":{\"color\":\"white\"}},\"header\":{\"fill\":{\"color\":\"#C8D4E3\"},\"line\":{\"color\":\"white\"}},\"type\":\"table\"}]},\"layout\":{\"annotationdefaults\":{\"arrowcolor\":\"#2a3f5f\",\"arrowhead\":0,\"arrowwidth\":1},\"autotypenumbers\":\"strict\",\"coloraxis\":{\"colorbar\":{\"outlinewidth\":0,\"ticks\":\"\"}},\"colorscale\":{\"diverging\":[[0,\"#8e0152\"],[0.1,\"#c51b7d\"],[0.2,\"#de77ae\"],[0.3,\"#f1b6da\"],[0.4,\"#fde0ef\"],[0.5,\"#f7f7f7\"],[0.6,\"#e6f5d0\"],[0.7,\"#b8e186\"],[0.8,\"#7fbc41\"],[0.9,\"#4d9221\"],[1,\"#276419\"]],\"sequential\":[[0.0,\"#0d0887\"],[0.1111111111111111,\"#46039f\"],[0.2222222222222222,\"#7201a8\"],[0.3333333333333333,\"#9c179e\"],[0.4444444444444444,\"#bd3786\"],[0.5555555555555556,\"#d8576b\"],[0.6666666666666666,\"#ed7953\"],[0.7777777777777778,\"#fb9f3a\"],[0.8888888888888888,\"#fdca26\"],[1.0,\"#f0f921\"]],\"sequentialminus\":[[0.0,\"#0d0887\"],[0.1111111111111111,\"#46039f\"],[0.2222222222222222,\"#7201a8\"],[0.3333333333333333,\"#9c179e\"],[0.4444444444444444,\"#bd3786\"],[0.5555555555555556,\"#d8576b\"],[0.6666666666666666,\"#ed7953\"],[0.7777777777777778,\"#fb9f3a\"],[0.8888888888888888,\"#fdca26\"],[1.0,\"#f0f921\"]]},\"colorway\":[\"#636efa\",\"#EF553B\",\"#00cc96\",\"#ab63fa\",\"#FFA15A\",\"#19d3f3\",\"#FF6692\",\"#B6E880\",\"#FF97FF\",\"#FECB52\"],\"font\":{\"color\":\"#2a3f5f\"},\"geo\":{\"bgcolor\":\"white\",\"lakecolor\":\"white\",\"landcolor\":\"#E5ECF6\",\"showlakes\":true,\"showland\":true,\"subunitcolor\":\"white\"},\"hoverlabel\":{\"align\":\"left\"},\"hovermode\":\"closest\",\"mapbox\":{\"style\":\"light\"},\"paper_bgcolor\":\"white\",\"plot_bgcolor\":\"#E5ECF6\",\"polar\":{\"angularaxis\":{\"gridcolor\":\"white\",\"linecolor\":\"white\",\"ticks\":\"\"},\"bgcolor\":\"#E5ECF6\",\"radialaxis\":{\"gridcolor\":\"white\",\"linecolor\":\"white\",\"ticks\":\"\"}},\"scene\":{\"xaxis\":{\"backgroundcolor\":\"#E5ECF6\",\"gridcolor\":\"white\",\"gridwidth\":2,\"linecolor\":\"white\",\"showbackground\":true,\"ticks\":\"\",\"zerolinecolor\":\"white\"},\"yaxis\":{\"backgroundcolor\":\"#E5ECF6\",\"gridcolor\":\"white\",\"gridwidth\":2,\"linecolor\":\"white\",\"showbackground\":true,\"ticks\":\"\",\"zerolinecolor\":\"white\"},\"zaxis\":{\"backgroundcolor\":\"#E5ECF6\",\"gridcolor\":\"white\",\"gridwidth\":2,\"linecolor\":\"white\",\"showbackground\":true,\"ticks\":\"\",\"zerolinecolor\":\"white\"}},\"shapedefaults\":{\"line\":{\"color\":\"#2a3f5f\"}},\"ternary\":{\"aaxis\":{\"gridcolor\":\"white\",\"linecolor\":\"white\",\"ticks\":\"\"},\"baxis\":{\"gridcolor\":\"white\",\"linecolor\":\"white\",\"ticks\":\"\"},\"bgcolor\":\"#E5ECF6\",\"caxis\":{\"gridcolor\":\"white\",\"linecolor\":\"white\",\"ticks\":\"\"}},\"title\":{\"x\":0.05},\"xaxis\":{\"automargin\":true,\"gridcolor\":\"white\",\"linecolor\":\"white\",\"ticks\":\"\",\"title\":{\"standoff\":15},\"zerolinecolor\":\"white\",\"zerolinewidth\":2},\"yaxis\":{\"automargin\":true,\"gridcolor\":\"white\",\"linecolor\":\"white\",\"ticks\":\"\",\"title\":{\"standoff\":15},\"zerolinecolor\":\"white\",\"zerolinewidth\":2}}},\"yaxis\":{\"tickformat\":\".0%\",\"title\":{\"text\":\"GES\"}}},                        {\"responsive\": true}                    ).then(function(){\n",
       "                            \n",
       "var gd = document.getElementById('3fd5ecc4-823a-4369-8e97-ea61b388db4f');\n",
       "var x = new MutationObserver(function (mutations, observer) {{\n",
       "        var display = window.getComputedStyle(gd).display;\n",
       "        if (!display || display === 'none') {{\n",
       "            console.log([gd, 'removed!']);\n",
       "            Plotly.purge(gd);\n",
       "            observer.disconnect();\n",
       "        }}\n",
       "}});\n",
       "\n",
       "// Listen for the removal of the full notebook cells\n",
       "var notebookContainer = gd.closest('#notebook-container');\n",
       "if (notebookContainer) {{\n",
       "    x.observe(notebookContainer, {childList: true});\n",
       "}}\n",
       "\n",
       "// Listen for the clearing of the current output cell\n",
       "var outputEl = gd.closest('.output');\n",
       "if (outputEl) {{\n",
       "    x.observe(outputEl, {childList: true});\n",
       "}}\n",
       "\n",
       "                        })                };                });            </script>        </div>"
      ]
     },
     "metadata": {},
     "output_type": "display_data"
    }
   ],
   "source": [
    "scenarios=['selected_company', '1.5°C scenario', '1.8°C scenario', '2°C scenario']\n",
    "\n",
    "fig = go.Figure([go.Bar(x=scenarios, y=values, text=values, marker_color=['black', 'green', 'blue', 'purple'])])\n",
    "fig.update_traces(texttemplate='%{text:.1%}', textposition='inside')\n",
    "fig.update_layout(showlegend=False)\n",
    "fig.update_yaxes(title=\"GES\", tickformat=\".0%\")\n",
    "fig.show()"
   ]
  },
  {
   "cell_type": "code",
   "execution_count": null,
   "id": "1bfed301",
   "metadata": {},
   "outputs": [],
   "source": []
  },
  {
   "cell_type": "code",
   "execution_count": null,
   "id": "3a49eafd",
   "metadata": {},
   "outputs": [],
   "source": []
  }
 ],
 "metadata": {
  "kernelspec": {
   "display_name": "Python 3 (ipykernel)",
   "language": "python",
   "name": "python3"
  },
  "language_info": {
   "codemirror_mode": {
    "name": "ipython",
    "version": 3
   },
   "file_extension": ".py",
   "mimetype": "text/x-python",
   "name": "python",
   "nbconvert_exporter": "python",
   "pygments_lexer": "ipython3",
   "version": "3.8.10"
  }
 },
 "nbformat": 4,
 "nbformat_minor": 5
}
