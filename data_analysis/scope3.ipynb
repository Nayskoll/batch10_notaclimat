{
  "cells": [
    {
      "cell_type": "code",
      "execution_count": 186,
      "id": "7a1407b3",
      "metadata": {
        "colab": {
          "base_uri": "https://localhost:8080/"
        },
        "id": "7a1407b3",
        "outputId": "e8cf85e4-739e-4750-98f4-a96870a98455"
      },
      "outputs": [
        {
          "output_type": "stream",
          "name": "stdout",
          "text": [
            "Looking in indexes: https://pypi.org/simple, https://us-python.pkg.dev/colab-wheels/public/simple/\n",
            "Requirement already satisfied: pygsheets in /usr/local/lib/python3.7/dist-packages (2.0.5)\n",
            "Requirement already satisfied: google-auth-oauthlib in /usr/local/lib/python3.7/dist-packages (from pygsheets) (0.4.6)\n",
            "Requirement already satisfied: google-api-python-client>=1.5.5 in /usr/local/lib/python3.7/dist-packages (from pygsheets) (1.12.11)\n",
            "Requirement already satisfied: google-api-core<3dev,>=1.21.0 in /usr/local/lib/python3.7/dist-packages (from google-api-python-client>=1.5.5->pygsheets) (1.31.6)\n",
            "Requirement already satisfied: six<2dev,>=1.13.0 in /usr/local/lib/python3.7/dist-packages (from google-api-python-client>=1.5.5->pygsheets) (1.15.0)\n",
            "Requirement already satisfied: uritemplate<4dev,>=3.0.0 in /usr/local/lib/python3.7/dist-packages (from google-api-python-client>=1.5.5->pygsheets) (3.0.1)\n",
            "Requirement already satisfied: google-auth<3dev,>=1.16.0 in /usr/local/lib/python3.7/dist-packages (from google-api-python-client>=1.5.5->pygsheets) (1.35.0)\n",
            "Requirement already satisfied: google-auth-httplib2>=0.0.3 in /usr/local/lib/python3.7/dist-packages (from google-api-python-client>=1.5.5->pygsheets) (0.0.4)\n",
            "Requirement already satisfied: httplib2<1dev,>=0.15.0 in /usr/local/lib/python3.7/dist-packages (from google-api-python-client>=1.5.5->pygsheets) (0.17.4)\n",
            "Requirement already satisfied: pytz in /usr/local/lib/python3.7/dist-packages (from google-api-core<3dev,>=1.21.0->google-api-python-client>=1.5.5->pygsheets) (2022.1)\n",
            "Requirement already satisfied: protobuf<4.0.0dev,>=3.12.0 in /usr/local/lib/python3.7/dist-packages (from google-api-core<3dev,>=1.21.0->google-api-python-client>=1.5.5->pygsheets) (3.17.3)\n",
            "Requirement already satisfied: requests<3.0.0dev,>=2.18.0 in /usr/local/lib/python3.7/dist-packages (from google-api-core<3dev,>=1.21.0->google-api-python-client>=1.5.5->pygsheets) (2.23.0)\n",
            "Requirement already satisfied: setuptools>=40.3.0 in /usr/local/lib/python3.7/dist-packages (from google-api-core<3dev,>=1.21.0->google-api-python-client>=1.5.5->pygsheets) (57.4.0)\n",
            "Requirement already satisfied: googleapis-common-protos<2.0dev,>=1.6.0 in /usr/local/lib/python3.7/dist-packages (from google-api-core<3dev,>=1.21.0->google-api-python-client>=1.5.5->pygsheets) (1.56.2)\n",
            "Requirement already satisfied: packaging>=14.3 in /usr/local/lib/python3.7/dist-packages (from google-api-core<3dev,>=1.21.0->google-api-python-client>=1.5.5->pygsheets) (21.3)\n",
            "Requirement already satisfied: rsa<5,>=3.1.4 in /usr/local/lib/python3.7/dist-packages (from google-auth<3dev,>=1.16.0->google-api-python-client>=1.5.5->pygsheets) (4.8)\n",
            "Requirement already satisfied: cachetools<5.0,>=2.0.0 in /usr/local/lib/python3.7/dist-packages (from google-auth<3dev,>=1.16.0->google-api-python-client>=1.5.5->pygsheets) (4.2.4)\n",
            "Requirement already satisfied: pyasn1-modules>=0.2.1 in /usr/local/lib/python3.7/dist-packages (from google-auth<3dev,>=1.16.0->google-api-python-client>=1.5.5->pygsheets) (0.2.8)\n",
            "Requirement already satisfied: pyparsing!=3.0.5,>=2.0.2 in /usr/local/lib/python3.7/dist-packages (from packaging>=14.3->google-api-core<3dev,>=1.21.0->google-api-python-client>=1.5.5->pygsheets) (3.0.9)\n",
            "Requirement already satisfied: pyasn1<0.5.0,>=0.4.6 in /usr/local/lib/python3.7/dist-packages (from pyasn1-modules>=0.2.1->google-auth<3dev,>=1.16.0->google-api-python-client>=1.5.5->pygsheets) (0.4.8)\n",
            "Requirement already satisfied: urllib3!=1.25.0,!=1.25.1,<1.26,>=1.21.1 in /usr/local/lib/python3.7/dist-packages (from requests<3.0.0dev,>=2.18.0->google-api-core<3dev,>=1.21.0->google-api-python-client>=1.5.5->pygsheets) (1.24.3)\n",
            "Requirement already satisfied: chardet<4,>=3.0.2 in /usr/local/lib/python3.7/dist-packages (from requests<3.0.0dev,>=2.18.0->google-api-core<3dev,>=1.21.0->google-api-python-client>=1.5.5->pygsheets) (3.0.4)\n",
            "Requirement already satisfied: certifi>=2017.4.17 in /usr/local/lib/python3.7/dist-packages (from requests<3.0.0dev,>=2.18.0->google-api-core<3dev,>=1.21.0->google-api-python-client>=1.5.5->pygsheets) (2022.5.18.1)\n",
            "Requirement already satisfied: idna<3,>=2.5 in /usr/local/lib/python3.7/dist-packages (from requests<3.0.0dev,>=2.18.0->google-api-core<3dev,>=1.21.0->google-api-python-client>=1.5.5->pygsheets) (2.10)\n",
            "Requirement already satisfied: requests-oauthlib>=0.7.0 in /usr/local/lib/python3.7/dist-packages (from google-auth-oauthlib->pygsheets) (1.3.1)\n",
            "Requirement already satisfied: oauthlib>=3.0.0 in /usr/local/lib/python3.7/dist-packages (from requests-oauthlib>=0.7.0->google-auth-oauthlib->pygsheets) (3.2.0)\n"
          ]
        }
      ],
      "source": [
        "!pip install pygsheets\n",
        "\n",
        "import pygsheets\n",
        "import pandas as pd\n",
        "import numpy as np"
      ]
    },
    {
      "cell_type": "code",
      "execution_count": 191,
      "id": "2881c9ab",
      "metadata": {
        "colab": {
          "base_uri": "https://localhost:8080/"
        },
        "id": "2881c9ab",
        "outputId": "91b1f399-97f6-4dc7-f30c-5b8d42024ceb"
      },
      "outputs": [
        {
          "output_type": "stream",
          "name": "stderr",
          "text": [
            "/usr/local/lib/python3.7/dist-packages/ipykernel_launcher.py:4: FutureWarning: Passing a negative integer is deprecated in version 1.0 and will not be supported in future version. Instead, use None to not limit the column width.\n",
            "  after removing the cwd from sys.path.\n"
          ]
        }
      ],
      "source": [
        "pd.set_option('display.max_rows', 500)\n",
        "pd.set_option('display.max_columns', 500)\n",
        "pd.set_option('display.width', 1000)\n",
        "pd.set_option('display.max_colwidth', -1)\n"
      ]
    },
    {
      "cell_type": "code",
      "execution_count": 192,
      "id": "14ef91e6",
      "metadata": {
        "id": "14ef91e6"
      },
      "outputs": [],
      "source": [
        "def get_gs_client():\n",
        "    c = pygsheets.authorize(service_account_file='nota-climat-0d4d93fe7916.json')\n",
        "    return c\n",
        "\n",
        "def load_gsheet_in_df(gs_id, tab_name):\n",
        "    c = get_gs_client()\n",
        "    spreadsheet = c.open_by_key(gs_id)\n",
        "    wks = spreadsheet.worksheet('title', tab_name)\n",
        "    df = pd.DataFrame(wks.get_all_records())\n",
        "    return df\n",
        "\n",
        "def write_df_gsheet(gs_id, tab_name, df):\n",
        "    c = get_gs_client()\n",
        "    spreadsheet = c.open_by_key(gs_id)\n",
        "    wks = spreadsheet.worksheet('title', tab_name)\n",
        "    wks.set_dataframe(df, 'A1')\n",
        "    return df"
      ]
    },
    {
      "cell_type": "code",
      "execution_count": 193,
      "id": "fc9b57a7",
      "metadata": {
        "id": "fc9b57a7"
      },
      "outputs": [],
      "source": [
        "#loading data from scope 1 & 2 analysis spreadsheet document\n",
        "df = load_gsheet_in_df(gs_id='1L9fm760u7GC8-L2oiNcr1zTudxuKBkUdgJTrZpiAqWg',\n",
        "                                        tab_name='last_version_morgane')"
      ]
    },
    {
      "cell_type": "code",
      "execution_count": 194,
      "id": "60856cca",
      "metadata": {
        "id": "60856cca"
      },
      "outputs": [],
      "source": [
        "scope_3 = df[df[\"scope\"]==1][[\"Company Name\", 'Target', 'target_year', 'base_year']].drop_duplicates()\n",
        "scope_3.rename(columns={'target_year': 'target_year_scope1',\n",
        "                                  'base_year': 'base_year_scope1'}, inplace=True)"
      ]
    },
    {
      "cell_type": "code",
      "execution_count": 195,
      "id": "1e306273",
      "metadata": {
        "id": "1e306273"
      },
      "outputs": [],
      "source": [
        "#Target in lowercase\n",
        "scope_3[\"Target\"]=scope_3[\"Target\"].str.lower()\n",
        "\n",
        "#replacing all 'fy{YEAR}' by '{YEAR}'\n",
        "scope_3[\"Target\"]=scope_3[\"Target\"].str.replace(' fy', '') \n",
        "\n",
        "#replacing all 'by{YEAR}' by 'by {YEAR}'\n",
        "scope_3[\"Target\"]=scope_3[\"Target\"].str.replace(' by20', ' by 20') \n",
        "\n",
        "#replacing all 'from a{YEAR}' by 'from a {YEAR}'\n",
        "scope_3[\"Target\"]=scope_3[\"Target\"].str.replace('from a20', 'from a 20') "
      ]
    },
    {
      "cell_type": "code",
      "execution_count": 196,
      "id": "309197a9",
      "metadata": {
        "colab": {
          "base_uri": "https://localhost:8080/"
        },
        "id": "309197a9",
        "outputId": "9d45144c-4a61-4b34-8a20-e29dd235a43d"
      },
      "outputs": [
        {
          "output_type": "execute_result",
          "data": {
            "text/plain": [
              "1218"
            ]
          },
          "metadata": {},
          "execution_count": 196
        }
      ],
      "source": [
        "len(scope_3)"
      ]
    },
    {
      "cell_type": "code",
      "execution_count": 197,
      "id": "d6de8820",
      "metadata": {
        "id": "d6de8820"
      },
      "outputs": [],
      "source": [
        "#creating the expected columns to fill\n",
        "scope_3[\"scenario\"]=''\n",
        "scope_3[\"details_perimeter\"] = \"\"\n",
        "scope_3[\"unit\"] = \"\"\n",
        "scope_3[\"unit_absolute\"] = \"\"\n",
        "scope_3[\"%_target\"] = \"\"\n",
        "scope_3[\"target_year\"] = \"\"\n",
        "scope_3[\"base_year\"] = \"\""
      ]
    },
    {
      "cell_type": "markdown",
      "id": "3c385b10",
      "metadata": {
        "id": "3c385b10"
      },
      "source": [
        "# 1st scenario \n",
        "Removing those with \"measure reduce scope 3 emissions\""
      ]
    },
    {
      "cell_type": "code",
      "execution_count": 198,
      "id": "0aabf2c7",
      "metadata": {
        "id": "0aabf2c7"
      },
      "outputs": [],
      "source": [
        "scope_3[\"scenario\"]=np.where((scope_3[\"scenario\"]=='')\\\n",
        "                             & scope_3[\"Target\"].str.contains('and to measure and reduce its scope 3 emissions'),\n",
        "                            \"1\",\n",
        "                            scope_3[\"scenario\"])\n",
        "\n",
        "\n",
        "scope_3[\"details_perimeter\"] = np.where((scope_3[\"scenario\"]=='1'),\n",
        "                                        'measure and reduce its scope 3 emissions',\n",
        "                                        scope_3[\"scenario\"])"
      ]
    },
    {
      "cell_type": "code",
      "execution_count": 199,
      "id": "dd0312cd",
      "metadata": {
        "colab": {
          "base_uri": "https://localhost:8080/",
          "height": 336
        },
        "id": "dd0312cd",
        "outputId": "e3c5431e-863a-4716-a8e6-f271d35cd854"
      },
      "outputs": [
        {
          "output_type": "execute_result",
          "data": {
            "text/plain": [
              "                                        Company Name                                                                                                                                                                                                                                                                                                                                                                 Target target_year_scope1 base_year_scope1 scenario                         details_perimeter unit unit_absolute %_target target_year base_year\n",
              "0  (ACIP) Alexandria Company for Industrial Packages  this target was approved using a streamlined target validation route exclusive to small and medium-sized enterprises (smes). https://sciencebasedtargets.org/faqs-for-smes/ (acip) alexandria company for industrial packages commits to reduce scope 1 and scope 2 ghg emissions 25% by 2030 from a 2020 base year, and to measure and reduce its scope 3 emissions.  2030               2020             1        measure and reduce its scope 3 emissions                                                  "
            ],
            "text/html": [
              "\n",
              "  <div id=\"df-ebce52c5-a4b4-401b-bae6-6f9c4ee983d0\">\n",
              "    <div class=\"colab-df-container\">\n",
              "      <div>\n",
              "<style scoped>\n",
              "    .dataframe tbody tr th:only-of-type {\n",
              "        vertical-align: middle;\n",
              "    }\n",
              "\n",
              "    .dataframe tbody tr th {\n",
              "        vertical-align: top;\n",
              "    }\n",
              "\n",
              "    .dataframe thead th {\n",
              "        text-align: right;\n",
              "    }\n",
              "</style>\n",
              "<table border=\"1\" class=\"dataframe\">\n",
              "  <thead>\n",
              "    <tr style=\"text-align: right;\">\n",
              "      <th></th>\n",
              "      <th>Company Name</th>\n",
              "      <th>Target</th>\n",
              "      <th>target_year_scope1</th>\n",
              "      <th>base_year_scope1</th>\n",
              "      <th>scenario</th>\n",
              "      <th>details_perimeter</th>\n",
              "      <th>unit</th>\n",
              "      <th>unit_absolute</th>\n",
              "      <th>%_target</th>\n",
              "      <th>target_year</th>\n",
              "      <th>base_year</th>\n",
              "    </tr>\n",
              "  </thead>\n",
              "  <tbody>\n",
              "    <tr>\n",
              "      <th>0</th>\n",
              "      <td>(ACIP) Alexandria Company for Industrial Packages</td>\n",
              "      <td>this target was approved using a streamlined target validation route exclusive to small and medium-sized enterprises (smes). https://sciencebasedtargets.org/faqs-for-smes/ (acip) alexandria company for industrial packages commits to reduce scope 1 and scope 2 ghg emissions 25% by 2030 from a 2020 base year, and to measure and reduce its scope 3 emissions.</td>\n",
              "      <td>2030</td>\n",
              "      <td>2020</td>\n",
              "      <td>1</td>\n",
              "      <td>measure and reduce its scope 3 emissions</td>\n",
              "      <td></td>\n",
              "      <td></td>\n",
              "      <td></td>\n",
              "      <td></td>\n",
              "      <td></td>\n",
              "    </tr>\n",
              "  </tbody>\n",
              "</table>\n",
              "</div>\n",
              "      <button class=\"colab-df-convert\" onclick=\"convertToInteractive('df-ebce52c5-a4b4-401b-bae6-6f9c4ee983d0')\"\n",
              "              title=\"Convert this dataframe to an interactive table.\"\n",
              "              style=\"display:none;\">\n",
              "        \n",
              "  <svg xmlns=\"http://www.w3.org/2000/svg\" height=\"24px\"viewBox=\"0 0 24 24\"\n",
              "       width=\"24px\">\n",
              "    <path d=\"M0 0h24v24H0V0z\" fill=\"none\"/>\n",
              "    <path d=\"M18.56 5.44l.94 2.06.94-2.06 2.06-.94-2.06-.94-.94-2.06-.94 2.06-2.06.94zm-11 1L8.5 8.5l.94-2.06 2.06-.94-2.06-.94L8.5 2.5l-.94 2.06-2.06.94zm10 10l.94 2.06.94-2.06 2.06-.94-2.06-.94-.94-2.06-.94 2.06-2.06.94z\"/><path d=\"M17.41 7.96l-1.37-1.37c-.4-.4-.92-.59-1.43-.59-.52 0-1.04.2-1.43.59L10.3 9.45l-7.72 7.72c-.78.78-.78 2.05 0 2.83L4 21.41c.39.39.9.59 1.41.59.51 0 1.02-.2 1.41-.59l7.78-7.78 2.81-2.81c.8-.78.8-2.07 0-2.86zM5.41 20L4 18.59l7.72-7.72 1.47 1.35L5.41 20z\"/>\n",
              "  </svg>\n",
              "      </button>\n",
              "      \n",
              "  <style>\n",
              "    .colab-df-container {\n",
              "      display:flex;\n",
              "      flex-wrap:wrap;\n",
              "      gap: 12px;\n",
              "    }\n",
              "\n",
              "    .colab-df-convert {\n",
              "      background-color: #E8F0FE;\n",
              "      border: none;\n",
              "      border-radius: 50%;\n",
              "      cursor: pointer;\n",
              "      display: none;\n",
              "      fill: #1967D2;\n",
              "      height: 32px;\n",
              "      padding: 0 0 0 0;\n",
              "      width: 32px;\n",
              "    }\n",
              "\n",
              "    .colab-df-convert:hover {\n",
              "      background-color: #E2EBFA;\n",
              "      box-shadow: 0px 1px 2px rgba(60, 64, 67, 0.3), 0px 1px 3px 1px rgba(60, 64, 67, 0.15);\n",
              "      fill: #174EA6;\n",
              "    }\n",
              "\n",
              "    [theme=dark] .colab-df-convert {\n",
              "      background-color: #3B4455;\n",
              "      fill: #D2E3FC;\n",
              "    }\n",
              "\n",
              "    [theme=dark] .colab-df-convert:hover {\n",
              "      background-color: #434B5C;\n",
              "      box-shadow: 0px 1px 3px 1px rgba(0, 0, 0, 0.15);\n",
              "      filter: drop-shadow(0px 1px 2px rgba(0, 0, 0, 0.3));\n",
              "      fill: #FFFFFF;\n",
              "    }\n",
              "  </style>\n",
              "\n",
              "      <script>\n",
              "        const buttonEl =\n",
              "          document.querySelector('#df-ebce52c5-a4b4-401b-bae6-6f9c4ee983d0 button.colab-df-convert');\n",
              "        buttonEl.style.display =\n",
              "          google.colab.kernel.accessAllowed ? 'block' : 'none';\n",
              "\n",
              "        async function convertToInteractive(key) {\n",
              "          const element = document.querySelector('#df-ebce52c5-a4b4-401b-bae6-6f9c4ee983d0');\n",
              "          const dataTable =\n",
              "            await google.colab.kernel.invokeFunction('convertToInteractive',\n",
              "                                                     [key], {});\n",
              "          if (!dataTable) return;\n",
              "\n",
              "          const docLinkHtml = 'Like what you see? Visit the ' +\n",
              "            '<a target=\"_blank\" href=https://colab.research.google.com/notebooks/data_table.ipynb>data table notebook</a>'\n",
              "            + ' to learn more about interactive tables.';\n",
              "          element.innerHTML = '';\n",
              "          dataTable['output_type'] = 'display_data';\n",
              "          await google.colab.output.renderOutput(dataTable, element);\n",
              "          const docLink = document.createElement('div');\n",
              "          docLink.innerHTML = docLinkHtml;\n",
              "          element.appendChild(docLink);\n",
              "        }\n",
              "      </script>\n",
              "    </div>\n",
              "  </div>\n",
              "  "
            ]
          },
          "metadata": {},
          "execution_count": 199
        }
      ],
      "source": [
        "scope_3[scope_3[\"scenario\"]=='1'].head(1)"
      ]
    },
    {
      "cell_type": "code",
      "execution_count": 200,
      "id": "7a680781",
      "metadata": {
        "colab": {
          "base_uri": "https://localhost:8080/"
        },
        "id": "7a680781",
        "outputId": "ce5d9a90-88d9-4c76-9c05-31409bf0cf16"
      },
      "outputs": [
        {
          "output_type": "stream",
          "name": "stdout",
          "text": [
            "remaining scenarios : 905\n"
          ]
        }
      ],
      "source": [
        "print(\"remaining scenarios : {}\".format(len(scope_3[scope_3[\"scenario\"]==''])))"
      ]
    },
    {
      "cell_type": "markdown",
      "id": "0c3d21c6",
      "metadata": {
        "id": "0c3d21c6"
      },
      "source": [
        "# 2nd scenario"
      ]
    },
    {
      "cell_type": "markdown",
      "id": "265eeff0",
      "metadata": {
        "id": "265eeff0"
      },
      "source": [
        "Example : commits to reduce scope 3 GHG emissions 67% per square meter within the same timeframe"
      ]
    },
    {
      "cell_type": "code",
      "execution_count": 201,
      "id": "23cad9fb",
      "metadata": {
        "id": "23cad9fb"
      },
      "outputs": [],
      "source": [
        "pattern2_groups = r'( absolute)* scope( 1, 2,? and)? 3(.*) ([0-9]+.?[0-9]+?\\ ?%)(.*)((within|over) .* (timeframe|target period|time-period))'"
      ]
    },
    {
      "cell_type": "code",
      "execution_count": 202,
      "id": "2caa0397",
      "metadata": {
        "id": "2caa0397"
      },
      "outputs": [],
      "source": [
        "scope_3[\"scenario\"]=np.where((scope_3[\"scenario\"]=='')\\\n",
        "                             & scope_3[\"Target\"].str.extract(pattern2_groups)[2].notnull(),\n",
        "                            \"2\",\n",
        "                            scope_3[\"scenario\"])"
      ]
    },
    {
      "cell_type": "code",
      "execution_count": 203,
      "id": "e468f4f9",
      "metadata": {
        "id": "e468f4f9"
      },
      "outputs": [],
      "source": [
        "scope_3[\"unit_absolute\"] = np.where((scope_3[\"scenario\"]=='2'),\n",
        "                                        scope_3[\"Target\"].str.extract(pattern2_groups)[0],\n",
        "                                        scope_3[\"%_target\"])\n",
        "\n",
        "scope_3[\"details_perimeter\"] = np.where((scope_3[\"scenario\"]=='2'),\n",
        "                                        scope_3[\"Target\"].str.extract(pattern2_groups)[2],\n",
        "                                        scope_3[\"details_perimeter\"])\n",
        "\n",
        "scope_3[\"%_target\"] = np.where((scope_3[\"scenario\"]=='2'),\n",
        "                                        scope_3[\"Target\"].str.extract(pattern2_groups)[3],\n",
        "                                        scope_3[\"%_target\"])\n",
        "\n",
        "scope_3[\"unit\"] = np.where((scope_3[\"scenario\"]=='2'),\n",
        "                                        scope_3[\"Target\"].str.extract(pattern2_groups)[4],\n",
        "                                        scope_3[\"%_target\"])\n",
        "\n",
        "scope_3[\"target_year\"] = np.where((scope_3[\"scenario\"]=='2'),\n",
        "                                        scope_3[\"Target\"].str.extract(pattern2_groups)[5],\n",
        "                                        scope_3[\"target_year\"])\n",
        "\n",
        "scope_3[\"base_year\"] = np.where((scope_3[\"scenario\"]=='2'),\n",
        "                                        scope_3[\"Target\"].str.extract(pattern2_groups)[5],\n",
        "                                        scope_3[\"base_year\"])\n"
      ]
    },
    {
      "cell_type": "code",
      "source": [
        "scope_3[scope_3[\"scenario\"]=='2'].head(1)"
      ],
      "metadata": {
        "colab": {
          "base_uri": "https://localhost:8080/",
          "height": 683
        },
        "id": "NbkCIz5XEUrr",
        "outputId": "949f0ffb-44be-4891-e089-f1e66b681a68"
      },
      "id": "NbkCIz5XEUrr",
      "execution_count": 204,
      "outputs": [
        {
          "output_type": "execute_result",
          "data": {
            "text/plain": [
              "   Company Name                                                                                                                                                                                                                                                                                                                     Target target_year_scope1 base_year_scope1 scenario                                                                                                                        details_perimeter unit unit_absolute %_target              target_year                base_year\n",
              "53  Morrisons    morrisons commits to reduce absolute scope 1 and 2 ghg emissions 46% by 2030 from a 2019 base year. morrisons also commits to reduce absolute scope 3 ghg emissions from own-brand purchased goods and services, own-brand upstream transportation and distribution and use of sold products 30% over the same timeframe.  2030               2019             2         ghg emissions from own-brand purchased goods and services, own-brand upstream transportation and distribution and use of sold products        absolute     30%      over the same timeframe  over the same timeframe"
            ],
            "text/html": [
              "\n",
              "  <div id=\"df-f80bf42f-c3df-4415-a0d7-3acb21a0165c\">\n",
              "    <div class=\"colab-df-container\">\n",
              "      <div>\n",
              "<style scoped>\n",
              "    .dataframe tbody tr th:only-of-type {\n",
              "        vertical-align: middle;\n",
              "    }\n",
              "\n",
              "    .dataframe tbody tr th {\n",
              "        vertical-align: top;\n",
              "    }\n",
              "\n",
              "    .dataframe thead th {\n",
              "        text-align: right;\n",
              "    }\n",
              "</style>\n",
              "<table border=\"1\" class=\"dataframe\">\n",
              "  <thead>\n",
              "    <tr style=\"text-align: right;\">\n",
              "      <th></th>\n",
              "      <th>Company Name</th>\n",
              "      <th>Target</th>\n",
              "      <th>target_year_scope1</th>\n",
              "      <th>base_year_scope1</th>\n",
              "      <th>scenario</th>\n",
              "      <th>details_perimeter</th>\n",
              "      <th>unit</th>\n",
              "      <th>unit_absolute</th>\n",
              "      <th>%_target</th>\n",
              "      <th>target_year</th>\n",
              "      <th>base_year</th>\n",
              "    </tr>\n",
              "  </thead>\n",
              "  <tbody>\n",
              "    <tr>\n",
              "      <th>53</th>\n",
              "      <td>Morrisons</td>\n",
              "      <td>morrisons commits to reduce absolute scope 1 and 2 ghg emissions 46% by 2030 from a 2019 base year. morrisons also commits to reduce absolute scope 3 ghg emissions from own-brand purchased goods and services, own-brand upstream transportation and distribution and use of sold products 30% over the same timeframe.</td>\n",
              "      <td>2030</td>\n",
              "      <td>2019</td>\n",
              "      <td>2</td>\n",
              "      <td>ghg emissions from own-brand purchased goods and services, own-brand upstream transportation and distribution and use of sold products</td>\n",
              "      <td></td>\n",
              "      <td>absolute</td>\n",
              "      <td>30%</td>\n",
              "      <td>over the same timeframe</td>\n",
              "      <td>over the same timeframe</td>\n",
              "    </tr>\n",
              "  </tbody>\n",
              "</table>\n",
              "</div>\n",
              "      <button class=\"colab-df-convert\" onclick=\"convertToInteractive('df-f80bf42f-c3df-4415-a0d7-3acb21a0165c')\"\n",
              "              title=\"Convert this dataframe to an interactive table.\"\n",
              "              style=\"display:none;\">\n",
              "        \n",
              "  <svg xmlns=\"http://www.w3.org/2000/svg\" height=\"24px\"viewBox=\"0 0 24 24\"\n",
              "       width=\"24px\">\n",
              "    <path d=\"M0 0h24v24H0V0z\" fill=\"none\"/>\n",
              "    <path d=\"M18.56 5.44l.94 2.06.94-2.06 2.06-.94-2.06-.94-.94-2.06-.94 2.06-2.06.94zm-11 1L8.5 8.5l.94-2.06 2.06-.94-2.06-.94L8.5 2.5l-.94 2.06-2.06.94zm10 10l.94 2.06.94-2.06 2.06-.94-2.06-.94-.94-2.06-.94 2.06-2.06.94z\"/><path d=\"M17.41 7.96l-1.37-1.37c-.4-.4-.92-.59-1.43-.59-.52 0-1.04.2-1.43.59L10.3 9.45l-7.72 7.72c-.78.78-.78 2.05 0 2.83L4 21.41c.39.39.9.59 1.41.59.51 0 1.02-.2 1.41-.59l7.78-7.78 2.81-2.81c.8-.78.8-2.07 0-2.86zM5.41 20L4 18.59l7.72-7.72 1.47 1.35L5.41 20z\"/>\n",
              "  </svg>\n",
              "      </button>\n",
              "      \n",
              "  <style>\n",
              "    .colab-df-container {\n",
              "      display:flex;\n",
              "      flex-wrap:wrap;\n",
              "      gap: 12px;\n",
              "    }\n",
              "\n",
              "    .colab-df-convert {\n",
              "      background-color: #E8F0FE;\n",
              "      border: none;\n",
              "      border-radius: 50%;\n",
              "      cursor: pointer;\n",
              "      display: none;\n",
              "      fill: #1967D2;\n",
              "      height: 32px;\n",
              "      padding: 0 0 0 0;\n",
              "      width: 32px;\n",
              "    }\n",
              "\n",
              "    .colab-df-convert:hover {\n",
              "      background-color: #E2EBFA;\n",
              "      box-shadow: 0px 1px 2px rgba(60, 64, 67, 0.3), 0px 1px 3px 1px rgba(60, 64, 67, 0.15);\n",
              "      fill: #174EA6;\n",
              "    }\n",
              "\n",
              "    [theme=dark] .colab-df-convert {\n",
              "      background-color: #3B4455;\n",
              "      fill: #D2E3FC;\n",
              "    }\n",
              "\n",
              "    [theme=dark] .colab-df-convert:hover {\n",
              "      background-color: #434B5C;\n",
              "      box-shadow: 0px 1px 3px 1px rgba(0, 0, 0, 0.15);\n",
              "      filter: drop-shadow(0px 1px 2px rgba(0, 0, 0, 0.3));\n",
              "      fill: #FFFFFF;\n",
              "    }\n",
              "  </style>\n",
              "\n",
              "      <script>\n",
              "        const buttonEl =\n",
              "          document.querySelector('#df-f80bf42f-c3df-4415-a0d7-3acb21a0165c button.colab-df-convert');\n",
              "        buttonEl.style.display =\n",
              "          google.colab.kernel.accessAllowed ? 'block' : 'none';\n",
              "\n",
              "        async function convertToInteractive(key) {\n",
              "          const element = document.querySelector('#df-f80bf42f-c3df-4415-a0d7-3acb21a0165c');\n",
              "          const dataTable =\n",
              "            await google.colab.kernel.invokeFunction('convertToInteractive',\n",
              "                                                     [key], {});\n",
              "          if (!dataTable) return;\n",
              "\n",
              "          const docLinkHtml = 'Like what you see? Visit the ' +\n",
              "            '<a target=\"_blank\" href=https://colab.research.google.com/notebooks/data_table.ipynb>data table notebook</a>'\n",
              "            + ' to learn more about interactive tables.';\n",
              "          element.innerHTML = '';\n",
              "          dataTable['output_type'] = 'display_data';\n",
              "          await google.colab.output.renderOutput(dataTable, element);\n",
              "          const docLink = document.createElement('div');\n",
              "          docLink.innerHTML = docLinkHtml;\n",
              "          element.appendChild(docLink);\n",
              "        }\n",
              "      </script>\n",
              "    </div>\n",
              "  </div>\n",
              "  "
            ]
          },
          "metadata": {},
          "execution_count": 204
        }
      ]
    },
    {
      "cell_type": "code",
      "execution_count": 205,
      "id": "4080e690",
      "metadata": {
        "colab": {
          "base_uri": "https://localhost:8080/"
        },
        "id": "4080e690",
        "outputId": "dfba7586-fde7-41e7-b1ac-f38a48a7c27d"
      },
      "outputs": [
        {
          "output_type": "stream",
          "name": "stdout",
          "text": [
            "remaining scenarios : 652\n"
          ]
        }
      ],
      "source": [
        "print(\"remaining scenarios : {}\".format(len(scope_3[scope_3[\"scenario\"]==''])))"
      ]
    },
    {
      "cell_type": "markdown",
      "id": "0dbb4867",
      "metadata": {
        "id": "0dbb4867"
      },
      "source": [
        "# 3rd scenario"
      ]
    },
    {
      "cell_type": "code",
      "execution_count": 206,
      "id": "21d5d90e",
      "metadata": {
        "id": "21d5d90e"
      },
      "outputs": [],
      "source": [
        "pattern3_groups = r'( absolute)* scope( 1, 2,? and)? 3(.*) ([0-9]+.?[0-9]+?\\ ?%)(.*)by ([0-9]+) from a ([0-9]+) base.year\\. (.*)'"
      ]
    },
    {
      "cell_type": "code",
      "execution_count": 207,
      "id": "112d5e92",
      "metadata": {
        "id": "112d5e92"
      },
      "outputs": [],
      "source": [
        "scope_3[\"scenario\"]=np.where((scope_3[\"scenario\"]=='')\\\n",
        "                             & scope_3[\"Target\"].str.extract(pattern3_groups)[2].notnull(),\n",
        "                            \"3\",\n",
        "                            scope_3[\"scenario\"])"
      ]
    },
    {
      "cell_type": "code",
      "execution_count": 208,
      "id": "681e5ce7",
      "metadata": {
        "id": "681e5ce7"
      },
      "outputs": [],
      "source": [
        "scope_3[\"unit_absolute\"] = np.where((scope_3[\"scenario\"]=='3'),\n",
        "                                        scope_3[\"Target\"].str.extract(pattern3_groups)[0],\n",
        "                                        scope_3[\"unit_absolute\"])\n",
        "\n",
        "scope_3[\"details_perimeter\"] = np.where((scope_3[\"scenario\"]=='3'),\n",
        "                                        scope_3[\"Target\"].str.extract(pattern3_groups)[2],\n",
        "                                        scope_3[\"details_perimeter\"])\n",
        "\n",
        "scope_3[\"%_target\"] = np.where((scope_3[\"scenario\"]=='3'),\n",
        "                                        scope_3[\"Target\"].str.extract(pattern3_groups)[3],\n",
        "                                        scope_3[\"%_target\"])\n",
        "\n",
        "scope_3[\"unit\"] = np.where((scope_3[\"scenario\"]=='3'),\n",
        "                                        scope_3[\"Target\"].str.extract(pattern3_groups)[4],\n",
        "                                        scope_3[\"unit\"])\n",
        "\n",
        "scope_3[\"target_year\"] = np.where((scope_3[\"scenario\"]=='3'),\n",
        "                                        scope_3[\"Target\"].str.extract(pattern3_groups)[5],\n",
        "                                        scope_3[\"target_year\"])\n",
        "\n",
        "scope_3[\"base_year\"] = np.where((scope_3[\"scenario\"]=='3'),\n",
        "                                        scope_3[\"Target\"].str.extract(pattern3_groups)[6],\n",
        "                                        scope_3[\"base_year\"])\n"
      ]
    },
    {
      "cell_type": "code",
      "execution_count": 209,
      "id": "269d58f6",
      "metadata": {
        "colab": {
          "base_uri": "https://localhost:8080/",
          "height": 683
        },
        "id": "269d58f6",
        "outputId": "d260267a-90e4-4aae-8dc5-f7b0c753770d"
      },
      "outputs": [
        {
          "output_type": "execute_result",
          "data": {
            "text/plain": [
              "   Company Name                                                                                                                                                                                                                                                                                                                     Target target_year_scope1 base_year_scope1 scenario                                                                                                                        details_perimeter unit unit_absolute %_target              target_year                base_year\n",
              "53  Morrisons    morrisons commits to reduce absolute scope 1 and 2 ghg emissions 46% by 2030 from a 2019 base year. morrisons also commits to reduce absolute scope 3 ghg emissions from own-brand purchased goods and services, own-brand upstream transportation and distribution and use of sold products 30% over the same timeframe.  2030               2019             2         ghg emissions from own-brand purchased goods and services, own-brand upstream transportation and distribution and use of sold products        absolute     30%      over the same timeframe  over the same timeframe"
            ],
            "text/html": [
              "\n",
              "  <div id=\"df-e9c37b06-3c32-41fe-a9a5-7cb82d5a0989\">\n",
              "    <div class=\"colab-df-container\">\n",
              "      <div>\n",
              "<style scoped>\n",
              "    .dataframe tbody tr th:only-of-type {\n",
              "        vertical-align: middle;\n",
              "    }\n",
              "\n",
              "    .dataframe tbody tr th {\n",
              "        vertical-align: top;\n",
              "    }\n",
              "\n",
              "    .dataframe thead th {\n",
              "        text-align: right;\n",
              "    }\n",
              "</style>\n",
              "<table border=\"1\" class=\"dataframe\">\n",
              "  <thead>\n",
              "    <tr style=\"text-align: right;\">\n",
              "      <th></th>\n",
              "      <th>Company Name</th>\n",
              "      <th>Target</th>\n",
              "      <th>target_year_scope1</th>\n",
              "      <th>base_year_scope1</th>\n",
              "      <th>scenario</th>\n",
              "      <th>details_perimeter</th>\n",
              "      <th>unit</th>\n",
              "      <th>unit_absolute</th>\n",
              "      <th>%_target</th>\n",
              "      <th>target_year</th>\n",
              "      <th>base_year</th>\n",
              "    </tr>\n",
              "  </thead>\n",
              "  <tbody>\n",
              "    <tr>\n",
              "      <th>53</th>\n",
              "      <td>Morrisons</td>\n",
              "      <td>morrisons commits to reduce absolute scope 1 and 2 ghg emissions 46% by 2030 from a 2019 base year. morrisons also commits to reduce absolute scope 3 ghg emissions from own-brand purchased goods and services, own-brand upstream transportation and distribution and use of sold products 30% over the same timeframe.</td>\n",
              "      <td>2030</td>\n",
              "      <td>2019</td>\n",
              "      <td>2</td>\n",
              "      <td>ghg emissions from own-brand purchased goods and services, own-brand upstream transportation and distribution and use of sold products</td>\n",
              "      <td></td>\n",
              "      <td>absolute</td>\n",
              "      <td>30%</td>\n",
              "      <td>over the same timeframe</td>\n",
              "      <td>over the same timeframe</td>\n",
              "    </tr>\n",
              "  </tbody>\n",
              "</table>\n",
              "</div>\n",
              "      <button class=\"colab-df-convert\" onclick=\"convertToInteractive('df-e9c37b06-3c32-41fe-a9a5-7cb82d5a0989')\"\n",
              "              title=\"Convert this dataframe to an interactive table.\"\n",
              "              style=\"display:none;\">\n",
              "        \n",
              "  <svg xmlns=\"http://www.w3.org/2000/svg\" height=\"24px\"viewBox=\"0 0 24 24\"\n",
              "       width=\"24px\">\n",
              "    <path d=\"M0 0h24v24H0V0z\" fill=\"none\"/>\n",
              "    <path d=\"M18.56 5.44l.94 2.06.94-2.06 2.06-.94-2.06-.94-.94-2.06-.94 2.06-2.06.94zm-11 1L8.5 8.5l.94-2.06 2.06-.94-2.06-.94L8.5 2.5l-.94 2.06-2.06.94zm10 10l.94 2.06.94-2.06 2.06-.94-2.06-.94-.94-2.06-.94 2.06-2.06.94z\"/><path d=\"M17.41 7.96l-1.37-1.37c-.4-.4-.92-.59-1.43-.59-.52 0-1.04.2-1.43.59L10.3 9.45l-7.72 7.72c-.78.78-.78 2.05 0 2.83L4 21.41c.39.39.9.59 1.41.59.51 0 1.02-.2 1.41-.59l7.78-7.78 2.81-2.81c.8-.78.8-2.07 0-2.86zM5.41 20L4 18.59l7.72-7.72 1.47 1.35L5.41 20z\"/>\n",
              "  </svg>\n",
              "      </button>\n",
              "      \n",
              "  <style>\n",
              "    .colab-df-container {\n",
              "      display:flex;\n",
              "      flex-wrap:wrap;\n",
              "      gap: 12px;\n",
              "    }\n",
              "\n",
              "    .colab-df-convert {\n",
              "      background-color: #E8F0FE;\n",
              "      border: none;\n",
              "      border-radius: 50%;\n",
              "      cursor: pointer;\n",
              "      display: none;\n",
              "      fill: #1967D2;\n",
              "      height: 32px;\n",
              "      padding: 0 0 0 0;\n",
              "      width: 32px;\n",
              "    }\n",
              "\n",
              "    .colab-df-convert:hover {\n",
              "      background-color: #E2EBFA;\n",
              "      box-shadow: 0px 1px 2px rgba(60, 64, 67, 0.3), 0px 1px 3px 1px rgba(60, 64, 67, 0.15);\n",
              "      fill: #174EA6;\n",
              "    }\n",
              "\n",
              "    [theme=dark] .colab-df-convert {\n",
              "      background-color: #3B4455;\n",
              "      fill: #D2E3FC;\n",
              "    }\n",
              "\n",
              "    [theme=dark] .colab-df-convert:hover {\n",
              "      background-color: #434B5C;\n",
              "      box-shadow: 0px 1px 3px 1px rgba(0, 0, 0, 0.15);\n",
              "      filter: drop-shadow(0px 1px 2px rgba(0, 0, 0, 0.3));\n",
              "      fill: #FFFFFF;\n",
              "    }\n",
              "  </style>\n",
              "\n",
              "      <script>\n",
              "        const buttonEl =\n",
              "          document.querySelector('#df-e9c37b06-3c32-41fe-a9a5-7cb82d5a0989 button.colab-df-convert');\n",
              "        buttonEl.style.display =\n",
              "          google.colab.kernel.accessAllowed ? 'block' : 'none';\n",
              "\n",
              "        async function convertToInteractive(key) {\n",
              "          const element = document.querySelector('#df-e9c37b06-3c32-41fe-a9a5-7cb82d5a0989');\n",
              "          const dataTable =\n",
              "            await google.colab.kernel.invokeFunction('convertToInteractive',\n",
              "                                                     [key], {});\n",
              "          if (!dataTable) return;\n",
              "\n",
              "          const docLinkHtml = 'Like what you see? Visit the ' +\n",
              "            '<a target=\"_blank\" href=https://colab.research.google.com/notebooks/data_table.ipynb>data table notebook</a>'\n",
              "            + ' to learn more about interactive tables.';\n",
              "          element.innerHTML = '';\n",
              "          dataTable['output_type'] = 'display_data';\n",
              "          await google.colab.output.renderOutput(dataTable, element);\n",
              "          const docLink = document.createElement('div');\n",
              "          docLink.innerHTML = docLinkHtml;\n",
              "          element.appendChild(docLink);\n",
              "        }\n",
              "      </script>\n",
              "    </div>\n",
              "  </div>\n",
              "  "
            ]
          },
          "metadata": {},
          "execution_count": 209
        }
      ],
      "source": [
        "scope_3[scope_3[\"scenario\"]=='2'].head(1)"
      ]
    },
    {
      "cell_type": "code",
      "execution_count": 210,
      "id": "c49d7785",
      "metadata": {
        "colab": {
          "base_uri": "https://localhost:8080/"
        },
        "id": "c49d7785",
        "outputId": "e74e47b1-2bff-47e6-8435-ef382b85c040"
      },
      "outputs": [
        {
          "output_type": "stream",
          "name": "stdout",
          "text": [
            "remaining scenarios : 513\n"
          ]
        }
      ],
      "source": [
        "print(\"remaining scenarios : {}\".format(len(scope_3[scope_3[\"scenario\"]==''])))"
      ]
    },
    {
      "cell_type": "markdown",
      "id": "99d9ce87",
      "metadata": {
        "id": "99d9ce87"
      },
      "source": [
        "# 4th scenario"
      ]
    },
    {
      "cell_type": "code",
      "execution_count": 224,
      "id": "08bc784e",
      "metadata": {
        "id": "08bc784e"
      },
      "outputs": [],
      "source": [
        "pattern4_groups = r'( absolute)* scope( 1, 2,? and)? 3(.*) ([0-9]+.?[0-9]+?\\ ?%)(.*)by ([0-9]+),? from a ([0-9]+) base.year'\n",
        "\n",
        "scope_3[\"scenario\"]=np.where((scope_3[\"scenario\"]=='')\\\n",
        "                             & scope_3[\"Target\"].str.extract(pattern4_groups)[2].notnull(),\n",
        "                            \"4\",\n",
        "                            scope_3[\"scenario\"])"
      ]
    },
    {
      "cell_type": "code",
      "execution_count": 225,
      "id": "1a4c2f5e",
      "metadata": {
        "id": "1a4c2f5e"
      },
      "outputs": [],
      "source": [
        "scope_3[\"unit_absolute\"] = np.where((scope_3[\"scenario\"]=='4'),\n",
        "                                        scope_3[\"Target\"].str.extract(pattern4_groups)[0],\n",
        "                                        scope_3[\"unit_absolute\"])\n",
        "\n",
        "scope_3[\"details_perimeter\"] = np.where((scope_3[\"scenario\"]=='4'),\n",
        "                                        scope_3[\"Target\"].str.extract(pattern4_groups)[2],\n",
        "                                        scope_3[\"details_perimeter\"])\n",
        "\n",
        "scope_3[\"%_target\"] = np.where((scope_3[\"scenario\"]=='4'),\n",
        "                                        scope_3[\"Target\"].str.extract(pattern4_groups)[3],\n",
        "                                        scope_3[\"%_target\"])\n",
        "\n",
        "scope_3[\"unit\"] = np.where((scope_3[\"scenario\"]=='4'),\n",
        "                                        scope_3[\"Target\"].str.extract(pattern4_groups)[4],\n",
        "                                        scope_3[\"unit\"])\n",
        "\n",
        "scope_3[\"target_year\"] = np.where((scope_3[\"scenario\"]=='4'),\n",
        "                                        scope_3[\"Target\"].str.extract(pattern4_groups)[5],\n",
        "                                        scope_3[\"target_year\"])\n",
        "\n",
        "scope_3[\"base_year\"] = np.where((scope_3[\"scenario\"]=='4'),\n",
        "                                        scope_3[\"Target\"].str.extract(pattern4_groups)[6],\n",
        "                                        scope_3[\"base_year\"])\n"
      ]
    },
    {
      "cell_type": "code",
      "execution_count": 226,
      "id": "968fdd61",
      "metadata": {
        "id": "968fdd61"
      },
      "outputs": [],
      "source": [
        "final_df = scope_3\n",
        "final_df[\"unit\"]=np.where(final_df[\"unit_absolute\"]==' absolute', 'absolute', final_df[\"unit\"])\n",
        "final_df = final_df.drop(columns=[\"unit_absolute\"])"
      ]
    },
    {
      "cell_type": "code",
      "source": [
        "# Add specificities to identify next steps\n",
        "final_df[\"specificity\"] = np.where(final_df.Target.str.contains(pat=' 3 .* 3 '), 'Contains several scopes 3', 'None')\n",
        "final_df[\"specificity\"] = np.where(final_df.Target.str.contains(pat='by 20.. and .?..% by 20..'), 'Has several targets year', final_df[\"specificity\"])"
      ],
      "metadata": {
        "id": "qI0yeDktKarN"
      },
      "id": "qI0yeDktKarN",
      "execution_count": 227,
      "outputs": []
    },
    {
      "cell_type": "code",
      "source": [
        "# replacing 'over the same timeframe' expressions in both target and base year\n",
        "# by the actual timeframe from scope 1 data.\n",
        "same_timeframe_expressions = ['over the same timeframe',\n",
        "                              'within the same timeframe',\n",
        "                              'over the same target period',\n",
        "                              'over the same time-period',\n",
        "                              'over the same target timeframe']\n",
        "\n",
        "final_df[\"target_year\"] = np.where(final_df[\"target_year\"].isin(same_timeframe_expressions), \n",
        "                                  final_df[\"target_year_scope1\"],\n",
        "                                  final_df[\"target_year\"])\n",
        "\n",
        "final_df[\"base_year\"] = np.where(final_df[\"base_year\"].isin(same_timeframe_expressions), \n",
        "                                   final_df[\"base_year_scope1\"],\n",
        "                                   final_df[\"base_year\"])"
      ],
      "metadata": {
        "id": "zZZGBPolhlo1"
      },
      "id": "zZZGBPolhlo1",
      "execution_count": 228,
      "outputs": []
    },
    {
      "cell_type": "code",
      "source": [
        "final_df.drop(columns=['target_year_scope1', 'base_year_scope1'], inplace=True)"
      ],
      "metadata": {
        "id": "HX7w7SvnlEpH"
      },
      "id": "HX7w7SvnlEpH",
      "execution_count": 230,
      "outputs": []
    },
    {
      "cell_type": "code",
      "source": [
        "write_df_gsheet(gs_id='1L9fm760u7GC8-L2oiNcr1zTudxuKBkUdgJTrZpiAqWg',\n",
        "                tab_name='output David',\n",
        "                df=final_df)"
      ],
      "metadata": {
        "colab": {
          "base_uri": "https://localhost:8080/",
          "height": 1000
        },
        "id": "H69KBAUzJxqc",
        "outputId": "0f06e100-3bcf-4c71-a42c-588195163b8c"
      },
      "id": "H69KBAUzJxqc",
      "execution_count": 231,
      "outputs": [
        {
          "output_type": "execute_result",
          "data": {
            "text/plain": [
              "                                           Company Name                                                                                                                                                                                                                                                                                                                                                                 Target scenario                         details_perimeter unit %_target target_year base_year specificity\n",
              "0     (ACIP) Alexandria Company for Industrial Packages  this target was approved using a streamlined target validation route exclusive to small and medium-sized enterprises (smes). https://sciencebasedtargets.org/faqs-for-smes/ (acip) alexandria company for industrial packages commits to reduce scope 1 and scope 2 ghg emissions 25% by 2030 from a 2020 base year, and to measure and reduce its scope 3 emissions.  1        measure and reduce its scope 3 emissions                                      None      \n",
              "2     AM Værktøj Odense A/S                              this target was approved using a streamlined target validation route exclusive to small and medium-sized enterprises (smes). https://sciencebasedtargets.org/faqs-for-smes/ am værktøj odense a/s commits to reduce scope 1 and scope 2 ghg emissions 50% by 2030 from a 2018 base year, and to measure and reduce its scope 3 emissions.                              1        measure and reduce its scope 3 emissions                                      None      \n",
              "4     Julie Sandlau Vietnam. ltd                         this target was approved using a streamlined target validation route exclusive to small and medium-sized enterprises (smes). https://sciencebasedtargets.org/faqs-for-smes/ julie sandlau vietnam. ltd commits to reduce scope 1 and scope 2 ghg emissions 42% by 2030 from a 2020 base year, and to measure and reduce its scope 3 emissions.                         1        measure and reduce its scope 3 emissions                                      None      \n",
              "6     Kartikeya International                            this target was approved using a streamlined target validation route exclusive to small and medium-sized enterprises (smes). https://sciencebasedtargets.org/faqs-for-smes/ kartikeya international commits to reduce scope 1 and scope 2 ghg emissions 50% by 2030 from a 2018 base year, and to measure and reduce its scope 3 emissions.                            1        measure and reduce its scope 3 emissions                                      None      \n",
              "8     PlanA.Earth GmbH                                   this target was approved using a streamlined target validation route exclusive to small and medium-sized enterprises (smes). https://sciencebasedtargets.org/faqs-for-smes/ plana.earth gmbh commits to reduce scope 1 and scope 2 ghg emissions 42% by 2030 from a 2020 base year, and to measure and reduce its scope 3 emissions.                                   1        measure and reduce its scope 3 emissions                                      None      \n",
              "...                ...                                                                                                                                                                                                                                                                                                                                                                    ...                                  ..                                             ... ..   ..       ..          ..          ...      \n",
              "3047  Simões, Lda                                        this target was approved using a streamlined target validation route exclusive to small and medium-sized enterprises (smes). https://sciencebasedtargets.org/faqs-for-smes/ simões, lda  commits to reduce scope 1 and scope 2 ghg emissions 50% by 2030 from a 2018 base year, and to measure and reduce its scope 3 emissions.                                       1        measure and reduce its scope 3 emissions                                      None      \n",
              "3049  Statik                                             this target was approved using a streamlined target validation route exclusive to small and medium-sized enterprises (smes). https://sciencebasedtargets.org/faqs-for-smes/  statik commits to reduce scope 1 and scope 2 ghg emissions 50% by 2030 from a 2018 base year, and to measure and reduce its scope 3 emissions.                                            1        measure and reduce its scope 3 emissions                                      None      \n",
              "3051  U&We AB                                            this target was approved using a streamlined target validation route exclusive to small and medium-sized enterprises (smes). https://sciencebasedtargets.org/faqs-for-smes/ u&we ab commits to reduce scope 1 and scope 2 ghg emissions 46% by 2030 from a 2019 base year, and to measure and reduce its scope 3 emissions.                                            1        measure and reduce its scope 3 emissions                                      None      \n",
              "3053  WindowMaster International A/S                     this target was approved using a streamlined target validation route exclusive to small and medium-sized enterprises (smes). https://sciencebasedtargets.org/faqs-for-smes/ windowmaster international a/s commits to reduce scope 1 and scope 2 ghg emissions 46% by 2030 from a 2019 base year, and to measure and reduce its scope 3 emissions.                     1        measure and reduce its scope 3 emissions                                      None      \n",
              "3055  Höegh Autoliners                                   this target was approved using a streamlined target validation route exclusive to small and medium-sized enterprises (smes). https://sciencebasedtargets.org/faqs-for-smes/  höegh autoliners commits to reduce scope 1 and scope 2 ghg emissions 30% by 2030 from a 2018 base year, and to measure and reduce its scope 3 emissions.                                  1        measure and reduce its scope 3 emissions                                      None      \n",
              "\n",
              "[1218 rows x 9 columns]"
            ],
            "text/html": [
              "\n",
              "  <div id=\"df-5a9d911d-f896-4a25-97f8-6f87a5e800b0\">\n",
              "    <div class=\"colab-df-container\">\n",
              "      <div>\n",
              "<style scoped>\n",
              "    .dataframe tbody tr th:only-of-type {\n",
              "        vertical-align: middle;\n",
              "    }\n",
              "\n",
              "    .dataframe tbody tr th {\n",
              "        vertical-align: top;\n",
              "    }\n",
              "\n",
              "    .dataframe thead th {\n",
              "        text-align: right;\n",
              "    }\n",
              "</style>\n",
              "<table border=\"1\" class=\"dataframe\">\n",
              "  <thead>\n",
              "    <tr style=\"text-align: right;\">\n",
              "      <th></th>\n",
              "      <th>Company Name</th>\n",
              "      <th>Target</th>\n",
              "      <th>scenario</th>\n",
              "      <th>details_perimeter</th>\n",
              "      <th>unit</th>\n",
              "      <th>%_target</th>\n",
              "      <th>target_year</th>\n",
              "      <th>base_year</th>\n",
              "      <th>specificity</th>\n",
              "    </tr>\n",
              "  </thead>\n",
              "  <tbody>\n",
              "    <tr>\n",
              "      <th>0</th>\n",
              "      <td>(ACIP) Alexandria Company for Industrial Packages</td>\n",
              "      <td>this target was approved using a streamlined target validation route exclusive to small and medium-sized enterprises (smes). https://sciencebasedtargets.org/faqs-for-smes/ (acip) alexandria company for industrial packages commits to reduce scope 1 and scope 2 ghg emissions 25% by 2030 from a 2020 base year, and to measure and reduce its scope 3 emissions.</td>\n",
              "      <td>1</td>\n",
              "      <td>measure and reduce its scope 3 emissions</td>\n",
              "      <td></td>\n",
              "      <td></td>\n",
              "      <td></td>\n",
              "      <td></td>\n",
              "      <td>None</td>\n",
              "    </tr>\n",
              "    <tr>\n",
              "      <th>2</th>\n",
              "      <td>AM Værktøj Odense A/S</td>\n",
              "      <td>this target was approved using a streamlined target validation route exclusive to small and medium-sized enterprises (smes). https://sciencebasedtargets.org/faqs-for-smes/ am værktøj odense a/s commits to reduce scope 1 and scope 2 ghg emissions 50% by 2030 from a 2018 base year, and to measure and reduce its scope 3 emissions.</td>\n",
              "      <td>1</td>\n",
              "      <td>measure and reduce its scope 3 emissions</td>\n",
              "      <td></td>\n",
              "      <td></td>\n",
              "      <td></td>\n",
              "      <td></td>\n",
              "      <td>None</td>\n",
              "    </tr>\n",
              "    <tr>\n",
              "      <th>4</th>\n",
              "      <td>Julie Sandlau Vietnam. ltd</td>\n",
              "      <td>this target was approved using a streamlined target validation route exclusive to small and medium-sized enterprises (smes). https://sciencebasedtargets.org/faqs-for-smes/ julie sandlau vietnam. ltd commits to reduce scope 1 and scope 2 ghg emissions 42% by 2030 from a 2020 base year, and to measure and reduce its scope 3 emissions.</td>\n",
              "      <td>1</td>\n",
              "      <td>measure and reduce its scope 3 emissions</td>\n",
              "      <td></td>\n",
              "      <td></td>\n",
              "      <td></td>\n",
              "      <td></td>\n",
              "      <td>None</td>\n",
              "    </tr>\n",
              "    <tr>\n",
              "      <th>6</th>\n",
              "      <td>Kartikeya International</td>\n",
              "      <td>this target was approved using a streamlined target validation route exclusive to small and medium-sized enterprises (smes). https://sciencebasedtargets.org/faqs-for-smes/ kartikeya international commits to reduce scope 1 and scope 2 ghg emissions 50% by 2030 from a 2018 base year, and to measure and reduce its scope 3 emissions.</td>\n",
              "      <td>1</td>\n",
              "      <td>measure and reduce its scope 3 emissions</td>\n",
              "      <td></td>\n",
              "      <td></td>\n",
              "      <td></td>\n",
              "      <td></td>\n",
              "      <td>None</td>\n",
              "    </tr>\n",
              "    <tr>\n",
              "      <th>8</th>\n",
              "      <td>PlanA.Earth GmbH</td>\n",
              "      <td>this target was approved using a streamlined target validation route exclusive to small and medium-sized enterprises (smes). https://sciencebasedtargets.org/faqs-for-smes/ plana.earth gmbh commits to reduce scope 1 and scope 2 ghg emissions 42% by 2030 from a 2020 base year, and to measure and reduce its scope 3 emissions.</td>\n",
              "      <td>1</td>\n",
              "      <td>measure and reduce its scope 3 emissions</td>\n",
              "      <td></td>\n",
              "      <td></td>\n",
              "      <td></td>\n",
              "      <td></td>\n",
              "      <td>None</td>\n",
              "    </tr>\n",
              "    <tr>\n",
              "      <th>...</th>\n",
              "      <td>...</td>\n",
              "      <td>...</td>\n",
              "      <td>...</td>\n",
              "      <td>...</td>\n",
              "      <td>...</td>\n",
              "      <td>...</td>\n",
              "      <td>...</td>\n",
              "      <td>...</td>\n",
              "      <td>...</td>\n",
              "    </tr>\n",
              "    <tr>\n",
              "      <th>3047</th>\n",
              "      <td>Simões, Lda</td>\n",
              "      <td>this target was approved using a streamlined target validation route exclusive to small and medium-sized enterprises (smes). https://sciencebasedtargets.org/faqs-for-smes/ simões, lda  commits to reduce scope 1 and scope 2 ghg emissions 50% by 2030 from a 2018 base year, and to measure and reduce its scope 3 emissions.</td>\n",
              "      <td>1</td>\n",
              "      <td>measure and reduce its scope 3 emissions</td>\n",
              "      <td></td>\n",
              "      <td></td>\n",
              "      <td></td>\n",
              "      <td></td>\n",
              "      <td>None</td>\n",
              "    </tr>\n",
              "    <tr>\n",
              "      <th>3049</th>\n",
              "      <td>Statik</td>\n",
              "      <td>this target was approved using a streamlined target validation route exclusive to small and medium-sized enterprises (smes). https://sciencebasedtargets.org/faqs-for-smes/  statik commits to reduce scope 1 and scope 2 ghg emissions 50% by 2030 from a 2018 base year, and to measure and reduce its scope 3 emissions.</td>\n",
              "      <td>1</td>\n",
              "      <td>measure and reduce its scope 3 emissions</td>\n",
              "      <td></td>\n",
              "      <td></td>\n",
              "      <td></td>\n",
              "      <td></td>\n",
              "      <td>None</td>\n",
              "    </tr>\n",
              "    <tr>\n",
              "      <th>3051</th>\n",
              "      <td>U&amp;We AB</td>\n",
              "      <td>this target was approved using a streamlined target validation route exclusive to small and medium-sized enterprises (smes). https://sciencebasedtargets.org/faqs-for-smes/ u&amp;we ab commits to reduce scope 1 and scope 2 ghg emissions 46% by 2030 from a 2019 base year, and to measure and reduce its scope 3 emissions.</td>\n",
              "      <td>1</td>\n",
              "      <td>measure and reduce its scope 3 emissions</td>\n",
              "      <td></td>\n",
              "      <td></td>\n",
              "      <td></td>\n",
              "      <td></td>\n",
              "      <td>None</td>\n",
              "    </tr>\n",
              "    <tr>\n",
              "      <th>3053</th>\n",
              "      <td>WindowMaster International A/S</td>\n",
              "      <td>this target was approved using a streamlined target validation route exclusive to small and medium-sized enterprises (smes). https://sciencebasedtargets.org/faqs-for-smes/ windowmaster international a/s commits to reduce scope 1 and scope 2 ghg emissions 46% by 2030 from a 2019 base year, and to measure and reduce its scope 3 emissions.</td>\n",
              "      <td>1</td>\n",
              "      <td>measure and reduce its scope 3 emissions</td>\n",
              "      <td></td>\n",
              "      <td></td>\n",
              "      <td></td>\n",
              "      <td></td>\n",
              "      <td>None</td>\n",
              "    </tr>\n",
              "    <tr>\n",
              "      <th>3055</th>\n",
              "      <td>Höegh Autoliners</td>\n",
              "      <td>this target was approved using a streamlined target validation route exclusive to small and medium-sized enterprises (smes). https://sciencebasedtargets.org/faqs-for-smes/  höegh autoliners commits to reduce scope 1 and scope 2 ghg emissions 30% by 2030 from a 2018 base year, and to measure and reduce its scope 3 emissions.</td>\n",
              "      <td>1</td>\n",
              "      <td>measure and reduce its scope 3 emissions</td>\n",
              "      <td></td>\n",
              "      <td></td>\n",
              "      <td></td>\n",
              "      <td></td>\n",
              "      <td>None</td>\n",
              "    </tr>\n",
              "  </tbody>\n",
              "</table>\n",
              "<p>1218 rows × 9 columns</p>\n",
              "</div>\n",
              "      <button class=\"colab-df-convert\" onclick=\"convertToInteractive('df-5a9d911d-f896-4a25-97f8-6f87a5e800b0')\"\n",
              "              title=\"Convert this dataframe to an interactive table.\"\n",
              "              style=\"display:none;\">\n",
              "        \n",
              "  <svg xmlns=\"http://www.w3.org/2000/svg\" height=\"24px\"viewBox=\"0 0 24 24\"\n",
              "       width=\"24px\">\n",
              "    <path d=\"M0 0h24v24H0V0z\" fill=\"none\"/>\n",
              "    <path d=\"M18.56 5.44l.94 2.06.94-2.06 2.06-.94-2.06-.94-.94-2.06-.94 2.06-2.06.94zm-11 1L8.5 8.5l.94-2.06 2.06-.94-2.06-.94L8.5 2.5l-.94 2.06-2.06.94zm10 10l.94 2.06.94-2.06 2.06-.94-2.06-.94-.94-2.06-.94 2.06-2.06.94z\"/><path d=\"M17.41 7.96l-1.37-1.37c-.4-.4-.92-.59-1.43-.59-.52 0-1.04.2-1.43.59L10.3 9.45l-7.72 7.72c-.78.78-.78 2.05 0 2.83L4 21.41c.39.39.9.59 1.41.59.51 0 1.02-.2 1.41-.59l7.78-7.78 2.81-2.81c.8-.78.8-2.07 0-2.86zM5.41 20L4 18.59l7.72-7.72 1.47 1.35L5.41 20z\"/>\n",
              "  </svg>\n",
              "      </button>\n",
              "      \n",
              "  <style>\n",
              "    .colab-df-container {\n",
              "      display:flex;\n",
              "      flex-wrap:wrap;\n",
              "      gap: 12px;\n",
              "    }\n",
              "\n",
              "    .colab-df-convert {\n",
              "      background-color: #E8F0FE;\n",
              "      border: none;\n",
              "      border-radius: 50%;\n",
              "      cursor: pointer;\n",
              "      display: none;\n",
              "      fill: #1967D2;\n",
              "      height: 32px;\n",
              "      padding: 0 0 0 0;\n",
              "      width: 32px;\n",
              "    }\n",
              "\n",
              "    .colab-df-convert:hover {\n",
              "      background-color: #E2EBFA;\n",
              "      box-shadow: 0px 1px 2px rgba(60, 64, 67, 0.3), 0px 1px 3px 1px rgba(60, 64, 67, 0.15);\n",
              "      fill: #174EA6;\n",
              "    }\n",
              "\n",
              "    [theme=dark] .colab-df-convert {\n",
              "      background-color: #3B4455;\n",
              "      fill: #D2E3FC;\n",
              "    }\n",
              "\n",
              "    [theme=dark] .colab-df-convert:hover {\n",
              "      background-color: #434B5C;\n",
              "      box-shadow: 0px 1px 3px 1px rgba(0, 0, 0, 0.15);\n",
              "      filter: drop-shadow(0px 1px 2px rgba(0, 0, 0, 0.3));\n",
              "      fill: #FFFFFF;\n",
              "    }\n",
              "  </style>\n",
              "\n",
              "      <script>\n",
              "        const buttonEl =\n",
              "          document.querySelector('#df-5a9d911d-f896-4a25-97f8-6f87a5e800b0 button.colab-df-convert');\n",
              "        buttonEl.style.display =\n",
              "          google.colab.kernel.accessAllowed ? 'block' : 'none';\n",
              "\n",
              "        async function convertToInteractive(key) {\n",
              "          const element = document.querySelector('#df-5a9d911d-f896-4a25-97f8-6f87a5e800b0');\n",
              "          const dataTable =\n",
              "            await google.colab.kernel.invokeFunction('convertToInteractive',\n",
              "                                                     [key], {});\n",
              "          if (!dataTable) return;\n",
              "\n",
              "          const docLinkHtml = 'Like what you see? Visit the ' +\n",
              "            '<a target=\"_blank\" href=https://colab.research.google.com/notebooks/data_table.ipynb>data table notebook</a>'\n",
              "            + ' to learn more about interactive tables.';\n",
              "          element.innerHTML = '';\n",
              "          dataTable['output_type'] = 'display_data';\n",
              "          await google.colab.output.renderOutput(dataTable, element);\n",
              "          const docLink = document.createElement('div');\n",
              "          docLink.innerHTML = docLinkHtml;\n",
              "          element.appendChild(docLink);\n",
              "        }\n",
              "      </script>\n",
              "    </div>\n",
              "  </div>\n",
              "  "
            ]
          },
          "metadata": {},
          "execution_count": 231
        }
      ]
    },
    {
      "cell_type": "markdown",
      "source": [
        "NEXT STEPS:\n",
        "*   when \"details_perimeter\" contains 'ghg emissions 20% by 2025 and' -> to put in another columns with specific target 2 values\n",
        "*   investigate some complex cases like Adidas AG"
      ],
      "metadata": {
        "id": "SDkFRWmIGJTg"
      },
      "id": "SDkFRWmIGJTg"
    }
  ],
  "metadata": {
    "kernelspec": {
      "display_name": "th_py",
      "language": "python",
      "name": "th_py"
    },
    "language_info": {
      "codemirror_mode": {
        "name": "ipython",
        "version": 3
      },
      "file_extension": ".py",
      "mimetype": "text/x-python",
      "name": "python",
      "nbconvert_exporter": "python",
      "pygments_lexer": "ipython3",
      "version": "3.9.12"
    },
    "colab": {
      "name": "scope3.ipynb",
      "provenance": [],
      "collapsed_sections": []
    }
  },
  "nbformat": 4,
  "nbformat_minor": 5
}