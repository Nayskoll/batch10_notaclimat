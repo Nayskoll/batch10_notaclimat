{
 "cells": [
  {
   "cell_type": "markdown",
   "id": "33c9b3a3",
   "metadata": {},
   "source": [
    "# Module import"
   ]
  },
  {
   "cell_type": "code",
   "execution_count": 110,
   "id": "dfb99410",
   "metadata": {},
   "outputs": [],
   "source": [
    "import pandas as pd\n",
    "import numpy as np"
   ]
  },
  {
   "cell_type": "markdown",
   "id": "08b219ed",
   "metadata": {},
   "source": [
    "# Read the data"
   ]
  },
  {
   "cell_type": "markdown",
   "id": "639ffaf1",
   "metadata": {},
   "source": [
    "For now, the data are read directly in the directory where a copy of the spreadsheet has been put (in github directory). In the future, this will need to change"
   ]
  },
  {
   "cell_type": "code",
   "execution_count": 111,
   "id": "e5a9aad6",
   "metadata": {},
   "outputs": [],
   "source": [
    "df = pd.read_excel('BDD consolidée - toutes les tables_v03.xlsx')#, dtype={'Groupe': str})\n",
    "\n",
    "xls = pd.ExcelFile('BDD consolidée - toutes les tables_v03.xlsx')\n",
    "df_companies_data = pd.read_excel(xls, 'Companies data')\n",
    "df_companies_brands = pd.read_excel(xls, 'Companies brands')\n",
    "df_companies_competitors = pd.read_excel(xls, 'Companies competitors')\n",
    "df_global_score = pd.read_excel(xls, 'Global score display')\n",
    "df_emissions_scope = pd.read_excel(xls, 'Emissions scopes description')\n",
    "df_direct_score = pd.read_excel(xls, 'Direct and complete score displ')\n",
    "df_direct_commitment = pd.read_excel(xls, 'Direct and complete commitment ')\n",
    "df_coeff_director = pd.read_excel(xls, 'Coeff directeur pour graph')\n",
    "df_pos_cursors = pd.read_excel(xls, 'Positionnement des curseurs')\n",
    "df_marques_by_cat = pd.read_excel(xls, 'Table Marques par catégorie')\n"
   ]
  },
  {
   "cell_type": "markdown",
   "id": "513c6837",
   "metadata": {},
   "source": [
    "## Brands: names and logo"
   ]
  },
  {
   "cell_type": "code",
   "execution_count": 112,
   "id": "eb302fee",
   "metadata": {},
   "outputs": [
    {
     "data": {
      "text/plain": [
       "Index(['Group', 'Sector', 'Logo', 'Country code', 'Turnover',\n",
       "       'Climate website', 'Comment', 'Global score', 'C1 direct score',\n",
       "       'C1 reduction', 'C1 unit', 'C1 initial date', 'C1 final date',\n",
       "       'C2 complete score', 'C2 reduction', 'C2 unit', 'C2 initial date',\n",
       "       'C2 final date', 'Footnote', 'E1 score commitment direct', 'E1 phrase ',\n",
       "       'E1 perimeter', 'E1 reduction', 'E1 unit', 'E1 final date',\n",
       "       'E1 final date.1', 'E2 score commitment', 'E2 phrase ', 'E2 perimeter',\n",
       "       'E2 reduction', 'E2 unit', 'E2 final date', 'E2 final date.1',\n",
       "       'Share direct vs complet', 'Tota emissions', 'Cat 1 amount',\n",
       "       'Cat 1 name', 'Cat 2 amount', 'Cat 2 name', 'Cat 3 amount',\n",
       "       'Cat 3 name', 'Cat 4 amount', 'Cat 4 name', 'Cat 5 amount',\n",
       "       'Cat 5 name', 'Cat 6 amount', 'Cat 6 name'],\n",
       "      dtype='object')"
      ]
     },
     "execution_count": 112,
     "metadata": {},
     "output_type": "execute_result"
    }
   ],
   "source": [
    "df_final = df_companies_data.copy(deep=True)\n",
    "list_groups = df[\"Group\"]\n",
    "df_final.columns"
   ]
  },
  {
   "cell_type": "code",
   "execution_count": 113,
   "id": "ef68e661",
   "metadata": {},
   "outputs": [],
   "source": [
    "top_5_brands_names=[]\n",
    "top_5_brands_logos=[]\n",
    "\n",
    "# Do a loop over the list of groups and filter the table df_top_brands on the group name\n",
    "# Keep only the first 5 groups\n",
    "# If less than 5 groups, print 'NaN' instead\n",
    "\n",
    "for (k,group) in enumerate(list_groups):\n",
    "    df_top_brands = df_companies_brands[df_companies_brands[\"Groupe\"]==group].sort_values(\"Ordre\")[:5]\n",
    "\n",
    "    group_5_brand_name=[]\n",
    "    group_5_brand_logo=[]\n",
    "    \n",
    "    for i in range(5):\n",
    "        if i<len(df_top_brands):\n",
    "            group_5_brand_name.append(df_top_brands[\"Marques\"].iloc[i])\n",
    "            group_5_brand_logo.append(df_top_brands[\"Logo\"].iloc[i])\n",
    "           \n",
    "        else:\n",
    "            group_5_brand_name.append('NaN')\n",
    "            group_5_brand_logo.append('NaN')\n",
    "\n",
    "    top_5_brands_names.append(group_5_brand_name)    \n",
    "    top_5_brands_logos.append(group_5_brand_logo)    \n",
    "\n",
    "\n",
    "df_final[[\"Top brand 1\",\"Top brand 2\",\"Top brand 3\",\"Top brand 4\",\"Top brand 5\"]] = top_5_brands_names\n",
    "df_final[[\"Logo brand 1\",\"Logo brand 2\",\"Logo brand 3\",\"Logo brand 4\",\"Logo brand 5\"]] = top_5_brands_logos"
   ]
  },
  {
   "cell_type": "markdown",
   "id": "9aee79eb",
   "metadata": {},
   "source": [
    "## Competitors : names"
   ]
  },
  {
   "cell_type": "code",
   "execution_count": 114,
   "id": "7f60dfb0",
   "metadata": {},
   "outputs": [],
   "source": [
    "# Just need to rename the column to match the column of final dataframe and do a merge\n",
    "df_companies_competitors.rename(columns={\"Groupe\":\"Group\"}, inplace=True)\n",
    "df_final = pd.merge(df_final, df_companies_competitors, how=\"left\", on=\"Group\")"
   ]
  },
  {
   "cell_type": "markdown",
   "id": "ddfe2b61",
   "metadata": {},
   "source": [
    "## Comments"
   ]
  },
  {
   "cell_type": "code",
   "execution_count": 115,
   "id": "05767bbf",
   "metadata": {},
   "outputs": [],
   "source": [
    "# TODO, this should come from NLP analysis"
   ]
  },
  {
   "cell_type": "markdown",
   "id": "b581e7f2",
   "metadata": {},
   "source": [
    "## Scores"
   ]
  },
  {
   "cell_type": "markdown",
   "id": "f0985156",
   "metadata": {},
   "source": [
    "### Pre-formatting tables coeff_director and cursor position"
   ]
  },
  {
   "cell_type": "code",
   "execution_count": 116,
   "id": "8cd6917a",
   "metadata": {},
   "outputs": [
    {
     "data": {
      "text/html": [
       "<div>\n",
       "<style scoped>\n",
       "    .dataframe tbody tr th:only-of-type {\n",
       "        vertical-align: middle;\n",
       "    }\n",
       "\n",
       "    .dataframe tbody tr th {\n",
       "        vertical-align: top;\n",
       "    }\n",
       "\n",
       "    .dataframe thead th {\n",
       "        text-align: right;\n",
       "    }\n",
       "</style>\n",
       "<table border=\"1\" class=\"dataframe\">\n",
       "  <thead>\n",
       "    <tr style=\"text-align: right;\">\n",
       "      <th></th>\n",
       "      <th></th>\n",
       "      <th>Coeff directeur</th>\n",
       "    </tr>\n",
       "    <tr>\n",
       "      <th>Value type</th>\n",
       "      <th>Courbes</th>\n",
       "      <th></th>\n",
       "    </tr>\n",
       "  </thead>\n",
       "  <tbody>\n",
       "    <tr>\n",
       "      <th rowspan=\"3\" valign=\"top\">en valeur absolue</th>\n",
       "      <th>2°C</th>\n",
       "      <td>-0.0125</td>\n",
       "    </tr>\n",
       "    <tr>\n",
       "      <th>1,8°C</th>\n",
       "      <td>-0.0250</td>\n",
       "    </tr>\n",
       "    <tr>\n",
       "      <th>1,5°C</th>\n",
       "      <td>-0.0420</td>\n",
       "    </tr>\n",
       "    <tr>\n",
       "      <th rowspan=\"3\" valign=\"top\">par unité de volume</th>\n",
       "      <th>2°C</th>\n",
       "      <td>-0.0200</td>\n",
       "    </tr>\n",
       "    <tr>\n",
       "      <th>1,8°C</th>\n",
       "      <td>-0.0400</td>\n",
       "    </tr>\n",
       "    <tr>\n",
       "      <th>1,5°C</th>\n",
       "      <td>-0.0672</td>\n",
       "    </tr>\n",
       "    <tr>\n",
       "      <th rowspan=\"3\" valign=\"top\">par unité de valeur</th>\n",
       "      <th>2°C</th>\n",
       "      <td>-0.0700</td>\n",
       "    </tr>\n",
       "    <tr>\n",
       "      <th>1,8°C</th>\n",
       "      <td>-0.1000</td>\n",
       "    </tr>\n",
       "    <tr>\n",
       "      <th>1,5°C</th>\n",
       "      <td>-0.1500</td>\n",
       "    </tr>\n",
       "  </tbody>\n",
       "</table>\n",
       "</div>"
      ],
      "text/plain": [
       "                             Coeff directeur\n",
       "Value type          Courbes                 \n",
       "en valeur absolue   2°C              -0.0125\n",
       "                    1,8°C            -0.0250\n",
       "                    1,5°C            -0.0420\n",
       "par unité de volume 2°C              -0.0200\n",
       "                    1,8°C            -0.0400\n",
       "                    1,5°C            -0.0672\n",
       "par unité de valeur 2°C              -0.0700\n",
       "                    1,8°C            -0.1000\n",
       "                    1,5°C            -0.1500"
      ]
     },
     "execution_count": 116,
     "metadata": {},
     "output_type": "execute_result"
    }
   ],
   "source": [
    "# format the table so that a multi-index gets back the coefficient directly\n",
    "df_coeff_director = df_coeff_director.drop(columns=[\"degre final\"])\n",
    "df_coeff_director = df_coeff_director.set_index([\"Value type\",\"Courbes\"])\n",
    "df_coeff_director"
   ]
  },
  {
   "cell_type": "code",
   "execution_count": 117,
   "id": "e9b8fa94",
   "metadata": {},
   "outputs": [
    {
     "data": {
      "text/html": [
       "<div>\n",
       "<style scoped>\n",
       "    .dataframe tbody tr th:only-of-type {\n",
       "        vertical-align: middle;\n",
       "    }\n",
       "\n",
       "    .dataframe tbody tr th {\n",
       "        vertical-align: top;\n",
       "    }\n",
       "\n",
       "    .dataframe thead th {\n",
       "        text-align: right;\n",
       "    }\n",
       "</style>\n",
       "<table border=\"1\" class=\"dataframe\">\n",
       "  <thead>\n",
       "    <tr style=\"text-align: right;\">\n",
       "      <th></th>\n",
       "      <th></th>\n",
       "      <th>max</th>\n",
       "      <th>min</th>\n",
       "    </tr>\n",
       "    <tr>\n",
       "      <th>unit</th>\n",
       "      <th>Score</th>\n",
       "      <th></th>\n",
       "      <th></th>\n",
       "    </tr>\n",
       "  </thead>\n",
       "  <tbody>\n",
       "    <tr>\n",
       "      <th rowspan=\"7\" valign=\"top\">en valeur absolue</th>\n",
       "      <th>6.0</th>\n",
       "      <td>-0.0420</td>\n",
       "      <td>-0.0840</td>\n",
       "    </tr>\n",
       "    <tr>\n",
       "      <th>5.0</th>\n",
       "      <td>-0.0250</td>\n",
       "      <td>-0.0420</td>\n",
       "    </tr>\n",
       "    <tr>\n",
       "      <th>4.0</th>\n",
       "      <td>-0.0125</td>\n",
       "      <td>-0.0250</td>\n",
       "    </tr>\n",
       "    <tr>\n",
       "      <th>3.0</th>\n",
       "      <td>0.0000</td>\n",
       "      <td>-0.0125</td>\n",
       "    </tr>\n",
       "    <tr>\n",
       "      <th>2.0</th>\n",
       "      <td>0.0420</td>\n",
       "      <td>0.0000</td>\n",
       "    </tr>\n",
       "    <tr>\n",
       "      <th>99.0</th>\n",
       "      <td>NaN</td>\n",
       "      <td>NaN</td>\n",
       "    </tr>\n",
       "    <tr>\n",
       "      <th>1.0</th>\n",
       "      <td>NaN</td>\n",
       "      <td>NaN</td>\n",
       "    </tr>\n",
       "    <tr>\n",
       "      <th rowspan=\"7\" valign=\"top\">par unité de volume</th>\n",
       "      <th>6.0</th>\n",
       "      <td>-0.0672</td>\n",
       "      <td>-0.1344</td>\n",
       "    </tr>\n",
       "    <tr>\n",
       "      <th>5.0</th>\n",
       "      <td>-0.0400</td>\n",
       "      <td>-0.0672</td>\n",
       "    </tr>\n",
       "    <tr>\n",
       "      <th>4.0</th>\n",
       "      <td>-0.0200</td>\n",
       "      <td>-0.0400</td>\n",
       "    </tr>\n",
       "    <tr>\n",
       "      <th>3.0</th>\n",
       "      <td>0.0000</td>\n",
       "      <td>-0.0200</td>\n",
       "    </tr>\n",
       "    <tr>\n",
       "      <th>2.0</th>\n",
       "      <td>0.0672</td>\n",
       "      <td>0.0000</td>\n",
       "    </tr>\n",
       "    <tr>\n",
       "      <th>99.0</th>\n",
       "      <td>NaN</td>\n",
       "      <td>NaN</td>\n",
       "    </tr>\n",
       "    <tr>\n",
       "      <th>1.0</th>\n",
       "      <td>NaN</td>\n",
       "      <td>NaN</td>\n",
       "    </tr>\n",
       "    <tr>\n",
       "      <th rowspan=\"7\" valign=\"top\">par unité de valeur</th>\n",
       "      <th>6.0</th>\n",
       "      <td>-0.1500</td>\n",
       "      <td>-0.3000</td>\n",
       "    </tr>\n",
       "    <tr>\n",
       "      <th>5.0</th>\n",
       "      <td>-0.1000</td>\n",
       "      <td>-0.1500</td>\n",
       "    </tr>\n",
       "    <tr>\n",
       "      <th>4.0</th>\n",
       "      <td>-0.0700</td>\n",
       "      <td>-0.1000</td>\n",
       "    </tr>\n",
       "    <tr>\n",
       "      <th>3.0</th>\n",
       "      <td>0.0000</td>\n",
       "      <td>-0.0700</td>\n",
       "    </tr>\n",
       "    <tr>\n",
       "      <th>2.0</th>\n",
       "      <td>0.1500</td>\n",
       "      <td>0.0000</td>\n",
       "    </tr>\n",
       "    <tr>\n",
       "      <th>99.0</th>\n",
       "      <td>NaN</td>\n",
       "      <td>NaN</td>\n",
       "    </tr>\n",
       "    <tr>\n",
       "      <th>1.0</th>\n",
       "      <td>NaN</td>\n",
       "      <td>NaN</td>\n",
       "    </tr>\n",
       "  </tbody>\n",
       "</table>\n",
       "</div>"
      ],
      "text/plain": [
       "                              max     min\n",
       "unit                Score                \n",
       "en valeur absolue   6.0   -0.0420 -0.0840\n",
       "                    5.0   -0.0250 -0.0420\n",
       "                    4.0   -0.0125 -0.0250\n",
       "                    3.0    0.0000 -0.0125\n",
       "                    2.0    0.0420  0.0000\n",
       "                    99.0      NaN     NaN\n",
       "                    1.0       NaN     NaN\n",
       "par unité de volume 6.0   -0.0672 -0.1344\n",
       "                    5.0   -0.0400 -0.0672\n",
       "                    4.0   -0.0200 -0.0400\n",
       "                    3.0    0.0000 -0.0200\n",
       "                    2.0    0.0672  0.0000\n",
       "                    99.0      NaN     NaN\n",
       "                    1.0       NaN     NaN\n",
       "par unité de valeur 6.0   -0.1500 -0.3000\n",
       "                    5.0   -0.1000 -0.1500\n",
       "                    4.0   -0.0700 -0.1000\n",
       "                    3.0    0.0000 -0.0700\n",
       "                    2.0    0.1500  0.0000\n",
       "                    99.0      NaN     NaN\n",
       "                    1.0       NaN     NaN"
      ]
     },
     "execution_count": 117,
     "metadata": {},
     "output_type": "execute_result"
    }
   ],
   "source": [
    "df_pos_cursors = df_pos_cursors.drop(columns=[\"Catégorie du secteur\",\"Intervalle\",\"Commentaire\",\"level\"]).rename(columns={\"Value type - Grandeur utilisée (évolution annuelle CO2)\":\"unit\",\n",
    "                \"Borne max (évolution annuelle CO2)\":\"max\",\n",
    "                \"Borne min (évolution annuelle CO2)\":\"min\"})\n",
    "\n",
    "df_pos_cursors = df_pos_cursors.set_index([\"unit\",\"Score\"])\n",
    "\n",
    "df_pos_cursors"
   ]
  },
  {
   "cell_type": "markdown",
   "id": "a8b864bf",
   "metadata": {},
   "source": [
    "### C1 columns"
   ]
  },
  {
   "cell_type": "code",
   "execution_count": 140,
   "id": "4243410e",
   "metadata": {},
   "outputs": [
    {
     "name": "stdout",
     "output_type": "stream",
     "text": [
      "problem with  Ecotone ; C1 score in DBB :  6.0 but the annual reduction is:  -4.066543676425535\n",
      "problem with  Ferrero ; C1 score in DBB :  2.0 but the annual reduction is:  6.920748524024988\n",
      "problem with  General Mills ; C1 score in DBB :  6.0 but the annual reduction is:  -4.195823573659525\n",
      "problem with  Unilever ; C1 score in DBB :  6.0 but the annual reduction is:  -10.743296601975\n",
      "problem with  Coty ; C1 score in DBB :  6.0 but the annual reduction is:  -11.367949999999999\n",
      "problem with  L'Oréal ; C1 score in DBB :  6.0 but the annual reduction is:  -9.913487699999997\n",
      "problem with  Beiersdorf ; C1 score in DBB :  6.0 but the annual reduction is:  -14.548000799999993\n"
     ]
    }
   ],
   "source": [
    "# This computes the various percentages depending on the scenarios along with the cursor level\n",
    "C1_perc_scenarios = []\n",
    "C1_direct_level = []\n",
    "C1_reduc_per_year=[]\n",
    "for (k,group) in enumerate(list_groups):\n",
    "    ini_date = df_final.loc[k,\"C1 initial date\"]\n",
    "    fin_date = df_final.loc[k,\"C1 final date\"]\n",
    "    \n",
    "    if (ini_date != \"n.a.\" and fin_date != \"n.a.\"):\n",
    "        diff_year = int(fin_date) - int(ini_date)\n",
    "        \n",
    "        # percentage per scenarios\n",
    "        dim_perc_2 = float(100.0*diff_year*df_coeff_director.loc[df_final.loc[k,\"C1 unit\"], '2°C'])\n",
    "        dim_perc_18 = float(100.0*diff_year*df_coeff_director.loc[df_final.loc[k,\"C1 unit\"], '1,8°C'])\n",
    "        dim_perc_15 = float(100.0*diff_year*df_coeff_director.loc[df_final.loc[k,\"C1 unit\"], '1,5°C'])\n",
    "        C1_perc_scenarios.append([100.0+dim_perc_2,100.0+dim_perc_18,100.0+dim_perc_15])\n",
    "        \n",
    "        # compute direct level of the cursor\n",
    "        reduc_per_year = df_final.loc[k,\"C1 reduction\"] / diff_year\n",
    "        min_inter = float(df_pos_cursors.loc[df_final.loc[k,\"C1 unit\"], df_final.loc[k,\"C1 direct score\"]][\"min\"])\n",
    "        max_inter = float(df_pos_cursors.loc[df_final.loc[k,\"C1 unit\"], df_final.loc[k,\"C1 direct score\"]][\"max\"])\n",
    "        C1_reduc_per_year.append(100.0*reduc_per_year)\n",
    "\n",
    "        # Just to check some 'weird cases'\n",
    "        if (reduc_per_year <min_inter or reduc_per_year>max_inter):\n",
    "            print(\"problem with \",df_final.loc[k,\"Group\"], \"; C1 score in DBB : \",df_final.loc[k,\"C1 direct score\"],\n",
    "                 \"but the annual reduction is: \", 100.0*reduc_per_year)\n",
    "            \n",
    "        \n",
    "        if df_final.loc[k,\"C1 direct score\"] == 6.0 and reduc_per_year<min_inter:\n",
    "            C1_direct_level.append(6.99) ## max level cursor (outside of interval)\n",
    "        elif df_final.loc[k,\"C1 direct score\"] == 2.0 and reduc_per_year>max_inter:\n",
    "            C1_direct_level.append(2.0) ## max level cursor (outside of interval)    \n",
    "        else:\n",
    "            # linear fit in the score interval\n",
    "            C1_direct_level.append(df_final.loc[k,\"C1 direct score\"] + (reduc_per_year-max_inter)/(min_inter - max_inter))\n",
    "    else:\n",
    "        C1_perc_scenarios.append([\"n.a.\",\"n.a.\",\"n.a.\"])\n",
    "        C1_direct_level.append(\"n.a.\")\n",
    "        C1_reduc_per_year.append(\"n.a.\")\n",
    "\n",
    "df_final[[\"C1 2deg final\",\"C1 1,8deg final\",\"C1 1,5deg final\"]] = C1_perc_scenarios\n",
    "df_final[\"C1 reduc per year\"] = C1_reduc_per_year\n",
    "df_final[\"C1 direct level\"] = C1_direct_level"
   ]
  },
  {
   "cell_type": "markdown",
   "id": "6d914b01",
   "metadata": {},
   "source": [
    "### C2 columns"
   ]
  },
  {
   "cell_type": "code",
   "execution_count": 139,
   "id": "2756a8b9",
   "metadata": {},
   "outputs": [
    {
     "name": "stdout",
     "output_type": "stream",
     "text": [
      "problem with  Bel ; C2 score in DBB :  5.0 but the annual reduction is:  -7.300000000000001\n",
      "problem with  Coty ; C2 score in DBB :  3.0 but the annual reduction is:  0.10000000000000009\n"
     ]
    }
   ],
   "source": [
    "# This computes the various percentages depending on the scenarios along with the cursor level\n",
    "C2_perc_scenarios = []\n",
    "C2_complete_level = []\n",
    "C2_reduc_per_year=[]\n",
    "for (k,group) in enumerate(list_groups):\n",
    "    ini_date = df_final.loc[k,\"C2 initial date\"]\n",
    "    fin_date = df_final.loc[k,\"C2 final date\"]\n",
    "    \n",
    "    if (ini_date != \"n.a.\" and fin_date != \"n.a.\"):\n",
    "        diff_year = int(fin_date) - int(ini_date)\n",
    "        \n",
    "        # percentage per scenarios\n",
    "        dim_perc_2 = float(100.0*diff_year*df_coeff_director.loc[df_final.loc[k,\"C2 unit\"], '2°C'])\n",
    "        dim_perc_18 = float(100.0*diff_year*df_coeff_director.loc[df_final.loc[k,\"C2 unit\"], '1,8°C'])\n",
    "        dim_perc_15 = float(100.0*diff_year*df_coeff_director.loc[df_final.loc[k,\"C2 unit\"], '1,5°C'])\n",
    "        C2_perc_scenarios.append([100.0+dim_perc_2,100.0+dim_perc_18,100.0+dim_perc_15])\n",
    "        \n",
    "        # compute direct level of the cursor\n",
    "        reduc_per_year = df_final.loc[k,\"C2 reduction\"] / diff_year\n",
    "        min_inter = float(df_pos_cursors.loc[df_final.loc[k,\"C2 unit\"], df_final.loc[k,\"C2 complete score\"]][\"min\"])\n",
    "        max_inter = float(df_pos_cursors.loc[df_final.loc[k,\"C2 unit\"], df_final.loc[k,\"C2 complete score\"]][\"max\"])\n",
    "        C2_reduc_per_year.append(100.0*reduc_per_year)\n",
    "\n",
    "        # Just to check some 'weird cases'\n",
    "        if (reduc_per_year <min_inter or reduc_per_year>max_inter):\n",
    "            print(\"problem with \",df_final.loc[k,\"Group\"], \"; C2 score in DBB : \",df_final.loc[k,\"C2 complete score\"],\n",
    "                 \"but the annual reduction is: \", 100.0*reduc_per_year)\n",
    "            \n",
    "        \n",
    "        if df_final.loc[k,\"C2 complete score\"] == 6.0 and reduc_per_year<min_inter:\n",
    "            C2_complete_level.append(6.99) ## max level cursor (outside of interval)\n",
    "        elif df_final.loc[k,\"C2 complete score\"] == 2.0 and reduc_per_year>max_inter:\n",
    "            C2_complete_level.append(2.0) ## max level cursor (outside of interval)    \n",
    "        else:\n",
    "            # linear fit in the score interval\n",
    "            C2_complete_level.append(df_final.loc[k,\"C2 complete score\"] + (reduc_per_year-max_inter)/(min_inter - max_inter))\n",
    "    else:\n",
    "        C2_perc_scenarios.append([\"n.a.\",\"n.a.\",\"n.a.\"])\n",
    "        C2_complete_level.append(\"n.a.\")\n",
    "        C2_reduc_per_year.append(\"n.a.\")\n",
    "\n",
    "df_final[[\"C2 2deg final\",\"C2 1,8deg final\",\"C2 1,5deg final\"]] = C2_perc_scenarios\n",
    "df_final[\"C2 reduc per year\"] = C2_reduc_per_year\n",
    "df_final[\"C2 complete level\"] = C2_complete_level"
   ]
  },
  {
   "cell_type": "code",
   "execution_count": null,
   "id": "3e3e867c",
   "metadata": {},
   "outputs": [],
   "source": []
  }
 ],
 "metadata": {
  "kernelspec": {
   "display_name": "Python 3 (ipykernel)",
   "language": "python",
   "name": "python3"
  },
  "language_info": {
   "codemirror_mode": {
    "name": "ipython",
    "version": 3
   },
   "file_extension": ".py",
   "mimetype": "text/x-python",
   "name": "python",
   "nbconvert_exporter": "python",
   "pygments_lexer": "ipython3",
   "version": "3.9.13"
  }
 },
 "nbformat": 4,
 "nbformat_minor": 5
}
